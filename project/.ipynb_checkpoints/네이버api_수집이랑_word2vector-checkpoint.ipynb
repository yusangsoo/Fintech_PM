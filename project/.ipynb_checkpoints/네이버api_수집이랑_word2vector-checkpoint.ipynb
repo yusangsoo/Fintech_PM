{
 "cells": [
  {
   "cell_type": "markdown",
   "id": "132a4f62-2695-4532-afc1-82ea0d3ff483",
   "metadata": {},
   "source": [
    "# 워드투벡터까지 함수화하기\n",
    "- 소수점 4자리까지만 나오게 하는 것도 함"
   ]
  },
  {
   "cell_type": "code",
   "execution_count": 1,
   "id": "c400181f-622b-42d2-8f4e-49010c2d4073",
   "metadata": {},
   "outputs": [
    {
     "name": "stderr",
     "output_type": "stream",
     "text": [
      "/home/user/miniforge3/envs/project/lib/python3.8/site-packages/gensim/similarities/__init__.py:15: UserWarning: The gensim.similarities.levenshtein submodule is disabled, because the optional Levenshtein package <https://pypi.org/project/python-Levenshtein/> is unavailable. Install Levenhstein (e.g. `pip install python-Levenshtein`) to suppress this warning.\n",
      "  warnings.warn(msg)\n"
     ]
    }
   ],
   "source": [
    "import requests\n",
    "import pandas as pd\n",
    "from dotenv import load_dotenv\n",
    "load_dotenv('../05_data_scraping/.env')\n",
    "import os\n",
    "# from sqlalchemy import create_engine\n",
    "# import pymysql\n",
    "# pymysql.install_as_MySQLdb()\n",
    "# from dbio import mood_to_db, db_connect\n",
    "from datetime import datetime\n",
    "import numpy as np\n",
    "import matplotlib.pyplot as plt\n",
    "import seaborn as sns\n",
    "import string\n",
    "import koreanize_matplotlib\n",
    "import time\n",
    "from konlpy.tag import Mecab\n",
    "mecab = Mecab()\n",
    "# from nltk.probability import FreqDist\n",
    "# from wordcloud import WordCloud\n",
    "import re\n",
    "from datetime import datetime\n",
    "from gensim.models import Word2Vec"
   ]
  },
  {
   "cell_type": "code",
   "execution_count": 27,
   "id": "0472957c-3732-4d24-899b-07d81c0d619d",
   "metadata": {},
   "outputs": [],
   "source": [
    "def string_delete(text) :\n",
    "    return text.replace(\"<b>\",\"\").replace(\"</b>\", \"\").replace(\"&quot;\", \"\")\n",
    "\n",
    "def parse_date(date_str):\n",
    "    # 날짜 문자열을 datetime 객체로 변환\n",
    "    return datetime.strptime(date_str, \"%Y%m%d\")\n",
    "\n",
    "def make_df(df_name) :\n",
    "    for i in df_name :\n",
    "        for idx in range(0, len(df_name[i])) : \n",
    "            df_name[i][idx] = string_delete(df_name[i][idx])\n",
    "    df_name['postdate'] = df_name['postdate'].apply(parse_date)\n",
    "    return df_name\n",
    "    \n",
    "def w2v(keyword) :\n",
    "    client_id = os.getenv('client_id') # 환경 변수에 접근\n",
    "    client_pw = os.getenv('client_pw') # 환경 변수에 접근\n",
    "\n",
    "    stopwords = pd.read_csv('https://raw.githubusercontent.com/haram4th/ablearn/main/%ED%95%9C%EA%B5%AD%EC%96%B4%EB%B6%88%EC%9A%A9%EC%96%B4100.txt', header = None)\n",
    "    ex_stop_words = ['사람', '집', '시간']\n",
    "    for i in ex_stop_words : \n",
    "        stopwords = stopwords.drop(stopwords[stopwords[0] == i].index)\n",
    "    stopwords.reset_index(drop=True, inplace=True)\n",
    "    \n",
    "    url = \"https://openapi.naver.com/v1/search/blog.json\"\n",
    "    final_data_keyword = pd.DataFrame()\n",
    "    start = time.time() # 시작\n",
    "    for i in range(1, 10) :\n",
    "        payload = {'query' : keyword, 'display' : 100, 'start' : i, 'sort' : 'sim'}\n",
    "        headers = {'X-Naver-Client-Id' : client_id, 'X-Naver-Client-Secret' : client_pw}\n",
    "        r = requests.get(url, params = payload, headers = headers)\n",
    "        if r.status_code == 200 :\n",
    "            data = r.json()\n",
    "        else :\n",
    "            print(\"Error Code:\", r.status_code)\n",
    "            \n",
    "        df_keyword_sim = pd.json_normalize(data['items'])\n",
    "        entire_data_keyword_sim = make_df(df_keyword_sim)\n",
    "        final_data_keyword = pd.concat([final_data_keyword, entire_data_keyword_sim], ignore_index=True)\n",
    "    # print(final_data_keyword)\n",
    "    final_data_keyword['title2'] = final_data_keyword['title'].apply(lambda x: mecab.pos(re.sub(r\"[^ㄱ-ㅎㅏ-ㅣ가-힣 ]\", \"\", x)))\n",
    "\n",
    "    target = 'NNG', 'NNP', 'MAG', 'XR', 'NR', 'VV', 'VA', 'VCP', 'VCN', 'MM', 'IC', 'XPN', 'UNKNOWN'\n",
    "    def extract_words(words_list) : \n",
    "        return [word for word, pos in words_list if pos in target]\n",
    "    final_data_keyword['filtered'] = final_data_keyword['title2'].apply(lambda x : extract_words(x))\n",
    "    final_data_keyword['filtered_list'] = final_data_keyword['filtered'].apply(lambda x : eval(x) if isinstance(x, str) else x)\n",
    "    \n",
    "    model_keyword_pos = Word2Vec(final_data_keyword['filtered_list'], vector_size=100, window=5, min_count=5, workers=8, sg=0)\n",
    "    # 단어 50개 뽑기\n",
    "    model_keyword_pos_result = model_keyword_pos.wv.most_similar(keyword, topn = 50)\n",
    "    # 워드투벡터 결과 소수점 4자리로 변경하기\n",
    "    w2v_result = list((item[0], round(item[1], 4)) for item in model_keyword_pos_result)\n",
    "    print(f\"{time.time()-start:.4f} sec\")\n",
    "    return keyword, w2v_result"
   ]
  },
  {
   "cell_type": "code",
   "execution_count": 28,
   "id": "de678c05-fec0-47f4-b8fa-256916dc2778",
   "metadata": {
    "scrolled": true
   },
   "outputs": [
    {
     "name": "stdout",
     "output_type": "stream",
     "text": [
      "1.4305 sec\n"
     ]
    },
    {
     "data": {
      "text/plain": [
       "('홍제동',\n",
       " [('맛집', 0.9986),\n",
       "  ('홍제', 0.9985),\n",
       "  ('찾', 0.9985),\n",
       "  ('서대문구', 0.9984),\n",
       "  ('평', 0.9984),\n",
       "  ('곳', 0.9983),\n",
       "  ('실화', 0.9981),\n",
       "  ('하', 0.9981),\n",
       "  ('치과', 0.998),\n",
       "  ('이', 0.9978),\n",
       "  ('화재', 0.9978),\n",
       "  ('니스', 0.9977),\n",
       "  ('서대문', 0.9977),\n",
       "  ('잘', 0.9977),\n",
       "  ('아파트', 0.9976),\n",
       "  ('정보', 0.9976),\n",
       "  ('근처', 0.9975),\n",
       "  ('차', 0.9975),\n",
       "  ('점', 0.9974),\n",
       "  ('업체', 0.9973),\n",
       "  ('일', 0.9973),\n",
       "  ('먹', 0.9972),\n",
       "  ('장', 0.9972),\n",
       "  ('집', 0.9971),\n",
       "  ('사건', 0.9971),\n",
       "  ('원룸', 0.9971),\n",
       "  ('포장', 0.9971),\n",
       "  ('홍', 0.997),\n",
       "  ('주차', 0.997),\n",
       "  ('주택', 0.997),\n",
       "  ('국수', 0.997),\n",
       "  ('후라이드', 0.9969),\n",
       "  ('카페', 0.9968),\n",
       "  ('젓갈', 0.9968),\n",
       "  ('호텔', 0.9968),\n",
       "  ('헬스', 0.9968),\n",
       "  ('더', 0.9967),\n",
       "  ('김밥', 0.9967),\n",
       "  ('병원', 0.9967),\n",
       "  ('안', 0.9967),\n",
       "  ('소방관', 0.9967),\n",
       "  ('추천', 0.9967),\n",
       "  ('플란트', 0.9967),\n",
       "  ('챌린지', 0.9966),\n",
       "  ('치료', 0.9965),\n",
       "  ('신상', 0.9965),\n",
       "  ('의원', 0.9964),\n",
       "  ('양념', 0.9964),\n",
       "  ('강릉', 0.9964),\n",
       "  ('원', 0.9964)])"
      ]
     },
     "execution_count": 28,
     "metadata": {},
     "output_type": "execute_result"
    }
   ],
   "source": [
    "result = w2v('홍제동')\n",
    "result"
   ]
  },
  {
   "cell_type": "code",
   "execution_count": null,
   "id": "bc0286bb-ad07-4a56-a3d9-799af8fdce4a",
   "metadata": {},
   "outputs": [],
   "source": []
  }
 ],
 "metadata": {
  "kernelspec": {
   "display_name": "Python 3 (ipykernel)",
   "language": "python",
   "name": "python3"
  },
  "language_info": {
   "codemirror_mode": {
    "name": "ipython",
    "version": 3
   },
   "file_extension": ".py",
   "mimetype": "text/x-python",
   "name": "python",
   "nbconvert_exporter": "python",
   "pygments_lexer": "ipython3",
   "version": "3.8.20"
  }
 },
 "nbformat": 4,
 "nbformat_minor": 5
}
