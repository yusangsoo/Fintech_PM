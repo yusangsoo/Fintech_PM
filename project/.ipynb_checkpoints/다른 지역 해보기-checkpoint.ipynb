{
 "cells": [
  {
   "cell_type": "code",
   "execution_count": 1,
   "id": "c7d1820c-2209-4951-ba46-a8f7fe1fc72d",
   "metadata": {},
   "outputs": [
    {
     "name": "stderr",
     "output_type": "stream",
     "text": [
      "/home/user/miniforge3/envs/project/lib/python3.8/site-packages/gensim/similarities/__init__.py:15: UserWarning: The gensim.similarities.levenshtein submodule is disabled, because the optional Levenshtein package <https://pypi.org/project/python-Levenshtein/> is unavailable. Install Levenhstein (e.g. `pip install python-Levenshtein`) to suppress this warning.\n",
      "  warnings.warn(msg)\n"
     ]
    }
   ],
   "source": [
    "import requests\n",
    "import pandas as pd\n",
    "from dotenv import load_dotenv\n",
    "load_dotenv('../05_data_scraping/.env')\n",
    "import os\n",
    "# from sqlalchemy import create_engine\n",
    "# import pymysql\n",
    "# pymysql.install_as_MySQLdb()\n",
    "# from dbio import er_to_db, db_connect\n",
    "from datetime import datetime\n",
    "import numpy as np\n",
    "import matplotlib.pyplot as plt\n",
    "import seaborn as sns\n",
    "import string\n",
    "import koreanize_matplotlib\n",
    "import time\n",
    "from konlpy.tag import Mecab\n",
    "mecab = Mecab()\n",
    "from nltk.probability import FreqDist\n",
    "from wordcloud import WordCloud\n",
    "import re\n",
    "from gensim.models import Word2Vec"
   ]
  },
  {
   "cell_type": "code",
   "execution_count": 19,
   "id": "79d146e7-3ae2-479b-a003-d1016f3525ef",
   "metadata": {},
   "outputs": [],
   "source": [
    "target = 'NNG', 'NNP', 'MAG', 'XR', 'NR', 'VV', 'VA', 'VCP', 'VCN', 'MM', 'IC', 'XPN', 'UNKNOWN'"
   ]
  },
  {
   "cell_type": "code",
   "execution_count": 20,
   "id": "96f5eec1-6e98-4be5-9710-1c24d4815a84",
   "metadata": {},
   "outputs": [],
   "source": [
    "def string_delete(text) :\n",
    "    return text.replace(\"<b>\",\"\").replace(\"</b>\", \"\").replace(\"&quot;\", \"\")\n",
    "\n",
    "def parse_date(date_str):\n",
    "    # 날짜 문자열을 datetime 객체로 변환\n",
    "    return datetime.strptime(date_str, \"%Y%m%d\")\n",
    "\n",
    "def make_df(df_name) :\n",
    "    for i in df_name :\n",
    "        for idx in range(0, len(df_name[i])) : \n",
    "            df_name[i][idx] = string_delete(df_name[i][idx])\n",
    "    df_name['postdate'] = df_name['postdate'].apply(parse_date)\n",
    "    return df_name\n",
    "    \n",
    "def extract_words(words_list) : \n",
    "    return [word for word, pos in words_list if pos in target]"
   ]
  },
  {
   "cell_type": "code",
   "execution_count": 3,
   "id": "ab4df1aa-b526-4293-939a-e956442f60b9",
   "metadata": {
    "scrolled": true
   },
   "outputs": [
    {
     "name": "stdout",
     "output_type": "stream",
     "text": [
      "                                       title  \\\n",
      "0          후암동 언뎁트, 밤 티라미수가 너무 맛있는 용산 테라스 카페   \n",
      "1                   [해방촌/후암동 카페] 콤포트 COMFORT   \n",
      "2                 후암동 미니네칼국수 반율카페 내돈내산 버스나들이   \n",
      "3                      용산돼지갈비 정감어린 후암동맛집이네요!   \n",
      "4           후암동 맛집 호랭이곳간 후암점 서울역 데이트하기 좋은 밥집   \n",
      "...                                      ...   \n",
      "99995                     서울역 후암동 이색 카페 홍철책빵   \n",
      "99996                       후암동 교반탱크파손 보수 현장   \n",
      "99997  [서울역] 후암동 홍철책빵 / 하고싶은거 다 하는 사람 노홍철 카페   \n",
      "99998      [후암동 맛집] 풀코스로 먹는 50년 전통의 감자탕, 일미집   \n",
      "99999  [주말 서울 산책]가을 남산 자락 갈월동과 후암동, 후암시장...    \n",
      "\n",
      "                                                 link  \\\n",
      "0        https://blog.naver.com/joy_9372/223636837001   \n",
      "1         https://blog.naver.com/yh02179/223543283113   \n",
      "2         https://blog.naver.com/comma_c/223515862419   \n",
      "3          https://blog.naver.com/o_luvp/223557948707   \n",
      "4         https://blog.naver.com/cchicer/223615505848   \n",
      "...                                               ...   \n",
      "99995  https://blog.naver.com/tlarbdls94/223556093199   \n",
      "99996  https://blog.naver.com/vessel1264/223625307451   \n",
      "99997      https://blog.naver.com/wua_mj/223635194972   \n",
      "99998    https://blog.naver.com/yesican1/220986560769   \n",
      "99999   https://blog.naver.com/unviajero/223266520032   \n",
      "\n",
      "                                             description      bloggername  \\\n",
      "0      지난 주말 다녀온 남산+후암동 나들이..! 백범광장공원과 남산도서관에 다녀온 후 후...      맛따라 멋따라 공따라   \n",
      "1      5) 콤포트 후암동 깊은 안쪽에 위치한 카페 콤포트 마을버스 타고 방문하는걸 추천드...           #day.D   \n",
      "2      날이 선선하니 좋았던 6월에 버스타고 후암동 나들이를 다녀왔습니다. 가끔씩 혼자 훌...         콤마, Haus   \n",
      "3      알아버렸어요 후암동맛집으로 꽤 오랜 시간 동안 한자리를 지켜온 찐맛집 소개해드릴게요...      Deva Beauty   \n",
      "4      후암동 맛집 서울역 데이트하기 좋은 밥집 호랭이곳간 후암점 오늘은 얼마 전에 다녀온...        크치커의 취미생활   \n",
      "...                                                  ...              ...   \n",
      "99995  하면 여기 #홍철책빵 추천합니당❤️ #서울역 #후암동 #내돈내산 ⓒ 블로그의 모든 ...           감자의 일기   \n",
      "99996  후암동 교반탱크파손 보수 현장 용접 후암동 교반탱크파손 보수 현장 용접 물이 흘러들...              레몬팟   \n",
      "99997  후암동이라 어느정도는 예상했는데 가는길이 꽤나 험난했어요 오르막길도 있지만 가보고 ...           wua_mj   \n",
      "99998  [쭌의맛집1910] 후암동 일미집 전화 02-776-0670 주소 서울 용산구 후암...  쭌의맛집 since 2003   \n",
      "99999  언덕 위 하얀 집을 경계로 갈월동에서 후암동으로 바뀌었다. 하얀 집 담장 위 살구나...           거리의 풍경   \n",
      "\n",
      "                     bloggerlink   postdate  \n",
      "0        blog.naver.com/joy_9372 2024-10-28  \n",
      "1         blog.naver.com/yh02179 2024-08-10  \n",
      "2         blog.naver.com/comma_c 2024-07-17  \n",
      "3          blog.naver.com/o_luvp 2024-08-23  \n",
      "4         blog.naver.com/cchicer 2024-10-11  \n",
      "...                          ...        ...  \n",
      "99995  blog.naver.com/tlarbdls94 2024-08-21  \n",
      "99996  blog.naver.com/vessel1264 2024-10-19  \n",
      "99997      blog.naver.com/wua_mj 2024-10-27  \n",
      "99998    blog.naver.com/yesican1 2017-04-18  \n",
      "99999   blog.naver.com/unviajero 2023-11-16  \n",
      "\n",
      "[100000 rows x 6 columns]\n",
      "263.6540 sec\n"
     ]
    }
   ],
   "source": [
    "client_id = os.getenv('client_id') # 환경 변수에 접근\n",
    "client_pw = os.getenv('client_pw') # 환경 변수에 접근\n",
    "\n",
    "url = \"https://openapi.naver.com/v1/search/blog.json\"\n",
    "final_data_huam = pd.DataFrame()\n",
    "start = time.time() # 시작\n",
    "for i in range(1, 1001) : \n",
    "    payload = {'query' : '후암동', 'display' : 100, 'start' : i, 'sort' : 'sim'}\n",
    "    headers = {'X-Naver-Client-Id' : client_id, 'X-Naver-Client-Secret' : client_pw}\n",
    "    r = requests.get(url, params = payload, headers = headers)\n",
    "    if r.status_code == 200 :\n",
    "        data = r.json()\n",
    "    else :\n",
    "        print(\"Error Code:\", r.status_code)\n",
    "        \n",
    "    \n",
    "    df_huam_sim = pd.json_normalize(data['items'])\n",
    "    entire_data_huam_sim = make_df(df_huam_sim)\n",
    "    final_data_huam = pd.concat([final_data_huam, entire_data_huam_sim], ignore_index=True)\n",
    "print(final_data_huam)\n",
    "print(f\"{time.time()-start:.4f} sec\")"
   ]
  },
  {
   "cell_type": "code",
   "execution_count": 21,
   "id": "0bd134cc-4af0-4c38-9b37-1f7fac5aa55b",
   "metadata": {},
   "outputs": [],
   "source": [
    "final_data_huam_pos = final_data_huam.copy()\n",
    "final_data_huam_pos = final_data_huam_pos[['title', 'postdate']]"
   ]
  },
  {
   "cell_type": "code",
   "execution_count": 22,
   "id": "677718df-2d94-42df-b9be-b7607d993e2a",
   "metadata": {},
   "outputs": [],
   "source": [
    "final_data_huam_pos['title2'] = final_data_huam_pos['title'].apply(lambda x: mecab.pos(re.sub(r\"[^ㄱ-ㅎㅏ-ㅣ가-힣 ]\", \"\", x)))"
   ]
  },
  {
   "cell_type": "code",
   "execution_count": 23,
   "id": "e002725c-f641-4aca-ae47-b39a2b6595a7",
   "metadata": {},
   "outputs": [
    {
     "data": {
      "text/html": [
       "<div>\n",
       "<style scoped>\n",
       "    .dataframe tbody tr th:only-of-type {\n",
       "        vertical-align: middle;\n",
       "    }\n",
       "\n",
       "    .dataframe tbody tr th {\n",
       "        vertical-align: top;\n",
       "    }\n",
       "\n",
       "    .dataframe thead th {\n",
       "        text-align: right;\n",
       "    }\n",
       "</style>\n",
       "<table border=\"1\" class=\"dataframe\">\n",
       "  <thead>\n",
       "    <tr style=\"text-align: right;\">\n",
       "      <th></th>\n",
       "      <th>title</th>\n",
       "      <th>postdate</th>\n",
       "      <th>title2</th>\n",
       "    </tr>\n",
       "  </thead>\n",
       "  <tbody>\n",
       "    <tr>\n",
       "      <th>0</th>\n",
       "      <td>후암동 언뎁트, 밤 티라미수가 너무 맛있는 용산 테라스 카페</td>\n",
       "      <td>2024-10-28</td>\n",
       "      <td>[(후암동, NNP), (언, VV+ETM), (뎁, NNP), (트, NNG), ...</td>\n",
       "    </tr>\n",
       "    <tr>\n",
       "      <th>1</th>\n",
       "      <td>[해방촌/후암동 카페] 콤포트 COMFORT</td>\n",
       "      <td>2024-08-10</td>\n",
       "      <td>[(해, NNG), (방촌, NNG), (후암동, NNP), (카페, NNG), (...</td>\n",
       "    </tr>\n",
       "    <tr>\n",
       "      <th>2</th>\n",
       "      <td>후암동 미니네칼국수 반율카페 내돈내산 버스나들이</td>\n",
       "      <td>2024-07-17</td>\n",
       "      <td>[(후암동, NNP), (미니, NNG), (네, XSN), (칼국수, NNG), ...</td>\n",
       "    </tr>\n",
       "    <tr>\n",
       "      <th>3</th>\n",
       "      <td>용산돼지갈비 정감어린 후암동맛집이네요!</td>\n",
       "      <td>2024-08-23</td>\n",
       "      <td>[(용산, NNP), (돼지갈비, NNG), (정감, NNG), (어린, VA+ET...</td>\n",
       "    </tr>\n",
       "    <tr>\n",
       "      <th>4</th>\n",
       "      <td>후암동 맛집 호랭이곳간 후암점 서울역 데이트하기 좋은 밥집</td>\n",
       "      <td>2024-10-11</td>\n",
       "      <td>[(후암동, NNP), (맛집, NNG), (호랭이, NNP), (곳간, NNG),...</td>\n",
       "    </tr>\n",
       "  </tbody>\n",
       "</table>\n",
       "</div>"
      ],
      "text/plain": [
       "                               title   postdate  \\\n",
       "0  후암동 언뎁트, 밤 티라미수가 너무 맛있는 용산 테라스 카페 2024-10-28   \n",
       "1           [해방촌/후암동 카페] 콤포트 COMFORT 2024-08-10   \n",
       "2         후암동 미니네칼국수 반율카페 내돈내산 버스나들이 2024-07-17   \n",
       "3              용산돼지갈비 정감어린 후암동맛집이네요! 2024-08-23   \n",
       "4   후암동 맛집 호랭이곳간 후암점 서울역 데이트하기 좋은 밥집 2024-10-11   \n",
       "\n",
       "                                              title2  \n",
       "0  [(후암동, NNP), (언, VV+ETM), (뎁, NNP), (트, NNG), ...  \n",
       "1  [(해, NNG), (방촌, NNG), (후암동, NNP), (카페, NNG), (...  \n",
       "2  [(후암동, NNP), (미니, NNG), (네, XSN), (칼국수, NNG), ...  \n",
       "3  [(용산, NNP), (돼지갈비, NNG), (정감, NNG), (어린, VA+ET...  \n",
       "4  [(후암동, NNP), (맛집, NNG), (호랭이, NNP), (곳간, NNG),...  "
      ]
     },
     "execution_count": 23,
     "metadata": {},
     "output_type": "execute_result"
    }
   ],
   "source": [
    "final_data_huam_pos.head()"
   ]
  },
  {
   "cell_type": "code",
   "execution_count": 25,
   "id": "d18399b4-2c23-41eb-9d64-8cdb18d88fbc",
   "metadata": {},
   "outputs": [
    {
     "name": "stdout",
     "output_type": "stream",
     "text": [
      "<class 'list'>\n"
     ]
    }
   ],
   "source": [
    "print(type(final_data_huam_pos['title2'][0]))"
   ]
  },
  {
   "cell_type": "code",
   "execution_count": 28,
   "id": "f01e585f-0a12-4f2b-9ddb-8b746663904f",
   "metadata": {},
   "outputs": [
    {
     "name": "stdout",
     "output_type": "stream",
     "text": [
      "<class 'tuple'>\n"
     ]
    }
   ],
   "source": [
    "print(type(final_data_huam_pos['title2'][0][0]))"
   ]
  },
  {
   "cell_type": "code",
   "execution_count": 29,
   "id": "b5581b69-af45-4c16-b63b-467835884489",
   "metadata": {},
   "outputs": [
    {
     "data": {
      "text/plain": [
       "['후암동', '뎁', '트', '밤', '티라미수', '너무', '맛있', '용산', '테라스', '카페']"
      ]
     },
     "execution_count": 29,
     "metadata": {},
     "output_type": "execute_result"
    }
   ],
   "source": [
    "extract_words(final_data_huam_pos['title2'][0])"
   ]
  },
  {
   "cell_type": "code",
   "execution_count": null,
   "id": "23790dbc-8f4e-404d-ae11-d863437633c4",
   "metadata": {},
   "outputs": [],
   "source": []
  },
  {
   "cell_type": "code",
   "execution_count": 30,
   "id": "a50891ce-3a1f-4a36-9e54-b77028216c2e",
   "metadata": {
    "scrolled": true
   },
   "outputs": [
    {
     "data": {
      "text/html": [
       "<div>\n",
       "<style scoped>\n",
       "    .dataframe tbody tr th:only-of-type {\n",
       "        vertical-align: middle;\n",
       "    }\n",
       "\n",
       "    .dataframe tbody tr th {\n",
       "        vertical-align: top;\n",
       "    }\n",
       "\n",
       "    .dataframe thead th {\n",
       "        text-align: right;\n",
       "    }\n",
       "</style>\n",
       "<table border=\"1\" class=\"dataframe\">\n",
       "  <thead>\n",
       "    <tr style=\"text-align: right;\">\n",
       "      <th></th>\n",
       "      <th>title</th>\n",
       "      <th>postdate</th>\n",
       "      <th>title2</th>\n",
       "    </tr>\n",
       "  </thead>\n",
       "  <tbody>\n",
       "    <tr>\n",
       "      <th>0</th>\n",
       "      <td>후암동 언뎁트, 밤 티라미수가 너무 맛있는 용산 테라스 카페</td>\n",
       "      <td>2024-10-28</td>\n",
       "      <td>[후암동, 뎁, 트, 밤, 티라미수, 너무, 맛있, 용산, 테라스, 카페]</td>\n",
       "    </tr>\n",
       "    <tr>\n",
       "      <th>1</th>\n",
       "      <td>[해방촌/후암동 카페] 콤포트 COMFORT</td>\n",
       "      <td>2024-08-10</td>\n",
       "      <td>[해, 방촌, 후암동, 카페, 콤포트]</td>\n",
       "    </tr>\n",
       "    <tr>\n",
       "      <th>2</th>\n",
       "      <td>후암동 미니네칼국수 반율카페 내돈내산 버스나들이</td>\n",
       "      <td>2024-07-17</td>\n",
       "      <td>[후암동, 미니, 칼국수, 반, 카페, 돈, 내산, 버스, 나들이]</td>\n",
       "    </tr>\n",
       "    <tr>\n",
       "      <th>3</th>\n",
       "      <td>용산돼지갈비 정감어린 후암동맛집이네요!</td>\n",
       "      <td>2024-08-23</td>\n",
       "      <td>[용산, 돼지갈비, 정감, 후암동, 맛집, 이]</td>\n",
       "    </tr>\n",
       "    <tr>\n",
       "      <th>4</th>\n",
       "      <td>후암동 맛집 호랭이곳간 후암점 서울역 데이트하기 좋은 밥집</td>\n",
       "      <td>2024-10-11</td>\n",
       "      <td>[후암동, 맛집, 호랭이, 곳간, 후, 암점, 서울역, 데이트, 좋, 밥집]</td>\n",
       "    </tr>\n",
       "    <tr>\n",
       "      <th>...</th>\n",
       "      <td>...</td>\n",
       "      <td>...</td>\n",
       "      <td>...</td>\n",
       "    </tr>\n",
       "    <tr>\n",
       "      <th>99995</th>\n",
       "      <td>서울역 후암동 이색 카페 홍철책빵</td>\n",
       "      <td>2024-08-21</td>\n",
       "      <td>[서울역, 후암동, 이색, 카페, 홍철, 책, 빵]</td>\n",
       "    </tr>\n",
       "    <tr>\n",
       "      <th>99996</th>\n",
       "      <td>후암동 교반탱크파손 보수 현장</td>\n",
       "      <td>2024-10-19</td>\n",
       "      <td>[후암동, 교반, 탱크, 파손, 보수, 현장]</td>\n",
       "    </tr>\n",
       "    <tr>\n",
       "      <th>99997</th>\n",
       "      <td>[서울역] 후암동 홍철책빵 / 하고싶은거 다 하는 사람 노홍철 카페</td>\n",
       "      <td>2024-10-27</td>\n",
       "      <td>[서울역, 후암동, 홍, 철책, 빵, 다, 하, 사람, 노홍철, 카페]</td>\n",
       "    </tr>\n",
       "    <tr>\n",
       "      <th>99998</th>\n",
       "      <td>[후암동 맛집] 풀코스로 먹는 50년 전통의 감자탕, 일미집</td>\n",
       "      <td>2017-04-18</td>\n",
       "      <td>[후암동, 맛집, 풀코스, 먹, 전통, 감자탕, 미집]</td>\n",
       "    </tr>\n",
       "    <tr>\n",
       "      <th>99999</th>\n",
       "      <td>[주말 서울 산책]가을 남산 자락 갈월동과 후암동, 후암시장...</td>\n",
       "      <td>2023-11-16</td>\n",
       "      <td>[주말, 서울, 책가, 남산, 자락, 갈월동, 후암동, 후암, 시장]</td>\n",
       "    </tr>\n",
       "  </tbody>\n",
       "</table>\n",
       "<p>100000 rows × 3 columns</p>\n",
       "</div>"
      ],
      "text/plain": [
       "                                       title   postdate  \\\n",
       "0          후암동 언뎁트, 밤 티라미수가 너무 맛있는 용산 테라스 카페 2024-10-28   \n",
       "1                   [해방촌/후암동 카페] 콤포트 COMFORT 2024-08-10   \n",
       "2                 후암동 미니네칼국수 반율카페 내돈내산 버스나들이 2024-07-17   \n",
       "3                      용산돼지갈비 정감어린 후암동맛집이네요! 2024-08-23   \n",
       "4           후암동 맛집 호랭이곳간 후암점 서울역 데이트하기 좋은 밥집 2024-10-11   \n",
       "...                                      ...        ...   \n",
       "99995                     서울역 후암동 이색 카페 홍철책빵 2024-08-21   \n",
       "99996                       후암동 교반탱크파손 보수 현장 2024-10-19   \n",
       "99997  [서울역] 후암동 홍철책빵 / 하고싶은거 다 하는 사람 노홍철 카페 2024-10-27   \n",
       "99998      [후암동 맛집] 풀코스로 먹는 50년 전통의 감자탕, 일미집 2017-04-18   \n",
       "99999  [주말 서울 산책]가을 남산 자락 갈월동과 후암동, 후암시장...  2023-11-16   \n",
       "\n",
       "                                           title2  \n",
       "0       [후암동, 뎁, 트, 밤, 티라미수, 너무, 맛있, 용산, 테라스, 카페]  \n",
       "1                           [해, 방촌, 후암동, 카페, 콤포트]  \n",
       "2           [후암동, 미니, 칼국수, 반, 카페, 돈, 내산, 버스, 나들이]  \n",
       "3                      [용산, 돼지갈비, 정감, 후암동, 맛집, 이]  \n",
       "4      [후암동, 맛집, 호랭이, 곳간, 후, 암점, 서울역, 데이트, 좋, 밥집]  \n",
       "...                                           ...  \n",
       "99995                [서울역, 후암동, 이색, 카페, 홍철, 책, 빵]  \n",
       "99996                   [후암동, 교반, 탱크, 파손, 보수, 현장]  \n",
       "99997     [서울역, 후암동, 홍, 철책, 빵, 다, 하, 사람, 노홍철, 카페]  \n",
       "99998              [후암동, 맛집, 풀코스, 먹, 전통, 감자탕, 미집]  \n",
       "99999      [주말, 서울, 책가, 남산, 자락, 갈월동, 후암동, 후암, 시장]  \n",
       "\n",
       "[100000 rows x 3 columns]"
      ]
     },
     "execution_count": 30,
     "metadata": {},
     "output_type": "execute_result"
    }
   ],
   "source": [
    "# 특정 형태소만 가져오기\n",
    "final_data_huam_pos['title2'] = final_data_huam_pos['title2'].apply(lambda x : extract_words(x))\n",
    "final_data_huam_pos"
   ]
  },
  {
   "cell_type": "code",
   "execution_count": 31,
   "id": "fba3c1f6-b15c-4be9-bfeb-66092af9b2a2",
   "metadata": {},
   "outputs": [],
   "source": [
    "model_huam_pos = Word2Vec(final_data_huam_pos['title2'], vector_size=100, window=5, min_count=5, workers=8, sg=0)"
   ]
  },
  {
   "cell_type": "code",
   "execution_count": 32,
   "id": "f27612eb-41fd-418f-8643-33dee87eef3c",
   "metadata": {},
   "outputs": [
    {
     "name": "stdout",
     "output_type": "stream",
     "text": [
      "[('원두', 0.4170733094215393), ('해', 0.40944015979766846), ('신흥', 0.40699610114097595), ('종로', 0.3912353515625), ('로컬', 0.38407862186431885), ('보이', 0.3815540671348572), ('내공', 0.3756098449230194), ('향미', 0.3725931644439697), ('한적', 0.3609682023525238), ('터줏대감', 0.35582658648490906), ('녹사', 0.35378438234329224), ('종료', 0.35369873046875), ('로맨틱', 0.35258471965789795), ('탑', 0.3496885299682617), ('영업', 0.3492290675640106), ('사진', 0.3481387197971344), ('맨', 0.34452635049819946), ('너무', 0.3418031334877014), ('스터리', 0.33514389395713806), ('특계', 0.33290770649909973), ('동후', 0.32922112941741943), ('틱', 0.32464390993118286), ('술', 0.3246106505393982), ('계획', 0.32115644216537476), ('한눈', 0.320513516664505), ('소개', 0.31815460324287415), ('분식집', 0.3170214593410492), ('소식', 0.3163779675960541), ('오', 0.3160248398780823), ('훨씬', 0.3158344030380249), ('연어', 0.3153960406780243), ('요리', 0.3145737946033478), ('오징어', 0.3139325976371765), ('중화', 0.31386598944664), ('고즈넉', 0.31341519951820374), ('뷰', 0.31327304244041443), ('대지', 0.3129802346229553), ('재건축', 0.31243062019348145), ('암', 0.3099174499511719), ('접근성', 0.3086811304092407), ('전망', 0.30859246850013733), ('후', 0.308162122964859), ('평역', 0.3077870309352875), ('오마', 0.3072364926338196), ('이색', 0.30700644850730896), ('피바', 0.30371367931365967), ('리노', 0.30357030034065247), ('어반', 0.30279943346977234), ('화동', 0.30162835121154785), ('골목', 0.3008820414543152)]\n"
     ]
    }
   ],
   "source": [
    "model_huam_pos_result = model_huam_pos.wv.most_similar(\"후암\", topn = 50)\n",
    "print(model_huam_pos_result)"
   ]
  },
  {
   "cell_type": "code",
   "execution_count": null,
   "id": "fafb6655-6dbc-4754-a97e-23c825d06173",
   "metadata": {},
   "outputs": [],
   "source": []
  },
  {
   "cell_type": "code",
   "execution_count": null,
   "id": "0e187a60-bbdc-4b77-9f47-c4a097080784",
   "metadata": {},
   "outputs": [],
   "source": []
  },
  {
   "cell_type": "code",
   "execution_count": null,
   "id": "d8d7c4a6-08bc-418c-ba49-064efe76913d",
   "metadata": {},
   "outputs": [],
   "source": []
  },
  {
   "cell_type": "code",
   "execution_count": null,
   "id": "42ec1b70-2242-4a67-b467-fb32408b2ef3",
   "metadata": {},
   "outputs": [],
   "source": []
  },
  {
   "cell_type": "code",
   "execution_count": null,
   "id": "a5a6c811-c99c-4cf6-9147-a5510efa9164",
   "metadata": {},
   "outputs": [],
   "source": []
  },
  {
   "cell_type": "code",
   "execution_count": null,
   "id": "8982541d-1bd6-44f3-80e5-d5bc845846c6",
   "metadata": {},
   "outputs": [],
   "source": []
  },
  {
   "cell_type": "code",
   "execution_count": null,
   "id": "3b606303-8819-4843-a867-9f6723fab7e3",
   "metadata": {},
   "outputs": [],
   "source": []
  },
  {
   "cell_type": "code",
   "execution_count": null,
   "id": "c952bb83-0917-4fa1-bdb9-276d5daa61a6",
   "metadata": {},
   "outputs": [],
   "source": []
  },
  {
   "cell_type": "code",
   "execution_count": null,
   "id": "f494e6fc-1066-4e9d-a07a-8871d9054aee",
   "metadata": {},
   "outputs": [],
   "source": []
  },
  {
   "cell_type": "code",
   "execution_count": null,
   "id": "d02c3dd1-c1bf-4b14-ba1b-2e8b571e26d5",
   "metadata": {},
   "outputs": [],
   "source": []
  },
  {
   "cell_type": "code",
   "execution_count": null,
   "id": "5fed894c-7ba5-4a5c-9df3-f72435ef118b",
   "metadata": {},
   "outputs": [],
   "source": []
  },
  {
   "cell_type": "code",
   "execution_count": null,
   "id": "4d111177-26e5-4097-a603-b1513337bc40",
   "metadata": {},
   "outputs": [],
   "source": []
  },
  {
   "cell_type": "code",
   "execution_count": null,
   "id": "2b7480c6-7aa2-4b9d-be26-9e4e52469981",
   "metadata": {},
   "outputs": [],
   "source": []
  },
  {
   "cell_type": "code",
   "execution_count": null,
   "id": "de4ceab1-7d43-4ba7-831d-5a08cd40dadf",
   "metadata": {},
   "outputs": [],
   "source": []
  },
  {
   "cell_type": "code",
   "execution_count": null,
   "id": "1441585a-b673-4ee3-aabc-c0c74d8171ee",
   "metadata": {},
   "outputs": [],
   "source": []
  },
  {
   "cell_type": "code",
   "execution_count": null,
   "id": "8206e00d-81f4-4d47-a5c5-f2d2bad91603",
   "metadata": {},
   "outputs": [],
   "source": []
  },
  {
   "cell_type": "code",
   "execution_count": null,
   "id": "f8dfda74-5136-4551-bb9a-ed5258e587ac",
   "metadata": {},
   "outputs": [],
   "source": []
  },
  {
   "cell_type": "code",
   "execution_count": null,
   "id": "36bc2d57-d9d0-448f-9456-ee932a298be2",
   "metadata": {},
   "outputs": [],
   "source": []
  },
  {
   "cell_type": "code",
   "execution_count": null,
   "id": "6dd39f80-98c5-4d8a-aece-09d5e26ab1e7",
   "metadata": {},
   "outputs": [],
   "source": []
  },
  {
   "cell_type": "code",
   "execution_count": null,
   "id": "27834fcc-0134-449a-b4cb-6307b40e7a7c",
   "metadata": {},
   "outputs": [],
   "source": []
  },
  {
   "cell_type": "code",
   "execution_count": null,
   "id": "8e555f3e-0298-47a7-8949-52a82034b39e",
   "metadata": {},
   "outputs": [],
   "source": []
  },
  {
   "cell_type": "code",
   "execution_count": null,
   "id": "4b684c2b-0696-41fd-909b-775fe7e2bb53",
   "metadata": {},
   "outputs": [],
   "source": []
  },
  {
   "cell_type": "code",
   "execution_count": null,
   "id": "860de475-fe55-45d7-903c-34f89190ff16",
   "metadata": {},
   "outputs": [],
   "source": []
  },
  {
   "cell_type": "code",
   "execution_count": null,
   "id": "c958e342-7e57-4cfb-9b82-d5b74cc55a56",
   "metadata": {},
   "outputs": [],
   "source": []
  }
 ],
 "metadata": {
  "kernelspec": {
   "display_name": "Python 3 (ipykernel)",
   "language": "python",
   "name": "python3"
  },
  "language_info": {
   "codemirror_mode": {
    "name": "ipython",
    "version": 3
   },
   "file_extension": ".py",
   "mimetype": "text/x-python",
   "name": "python",
   "nbconvert_exporter": "python",
   "pygments_lexer": "ipython3",
   "version": "3.8.20"
  }
 },
 "nbformat": 4,
 "nbformat_minor": 5
}
