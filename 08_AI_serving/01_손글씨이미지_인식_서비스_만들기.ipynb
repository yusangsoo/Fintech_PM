{
 "cells": [
  {
   "cell_type": "markdown",
   "id": "5e98895d",
   "metadata": {},
   "source": [
    "# 손글씨 인식 application\n",
    "- 영문 손글씨 이미지 파일을 업로드\n",
    "- 사용자가 캔버스에 손글씨를 쓸 수 있음\n",
    "- 업로드한 이미지와 직접 쓴 글씨를 텍스트로 변환해 받을 수 있음"
   ]
  },
  {
   "cell_type": "code",
   "execution_count": 2,
   "id": "293e1c76",
   "metadata": {},
   "outputs": [],
   "source": [
    "# !mkdir examples\n",
    "# !cd examples && wget https://github.com/mrsyee/dl_apps/raw/main/ocr/examples/Hello.png\n",
    "# !cd examples && wget https://github.com/mrsyee/dl_apps/raw/main/ocr/examples/Hello_cursive.png\n",
    "# !cd examples && wget https://github.com/mrsyee/dl_apps/raw/main/ocr/examples/Red.png\n",
    "# !cd examples && wget https://github.com/mrsyee/dl_apps/raw/main/ocr/examples/sentence.png\n",
    "# !cd examples && wget https://github.com/mrsyee/dl_apps/raw/main/ocr/examples/i_love_you.png\n",
    "# !cd examples && wget https://github.com/mrsyee/dl_apps/raw/main/ocr/examples/merrychristmas.png\n",
    "# !cd examples && wget https://github.com/mrsyee/dl_apps/raw/main/ocr/examples/Rock.png\n",
    "# !cd examples && wget https://github.com/mrsyee/dl_apps/raw/main/ocr/examples/Bob.png"
   ]
  },
  {
   "cell_type": "code",
   "execution_count": 3,
   "id": "b7489de3",
   "metadata": {},
   "outputs": [
    {
     "name": "stderr",
     "output_type": "stream",
     "text": [
      "/home/user/miniforge3/envs/torch/lib/python3.11/site-packages/gradio_client/documentation.py:106: UserWarning: Could not get documentation group for <class 'gradio.mix.Parallel'>: No known documentation group for module 'gradio.mix'\n",
      "  warnings.warn(f\"Could not get documentation group for {cls}: {exc}\")\n",
      "/home/user/miniforge3/envs/torch/lib/python3.11/site-packages/gradio_client/documentation.py:106: UserWarning: Could not get documentation group for <class 'gradio.mix.Series'>: No known documentation group for module 'gradio.mix'\n",
      "  warnings.warn(f\"Could not get documentation group for {cls}: {exc}\")\n"
     ]
    }
   ],
   "source": [
    "import os\n",
    "import numpy as np\n",
    "from PIL import Image\n",
    "import gradio as gr\n",
    "from transformers import TrOCRProcessor, VisionEncoderDecoderModel"
   ]
  },
  {
   "cell_type": "markdown",
   "id": "d18aaa88",
   "metadata": {},
   "source": [
    "## 이미지 파일 업로드 UI 구현하기"
   ]
  },
  {
   "cell_type": "code",
   "execution_count": 4,
   "id": "85de23f4",
   "metadata": {},
   "outputs": [
    {
     "name": "stdout",
     "output_type": "stream",
     "text": [
      "IMPORTANT: You are using gradio version 3.40.0, however version 4.29.0 is available, please upgrade.\n",
      "--------\n"
     ]
    }
   ],
   "source": [
    "with gr.Blocks() as app :\n",
    "    gr.Markdown(\"# Handwritten Image OCR\")\n",
    "    image = gr.Image(label = 'Handwritten Image File')\n",
    "    output = gr.Textbox(label = 'output Box')\n",
    "    convert_btn = gr.Button('Convert')"
   ]
  },
  {
   "cell_type": "code",
   "execution_count": 5,
   "id": "06bc2298",
   "metadata": {},
   "outputs": [
    {
     "name": "stdout",
     "output_type": "stream",
     "text": [
      "Running on local URL:  http://127.0.0.1:7860\n",
      "Running on public URL: https://ea12b64f01e78e1044.gradio.live\n",
      "\n",
      "This share link expires in 72 hours. For free permanent hosting and GPU upgrades, run `gradio deploy` from Terminal to deploy to Spaces (https://huggingface.co/spaces)\n"
     ]
    },
    {
     "data": {
      "text/plain": []
     },
     "execution_count": 5,
     "metadata": {},
     "output_type": "execute_result"
    }
   ],
   "source": [
    "app.launch(inline = False, share = True)"
   ]
  },
  {
   "cell_type": "code",
   "execution_count": 6,
   "id": "88ab11d2",
   "metadata": {},
   "outputs": [
    {
     "name": "stdout",
     "output_type": "stream",
     "text": [
      "Closing server running on port: 7860\n"
     ]
    }
   ],
   "source": [
    "app.close()"
   ]
  },
  {
   "cell_type": "markdown",
   "id": "95bd510f",
   "metadata": {},
   "source": [
    "# TrOCR 모델을 사용한 손글씨 인식기 구현하기"
   ]
  },
  {
   "cell_type": "code",
   "execution_count": 15,
   "id": "6002c32f",
   "metadata": {},
   "outputs": [],
   "source": [
    "class TrOCRInferencer :\n",
    "    def __init__(self) :\n",
    "        print('[info] init TrOCR Inferencer')\n",
    "        self.processor = TrOCRProcessor.from_pretrained(\n",
    "            'microsoft/trocr-large-handwritten'\n",
    "        )\n",
    "        self.model = VisionEncoderDecoderModel.from_pretrained('microsoft/trocr-large-handwritten')\n",
    "    \n",
    "    def inference(self, image) :\n",
    "        pixel_values = self.processor(images = image, return_tensors = 'pt').pixel_values\n",
    "        generated_ids = self.model.generate(pixel_values)\n",
    "        generated_text = self.processor.batch_decode(generated_ids, skip_sepcial_tokens = True)[0]\n",
    "        \n",
    "        return generated_text"
   ]
  },
  {
   "cell_type": "code",
   "execution_count": 16,
   "id": "0532a692",
   "metadata": {},
   "outputs": [
    {
     "name": "stdout",
     "output_type": "stream",
     "text": [
      "[info] init TrOCR Inferencer\n"
     ]
    },
    {
     "name": "stderr",
     "output_type": "stream",
     "text": [
      "/home/user/miniforge3/envs/torch/lib/python3.11/site-packages/transformers/tokenization_utils_base.py:1601: FutureWarning: `clean_up_tokenization_spaces` was not set. It will be set to `True` by default. This behavior will be depracted in transformers v4.45, and will be then set to `False` by default. For more details check this issue: https://github.com/huggingface/transformers/issues/31884\n",
      "  warnings.warn(\n",
      "Some weights of VisionEncoderDecoderModel were not initialized from the model checkpoint at microsoft/trocr-large-handwritten and are newly initialized: ['encoder.pooler.dense.bias', 'encoder.pooler.dense.weight']\n",
      "You should probably TRAIN this model on a down-stream task to be able to use it for predictions and inference.\n"
     ]
    }
   ],
   "source": [
    "inferencer = TrOCRInferencer()"
   ]
  },
  {
   "cell_type": "markdown",
   "id": "b225dded",
   "metadata": {},
   "source": [
    "# 추론 기능 구현하기"
   ]
  },
  {
   "cell_type": "code",
   "execution_count": 17,
   "id": "639b6d73",
   "metadata": {},
   "outputs": [],
   "source": [
    "def image_to_text(image) :\n",
    "    image = Image.fromarray(image).convert('RGB')\n",
    "    text = inferencer.inference(image)\n",
    "    \n",
    "    return text"
   ]
  },
  {
   "cell_type": "code",
   "execution_count": 18,
   "id": "4cfe781c",
   "metadata": {
    "scrolled": true
   },
   "outputs": [
    {
     "name": "stdout",
     "output_type": "stream",
     "text": [
      "Running on local URL:  http://127.0.0.1:7860\n",
      "IMPORTANT: You are using gradio version 3.40.0, however version 4.29.0 is available, please upgrade.\n",
      "--------\n",
      "Running on public URL: https://404d710b9f7ee7ca88.gradio.live\n",
      "\n",
      "This share link expires in 72 hours. For free permanent hosting and GPU upgrades, run `gradio deploy` from Terminal to deploy to Spaces (https://huggingface.co/spaces)\n"
     ]
    },
    {
     "data": {
      "text/plain": []
     },
     "execution_count": 18,
     "metadata": {},
     "output_type": "execute_result"
    },
    {
     "name": "stderr",
     "output_type": "stream",
     "text": [
      "/home/user/miniforge3/envs/torch/lib/python3.11/site-packages/transformers/generation/utils.py:1258: UserWarning: Using the model-agnostic default `max_length` (=20) to control the generation length. We recommend setting `max_new_tokens` to control the maximum length of the generation.\n",
      "  warnings.warn(\n"
     ]
    }
   ],
   "source": [
    "with gr.Blocks() as app :\n",
    "    gr.Markdown(\"# Handwritten Image OCR\")\n",
    "    image = gr.Image(label = 'Handwritten Image File')\n",
    "    output = gr.Textbox(label = 'output Box')\n",
    "    convert_btn = gr.Button('Convert')\n",
    "    convert_btn.click(\n",
    "        fn = image_to_text,\n",
    "        inputs = image,\n",
    "        outputs = output\n",
    "    )\n",
    "app.launch(inline = False, share = True)"
   ]
  },
  {
   "cell_type": "code",
   "execution_count": 14,
   "id": "bde7e260",
   "metadata": {},
   "outputs": [
    {
     "name": "stdout",
     "output_type": "stream",
     "text": [
      "Closing server running on port: 7860\n"
     ]
    }
   ],
   "source": [
    "app.close()"
   ]
  },
  {
   "cell_type": "markdown",
   "id": "4a168195",
   "metadata": {},
   "source": [
    "# 캔버스 UI 만들고 손글씨 인식하기"
   ]
  },
  {
   "cell_type": "code",
   "execution_count": 20,
   "id": "590eef2a",
   "metadata": {},
   "outputs": [
    {
     "name": "stdout",
     "output_type": "stream",
     "text": [
      "Running on local URL:  http://127.0.0.1:7861\n",
      "IMPORTANT: You are using gradio version 3.40.0, however version 4.29.0 is available, please upgrade.\n",
      "--------\n",
      "Running on public URL: https://18e0088591ca30e7e9.gradio.live\n",
      "\n",
      "This share link expires in 72 hours. For free permanent hosting and GPU upgrades, run `gradio deploy` from Terminal to deploy to Spaces (https://huggingface.co/spaces)\n"
     ]
    },
    {
     "data": {
      "text/plain": []
     },
     "execution_count": 20,
     "metadata": {},
     "output_type": "execute_result"
    },
    {
     "name": "stderr",
     "output_type": "stream",
     "text": [
      "/home/user/miniforge3/envs/torch/lib/python3.11/site-packages/transformers/generation/utils.py:1258: UserWarning: Using the model-agnostic default `max_length` (=20) to control the generation length. We recommend setting `max_new_tokens` to control the maximum length of the generation.\n",
      "  warnings.warn(\n",
      "/home/user/miniforge3/envs/torch/lib/python3.11/site-packages/transformers/generation/utils.py:1258: UserWarning: Using the model-agnostic default `max_length` (=20) to control the generation length. We recommend setting `max_new_tokens` to control the maximum length of the generation.\n",
      "  warnings.warn(\n",
      "/home/user/miniforge3/envs/torch/lib/python3.11/site-packages/transformers/generation/utils.py:1258: UserWarning: Using the model-agnostic default `max_length` (=20) to control the generation length. We recommend setting `max_new_tokens` to control the maximum length of the generation.\n",
      "  warnings.warn(\n",
      "/home/user/miniforge3/envs/torch/lib/python3.11/site-packages/transformers/generation/utils.py:1258: UserWarning: Using the model-agnostic default `max_length` (=20) to control the generation length. We recommend setting `max_new_tokens` to control the maximum length of the generation.\n",
      "  warnings.warn(\n"
     ]
    }
   ],
   "source": [
    "with gr.Blocks() as app :\n",
    "    gr.Markdown(\"# Handwritten Image OCR\")\n",
    "    sketchpad = gr.Sketchpad(\n",
    "        label = 'Handwritten Sketchpad',\n",
    "        shape = (1200, 600),\n",
    "        brush_radius = 3,\n",
    "        invert_colors = False\n",
    "    )\n",
    "    output = gr.Textbox(label = 'Output box')\n",
    "    convert_btn = gr.Button(\"Convert\")\n",
    "    convert_btn.click(\n",
    "        fn = image_to_text,\n",
    "        inputs = sketchpad,\n",
    "        outputs = output\n",
    "    )\n",
    "app.launch(inline = False, share = True)"
   ]
  },
  {
   "cell_type": "code",
   "execution_count": 21,
   "id": "e0ecf83e",
   "metadata": {},
   "outputs": [
    {
     "name": "stdout",
     "output_type": "stream",
     "text": [
      "Closing server running on port: 7861\n"
     ]
    }
   ],
   "source": [
    "app.close()"
   ]
  },
  {
   "cell_type": "markdown",
   "id": "0bdfabd1",
   "metadata": {},
   "source": [
    "# 최종 app 만들기"
   ]
  },
  {
   "cell_type": "code",
   "execution_count": 30,
   "id": "2e6b3aa0",
   "metadata": {},
   "outputs": [
    {
     "name": "stdout",
     "output_type": "stream",
     "text": [
      "IMPORTANT: You are using gradio version 3.40.0, however version 4.29.0 is available, please upgrade.\n",
      "--------\n"
     ]
    }
   ],
   "source": [
    "class TrOCRInferencer :\n",
    "    def __init__(self) :\n",
    "        print('[info] init TrOCR Inferencer')\n",
    "        self.processor = TrOCRProcessor.from_pretrained(\n",
    "            'microsoft/trocr-large-handwritten'\n",
    "        )\n",
    "        self.model = VisionEncoderDecoderModel.from_pretrained('microsoft/trocr-large-handwritten')\n",
    "    \n",
    "    def inference(self, image) :\n",
    "        pixel_values = self.processor(images = image, return_tensors = 'pt').pixel_values\n",
    "        generated_ids = self.model.generate(pixel_values)\n",
    "        generated_text = self.processor.batch_decode(generated_ids, skip_sepcial_tokens = True)[0]\n",
    "        \n",
    "        return generated_text\n",
    "    \n",
    "def image_to_text(image) :\n",
    "    image = Image.fromarray(image).convert('RGB')\n",
    "    text = inferencer.inference(image)\n",
    "    \n",
    "    return text\n",
    "\n",
    "with gr.Blocks() as app :\n",
    "    gr.Markdown(\"# Handwritten Image OCR\")\n",
    "    with gr.Tab(\"Image upload\") :\n",
    "        image = gr.Image(label = 'Handwritten Image File')\n",
    "        output = gr.Textbox(label = 'output Box')\n",
    "        convert_btn = gr.Button('Convert')\n",
    "        convert_btn.click(\n",
    "            fn = image_to_text,\n",
    "            inputs = image,\n",
    "            outputs = output\n",
    "        )\n",
    "        gr.Markdown('## Image Examples')\n",
    "        gr.Examples(\n",
    "            examples = [\n",
    "                os.path.join(os.getcwd(), 'examples/Hello.png'),\n",
    "                os.path.join(os.getcwd(), 'examples/Hello_cursive.png'),\n",
    "                os.path.join(os.getcwd(), 'examples/Red.png'),\n",
    "                os.path.join(os.getcwd(), 'examples/sentence.png'),\n",
    "                os.path.join(os.getcwd(), 'examples/i_love_you.png'),\n",
    "                os.path.join(os.getcwd(), 'examples/merrychristmas.png'),\n",
    "                os.path.join(os.getcwd(), 'examples/Rock.png'),\n",
    "                os.path.join(os.getcwd(), 'examples/Bob.png')\n",
    "            ],\n",
    "            inputs = image,\n",
    "            outputs = output,\n",
    "            fn = image_to_text\n",
    "        )\n",
    "\n",
    "    with gr.Tab('Drawing') :\n",
    "        # gr.Markdown(\"# Handwritten Image OCR\")\n",
    "        sketchpad = gr.Sketchpad(\n",
    "            label = 'Handwritten Sketchpad',\n",
    "            shape = (1200, 600),\n",
    "            brush_radius = 3,\n",
    "            invert_colors = False\n",
    "        )\n",
    "        output = gr.Textbox(label = 'Output box')\n",
    "        convert_btn = gr.Button(\"Convert\")\n",
    "        convert_btn.click(\n",
    "            fn = image_to_text,\n",
    "            inputs = sketchpad,\n",
    "            outputs = output\n",
    "        )"
   ]
  },
  {
   "cell_type": "code",
   "execution_count": 31,
   "id": "8d4f0b92",
   "metadata": {},
   "outputs": [
    {
     "name": "stdout",
     "output_type": "stream",
     "text": [
      "Running on local URL:  http://127.0.0.1:7863\n",
      "Running on public URL: https://c2cee59257604ac7b3.gradio.live\n",
      "\n",
      "This share link expires in 72 hours. For free permanent hosting and GPU upgrades, run `gradio deploy` from Terminal to deploy to Spaces (https://huggingface.co/spaces)\n"
     ]
    },
    {
     "data": {
      "text/plain": []
     },
     "execution_count": 31,
     "metadata": {},
     "output_type": "execute_result"
    },
    {
     "name": "stderr",
     "output_type": "stream",
     "text": [
      "/home/user/miniforge3/envs/torch/lib/python3.11/site-packages/transformers/generation/utils.py:1258: UserWarning: Using the model-agnostic default `max_length` (=20) to control the generation length. We recommend setting `max_new_tokens` to control the maximum length of the generation.\n",
      "  warnings.warn(\n",
      "/home/user/miniforge3/envs/torch/lib/python3.11/site-packages/transformers/generation/utils.py:1258: UserWarning: Using the model-agnostic default `max_length` (=20) to control the generation length. We recommend setting `max_new_tokens` to control the maximum length of the generation.\n",
      "  warnings.warn(\n"
     ]
    }
   ],
   "source": [
    "app.launch(inline = False, share = True)"
   ]
  },
  {
   "cell_type": "code",
   "execution_count": 32,
   "id": "1f540082",
   "metadata": {},
   "outputs": [
    {
     "name": "stdout",
     "output_type": "stream",
     "text": [
      "Closing server running on port: 7863\n"
     ]
    }
   ],
   "source": [
    "app.close()"
   ]
  },
  {
   "cell_type": "code",
   "execution_count": null,
   "id": "c20adea5",
   "metadata": {},
   "outputs": [],
   "source": []
  },
  {
   "cell_type": "code",
   "execution_count": null,
   "id": "ceda928c",
   "metadata": {},
   "outputs": [],
   "source": []
  },
  {
   "cell_type": "code",
   "execution_count": null,
   "id": "8c6ed007",
   "metadata": {},
   "outputs": [],
   "source": []
  },
  {
   "cell_type": "code",
   "execution_count": null,
   "id": "aa41989a",
   "metadata": {},
   "outputs": [],
   "source": []
  }
 ],
 "metadata": {
  "kernelspec": {
   "display_name": "Python 3 (ipykernel)",
   "language": "python",
   "name": "python3"
  },
  "language_info": {
   "codemirror_mode": {
    "name": "ipython",
    "version": 3
   },
   "file_extension": ".py",
   "mimetype": "text/x-python",
   "name": "python",
   "nbconvert_exporter": "python",
   "pygments_lexer": "ipython3",
   "version": "3.11.10"
  }
 },
 "nbformat": 4,
 "nbformat_minor": 5
}
