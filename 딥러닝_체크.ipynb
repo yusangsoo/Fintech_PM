{
 "cells": [
  {
   "cell_type": "code",
   "execution_count": 1,
   "id": "3e35411b-e6c9-4795-b1b1-03544e1190f8",
   "metadata": {},
   "outputs": [
    {
     "name": "stderr",
     "output_type": "stream",
     "text": [
      "2024-09-09 11:44:17.504924: I tensorflow/core/platform/cpu_feature_guard.cc:193] This TensorFlow binary is optimized with oneAPI Deep Neural Network Library (oneDNN) to use the following CPU instructions in performance-critical operations:  AVX2 FMA\n",
      "To enable them in other operations, rebuild TensorFlow with the appropriate compiler flags.\n",
      "2024-09-09 11:44:18.551626: I tensorflow/c/logging.cc:34] Successfully opened dynamic library libdirectml.d6f03b303ac3c4f2eeb8ca631688c9757b361310.so\n",
      "2024-09-09 11:44:18.551720: I tensorflow/c/logging.cc:34] Successfully opened dynamic library libdxcore.so\n",
      "2024-09-09 11:44:18.555656: I tensorflow/c/logging.cc:34] Successfully opened dynamic library libd3d12.so\n",
      "2024-09-09 11:44:18.746508: I tensorflow/c/logging.cc:34] DirectML device enumeration: found 1 compatible adapters.\n"
     ]
    },
    {
     "name": "stdout",
     "output_type": "stream",
     "text": [
      "사용 가능한 GPU 장치: [PhysicalDevice(name='/physical_device:GPU:0', device_type='GPU')]\n"
     ]
    },
    {
     "name": "stderr",
     "output_type": "stream",
     "text": [
      "2024-09-09 11:44:19.227606: I tensorflow/core/platform/cpu_feature_guard.cc:193] This TensorFlow binary is optimized with oneAPI Deep Neural Network Library (oneDNN) to use the following CPU instructions in performance-critical operations:  AVX2 FMA\n",
      "To enable them in other operations, rebuild TensorFlow with the appropriate compiler flags.\n",
      "2024-09-09 11:44:19.229029: I tensorflow/c/logging.cc:34] DirectML: creating device on adapter 0 (AMD Radeon(TM) Graphics)\n",
      "2024-09-09 11:44:19.300555: I tensorflow/core/common_runtime/pluggable_device/pluggable_device_factory.cc:306] Could not identify NUMA node of platform GPU ID 0, defaulting to 0. Your kernel may not have been built with NUMA support.\n",
      "2024-09-09 11:44:19.300604: W tensorflow/core/common_runtime/pluggable_device/pluggable_device_bfc_allocator.cc:28] Overriding allow_growth setting because force_memory_growth was requested by the device.\n",
      "2024-09-09 11:44:19.300632: I tensorflow/core/common_runtime/pluggable_device/pluggable_device_factory.cc:272] Created TensorFlow device (/job:localhost/replica:0/task:0/device:GPU:0 with 14853 MB memory) -> physical PluggableDevice (device: 0, name: DML, pci bus id: <undefined>)\n"
     ]
    },
    {
     "name": "stdout",
     "output_type": "stream",
     "text": [
      "tf.Tensor(\n",
      "[[  27.557194    16.918396   -29.442924  ...   73.48726     84.72368\n",
      "    22.486597 ]\n",
      " [ -83.302605    16.236767   -42.020035  ...  157.33278   -106.13958\n",
      "   -78.7552   ]\n",
      " [  66.813484   197.80762     99.30103   ...   17.967997    -6.1394744\n",
      "   -44.689182 ]\n",
      " ...\n",
      " [-135.70517     57.878834   -46.558846  ... -115.42303    229.55307\n",
      "  -116.693985 ]\n",
      " [-208.89261   -201.0663     -84.796135  ...   42.7795     138.94215\n",
      "   -66.85118  ]\n",
      " [ 246.99457     83.866714   -28.608566  ...   29.02486     -2.9734426\n",
      "    67.28967  ]], shape=(10000, 10000), dtype=float32)\n",
      "연산 완료.\n"
     ]
    }
   ],
   "source": [
    "import tensorflow as tf\n",
    "# TensorFlow에서 사용할 수 있는 GPU 확인\n",
    "gpus = tf.config.list_physical_devices('GPU')\n",
    "if gpus:\n",
    "    print(f\"사용 가능한 GPU 장치: {gpus}\")\n",
    "else:\n",
    "    print(\"사용 가능한 GPU가 없습니다.\")\n",
    "\n",
    "# 간단한 행렬 연산을 통해 GPU 사용 여부 테스트\n",
    "with tf.device('/GPU:0'):  # GPU:0은 첫 번째 GPU를 의미합니다.\n",
    "    a = tf.random.normal([10000, 10000])\n",
    "    b = tf.random.normal([10000, 10000])\n",
    "    result = tf.matmul(a, b)\n",
    "    print(result)\n",
    "print(\"연산 완료.\")"
   ]
  },
  {
   "cell_type": "code",
   "execution_count": null,
   "id": "1c06460e",
   "metadata": {},
   "outputs": [],
   "source": []
  }
 ],
 "metadata": {
  "kernelspec": {
   "display_name": "Python 3 (ipykernel)",
   "language": "python",
   "name": "python3"
  },
  "language_info": {
   "codemirror_mode": {
    "name": "ipython",
    "version": 3
   },
   "file_extension": ".py",
   "mimetype": "text/x-python",
   "name": "python",
   "nbconvert_exporter": "python",
   "pygments_lexer": "ipython3",
   "version": "3.9.19"
  }
 },
 "nbformat": 4,
 "nbformat_minor": 5
}
