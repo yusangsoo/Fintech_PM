{
 "cells": [
  {
   "cell_type": "markdown",
   "id": "6c213d27",
   "metadata": {},
   "source": [
    "# RNN_순환신경망\n",
    "- 언어, 시계열 데이터 분석에 주로 사용\n",
    "- 길이가 길어지면 기울기 소실문제 발생\n",
    "- LSTM, GRU 등이 문제를 보완"
   ]
  },
  {
   "cell_type": "code",
   "execution_count": 2,
   "id": "db4c8630",
   "metadata": {},
   "outputs": [],
   "source": [
    "import pandas as pd\n",
    "import numpy as np\n",
    "import matplotlib.pyplot as plt\n",
    "import seaborn as sns\n",
    "from tensorflow.keras.preprocessing.text import Tokenizer, text_to_word_sequence\n",
    "from tensorflow.keras.preprocessing.sequence import pad_sequences\n",
    "from tensorflow.keras.models import Sequential, Model\n",
    "from tensorflow.keras.layers import Dense, Flatten, Embedding\n",
    "from tensorflow.keras.utils import to_categorical"
   ]
  },
  {
   "cell_type": "markdown",
   "id": "1244f12d",
   "metadata": {},
   "source": [
    "## tensorflow에서 텍스트 전처리하기\n",
    "- 토큰화 : 문장을 단어 혹은 형태소로 쪼개는 것\n",
    "- one-hot encoding : 문자를 벡터화\n",
    "- embedding : 벡터화 -> 원핫인코딩을 더 축소하는 개념\n",
    "- 패딩 작업이 필요\n",
    "- 작업 순서 : one-hot encoding -> padding -> embedding"
   ]
  },
  {
   "cell_type": "code",
   "execution_count": 3,
   "id": "23bcf769",
   "metadata": {},
   "outputs": [],
   "source": [
    "text = '해보지 않으면 해낼 수 없다'"
   ]
  },
  {
   "cell_type": "code",
   "execution_count": 4,
   "id": "54da217e",
   "metadata": {},
   "outputs": [
    {
     "data": {
      "text/plain": [
       "['해보지', '않으면', '해낼', '수', '없다']"
      ]
     },
     "execution_count": 4,
     "metadata": {},
     "output_type": "execute_result"
    }
   ],
   "source": [
    "# text_to_word_sequence는 공백을 기준으로 나눔\n",
    "result = text_to_word_sequence(text)\n",
    "result"
   ]
  },
  {
   "cell_type": "markdown",
   "id": "7cb8aad0",
   "metadata": {},
   "source": [
    "단어 빈도 수 세기"
   ]
  },
  {
   "cell_type": "code",
   "execution_count": 10,
   "id": "3232ac83",
   "metadata": {},
   "outputs": [],
   "source": [
    "docs = ['먼저 텍스트의 각 단어를 나누어 토큰화합니다',\n",
    "       '텍스트의 단어로 토큰화해야 딥러닝에서 인식됩니다',\n",
    "       '토큰화한 결과는 딥러닝에서 사용할 수 있습니다',\n",
    "       '텍스트 전처리에는 벡터화 원핫인코딩 패딩으로 길이 맞추기 등이 필요합니다',\n",
    "       '딥러닝 쉽지 않네요']"
   ]
  },
  {
   "cell_type": "code",
   "execution_count": 11,
   "id": "5506673f",
   "metadata": {},
   "outputs": [
    {
     "name": "stdout",
     "output_type": "stream",
     "text": [
      "단어 카운트 :  OrderedDict([('먼저', 1), ('텍스트의', 2), ('각', 1), ('단어를', 1), ('나누어', 1), ('토큰화합니다', 1), ('단어로', 1), ('토큰화해야', 1), ('딥러닝에서', 2), ('인식됩니다', 1), ('토큰화한', 1), ('결과는', 1), ('사용할', 1), ('수', 1), ('있습니다', 1), ('텍스트', 1), ('전처리에는', 1), ('벡터화', 1), ('원핫인코딩', 1), ('패딩으로', 1), ('길이', 1), ('맞추기', 1), ('등이', 1), ('필요합니다', 1), ('딥러닝', 1), ('쉽지', 1), ('않네요', 1)])\n",
      "====================\n",
      "문장 카운트 :  5\n",
      "====================\n",
      "각 단어가 몇 개의 문장에 포함되어 있는지 계산 :  defaultdict(<class 'int'>, {'각': 1, '먼저': 1, '단어를': 1, '토큰화합니다': 1, '나누어': 1, '텍스트의': 2, '딥러닝에서': 2, '토큰화해야': 1, '단어로': 1, '인식됩니다': 1, '있습니다': 1, '토큰화한': 1, '결과는': 1, '수': 1, '사용할': 1, '벡터화': 1, '원핫인코딩': 1, '등이': 1, '텍스트': 1, '필요합니다': 1, '길이': 1, '패딩으로': 1, '맞추기': 1, '전처리에는': 1, '않네요': 1, '딥러닝': 1, '쉽지': 1})\n",
      "====================\n",
      "각 단어에 매겨진 인덱스 값 :  {'텍스트의': 1, '딥러닝에서': 2, '먼저': 3, '각': 4, '단어를': 5, '나누어': 6, '토큰화합니다': 7, '단어로': 8, '토큰화해야': 9, '인식됩니다': 10, '토큰화한': 11, '결과는': 12, '사용할': 13, '수': 14, '있습니다': 15, '텍스트': 16, '전처리에는': 17, '벡터화': 18, '원핫인코딩': 19, '패딩으로': 20, '길이': 21, '맞추기': 22, '등이': 23, '필요합니다': 24, '딥러닝': 25, '쉽지': 26, '않네요': 27}\n"
     ]
    }
   ],
   "source": [
    "# 토큰화\n",
    "token = Tokenizer()\n",
    "token.fit_on_texts(docs)\n",
    "print('단어 카운트 : ', token.word_counts)\n",
    "print('='*20)\n",
    "print(\"문장 카운트 : \", token.document_count)\n",
    "print('='*20)\n",
    "print('각 단어가 몇 개의 문장에 포함되어 있는지 계산 : ', token.word_docs)\n",
    "print('='*20)\n",
    "print('각 단어에 매겨진 인덱스 값 : ', token.word_index)"
   ]
  },
  {
   "cell_type": "code",
   "execution_count": 12,
   "id": "40c21084",
   "metadata": {},
   "outputs": [
    {
     "name": "stdout",
     "output_type": "stream",
     "text": [
      "[[3, 1, 4, 5, 6, 7], [1, 8, 9, 2, 10], [11, 12, 2, 13, 14, 15], [16, 17, 18, 19, 20, 21, 22, 23, 24], [25, 26, 27]]\n"
     ]
    }
   ],
   "source": [
    "# 원핫인코딩 된거임\n",
    "x = token.texts_to_sequences(docs)\n",
    "print(x)"
   ]
  },
  {
   "cell_type": "code",
   "execution_count": 13,
   "id": "c9915bb1",
   "metadata": {
    "scrolled": true
   },
   "outputs": [
    {
     "data": {
      "text/plain": [
       "array([[ 3,  1,  4,  5,  6,  7],\n",
       "       [ 0,  1,  8,  9,  2, 10],\n",
       "       [11, 12,  2, 13, 14, 15],\n",
       "       [19, 20, 21, 22, 23, 24],\n",
       "       [ 0,  0,  0, 25, 26, 27]], dtype=int32)"
      ]
     },
     "execution_count": 13,
     "metadata": {},
     "output_type": "execute_result"
    }
   ],
   "source": [
    "# 문장의 길이를 맞추기 위한 패딩\n",
    "padded_x = pad_sequences(x, 6)\n",
    "padded_x"
   ]
  },
  {
   "cell_type": "code",
   "execution_count": 16,
   "id": "2cc55990",
   "metadata": {},
   "outputs": [
    {
     "data": {
      "text/plain": [
       "array([[ 0,  0,  0,  0,  3,  1,  4,  5,  6,  7],\n",
       "       [ 0,  0,  0,  0,  0,  1,  8,  9,  2, 10],\n",
       "       [ 0,  0,  0,  0, 11, 12,  2, 13, 14, 15],\n",
       "       [ 0, 16, 17, 18, 19, 20, 21, 22, 23, 24],\n",
       "       [ 0,  0,  0,  0,  0,  0,  0, 25, 26, 27]], dtype=int32)"
      ]
     },
     "execution_count": 16,
     "metadata": {},
     "output_type": "execute_result"
    }
   ],
   "source": [
    "# 문장의 길이를 맞추기 위한 패딩\n",
    "# 가장 긴 문장 길이 + 1의 길이로 패딩\n",
    "# 문장 시작에는 반드시 0이 있어야 함\n",
    "padded_x = pad_sequences(x, max([len(i) for i in x]) + 1)\n",
    "padded_x"
   ]
  },
  {
   "cell_type": "code",
   "execution_count": 14,
   "id": "16c8f3fa",
   "metadata": {},
   "outputs": [
    {
     "data": {
      "text/plain": [
       "9"
      ]
     },
     "execution_count": 14,
     "metadata": {},
     "output_type": "execute_result"
    }
   ],
   "source": [
    "lenofsent = []\n",
    "for i in x : \n",
    "    lenofsent.append(len(i))\n",
    "max(lenofsent)"
   ]
  },
  {
   "cell_type": "markdown",
   "id": "aaf8a0dd",
   "metadata": {},
   "source": [
    "## 텍스트를 읽고 긍정, 부정 예측하기"
   ]
  },
  {
   "cell_type": "code",
   "execution_count": 17,
   "id": "550f5798",
   "metadata": {},
   "outputs": [],
   "source": [
    "docs2 = ['너무 재밌네요',\n",
    "        '최고예요',\n",
    "        '참 신기한 딥러닝이네요',\n",
    "        '인공지능 칭찬합니다',\n",
    "        '더 자세히 배우고 싶어요',\n",
    "        '변화가 너무 빨라요', \n",
    "        'GPT성능이 생각보다 별로네요', \n",
    "        '제미나이보다는 낫죠', \n",
    "        '나는 차라리 라마를 쓴다',\n",
    "        '유료 결제 싫어요']"
   ]
  },
  {
   "cell_type": "code",
   "execution_count": 18,
   "id": "2b41bc1f",
   "metadata": {},
   "outputs": [],
   "source": [
    "classes = np.array([1, 1, 1, 1, 1, 0, 0, 1, 0, 0])"
   ]
  },
  {
   "cell_type": "code",
   "execution_count": 19,
   "id": "5101ae9d",
   "metadata": {},
   "outputs": [
    {
     "name": "stdout",
     "output_type": "stream",
     "text": [
      "{'너무': 1, '재밌네요': 2, '최고예요': 3, '참': 4, '신기한': 5, '딥러닝이네요': 6, '인공지능': 7, '칭찬합니다': 8, '더': 9, '자세히': 10, '배우고': 11, '싶어요': 12, '변화가': 13, '빨라요': 14, 'gpt성능이': 15, '생각보다': 16, '별로네요': 17, '제미나이보다는': 18, '낫죠': 19, '나는': 20, '차라리': 21, '라마를': 22, '쓴다': 23, '유료': 24, '결제': 25, '싫어요': 26}\n"
     ]
    }
   ],
   "source": [
    "token = Tokenizer()\n",
    "token.fit_on_texts(docs2)\n",
    "print(token.word_index)"
   ]
  },
  {
   "cell_type": "code",
   "execution_count": 20,
   "id": "72ad520f",
   "metadata": {},
   "outputs": [
    {
     "name": "stdout",
     "output_type": "stream",
     "text": [
      "토큰화 결과 : \n",
      " [[1, 2], [3], [4, 5, 6], [7, 8], [9, 10, 11, 12], [13, 1, 14], [15, 16, 17], [18, 19], [20, 21, 22, 23], [24, 25, 26]]\n"
     ]
    }
   ],
   "source": [
    "x = token.texts_to_sequences(docs2)\n",
    "print('토큰화 결과 : \\n', x)"
   ]
  },
  {
   "cell_type": "code",
   "execution_count": 21,
   "id": "dfed0b19",
   "metadata": {},
   "outputs": [
    {
     "data": {
      "text/plain": [
       "array([[ 0,  0,  1,  2],\n",
       "       [ 0,  0,  0,  3],\n",
       "       [ 0,  4,  5,  6],\n",
       "       [ 0,  0,  7,  8],\n",
       "       [ 9, 10, 11, 12],\n",
       "       [ 0, 13,  1, 14],\n",
       "       [ 0, 15, 16, 17],\n",
       "       [ 0,  0, 18, 19],\n",
       "       [20, 21, 22, 23],\n",
       "       [ 0, 24, 25, 26]], dtype=int32)"
      ]
     },
     "execution_count": 21,
     "metadata": {},
     "output_type": "execute_result"
    }
   ],
   "source": [
    "padding_x = pad_sequences(x, max([len(i) for i in x]))\n",
    "padding_x"
   ]
  },
  {
   "cell_type": "markdown",
   "id": "3c281018",
   "metadata": {},
   "source": [
    "## 임베딩하기"
   ]
  },
  {
   "cell_type": "code",
   "execution_count": 22,
   "id": "e5d8b7e3",
   "metadata": {},
   "outputs": [
    {
     "data": {
      "text/plain": [
       "27"
      ]
     },
     "execution_count": 22,
     "metadata": {},
     "output_type": "execute_result"
    }
   ],
   "source": [
    "# 임베딩하기\n",
    "word_size = len(token.word_index) + 1\n",
    "word_size"
   ]
  },
  {
   "cell_type": "code",
   "execution_count": 24,
   "id": "c0670252",
   "metadata": {},
   "outputs": [
    {
     "name": "stdout",
     "output_type": "stream",
     "text": [
      "Model: \"sequential_1\"\n",
      "_________________________________________________________________\n",
      " Layer (type)                Output Shape              Param #   \n",
      "=================================================================\n",
      " embedding (Embedding)       (None, 4, 8)              216       \n",
      "                                                                 \n",
      " flatten (Flatten)           (None, 32)                0         \n",
      "                                                                 \n",
      " dense (Dense)               (None, 1)                 33        \n",
      "                                                                 \n",
      "=================================================================\n",
      "Total params: 249\n",
      "Trainable params: 249\n",
      "Non-trainable params: 0\n",
      "_________________________________________________________________\n"
     ]
    }
   ],
   "source": [
    "model = Sequential()\n",
    "# embedding할 때 주는 숫자 8은 dense할 때 넣었던 숫자와 같은 역할을 함. 보통은 50 ~ 300 사이로 줌.\n",
    "model.add(Embedding(word_size, 8, input_length = 4))\n",
    "model.add(Flatten())\n",
    "model.add(Dense(1, activation = 'sigmoid'))\n",
    "model.summary()"
   ]
  },
  {
   "cell_type": "code",
   "execution_count": 26,
   "id": "697adc4f",
   "metadata": {
    "scrolled": true
   },
   "outputs": [
    {
     "name": "stdout",
     "output_type": "stream",
     "text": [
      "Epoch 1/20\n",
      "1/1 [==============================] - 0s 366ms/step - loss: 0.6427 - accuracy: 0.9000\n",
      "Epoch 2/20\n",
      "1/1 [==============================] - 0s 12ms/step - loss: 0.6401 - accuracy: 0.9000\n",
      "Epoch 3/20\n",
      "1/1 [==============================] - 0s 15ms/step - loss: 0.6374 - accuracy: 0.9000\n",
      "Epoch 4/20\n",
      "1/1 [==============================] - 0s 17ms/step - loss: 0.6347 - accuracy: 0.9000\n",
      "Epoch 5/20\n",
      "1/1 [==============================] - 0s 16ms/step - loss: 0.6320 - accuracy: 1.0000\n",
      "Epoch 6/20\n",
      "1/1 [==============================] - 0s 17ms/step - loss: 0.6293 - accuracy: 1.0000\n",
      "Epoch 7/20\n",
      "1/1 [==============================] - 0s 16ms/step - loss: 0.6266 - accuracy: 1.0000\n"
     ]
    },
    {
     "name": "stderr",
     "output_type": "stream",
     "text": [
      "2024-09-13 15:07:23.197124: I tensorflow/core/grappler/optimizers/custom_graph_optimizer_registry.cc:114] Plugin optimizer for device_type GPU is enabled.\n",
      "2024-09-13 15:07:23.259496: I tensorflow/core/common_runtime/pluggable_device/pluggable_device_factory.cc:306] Could not identify NUMA node of platform GPU ID 0, defaulting to 0. Your kernel may not have been built with NUMA support.\n",
      "2024-09-13 15:07:23.259582: I tensorflow/core/common_runtime/pluggable_device/pluggable_device_factory.cc:272] Created TensorFlow device (/job:localhost/replica:0/task:0/device:GPU:0 with 14853 MB memory) -> physical PluggableDevice (device: 0, name: DML, pci bus id: <undefined>)\n",
      "2024-09-13 15:07:23.261594: I tensorflow/core/common_runtime/pluggable_device/pluggable_device_factory.cc:306] Could not identify NUMA node of platform GPU ID 0, defaulting to 0. Your kernel may not have been built with NUMA support.\n",
      "2024-09-13 15:07:23.261677: I tensorflow/core/common_runtime/pluggable_device/pluggable_device_factory.cc:272] Created TensorFlow device (/job:localhost/replica:0/task:0/device:GPU:0 with 14853 MB memory) -> physical PluggableDevice (device: 0, name: DML, pci bus id: <undefined>)\n",
      "2024-09-13 15:07:23.264265: I tensorflow/core/common_runtime/pluggable_device/pluggable_device_factory.cc:306] Could not identify NUMA node of platform GPU ID 0, defaulting to 0. Your kernel may not have been built with NUMA support.\n",
      "2024-09-13 15:07:23.264320: I tensorflow/core/common_runtime/pluggable_device/pluggable_device_factory.cc:272] Created TensorFlow device (/job:localhost/replica:0/task:0/device:GPU:0 with 14853 MB memory) -> physical PluggableDevice (device: 0, name: DML, pci bus id: <undefined>)\n"
     ]
    },
    {
     "name": "stdout",
     "output_type": "stream",
     "text": [
      "Epoch 8/20\n",
      "1/1 [==============================] - 0s 17ms/step - loss: 0.6239 - accuracy: 1.0000\n",
      "Epoch 9/20\n",
      "1/1 [==============================] - 0s 14ms/step - loss: 0.6212 - accuracy: 1.0000\n",
      "Epoch 10/20\n",
      "1/1 [==============================] - 0s 17ms/step - loss: 0.6184 - accuracy: 1.0000\n",
      "Epoch 11/20\n",
      "1/1 [==============================] - 0s 16ms/step - loss: 0.6156 - accuracy: 1.0000\n",
      "Epoch 12/20\n",
      "1/1 [==============================] - 0s 16ms/step - loss: 0.6129 - accuracy: 1.0000\n",
      "Epoch 13/20\n",
      "1/1 [==============================] - 0s 15ms/step - loss: 0.6101 - accuracy: 1.0000\n",
      "Epoch 14/20\n",
      "1/1 [==============================] - 0s 14ms/step - loss: 0.6073 - accuracy: 1.0000\n",
      "Epoch 15/20\n",
      "1/1 [==============================] - 0s 17ms/step - loss: 0.6044 - accuracy: 1.0000\n",
      "Epoch 16/20\n",
      "1/1 [==============================] - 0s 15ms/step - loss: 0.6016 - accuracy: 1.0000\n",
      "Epoch 17/20\n",
      "1/1 [==============================] - 0s 13ms/step - loss: 0.5987 - accuracy: 1.0000\n",
      "Epoch 18/20\n",
      "1/1 [==============================] - 0s 14ms/step - loss: 0.5959 - accuracy: 1.0000\n",
      "Epoch 19/20\n",
      "1/1 [==============================] - 0s 16ms/step - loss: 0.5930 - accuracy: 1.0000\n",
      "Epoch 20/20\n",
      "1/1 [==============================] - 0s 15ms/step - loss: 0.5901 - accuracy: 1.0000\n",
      "1/1 [==============================] - 0s 120ms/step - loss: 0.5872 - accuracy: 1.0000\n",
      "1.0\n"
     ]
    },
    {
     "name": "stderr",
     "output_type": "stream",
     "text": [
      "2024-09-13 15:07:23.809560: I tensorflow/core/grappler/optimizers/custom_graph_optimizer_registry.cc:114] Plugin optimizer for device_type GPU is enabled.\n",
      "2024-09-13 15:07:23.832926: I tensorflow/core/common_runtime/pluggable_device/pluggable_device_factory.cc:306] Could not identify NUMA node of platform GPU ID 0, defaulting to 0. Your kernel may not have been built with NUMA support.\n",
      "2024-09-13 15:07:23.832989: I tensorflow/core/common_runtime/pluggable_device/pluggable_device_factory.cc:272] Created TensorFlow device (/job:localhost/replica:0/task:0/device:GPU:0 with 14853 MB memory) -> physical PluggableDevice (device: 0, name: DML, pci bus id: <undefined>)\n"
     ]
    }
   ],
   "source": [
    "model.compile(loss = 'binary_crossentropy', optimizer = 'adam', metrics = ['accuracy'])\n",
    "model.fit(padding_x, classes, epochs = 20)\n",
    "print(model.evaluate(padding_x, classes)[1])"
   ]
  },
  {
   "cell_type": "code",
   "execution_count": 30,
   "id": "d74391a6",
   "metadata": {},
   "outputs": [
    {
     "name": "stdout",
     "output_type": "stream",
     "text": [
      "1/1 [==============================] - 0s 34ms/step - loss: 0.5872 - accuracy: 1.0000\n",
      "[0.5871859788894653, 1.0]\n"
     ]
    }
   ],
   "source": [
    "print(model.evaluate(padding_x, classes))"
   ]
  },
  {
   "cell_type": "code",
   "execution_count": null,
   "id": "10e88a53",
   "metadata": {},
   "outputs": [],
   "source": []
  },
  {
   "cell_type": "code",
   "execution_count": null,
   "id": "c2118014",
   "metadata": {},
   "outputs": [],
   "source": []
  },
  {
   "cell_type": "code",
   "execution_count": null,
   "id": "a50b33ad",
   "metadata": {},
   "outputs": [],
   "source": []
  },
  {
   "cell_type": "code",
   "execution_count": null,
   "id": "bbf75fd3",
   "metadata": {},
   "outputs": [],
   "source": []
  },
  {
   "cell_type": "code",
   "execution_count": null,
   "id": "8bbf4d11",
   "metadata": {},
   "outputs": [],
   "source": []
  }
 ],
 "metadata": {
  "kernelspec": {
   "display_name": "Python 3 (ipykernel)",
   "language": "python",
   "name": "python3"
  },
  "language_info": {
   "codemirror_mode": {
    "name": "ipython",
    "version": 3
   },
   "file_extension": ".py",
   "mimetype": "text/x-python",
   "name": "python",
   "nbconvert_exporter": "python",
   "pygments_lexer": "ipython3",
   "version": "3.9.19"
  }
 },
 "nbformat": 4,
 "nbformat_minor": 5
}
