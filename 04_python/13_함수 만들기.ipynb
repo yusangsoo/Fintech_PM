{
 "cells": [
  {
   "cell_type": "markdown",
   "id": "5663a637",
   "metadata": {},
   "source": [
    "# 함수 만들기"
   ]
  },
  {
   "cell_type": "markdown",
   "id": "59cefaf5",
   "metadata": {},
   "source": [
    "* 함수의 괄호 안에 값을 넣으면 출력을 해주거나 입력을 받거나 변환을 해 줌\n",
    "* 도구의 개념\n",
    "* 자주 사용하는 기능을 미리 만들어서 반복 재사용할 수 있게 만드는 것"
   ]
  },
  {
   "cell_type": "markdown",
   "id": "c72439a0",
   "metadata": {},
   "source": [
    "### 함수 만드는 법\n",
    "def 함수이름() : <br>\n",
    "____실행할 코드 <br>\n",
    "____return 반환값"
   ]
  },
  {
   "cell_type": "code",
   "execution_count": 1,
   "id": "85763586",
   "metadata": {},
   "outputs": [
    {
     "name": "stdout",
     "output_type": "stream",
     "text": [
      "hello 파이썬 함수 만들기\n"
     ]
    }
   ],
   "source": [
    "def hello() :\n",
    "    print('hello 파이썬 함수 만들기')\n",
    "    \n",
    "hello()"
   ]
  },
  {
   "cell_type": "markdown",
   "id": "06c21663",
   "metadata": {},
   "source": [
    "## 함수 호출 순서\n",
    "* 함수는 호출하기 전에 반드시 먼저 정의되어 있어야 하고(만들어 놔야 함)\n",
    "* 함수 정의가 실행보다 위에 있어야 합니다."
   ]
  },
  {
   "cell_type": "markdown",
   "id": "5081e68c",
   "metadata": {},
   "source": [
    "## 함수의 매개변수\n",
    "* 함수의 괄호 안에 받는 값\n",
    "* 괄호 안에 값을 받아서 함수 내에서 처리할 때 사용"
   ]
  },
  {
   "cell_type": "markdown",
   "id": "7430ee45",
   "metadata": {},
   "source": [
    "매개변수 1개짜리 함수"
   ]
  },
  {
   "cell_type": "code",
   "execution_count": 2,
   "id": "ca54910b",
   "metadata": {},
   "outputs": [],
   "source": [
    "# 원의 넓이를 구하는 함수\n",
    "def circle(c) :\n",
    "    print(\"원의 넓이는 : \", c * c * 3.14)\n",
    "    return c * c * 3.14"
   ]
  },
  {
   "cell_type": "code",
   "execution_count": 3,
   "id": "f2ca6c2b",
   "metadata": {},
   "outputs": [
    {
     "name": "stdout",
     "output_type": "stream",
     "text": [
      "원의 넓이는 :  28.26\n"
     ]
    },
    {
     "data": {
      "text/plain": [
       "28.26"
      ]
     },
     "execution_count": 3,
     "metadata": {},
     "output_type": "execute_result"
    }
   ],
   "source": [
    "circle(3)"
   ]
  },
  {
   "cell_type": "markdown",
   "id": "ed0d186f",
   "metadata": {},
   "source": [
    "매개변수 2개짜리 함수 - 덧셈 함수 만들기"
   ]
  },
  {
   "cell_type": "code",
   "execution_count": 4,
   "id": "763fcfca",
   "metadata": {},
   "outputs": [],
   "source": [
    "def add(a, b) : \n",
    "    return a + b"
   ]
  },
  {
   "cell_type": "code",
   "execution_count": 5,
   "id": "2cae1eb1",
   "metadata": {},
   "outputs": [
    {
     "data": {
      "text/plain": [
       "13"
      ]
     },
     "execution_count": 5,
     "metadata": {},
     "output_type": "execute_result"
    }
   ],
   "source": [
    "add(10,3)"
   ]
  },
  {
   "cell_type": "markdown",
   "id": "f1882910",
   "metadata": {},
   "source": [
    "매개변수 3개짜리 함수 - 첫 번째 변수 = 시작, 두 번째 변수 = 끝, 세 번째 변수 = 증감 <br>\n",
    "interval이라는 이름의 함수를 만들어라 <br>"
   ]
  },
  {
   "cell_type": "code",
   "execution_count": 32,
   "id": "730a0824",
   "metadata": {},
   "outputs": [],
   "source": [
    "def interval(a,b,c) :\n",
    "    L = []\n",
    "    i = a\n",
    "    L.append(i)\n",
    "    while i <= b :\n",
    "        if i+c > b :\n",
    "            break\n",
    "        else:\n",
    "            i += c\n",
    "            L.append(i)\n",
    "    return L"
   ]
  },
  {
   "cell_type": "code",
   "execution_count": 33,
   "id": "08a9bfb5",
   "metadata": {},
   "outputs": [
    {
     "data": {
      "text/plain": [
       "[1, 3, 5, 7, 9]"
      ]
     },
     "execution_count": 33,
     "metadata": {},
     "output_type": "execute_result"
    }
   ],
   "source": [
    "interval(1,10,2)"
   ]
  },
  {
   "cell_type": "code",
   "execution_count": 13,
   "id": "15e7f7cb",
   "metadata": {},
   "outputs": [],
   "source": [
    "def num_maker(a,b,c) :\n",
    "    result = [i for i in range(a,b,c)]\n",
    "    return result"
   ]
  },
  {
   "cell_type": "code",
   "execution_count": 36,
   "id": "278aafae",
   "metadata": {},
   "outputs": [
    {
     "name": "stdout",
     "output_type": "stream",
     "text": [
      "[1, 3, 5, 7, 9]\n",
      "<class 'list'>\n"
     ]
    }
   ],
   "source": [
    "result = num_maker(1,10,2)\n",
    "print(result)\n",
    "print(type(result))"
   ]
  },
  {
   "cell_type": "markdown",
   "id": "b7b6ebbc",
   "metadata": {},
   "source": [
    "리턴 값이 여러 개인 함수 <br>\n",
    "리턴 값이 여러 개여도 결과는 튜플 한 개로 출력"
   ]
  },
  {
   "cell_type": "code",
   "execution_count": 34,
   "id": "8a818ae5",
   "metadata": {},
   "outputs": [],
   "source": [
    "def add_sub(a,b) :\n",
    "    add = a + b\n",
    "    sub = a - b\n",
    "    return add, sub"
   ]
  },
  {
   "cell_type": "code",
   "execution_count": 37,
   "id": "dbc3dab7",
   "metadata": {},
   "outputs": [
    {
     "name": "stdout",
     "output_type": "stream",
     "text": [
      "(10, 4)\n",
      "<class 'tuple'>\n"
     ]
    }
   ],
   "source": [
    "result = add_sub(7,3)\n",
    "print(result)\n",
    "print(type(result))"
   ]
  },
  {
   "cell_type": "markdown",
   "id": "79ebd2f1",
   "metadata": {},
   "source": [
    "num_maker2 - 정방향, 역방향 리스트 출력"
   ]
  },
  {
   "cell_type": "code",
   "execution_count": 38,
   "id": "63ffc97e",
   "metadata": {},
   "outputs": [],
   "source": [
    "def num_maker2(a,b,c) :\n",
    "    asc = [i for i in range(a,b,c)]\n",
    "    desc = [i for i in range(a,b,c)][::-1]\n",
    "    return asc, desc"
   ]
  },
  {
   "cell_type": "code",
   "execution_count": 39,
   "id": "0962049e",
   "metadata": {},
   "outputs": [
    {
     "name": "stdout",
     "output_type": "stream",
     "text": [
      "([1, 3, 5, 7, 9], [9, 7, 5, 3, 1])\n",
      "<class 'tuple'>\n"
     ]
    }
   ],
   "source": [
    "result = num_maker2(1,10,2)\n",
    "print(result)\n",
    "print(type(result))"
   ]
  },
  {
   "cell_type": "markdown",
   "id": "988f335e",
   "metadata": {},
   "source": [
    "## 중간에 함수를 종료시키기 위한 용도의 return\n",
    "* 반복문에서 break로 반복을 중지시키는 것처럼 함수에서 return이 실행되면 함수는 종료"
   ]
  },
  {
   "cell_type": "code",
   "execution_count": 49,
   "id": "2207270a",
   "metadata": {},
   "outputs": [
    {
     "data": {
      "text/plain": [
       "[1, 2, 3, 4, 5, 6, 7, 8, 9, 10]"
      ]
     },
     "execution_count": 49,
     "metadata": {},
     "output_type": "execute_result"
    }
   ],
   "source": [
    "age = list(range(1,11))\n",
    "age"
   ]
  },
  {
   "cell_type": "code",
   "execution_count": 44,
   "id": "e8b2fe62",
   "metadata": {},
   "outputs": [],
   "source": [
    "# 1부터 10까지 숫자 중 짝수만 출력하다 7이상이 되면 종료\n",
    "\n",
    "def even(a) :\n",
    "    for i in a :\n",
    "        if i % 2 == 0 :\n",
    "            print(i, end = \" \")\n",
    "        elif i >= 7 :\n",
    "            break"
   ]
  },
  {
   "cell_type": "code",
   "execution_count": 45,
   "id": "5dbea278",
   "metadata": {},
   "outputs": [
    {
     "name": "stdout",
     "output_type": "stream",
     "text": [
      "2 4 6 "
     ]
    }
   ],
   "source": [
    "even(age)"
   ]
  },
  {
   "cell_type": "code",
   "execution_count": 50,
   "id": "7e5ee5a0",
   "metadata": {},
   "outputs": [],
   "source": [
    "# 1부터 10까지 숫자 중 짝수만 출력하다 7이상이 되면 종료\n",
    "\n",
    "def even2(a) :\n",
    "    for i in a :\n",
    "        if i % 2 == 0 :\n",
    "            print(i, end = \" \")\n",
    "        elif i >= 7 :\n",
    "            return"
   ]
  },
  {
   "cell_type": "code",
   "execution_count": 51,
   "id": "55a5574c",
   "metadata": {},
   "outputs": [
    {
     "name": "stdout",
     "output_type": "stream",
     "text": [
      "2 4 6 "
     ]
    }
   ],
   "source": [
    "even2(age)"
   ]
  },
  {
   "cell_type": "markdown",
   "id": "213b36ab",
   "metadata": {},
   "source": [
    "1에서 100까지 홀수만 출력하다 51번째에 종료하는 odd 함수를 만드시오"
   ]
  },
  {
   "cell_type": "code",
   "execution_count": 63,
   "id": "af1e6f0c",
   "metadata": {},
   "outputs": [
    {
     "name": "stdout",
     "output_type": "stream",
     "text": [
      "1 3 5 7 9 11 13 15 17 19 21 23 25 27 29 31 33 35 37 39 41 43 45 47 49 51 "
     ]
    }
   ],
   "source": [
    "def odd(n) : \n",
    "    for i in n :\n",
    "        if i % 2 == 1 :\n",
    "            print(i, end = \" \")\n",
    "        if i == 51 :\n",
    "            return\n",
    "num = range(1,101)\n",
    "odd(num)"
   ]
  },
  {
   "cell_type": "code",
   "execution_count": 64,
   "id": "7de4c465",
   "metadata": {},
   "outputs": [
    {
     "name": "stdout",
     "output_type": "stream",
     "text": [
      "1 3 5 7 9 11 13 15 17 19 21 23 25 27 29 31 33 35 37 39 41 43 45 47 49 51 "
     ]
    }
   ],
   "source": [
    "num = range(1,101)\n",
    "odd(num)"
   ]
  },
  {
   "cell_type": "markdown",
   "id": "39f29dd6",
   "metadata": {},
   "source": [
    "## 함수에서 위치 인수와 키워드 인수 사용하기\n",
    "* 위치인수(positional argument) 매개변수\n",
    "* 함수에 인수를 순서대로 넣는 방식\n",
    "* 인수의 위치가 정해져 있음"
   ]
  },
  {
   "cell_type": "code",
   "execution_count": 65,
   "id": "b7ea0c00",
   "metadata": {},
   "outputs": [],
   "source": [
    "def print_nums(a,b,c) : \n",
    "    print(a,b,c)"
   ]
  },
  {
   "cell_type": "code",
   "execution_count": 67,
   "id": "67488ccc",
   "metadata": {},
   "outputs": [
    {
     "ename": "TypeError",
     "evalue": "print_nums() missing 1 required positional argument: 'c'",
     "output_type": "error",
     "traceback": [
      "\u001b[1;31m---------------------------------------------------------------------------\u001b[0m",
      "\u001b[1;31mTypeError\u001b[0m                                 Traceback (most recent call last)",
      "Cell \u001b[1;32mIn[67], line 1\u001b[0m\n\u001b[1;32m----> 1\u001b[0m \u001b[43mprint_nums\u001b[49m\u001b[43m(\u001b[49m\u001b[38;5;241;43m10\u001b[39;49m\u001b[43m,\u001b[49m\u001b[38;5;241;43m20\u001b[39;49m\u001b[43m)\u001b[49m\n",
      "\u001b[1;31mTypeError\u001b[0m: print_nums() missing 1 required positional argument: 'c'"
     ]
    }
   ],
   "source": [
    "print_nums(10,20)"
   ]
  },
  {
   "cell_type": "code",
   "execution_count": 68,
   "id": "94360d45",
   "metadata": {},
   "outputs": [
    {
     "name": "stdout",
     "output_type": "stream",
     "text": [
      "10 20 1\n"
     ]
    }
   ],
   "source": [
    "print_nums(10,20,1)"
   ]
  },
  {
   "cell_type": "markdown",
   "id": "88f1dadb",
   "metadata": {},
   "source": [
    "리스트, 튜플과 같은 자료형을 1개의 위치인수(매개변수)로 받을 때 위치 인수와 개수가 같으면 *로 언패킹 가능"
   ]
  },
  {
   "cell_type": "code",
   "execution_count": 71,
   "id": "d10e0ce6",
   "metadata": {},
   "outputs": [
    {
     "name": "stdout",
     "output_type": "stream",
     "text": [
      "10 20 30\n"
     ]
    }
   ],
   "source": [
    "p = [10,20,30]\n",
    "print_nums(*p)"
   ]
  },
  {
   "cell_type": "markdown",
   "id": "a0525d25",
   "metadata": {},
   "source": [
    "가변인수\n",
    "* 여러 개의 자료를 한 번에 입력 받음\n",
    "* \\*args => *변수명 꼭 args가 아니어도 됨"
   ]
  },
  {
   "cell_type": "markdown",
   "id": "cef52e9c",
   "metadata": {},
   "source": [
    "여러 개의 숫자를 입력받아 더하는 함수(입력 개수 정해져 있지 않음)"
   ]
  },
  {
   "cell_type": "code",
   "execution_count": 78,
   "id": "43150a6e",
   "metadata": {},
   "outputs": [],
   "source": [
    "def sum2(*args) :\n",
    "    hap = 0\n",
    "    print(args)\n",
    "    print(type(args))\n",
    "    for i in args :\n",
    "        hap += i\n",
    "    return hap"
   ]
  },
  {
   "cell_type": "code",
   "execution_count": 73,
   "id": "e9005abc",
   "metadata": {},
   "outputs": [
    {
     "data": {
      "text/plain": [
       "1157"
      ]
     },
     "execution_count": 73,
     "metadata": {},
     "output_type": "execute_result"
    }
   ],
   "source": [
    "sum2(1,46,357,68,685)"
   ]
  },
  {
   "cell_type": "code",
   "execution_count": 79,
   "id": "6ac80084",
   "metadata": {},
   "outputs": [
    {
     "name": "stdout",
     "output_type": "stream",
     "text": [
      "([6441, 163, 136, 713, 161, 615], [4, 14, 14, 14, 18])\n",
      "<class 'tuple'>\n"
     ]
    },
    {
     "ename": "TypeError",
     "evalue": "unsupported operand type(s) for +=: 'int' and 'list'",
     "output_type": "error",
     "traceback": [
      "\u001b[1;31m---------------------------------------------------------------------------\u001b[0m",
      "\u001b[1;31mTypeError\u001b[0m                                 Traceback (most recent call last)",
      "Cell \u001b[1;32mIn[79], line 3\u001b[0m\n\u001b[0;32m      1\u001b[0m L1 \u001b[38;5;241m=\u001b[39m [\u001b[38;5;241m6441\u001b[39m,\u001b[38;5;241m163\u001b[39m,\u001b[38;5;241m136\u001b[39m,\u001b[38;5;241m713\u001b[39m,\u001b[38;5;241m161\u001b[39m,\u001b[38;5;241m615\u001b[39m]\n\u001b[0;32m      2\u001b[0m L2 \u001b[38;5;241m=\u001b[39m [\u001b[38;5;241m4\u001b[39m,\u001b[38;5;241m14\u001b[39m,\u001b[38;5;241m14\u001b[39m,\u001b[38;5;241m14\u001b[39m,\u001b[38;5;241m18\u001b[39m]\n\u001b[1;32m----> 3\u001b[0m \u001b[43msum2\u001b[49m\u001b[43m(\u001b[49m\u001b[43mL1\u001b[49m\u001b[43m,\u001b[49m\u001b[43mL2\u001b[49m\u001b[43m)\u001b[49m\n",
      "Cell \u001b[1;32mIn[78], line 6\u001b[0m, in \u001b[0;36msum2\u001b[1;34m(*args)\u001b[0m\n\u001b[0;32m      4\u001b[0m \u001b[38;5;28mprint\u001b[39m(\u001b[38;5;28mtype\u001b[39m(args))\n\u001b[0;32m      5\u001b[0m \u001b[38;5;28;01mfor\u001b[39;00m i \u001b[38;5;129;01min\u001b[39;00m args :\n\u001b[1;32m----> 6\u001b[0m     hap \u001b[38;5;241m+\u001b[39m\u001b[38;5;241m=\u001b[39m i\n\u001b[0;32m      7\u001b[0m \u001b[38;5;28;01mreturn\u001b[39;00m hap\n",
      "\u001b[1;31mTypeError\u001b[0m: unsupported operand type(s) for +=: 'int' and 'list'"
     ]
    }
   ],
   "source": [
    "L1 = [6441,163,136,713,161,615]\n",
    "L2 = [4,14,14,14,18]\n",
    "sum2(L1,L2)"
   ]
  },
  {
   "cell_type": "code",
   "execution_count": 75,
   "id": "f32f6d71",
   "metadata": {},
   "outputs": [
    {
     "data": {
      "text/plain": [
       "1"
      ]
     },
     "execution_count": 75,
     "metadata": {},
     "output_type": "execute_result"
    }
   ],
   "source": [
    "sum2(1)"
   ]
  },
  {
   "cell_type": "code",
   "execution_count": 80,
   "id": "b081495a",
   "metadata": {},
   "outputs": [
    {
     "ename": "TypeError",
     "evalue": "can only concatenate list (not \"int\") to list",
     "output_type": "error",
     "traceback": [
      "\u001b[1;31m---------------------------------------------------------------------------\u001b[0m",
      "\u001b[1;31mTypeError\u001b[0m                                 Traceback (most recent call last)",
      "Cell \u001b[1;32mIn[80], line 1\u001b[0m\n\u001b[1;32m----> 1\u001b[0m \u001b[38;5;28;43msum\u001b[39;49m\u001b[43m(\u001b[49m\u001b[43mL1\u001b[49m\u001b[43m,\u001b[49m\u001b[43mL2\u001b[49m\u001b[43m)\u001b[49m\n",
      "\u001b[1;31mTypeError\u001b[0m: can only concatenate list (not \"int\") to list"
     ]
    }
   ],
   "source": [
    "sum(L1,L2)"
   ]
  },
  {
   "cell_type": "code",
   "execution_count": 84,
   "id": "953b3009",
   "metadata": {},
   "outputs": [
    {
     "name": "stdout",
     "output_type": "stream",
     "text": [
      "(6441, 163, 136, 713, 161, 615, 4, 14, 14, 14, 18)\n",
      "<class 'tuple'>\n",
      "8293\n",
      "(6441, 163, 136, 713, 161, 615)\n",
      "<class 'tuple'>\n",
      "8229\n"
     ]
    }
   ],
   "source": [
    "L1 = [6441,163,136,713,161,615]\n",
    "L2 = [4,14,14,14,18]\n",
    "print(sum2(*L1,*L2))\n",
    "print(sum2(*L1))"
   ]
  },
  {
   "cell_type": "code",
   "execution_count": 85,
   "id": "3bf5d43d",
   "metadata": {},
   "outputs": [],
   "source": [
    "def list_tuple_func(*args) :\n",
    "    print(args)\n",
    "    print(type(args))"
   ]
  },
  {
   "cell_type": "code",
   "execution_count": 86,
   "id": "e443a87c",
   "metadata": {},
   "outputs": [
    {
     "name": "stdout",
     "output_type": "stream",
     "text": [
      "(1, 2, 3, 4, 5)\n",
      "<class 'tuple'>\n"
     ]
    }
   ],
   "source": [
    "list_tuple_func(1,2,3,4,5)"
   ]
  },
  {
   "cell_type": "code",
   "execution_count": 87,
   "id": "7ca72f98",
   "metadata": {},
   "outputs": [
    {
     "name": "stdout",
     "output_type": "stream",
     "text": [
      "(1.5, 6.2, 73.1, 6.1)\n",
      "<class 'tuple'>\n"
     ]
    }
   ],
   "source": [
    "list_tuple_func(1.5,6.2,73.1,6.1)"
   ]
  },
  {
   "cell_type": "code",
   "execution_count": 88,
   "id": "07390655",
   "metadata": {},
   "outputs": [
    {
     "name": "stdout",
     "output_type": "stream",
     "text": [
      "('실수', '정수', '자연수')\n",
      "<class 'tuple'>\n"
     ]
    }
   ],
   "source": [
    "list_tuple_func(\"실수\", \"정수\", \"자연수\")"
   ]
  },
  {
   "cell_type": "code",
   "execution_count": 89,
   "id": "96dbdc42",
   "metadata": {},
   "outputs": [
    {
     "name": "stdout",
     "output_type": "stream",
     "text": [
      "([1, 2, 3], [4, 5, 6], [7, 8, 9])\n",
      "<class 'tuple'>\n"
     ]
    }
   ],
   "source": [
    "list_tuple_func([1,2,3], [4,5,6],[7,8,9])"
   ]
  },
  {
   "cell_type": "markdown",
   "id": "9ac76142",
   "metadata": {},
   "source": [
    "고정인수와 가변인수를 함께 사용하기\n",
    "* 고정인수와 가변인수를 함께 사용할 때는 반드시\n",
    "* 고전인수, 가변인수 순으로 사용.\n",
    "* 가변인수를 항상 맨 마지막에"
   ]
  },
  {
   "cell_type": "markdown",
   "id": "71fb2c69",
   "metadata": {},
   "source": [
    "정수와 리스트를 입력받아 리스트 요소에 입력받은 정수를 곱한 값의 리스트를 반환하는 함수"
   ]
  },
  {
   "cell_type": "code",
   "execution_count": 92,
   "id": "5b923686",
   "metadata": {},
   "outputs": [],
   "source": [
    "def muls(a, *args) :\n",
    "    result = []\n",
    "    for num in args :\n",
    "        print(a*num, end = \" \")\n",
    "        result.append(a*num)\n",
    "    return result"
   ]
  },
  {
   "cell_type": "code",
   "execution_count": 95,
   "id": "03f4691f",
   "metadata": {},
   "outputs": [
    {
     "name": "stdout",
     "output_type": "stream",
     "text": [
      "3 6 9 12 15 "
     ]
    },
    {
     "data": {
      "text/plain": [
       "[3, 6, 9, 12, 15]"
      ]
     },
     "execution_count": 95,
     "metadata": {},
     "output_type": "execute_result"
    }
   ],
   "source": [
    "muls(3,*[1,2,3,4,5])"
   ]
  },
  {
   "cell_type": "markdown",
   "id": "1f961328",
   "metadata": {},
   "source": [
    "개인 정보를 출력하는 함수"
   ]
  },
  {
   "cell_type": "code",
   "execution_count": 2,
   "id": "ea5c5bfa",
   "metadata": {},
   "outputs": [],
   "source": [
    "def personal_info(name,age,address) :\n",
    "    print('이름:' , name)\n",
    "    print('나이:' , age)\n",
    "    print('주소:' , address)"
   ]
  },
  {
   "cell_type": "code",
   "execution_count": 3,
   "id": "e3f25a3b",
   "metadata": {},
   "outputs": [
    {
     "name": "stdout",
     "output_type": "stream",
     "text": [
      "이름: 홍길동\n",
      "나이: 30\n",
      "주소: 서울시 강남구\n"
     ]
    }
   ],
   "source": [
    "personal_info('홍길동', '30', '서울시 강남구')"
   ]
  },
  {
   "cell_type": "markdown",
   "id": "2bbeb4ab",
   "metadata": {},
   "source": [
    "* 위의 함수는 인수의 순서를 모두 기억해야 하기 때문에 사용하기 어려움\n",
    "* 인수의 순서와 용도를 매번 기억하지 않도록 하기 위해서 키워드 인수(keyword argument)를 사용\n",
    "* 예) print(\"python\", sep = \" \", end = \"\\n\")에서 sep과 end가 키워드 인수\n"
   ]
  },
  {
   "cell_type": "markdown",
   "id": "c10bc9dd",
   "metadata": {},
   "source": [
    "personal_info 함수를 키워드 인수 방식으로 호출"
   ]
  },
  {
   "cell_type": "code",
   "execution_count": 4,
   "id": "2765a8d9",
   "metadata": {},
   "outputs": [
    {
     "name": "stdout",
     "output_type": "stream",
     "text": [
      "이름: 홍길동\n",
      "나이: 30\n",
      "주소: 서울시 강남구\n"
     ]
    }
   ],
   "source": [
    "personal_info(name='홍길동', age = 30, address = '서울시 강남구')"
   ]
  },
  {
   "cell_type": "markdown",
   "id": "4620da49",
   "metadata": {},
   "source": [
    "키워드 인수 방식으로 함수를 호출하면 인수 순서나 위치가 바뀌어도 동작한다는 장점이 있음"
   ]
  },
  {
   "cell_type": "code",
   "execution_count": 6,
   "id": "47b60831",
   "metadata": {},
   "outputs": [
    {
     "data": {
      "text/plain": [
       "{'name': '홍길동', 'age': 30, 'address': '서울시 강남구'}"
      ]
     },
     "execution_count": 6,
     "metadata": {},
     "output_type": "execute_result"
    }
   ],
   "source": [
    "p_info = dict(name='홍길동', age = 30, address = '서울시 강남구')\n",
    "p_info"
   ]
  },
  {
   "cell_type": "code",
   "execution_count": 13,
   "id": "442edf16",
   "metadata": {},
   "outputs": [
    {
     "name": "stdout",
     "output_type": "stream",
     "text": [
      "이름: name\n",
      "나이: age\n",
      "주소: address\n",
      "None\n"
     ]
    }
   ],
   "source": [
    "# 딕셔너리도 *을 활용해 언패킹이 가능. 단, *을 2개 줘야 함. *을 1개만 했을 때 key 값을 value로 인식함.\n",
    "personal_info(*p_info)"
   ]
  },
  {
   "cell_type": "code",
   "execution_count": 14,
   "id": "03e5b046",
   "metadata": {},
   "outputs": [
    {
     "name": "stdout",
     "output_type": "stream",
     "text": [
      "이름: 홍길동\n",
      "나이: 30\n",
      "주소: 서울시 강남구\n"
     ]
    }
   ],
   "source": [
    "# 딕셔너리도 *을 활용해 언패킹이 가능. 단, *을 2개 줘야 함. *을 1개만 했을 때 key 값을 value로 인식함.\n",
    "personal_info(**p_info)"
   ]
  },
  {
   "cell_type": "markdown",
   "id": "7fc79196",
   "metadata": {},
   "source": [
    "키워드 인수를 사용하는 가변인수 함수 만들기 <br>\n",
    "kwargs = keyword arguments <br>\n",
    "def 함수이름(**kwargs) :<br>\n",
    "____코드<br>\n",
    "____return 값<br>\n",
    "\n",
    "결과 : <br>\n",
    "딕셔너리 타입으로 print됨 <br>\n",
    "그렇기 때문에 실행하는 코드는 딕셔너리에 사용하는 함수를 사용해야 함."
   ]
  },
  {
   "cell_type": "code",
   "execution_count": 15,
   "id": "2fbe2263",
   "metadata": {},
   "outputs": [],
   "source": [
    "def personal_info2(**kwargs) :\n",
    "    print(kwargs)\n",
    "    print(type(kwargs))"
   ]
  },
  {
   "cell_type": "code",
   "execution_count": 18,
   "id": "28a92bb0",
   "metadata": {},
   "outputs": [
    {
     "name": "stdout",
     "output_type": "stream",
     "text": [
      "{'name': '홍길동', 'age': 30, 'address': '서울시 강남구'}\n",
      "<class 'dict'>\n"
     ]
    }
   ],
   "source": [
    "personal_info2(**p_info)"
   ]
  },
  {
   "cell_type": "code",
   "execution_count": 19,
   "id": "cb05325b",
   "metadata": {},
   "outputs": [
    {
     "name": "stdout",
     "output_type": "stream",
     "text": [
      "{'name': '홍길동'}\n",
      "<class 'dict'>\n"
     ]
    }
   ],
   "source": [
    "personal_info2(name='홍길동')"
   ]
  },
  {
   "cell_type": "code",
   "execution_count": 20,
   "id": "5d41bf9a",
   "metadata": {},
   "outputs": [
    {
     "name": "stdout",
     "output_type": "stream",
     "text": [
      "{'name': '홍길동', 'age': 30, 'address': '서울시 강남구', 'school': '강남고'}\n",
      "<class 'dict'>\n"
     ]
    }
   ],
   "source": [
    "personal_info2(name='홍길동', age = 30, address = '서울시 강남구', school = \"강남고\")"
   ]
  },
  {
   "cell_type": "code",
   "execution_count": 21,
   "id": "6e80815e",
   "metadata": {},
   "outputs": [
    {
     "data": {
      "text/plain": [
       "{'name': '홍길동', 'age': 30, 'address': '서울시 강남구', 'school': '강남고'}"
      ]
     },
     "execution_count": 21,
     "metadata": {},
     "output_type": "execute_result"
    }
   ],
   "source": [
    "d = dict(name='홍길동', age = 30, address = '서울시 강남구', school = \"강남고\")\n",
    "d"
   ]
  },
  {
   "cell_type": "code",
   "execution_count": 24,
   "id": "bc60638d",
   "metadata": {},
   "outputs": [
    {
     "name": "stdout",
     "output_type": "stream",
     "text": [
      "{'name': '홍길동', 'age': 30, 'address': '서울시 강남구', 'school': '강남고'}\n",
      "<class 'dict'>\n"
     ]
    }
   ],
   "source": [
    "personal_info2(**d)"
   ]
  },
  {
   "cell_type": "code",
   "execution_count": 30,
   "id": "d99fcd49",
   "metadata": {},
   "outputs": [],
   "source": [
    "def personal_info3(**kwargs) :\n",
    "    print(kwargs)\n",
    "    print(type(kwargs))\n",
    "    for key, value in kwargs.items() :\n",
    "        print(key, value)"
   ]
  },
  {
   "cell_type": "code",
   "execution_count": 31,
   "id": "11f7e7d7",
   "metadata": {},
   "outputs": [
    {
     "name": "stdout",
     "output_type": "stream",
     "text": [
      "{'name': '홍길동', 'age': 30, 'address': '서울시 강남구', 'school': '강남고'}\n",
      "<class 'dict'>\n",
      "name 홍길동\n",
      "age 30\n",
      "address 서울시 강남구\n",
      "school 강남고\n"
     ]
    }
   ],
   "source": [
    "personal_info3(**d)"
   ]
  },
  {
   "cell_type": "markdown",
   "id": "fb564080",
   "metadata": {},
   "source": [
    "고정인수와 키워드 가변인수 함께 사용하기\n",
    "* 고정인수, **키워드 인수 순으로 와야 함"
   ]
  },
  {
   "cell_type": "code",
   "execution_count": 32,
   "id": "f70dedc8",
   "metadata": {},
   "outputs": [],
   "source": [
    "def personal_info4(name, **kwargs) :\n",
    "    print(name)\n",
    "    print('타입은',type(name))\n",
    "    print(kwargs)"
   ]
  },
  {
   "cell_type": "code",
   "execution_count": 35,
   "id": "36689783",
   "metadata": {},
   "outputs": [
    {
     "name": "stdout",
     "output_type": "stream",
     "text": [
      "홍길동\n",
      "타입은 <class 'str'>\n",
      "{}\n"
     ]
    }
   ],
   "source": [
    "personal_info4('홍길동')"
   ]
  },
  {
   "cell_type": "code",
   "execution_count": 39,
   "id": "e9a7cd5b",
   "metadata": {},
   "outputs": [
    {
     "name": "stdout",
     "output_type": "stream",
     "text": [
      "홍길동\n",
      "타입은 <class 'str'>\n",
      "{'age': 30, 'address': '서울시 강남구'}\n"
     ]
    }
   ],
   "source": [
    "personal_info4('홍길동',age = 30, address='서울시 강남구')"
   ]
  },
  {
   "cell_type": "code",
   "execution_count": 40,
   "id": "e7418769",
   "metadata": {},
   "outputs": [
    {
     "ename": "TypeError",
     "evalue": "personal_info4() missing 1 required positional argument: 'name'",
     "output_type": "error",
     "traceback": [
      "\u001b[1;31m---------------------------------------------------------------------------\u001b[0m",
      "\u001b[1;31mTypeError\u001b[0m                                 Traceback (most recent call last)",
      "Cell \u001b[1;32mIn[40], line 1\u001b[0m\n\u001b[1;32m----> 1\u001b[0m \u001b[43mpersonal_info4\u001b[49m\u001b[43m(\u001b[49m\u001b[43mage\u001b[49m\u001b[43m \u001b[49m\u001b[38;5;241;43m=\u001b[39;49m\u001b[43m \u001b[49m\u001b[38;5;241;43m30\u001b[39;49m\u001b[43m,\u001b[49m\u001b[43m \u001b[49m\u001b[43maddress\u001b[49m\u001b[38;5;241;43m=\u001b[39;49m\u001b[38;5;124;43m'\u001b[39;49m\u001b[38;5;124;43m서울시 강남구\u001b[39;49m\u001b[38;5;124;43m'\u001b[39;49m\u001b[43m)\u001b[49m\n",
      "\u001b[1;31mTypeError\u001b[0m: personal_info4() missing 1 required positional argument: 'name'"
     ]
    }
   ],
   "source": [
    "personal_info4(age = 30, address='서울시 강남구')"
   ]
  },
  {
   "cell_type": "code",
   "execution_count": 34,
   "id": "d97c16fc",
   "metadata": {
    "scrolled": true
   },
   "outputs": [
    {
     "ename": "TypeError",
     "evalue": "personal_info4() got multiple values for argument 'name'",
     "output_type": "error",
     "traceback": [
      "\u001b[1;31m---------------------------------------------------------------------------\u001b[0m",
      "\u001b[1;31mTypeError\u001b[0m                                 Traceback (most recent call last)",
      "Cell \u001b[1;32mIn[34], line 1\u001b[0m\n\u001b[1;32m----> 1\u001b[0m personal_info4(\u001b[38;5;124m'\u001b[39m\u001b[38;5;124m이이이\u001b[39m\u001b[38;5;124m'\u001b[39m,\u001b[38;5;241m*\u001b[39m\u001b[38;5;241m*\u001b[39md)\n",
      "\u001b[1;31mTypeError\u001b[0m: personal_info4() got multiple values for argument 'name'"
     ]
    }
   ],
   "source": [
    "personal_info4('이이이',**d)"
   ]
  },
  {
   "cell_type": "code",
   "execution_count": 42,
   "id": "b4f9fa18",
   "metadata": {},
   "outputs": [
    {
     "name": "stdout",
     "output_type": "stream",
     "text": [
      "홍길동\n",
      "타입은 <class 'str'>\n",
      "{'age': 30, 'address': '서울시 강남구'}\n"
     ]
    }
   ],
   "source": [
    "# 고정인수도 키워드인수처럼 언급을 하면 출력가능\n",
    "personal_info4(name = '홍길동',age = 30, address='서울시 강남구')"
   ]
  },
  {
   "cell_type": "markdown",
   "id": "2867ba91",
   "metadata": {},
   "source": [
    "가변인수와 가변키워드인수 함께 사용하기\n",
    "* def 함수명(*args, **kwargs):  <br> ->형태로 사용 <br>\n",
    "* def 함수명(고정인자, *args, **kwargs):  "
   ]
  },
  {
   "cell_type": "code",
   "execution_count": 43,
   "id": "8ecab244",
   "metadata": {},
   "outputs": [
    {
     "name": "stdout",
     "output_type": "stream",
     "text": [
      "*args :  !! 1 !! 2 !! 3 !! **kwargs : "
     ]
    }
   ],
   "source": [
    "def custom_print(*args, **kwargs) :\n",
    "    print('*args : ',*args, \"**kwargs : \", **kwargs)\n",
    "custom_print(1,2,3, sep=\" !! \", end= \"\")"
   ]
  },
  {
   "cell_type": "markdown",
   "id": "dd285155",
   "metadata": {},
   "source": [
    "매개변수 = 함수 내에서 사용되는 변수\n",
    "* 위치인수 : 위치가 고정된 매개변수. 키워드 인수로 사용가능(=> 변수명 = 값 형태로 지정하는 것)\n",
    "* 가변인수 : 여러 개의 자료를 동시에 받을 수 있는 매개변수 => 튜플 형태로 들어옴\n",
    "* 키워드 가변인수 : 여러 개의 자료를 동시에 받을 수 있는데 key=value 형태로 받는 매개변수 => 딕셔너리 형태로 들어옴"
   ]
  },
  {
   "cell_type": "markdown",
   "id": "d904df3d",
   "metadata": {},
   "source": [
    "매개변수에 초기값 지정하기\n",
    "* 초기값이 지정된 매개변수는 반드시 가장 마지막에 와야 함\n",
    "* 매개변수의 종류에 따른 순서\n",
    "    * 위치인수, 위치인수=기본값, *args, **kwargs"
   ]
  },
  {
   "cell_type": "code",
   "execution_count": 49,
   "id": "f5f2bde0",
   "metadata": {},
   "outputs": [],
   "source": [
    "def personal_info5(name, age, address=\"비공개\") :\n",
    "    print('이름 :', name)\n",
    "    print('나이 :', age)\n",
    "    print('주소 :', address)"
   ]
  },
  {
   "cell_type": "code",
   "execution_count": 50,
   "id": "0d593248",
   "metadata": {},
   "outputs": [
    {
     "name": "stdout",
     "output_type": "stream",
     "text": [
      "이름 : 홍길동\n",
      "나이 : 30\n",
      "주소 : 비공개\n"
     ]
    }
   ],
   "source": [
    "personal_info5('홍길동', 30)"
   ]
  },
  {
   "cell_type": "code",
   "execution_count": 51,
   "id": "0b4fa434",
   "metadata": {},
   "outputs": [
    {
     "name": "stdout",
     "output_type": "stream",
     "text": [
      "이름 : 홍길동\n",
      "나이 : 30\n",
      "주소 : 서울시 강남구\n"
     ]
    }
   ],
   "source": [
    "personal_info5('홍길동', 30, '서울시 강남구')"
   ]
  },
  {
   "cell_type": "code",
   "execution_count": 53,
   "id": "2302372b",
   "metadata": {},
   "outputs": [],
   "source": [
    "def personal_info6(*args, address='비공개', **kwargs) :\n",
    "    print('args : ', args)\n",
    "    print('kwargs : ', kwargs)\n",
    "    print('주소 : ', address)"
   ]
  },
  {
   "cell_type": "code",
   "execution_count": 58,
   "id": "4d0575a2",
   "metadata": {},
   "outputs": [
    {
     "name": "stdout",
     "output_type": "stream",
     "text": [
      "args :  ('홍길동', 1, 2, 5, '홍길동')\n",
      "kwargs :  {'name': 'sdsd'}\n",
      "주소 :  비공개\n"
     ]
    }
   ],
   "source": [
    "personal_info6('홍길동',1,2,5,\"홍길동\",name = \"sdsd\")"
   ]
  },
  {
   "cell_type": "markdown",
   "id": "817d503b",
   "metadata": {},
   "source": [
    "함수 Doc 스트링 사용하기\n",
    "* 함수의 기능을 설명하거나 사용법을 함수 내에 적어 놓는 것<br>\n",
    "def 함수이름(매개변수) :<br>\n",
    "____\"\"\" 독스트링으로 설명 적기 \"\"\" <br>\n",
    "____실행코드 <br>\n",
    "____return 값\n",
    "\n",
    "* doc 스트링은 함수 실행시엔 출력되지 않음\n",
    "* 출력을 원한다면\n",
    "* print(함수이름.\\_\\_doc\\_\\_)\n",
    "* help(함수이름)"
   ]
  },
  {
   "cell_type": "code",
   "execution_count": 59,
   "id": "95987973",
   "metadata": {},
   "outputs": [],
   "source": [
    "def add(a,b) :\n",
    "    \"\"\"\n",
    "    이 함수는 a와 b를 더한 뒤 결과를 반환하는 함수입니다.\n",
    "    \"\"\"\n",
    "    return a+b"
   ]
  },
  {
   "cell_type": "code",
   "execution_count": 63,
   "id": "490442f4",
   "metadata": {},
   "outputs": [
    {
     "name": "stdout",
     "output_type": "stream",
     "text": [
      "Help on function add in module __main__:\n",
      "\n",
      "add(a, b)\n",
      "    이 함수는 a와 b를 더한 뒤 결과를 반환하는 함수입니다.\n",
      "\n"
     ]
    }
   ],
   "source": [
    "help(add)"
   ]
  },
  {
   "cell_type": "code",
   "execution_count": 65,
   "id": "63c4dcb2",
   "metadata": {},
   "outputs": [
    {
     "name": "stdout",
     "output_type": "stream",
     "text": [
      "\n",
      "    이 함수는 a와 b를 더한 뒤 결과를 반환하는 함수입니다.\n",
      "    \n"
     ]
    }
   ],
   "source": [
    "print(add.__doc__)"
   ]
  },
  {
   "cell_type": "markdown",
   "id": "24a42256",
   "metadata": {},
   "source": [
    "## 람다 표현식(lambda expression)\n",
    "* 간단한 함수를 작성하거나 다른 함수의 인수로 함수를 넣을 때 사용\n",
    "* 익명함수(함수명이 없음)\n",
    "* 임시로 사용하는 것이라 메모리에 남지 않음"
   ]
  },
  {
   "cell_type": "code",
   "execution_count": 66,
   "id": "e91d8be7",
   "metadata": {},
   "outputs": [],
   "source": [
    "# 자료 1개를 입력받아 10을 더해 리턴하는 함수\n",
    "def plus_ten(x) :\n",
    "    return x + 10"
   ]
  },
  {
   "cell_type": "code",
   "execution_count": 67,
   "id": "301af504",
   "metadata": {},
   "outputs": [
    {
     "data": {
      "text/plain": [
       "15"
      ]
     },
     "execution_count": 67,
     "metadata": {},
     "output_type": "execute_result"
    }
   ],
   "source": [
    "plus_ten(5)"
   ]
  },
  {
   "cell_type": "markdown",
   "id": "a9575b98",
   "metadata": {},
   "source": [
    "람다 함수에 괄호를 씌우고 뒤에 인수를 넣어서 직접 호출하는 방식"
   ]
  },
  {
   "cell_type": "code",
   "execution_count": 69,
   "id": "d18b3f9c",
   "metadata": {},
   "outputs": [
    {
     "data": {
      "text/plain": [
       "15"
      ]
     },
     "execution_count": 69,
     "metadata": {},
     "output_type": "execute_result"
    }
   ],
   "source": [
    "# 람다 표현식으로 만드는 함수\n",
    "(lambda x : x + 10)(5)"
   ]
  },
  {
   "cell_type": "markdown",
   "id": "917da340",
   "metadata": {},
   "source": [
    "람다 함수를 변수에 넣고 변수에 인수를 넣어서 호출"
   ]
  },
  {
   "cell_type": "code",
   "execution_count": 71,
   "id": "238ccfae",
   "metadata": {},
   "outputs": [],
   "source": [
    "plus_five = lambda x : x + 5"
   ]
  },
  {
   "cell_type": "code",
   "execution_count": 72,
   "id": "5468398a",
   "metadata": {},
   "outputs": [
    {
     "data": {
      "text/plain": [
       "10"
      ]
     },
     "execution_count": 72,
     "metadata": {},
     "output_type": "execute_result"
    }
   ],
   "source": [
    "plus_five(5)"
   ]
  },
  {
   "cell_type": "markdown",
   "id": "86ad6738",
   "metadata": {},
   "source": [
    "map함수 : 리스트에 있는 자료 하나하나를 꺼내서 함수에 넣는 함수\n",
    "<br>\n",
    "map(함수, 리스트 자료)"
   ]
  },
  {
   "cell_type": "code",
   "execution_count": 79,
   "id": "8ea574cc",
   "metadata": {},
   "outputs": [
    {
     "name": "stdout",
     "output_type": "stream",
     "text": [
      "1 2 3 4\n"
     ]
    }
   ],
   "source": [
    "a,b,c,d = map(int,[\"1\",\"2\",\"3\",\"4\"])\n",
    "print(a,b,c,d)"
   ]
  },
  {
   "cell_type": "code",
   "execution_count": 82,
   "id": "7ce07eb0",
   "metadata": {},
   "outputs": [
    {
     "name": "stdout",
     "output_type": "stream",
     "text": [
      "[6, 10, 12, 16, 6]\n"
     ]
    }
   ],
   "source": [
    "result = map(plus_five,[1,5,7,11,1])\n",
    "print(list(result))"
   ]
  },
  {
   "cell_type": "markdown",
   "id": "42fe8165",
   "metadata": {},
   "source": [
    "람다 표현식에 조건부 표현식 사용하기"
   ]
  },
  {
   "cell_type": "code",
   "execution_count": 83,
   "id": "21a74b39",
   "metadata": {},
   "outputs": [
    {
     "data": {
      "text/plain": [
       "[1, 2, 3, 4, 5, 6, 7, 8, 9, 10]"
      ]
     },
     "execution_count": 83,
     "metadata": {},
     "output_type": "execute_result"
    }
   ],
   "source": [
    "# 3의 배수만 문자열로 바꾸는 함수\n",
    "a = list(range(1,11))\n",
    "a"
   ]
  },
  {
   "cell_type": "code",
   "execution_count": 92,
   "id": "ec41fc80",
   "metadata": {},
   "outputs": [
    {
     "name": "stdout",
     "output_type": "stream",
     "text": [
      "[1, 2, '3', 4, 5, '6', 7, 8, '9', 10]\n"
     ]
    }
   ],
   "source": [
    "def mul_3(x) :\n",
    "    mul3 = []\n",
    "    for i in a :\n",
    "        if i % 3 == 0 :\n",
    "            mul3.append(str(i))\n",
    "        else:\n",
    "            mul3.append(i)\n",
    "    return mul3\n",
    "print(mul_3(a))"
   ]
  },
  {
   "cell_type": "code",
   "execution_count": 94,
   "id": "db9684ad",
   "metadata": {},
   "outputs": [
    {
     "name": "stdout",
     "output_type": "stream",
     "text": [
      "[1, 2, '3', 4, 5, '6', 7, 8, '9', 10]\n"
     ]
    }
   ],
   "source": [
    "def mul_3(x) :\n",
    "    mul3 = []\n",
    "    for i in a :\n",
    "        mul3.append(str(i)) if i % 3 == 0 else mul3.append(i)\n",
    "    return mul3\n",
    "print(mul_3(a))"
   ]
  },
  {
   "cell_type": "code",
   "execution_count": 98,
   "id": "4f4db6ef",
   "metadata": {},
   "outputs": [
    {
     "name": "stdout",
     "output_type": "stream",
     "text": [
      "[1, 2, '3', 4, 5, '6', 7, 8, '9', 10]\n"
     ]
    }
   ],
   "source": [
    "def mul_3(x) :\n",
    "    mul3 = [str(i) if i % 3 == 0 else i for i in a]    \n",
    "    return mul3\n",
    "print(mul_3(a))"
   ]
  },
  {
   "cell_type": "code",
   "execution_count": null,
   "id": "95eeed56",
   "metadata": {},
   "outputs": [],
   "source": [
    "def mul_3(x) :\n",
    "    return [str(i) if i % 3 == 0 else i for i in a]\n",
    "print(mul_3(a))"
   ]
  },
  {
   "cell_type": "code",
   "execution_count": 101,
   "id": "a91e98aa",
   "metadata": {},
   "outputs": [
    {
     "data": {
      "text/plain": [
       "[1, 2, '3', 4, 5, '6', 7, 8, '9', 10]"
      ]
     },
     "execution_count": 101,
     "metadata": {},
     "output_type": "execute_result"
    }
   ],
   "source": [
    "# 조건문 부분을 조건표현식으로 변환\n",
    "list(map(lambda x : str(x) if x % 3 == 0 else x, a))"
   ]
  },
  {
   "cell_type": "code",
   "execution_count": 102,
   "id": "d58d09f8",
   "metadata": {},
   "outputs": [],
   "source": [
    "a = [1,2,3,4,5]\n",
    "b = [2,4,6,8,10]\n",
    "c = [3,6,9,12,15]"
   ]
  },
  {
   "cell_type": "code",
   "execution_count": 103,
   "id": "23aa6cbc",
   "metadata": {},
   "outputs": [
    {
     "data": {
      "text/plain": [
       "[6, 48, 162, 384, 750]"
      ]
     },
     "execution_count": 103,
     "metadata": {},
     "output_type": "execute_result"
    }
   ],
   "source": [
    "list(map(lambda x,y,z : x*y*z, a,b,c))"
   ]
  },
  {
   "cell_type": "code",
   "execution_count": null,
   "id": "e4d29f81",
   "metadata": {},
   "outputs": [],
   "source": []
  }
 ],
 "metadata": {
  "kernelspec": {
   "display_name": "Python 3 (ipykernel)",
   "language": "python",
   "name": "python3"
  },
  "language_info": {
   "codemirror_mode": {
    "name": "ipython",
    "version": 3
   },
   "file_extension": ".py",
   "mimetype": "text/x-python",
   "name": "python",
   "nbconvert_exporter": "python",
   "pygments_lexer": "ipython3",
   "version": "3.11.1"
  }
 },
 "nbformat": 4,
 "nbformat_minor": 5
}
