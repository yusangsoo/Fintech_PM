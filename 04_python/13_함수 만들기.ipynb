{
 "cells": [
  {
   "cell_type": "markdown",
   "id": "5663a637",
   "metadata": {},
   "source": [
    "# 함수 만들기"
   ]
  },
  {
   "cell_type": "markdown",
   "id": "59cefaf5",
   "metadata": {},
   "source": [
    "* 함수의 괄호 안에 값을 넣으면 출력을 해주거나 입력을 받거나 변환을 해 줌\n",
    "* 도구의 개념\n",
    "* 자주 사용하는 기능을 미리 만들어서 반복 재사용할 수 있게 만드는 것"
   ]
  },
  {
   "cell_type": "markdown",
   "id": "c72439a0",
   "metadata": {},
   "source": [
    "### 함수 만드는 법\n",
    "def 함수이름() : <br>\n",
    "____실행할 코드 <br>\n",
    "____return 반환값"
   ]
  },
  {
   "cell_type": "code",
   "execution_count": 1,
   "id": "85763586",
   "metadata": {},
   "outputs": [
    {
     "name": "stdout",
     "output_type": "stream",
     "text": [
      "hello 파이썬 함수 만들기\n"
     ]
    }
   ],
   "source": [
    "def hello() :\n",
    "    print('hello 파이썬 함수 만들기')\n",
    "    \n",
    "hello()"
   ]
  },
  {
   "cell_type": "markdown",
   "id": "06c21663",
   "metadata": {},
   "source": [
    "## 함수 호출 순서\n",
    "* 함수는 호출하기 전에 반드시 먼저 정의되어 있어야 하고(만들어 놔야 함)\n",
    "* 함수 정의가 실행보다 위에 있어야 합니다."
   ]
  },
  {
   "cell_type": "markdown",
   "id": "5081e68c",
   "metadata": {},
   "source": [
    "## 함수의 매개변수\n",
    "* 함수의 괄호 안에 받는 값\n",
    "* 괄호 안에 값을 받아서 함수 내에서 처리할 때 사용"
   ]
  },
  {
   "cell_type": "markdown",
   "id": "7430ee45",
   "metadata": {},
   "source": [
    "매개변수 1개짜리 함수"
   ]
  },
  {
   "cell_type": "code",
   "execution_count": 2,
   "id": "ca54910b",
   "metadata": {},
   "outputs": [],
   "source": [
    "# 원의 넓이를 구하는 함수\n",
    "def circle(c) :\n",
    "    print(\"원의 넓이는 : \", c * c * 3.14)\n",
    "    return c * c * 3.14"
   ]
  },
  {
   "cell_type": "code",
   "execution_count": 3,
   "id": "f2ca6c2b",
   "metadata": {},
   "outputs": [
    {
     "name": "stdout",
     "output_type": "stream",
     "text": [
      "원의 넓이는 :  28.26\n"
     ]
    },
    {
     "data": {
      "text/plain": [
       "28.26"
      ]
     },
     "execution_count": 3,
     "metadata": {},
     "output_type": "execute_result"
    }
   ],
   "source": [
    "circle(3)"
   ]
  },
  {
   "cell_type": "markdown",
   "id": "ed0d186f",
   "metadata": {},
   "source": [
    "매개변수 2개짜리 함수 - 덧셈 함수 만들기"
   ]
  },
  {
   "cell_type": "code",
   "execution_count": 4,
   "id": "763fcfca",
   "metadata": {},
   "outputs": [],
   "source": [
    "def add(a, b) : \n",
    "    return a + b"
   ]
  },
  {
   "cell_type": "code",
   "execution_count": 5,
   "id": "2cae1eb1",
   "metadata": {},
   "outputs": [
    {
     "data": {
      "text/plain": [
       "13"
      ]
     },
     "execution_count": 5,
     "metadata": {},
     "output_type": "execute_result"
    }
   ],
   "source": [
    "add(10,3)"
   ]
  },
  {
   "cell_type": "markdown",
   "id": "f1882910",
   "metadata": {},
   "source": [
    "매개변수 3개짜리 함수 - 첫 번째 변수 = 시작, 두 번째 변수 = 끝, 세 번째 변수 = 증감 <br>\n",
    "interval이라는 이름의 함수를 만들어라 <br>"
   ]
  },
  {
   "cell_type": "code",
   "execution_count": 32,
   "id": "730a0824",
   "metadata": {},
   "outputs": [],
   "source": [
    "def interval(a,b,c) :\n",
    "    L = []\n",
    "    i = a\n",
    "    L.append(i)\n",
    "    while i <= b :\n",
    "        if i+c > b :\n",
    "            break\n",
    "        else:\n",
    "            i += c\n",
    "            L.append(i)\n",
    "    return L"
   ]
  },
  {
   "cell_type": "code",
   "execution_count": 33,
   "id": "08a9bfb5",
   "metadata": {},
   "outputs": [
    {
     "data": {
      "text/plain": [
       "[1, 3, 5, 7, 9]"
      ]
     },
     "execution_count": 33,
     "metadata": {},
     "output_type": "execute_result"
    }
   ],
   "source": [
    "interval(1,10,2)"
   ]
  },
  {
   "cell_type": "code",
   "execution_count": 13,
   "id": "15e7f7cb",
   "metadata": {},
   "outputs": [],
   "source": [
    "def num_maker(a,b,c) :\n",
    "    result = [i for i in range(a,b,c)]\n",
    "    return result"
   ]
  },
  {
   "cell_type": "code",
   "execution_count": 36,
   "id": "278aafae",
   "metadata": {},
   "outputs": [
    {
     "name": "stdout",
     "output_type": "stream",
     "text": [
      "[1, 3, 5, 7, 9]\n",
      "<class 'list'>\n"
     ]
    }
   ],
   "source": [
    "result = num_maker(1,10,2)\n",
    "print(result)\n",
    "print(type(result))"
   ]
  },
  {
   "cell_type": "markdown",
   "id": "b7b6ebbc",
   "metadata": {},
   "source": [
    "리턴 값이 여러 개인 함수 <br>\n",
    "리턴 값이 여러 개여도 결과는 튜플 한 개로 출력"
   ]
  },
  {
   "cell_type": "code",
   "execution_count": 34,
   "id": "8a818ae5",
   "metadata": {},
   "outputs": [],
   "source": [
    "def add_sub(a,b) :\n",
    "    add = a + b\n",
    "    sub = a - b\n",
    "    return add, sub"
   ]
  },
  {
   "cell_type": "code",
   "execution_count": 37,
   "id": "dbc3dab7",
   "metadata": {},
   "outputs": [
    {
     "name": "stdout",
     "output_type": "stream",
     "text": [
      "(10, 4)\n",
      "<class 'tuple'>\n"
     ]
    }
   ],
   "source": [
    "result = add_sub(7,3)\n",
    "print(result)\n",
    "print(type(result))"
   ]
  },
  {
   "cell_type": "markdown",
   "id": "79ebd2f1",
   "metadata": {},
   "source": [
    "num_maker2 - 정방향, 역방향 리스트 출력"
   ]
  },
  {
   "cell_type": "code",
   "execution_count": 38,
   "id": "63ffc97e",
   "metadata": {},
   "outputs": [],
   "source": [
    "def num_maker2(a,b,c) :\n",
    "    asc = [i for i in range(a,b,c)]\n",
    "    desc = [i for i in range(a,b,c)][::-1]\n",
    "    return asc, desc"
   ]
  },
  {
   "cell_type": "code",
   "execution_count": 39,
   "id": "0962049e",
   "metadata": {},
   "outputs": [
    {
     "name": "stdout",
     "output_type": "stream",
     "text": [
      "([1, 3, 5, 7, 9], [9, 7, 5, 3, 1])\n",
      "<class 'tuple'>\n"
     ]
    }
   ],
   "source": [
    "result = num_maker2(1,10,2)\n",
    "print(result)\n",
    "print(type(result))"
   ]
  },
  {
   "cell_type": "markdown",
   "id": "988f335e",
   "metadata": {},
   "source": [
    "## 중간에 함수를 종료시키기 위한 용도의 return\n",
    "* 반복문에서 break로 반복을 중지시키는 것처럼 함수에서 return이 실행되면 함수는 종료"
   ]
  },
  {
   "cell_type": "code",
   "execution_count": 49,
   "id": "2207270a",
   "metadata": {},
   "outputs": [
    {
     "data": {
      "text/plain": [
       "[1, 2, 3, 4, 5, 6, 7, 8, 9, 10]"
      ]
     },
     "execution_count": 49,
     "metadata": {},
     "output_type": "execute_result"
    }
   ],
   "source": [
    "age = list(range(1,11))\n",
    "age"
   ]
  },
  {
   "cell_type": "code",
   "execution_count": 44,
   "id": "e8b2fe62",
   "metadata": {},
   "outputs": [],
   "source": [
    "# 1부터 10까지 숫자 중 짝수만 출력하다 7이상이 되면 종료\n",
    "\n",
    "def even(a) :\n",
    "    for i in a :\n",
    "        if i % 2 == 0 :\n",
    "            print(i, end = \" \")\n",
    "        elif i >= 7 :\n",
    "            break"
   ]
  },
  {
   "cell_type": "code",
   "execution_count": 45,
   "id": "5dbea278",
   "metadata": {},
   "outputs": [
    {
     "name": "stdout",
     "output_type": "stream",
     "text": [
      "2 4 6 "
     ]
    }
   ],
   "source": [
    "even(age)"
   ]
  },
  {
   "cell_type": "code",
   "execution_count": 50,
   "id": "7e5ee5a0",
   "metadata": {},
   "outputs": [],
   "source": [
    "# 1부터 10까지 숫자 중 짝수만 출력하다 7이상이 되면 종료\n",
    "\n",
    "def even2(a) :\n",
    "    for i in a :\n",
    "        if i % 2 == 0 :\n",
    "            print(i, end = \" \")\n",
    "        elif i >= 7 :\n",
    "            return"
   ]
  },
  {
   "cell_type": "code",
   "execution_count": 51,
   "id": "55a5574c",
   "metadata": {},
   "outputs": [
    {
     "name": "stdout",
     "output_type": "stream",
     "text": [
      "2 4 6 "
     ]
    }
   ],
   "source": [
    "even2(age)"
   ]
  },
  {
   "cell_type": "markdown",
   "id": "213b36ab",
   "metadata": {},
   "source": [
    "1에서 100까지 홀수만 출력하다 51번째에 종료하는 odd 함수를 만드시오"
   ]
  },
  {
   "cell_type": "code",
   "execution_count": 63,
   "id": "af1e6f0c",
   "metadata": {},
   "outputs": [
    {
     "name": "stdout",
     "output_type": "stream",
     "text": [
      "1 3 5 7 9 11 13 15 17 19 21 23 25 27 29 31 33 35 37 39 41 43 45 47 49 51 "
     ]
    }
   ],
   "source": [
    "def odd(n) : \n",
    "    for i in n :\n",
    "        if i % 2 == 1 :\n",
    "            print(i, end = \" \")\n",
    "        if i == 51 :\n",
    "            return\n",
    "num = range(1,101)\n",
    "odd(num)"
   ]
  },
  {
   "cell_type": "code",
   "execution_count": 64,
   "id": "7de4c465",
   "metadata": {},
   "outputs": [
    {
     "name": "stdout",
     "output_type": "stream",
     "text": [
      "1 3 5 7 9 11 13 15 17 19 21 23 25 27 29 31 33 35 37 39 41 43 45 47 49 51 "
     ]
    }
   ],
   "source": [
    "num = range(1,101)\n",
    "odd(num)"
   ]
  },
  {
   "cell_type": "markdown",
   "id": "39f29dd6",
   "metadata": {},
   "source": [
    "## 함수에서 위치 인수와 키워드 인수 사용하기\n",
    "* 위치인수(positional argument) 매개변수\n",
    "* 함수에 인수를 순서대로 넣는 방식\n",
    "* 인수의 위치가 정해져 있음"
   ]
  },
  {
   "cell_type": "code",
   "execution_count": 65,
   "id": "b7ea0c00",
   "metadata": {},
   "outputs": [],
   "source": [
    "def print_nums(a,b,c) : \n",
    "    print(a,b,c)"
   ]
  },
  {
   "cell_type": "code",
   "execution_count": 67,
   "id": "67488ccc",
   "metadata": {},
   "outputs": [
    {
     "ename": "TypeError",
     "evalue": "print_nums() missing 1 required positional argument: 'c'",
     "output_type": "error",
     "traceback": [
      "\u001b[1;31m---------------------------------------------------------------------------\u001b[0m",
      "\u001b[1;31mTypeError\u001b[0m                                 Traceback (most recent call last)",
      "Cell \u001b[1;32mIn[67], line 1\u001b[0m\n\u001b[1;32m----> 1\u001b[0m \u001b[43mprint_nums\u001b[49m\u001b[43m(\u001b[49m\u001b[38;5;241;43m10\u001b[39;49m\u001b[43m,\u001b[49m\u001b[38;5;241;43m20\u001b[39;49m\u001b[43m)\u001b[49m\n",
      "\u001b[1;31mTypeError\u001b[0m: print_nums() missing 1 required positional argument: 'c'"
     ]
    }
   ],
   "source": [
    "print_nums(10,20)"
   ]
  },
  {
   "cell_type": "code",
   "execution_count": 68,
   "id": "94360d45",
   "metadata": {},
   "outputs": [
    {
     "name": "stdout",
     "output_type": "stream",
     "text": [
      "10 20 1\n"
     ]
    }
   ],
   "source": [
    "print_nums(10,20,1)"
   ]
  },
  {
   "cell_type": "markdown",
   "id": "88f1dadb",
   "metadata": {},
   "source": [
    "리스트, 튜플과 같은 자료형을 1개의 위치인수(매개변수)로 받을 때 위치 인수와 개수가 같으면 *로 언패킹 가능"
   ]
  },
  {
   "cell_type": "code",
   "execution_count": 71,
   "id": "d10e0ce6",
   "metadata": {},
   "outputs": [
    {
     "name": "stdout",
     "output_type": "stream",
     "text": [
      "10 20 30\n"
     ]
    }
   ],
   "source": [
    "p = [10,20,30]\n",
    "print_nums(*p)"
   ]
  },
  {
   "cell_type": "markdown",
   "id": "a0525d25",
   "metadata": {},
   "source": [
    "가변인수\n",
    "* 여러 개의 자료를 한 번에 입력 받음\n",
    "* \\*args => *변수명 꼭 args가 아니어도 됨"
   ]
  },
  {
   "cell_type": "markdown",
   "id": "cef52e9c",
   "metadata": {},
   "source": [
    "여러 개의 숫자를 입력받아 더하는 함수(입력 개수 정해져 있지 않음)"
   ]
  },
  {
   "cell_type": "code",
   "execution_count": 78,
   "id": "43150a6e",
   "metadata": {},
   "outputs": [],
   "source": [
    "def sum2(*args) :\n",
    "    hap = 0\n",
    "    print(args)\n",
    "    print(type(args))\n",
    "    for i in args :\n",
    "        hap += i\n",
    "    return hap"
   ]
  },
  {
   "cell_type": "code",
   "execution_count": 73,
   "id": "e9005abc",
   "metadata": {},
   "outputs": [
    {
     "data": {
      "text/plain": [
       "1157"
      ]
     },
     "execution_count": 73,
     "metadata": {},
     "output_type": "execute_result"
    }
   ],
   "source": [
    "sum2(1,46,357,68,685)"
   ]
  },
  {
   "cell_type": "code",
   "execution_count": 79,
   "id": "6ac80084",
   "metadata": {},
   "outputs": [
    {
     "name": "stdout",
     "output_type": "stream",
     "text": [
      "([6441, 163, 136, 713, 161, 615], [4, 14, 14, 14, 18])\n",
      "<class 'tuple'>\n"
     ]
    },
    {
     "ename": "TypeError",
     "evalue": "unsupported operand type(s) for +=: 'int' and 'list'",
     "output_type": "error",
     "traceback": [
      "\u001b[1;31m---------------------------------------------------------------------------\u001b[0m",
      "\u001b[1;31mTypeError\u001b[0m                                 Traceback (most recent call last)",
      "Cell \u001b[1;32mIn[79], line 3\u001b[0m\n\u001b[0;32m      1\u001b[0m L1 \u001b[38;5;241m=\u001b[39m [\u001b[38;5;241m6441\u001b[39m,\u001b[38;5;241m163\u001b[39m,\u001b[38;5;241m136\u001b[39m,\u001b[38;5;241m713\u001b[39m,\u001b[38;5;241m161\u001b[39m,\u001b[38;5;241m615\u001b[39m]\n\u001b[0;32m      2\u001b[0m L2 \u001b[38;5;241m=\u001b[39m [\u001b[38;5;241m4\u001b[39m,\u001b[38;5;241m14\u001b[39m,\u001b[38;5;241m14\u001b[39m,\u001b[38;5;241m14\u001b[39m,\u001b[38;5;241m18\u001b[39m]\n\u001b[1;32m----> 3\u001b[0m \u001b[43msum2\u001b[49m\u001b[43m(\u001b[49m\u001b[43mL1\u001b[49m\u001b[43m,\u001b[49m\u001b[43mL2\u001b[49m\u001b[43m)\u001b[49m\n",
      "Cell \u001b[1;32mIn[78], line 6\u001b[0m, in \u001b[0;36msum2\u001b[1;34m(*args)\u001b[0m\n\u001b[0;32m      4\u001b[0m \u001b[38;5;28mprint\u001b[39m(\u001b[38;5;28mtype\u001b[39m(args))\n\u001b[0;32m      5\u001b[0m \u001b[38;5;28;01mfor\u001b[39;00m i \u001b[38;5;129;01min\u001b[39;00m args :\n\u001b[1;32m----> 6\u001b[0m     hap \u001b[38;5;241m+\u001b[39m\u001b[38;5;241m=\u001b[39m i\n\u001b[0;32m      7\u001b[0m \u001b[38;5;28;01mreturn\u001b[39;00m hap\n",
      "\u001b[1;31mTypeError\u001b[0m: unsupported operand type(s) for +=: 'int' and 'list'"
     ]
    }
   ],
   "source": [
    "L1 = [6441,163,136,713,161,615]\n",
    "L2 = [4,14,14,14,18]\n",
    "sum2(L1,L2)"
   ]
  },
  {
   "cell_type": "code",
   "execution_count": 75,
   "id": "f32f6d71",
   "metadata": {},
   "outputs": [
    {
     "data": {
      "text/plain": [
       "1"
      ]
     },
     "execution_count": 75,
     "metadata": {},
     "output_type": "execute_result"
    }
   ],
   "source": [
    "sum2(1)"
   ]
  },
  {
   "cell_type": "code",
   "execution_count": 80,
   "id": "b081495a",
   "metadata": {},
   "outputs": [
    {
     "ename": "TypeError",
     "evalue": "can only concatenate list (not \"int\") to list",
     "output_type": "error",
     "traceback": [
      "\u001b[1;31m---------------------------------------------------------------------------\u001b[0m",
      "\u001b[1;31mTypeError\u001b[0m                                 Traceback (most recent call last)",
      "Cell \u001b[1;32mIn[80], line 1\u001b[0m\n\u001b[1;32m----> 1\u001b[0m \u001b[38;5;28;43msum\u001b[39;49m\u001b[43m(\u001b[49m\u001b[43mL1\u001b[49m\u001b[43m,\u001b[49m\u001b[43mL2\u001b[49m\u001b[43m)\u001b[49m\n",
      "\u001b[1;31mTypeError\u001b[0m: can only concatenate list (not \"int\") to list"
     ]
    }
   ],
   "source": [
    "sum(L1,L2)"
   ]
  },
  {
   "cell_type": "code",
   "execution_count": 84,
   "id": "953b3009",
   "metadata": {},
   "outputs": [
    {
     "name": "stdout",
     "output_type": "stream",
     "text": [
      "(6441, 163, 136, 713, 161, 615, 4, 14, 14, 14, 18)\n",
      "<class 'tuple'>\n",
      "8293\n",
      "(6441, 163, 136, 713, 161, 615)\n",
      "<class 'tuple'>\n",
      "8229\n"
     ]
    }
   ],
   "source": [
    "L1 = [6441,163,136,713,161,615]\n",
    "L2 = [4,14,14,14,18]\n",
    "print(sum2(*L1,*L2))\n",
    "print(sum2(*L1))"
   ]
  },
  {
   "cell_type": "code",
   "execution_count": 85,
   "id": "3bf5d43d",
   "metadata": {},
   "outputs": [],
   "source": [
    "def list_tuple_func(*args) :\n",
    "    print(args)\n",
    "    print(type(args))"
   ]
  },
  {
   "cell_type": "code",
   "execution_count": 86,
   "id": "e443a87c",
   "metadata": {},
   "outputs": [
    {
     "name": "stdout",
     "output_type": "stream",
     "text": [
      "(1, 2, 3, 4, 5)\n",
      "<class 'tuple'>\n"
     ]
    }
   ],
   "source": [
    "list_tuple_func(1,2,3,4,5)"
   ]
  },
  {
   "cell_type": "code",
   "execution_count": 87,
   "id": "7ca72f98",
   "metadata": {},
   "outputs": [
    {
     "name": "stdout",
     "output_type": "stream",
     "text": [
      "(1.5, 6.2, 73.1, 6.1)\n",
      "<class 'tuple'>\n"
     ]
    }
   ],
   "source": [
    "list_tuple_func(1.5,6.2,73.1,6.1)"
   ]
  },
  {
   "cell_type": "code",
   "execution_count": 88,
   "id": "07390655",
   "metadata": {},
   "outputs": [
    {
     "name": "stdout",
     "output_type": "stream",
     "text": [
      "('실수', '정수', '자연수')\n",
      "<class 'tuple'>\n"
     ]
    }
   ],
   "source": [
    "list_tuple_func(\"실수\", \"정수\", \"자연수\")"
   ]
  },
  {
   "cell_type": "code",
   "execution_count": 89,
   "id": "96dbdc42",
   "metadata": {},
   "outputs": [
    {
     "name": "stdout",
     "output_type": "stream",
     "text": [
      "([1, 2, 3], [4, 5, 6], [7, 8, 9])\n",
      "<class 'tuple'>\n"
     ]
    }
   ],
   "source": [
    "list_tuple_func([1,2,3], [4,5,6],[7,8,9])"
   ]
  },
  {
   "cell_type": "markdown",
   "id": "9ac76142",
   "metadata": {},
   "source": [
    "고정인수와 가변인수를 함께 사용하기\n",
    "* 고정인수와 가변인수를 함께 사용할 때는 반드시\n",
    "* 고전인수, 가변인수 순으로 사용.\n",
    "* 가변인수를 항상 맨 마지막에"
   ]
  },
  {
   "cell_type": "markdown",
   "id": "71fb2c69",
   "metadata": {},
   "source": [
    "정수와 리스트를 입력받아 리스트 요소에 입력받은 정수를 곱한 값의 리스트를 반환하는 함수"
   ]
  },
  {
   "cell_type": "code",
   "execution_count": 92,
   "id": "5b923686",
   "metadata": {},
   "outputs": [],
   "source": [
    "def muls(a, *args) :\n",
    "    result = []\n",
    "    for num in args :\n",
    "        print(a*num, end = \" \")\n",
    "        result.append(a*num)\n",
    "    return result"
   ]
  },
  {
   "cell_type": "code",
   "execution_count": 95,
   "id": "03f4691f",
   "metadata": {},
   "outputs": [
    {
     "name": "stdout",
     "output_type": "stream",
     "text": [
      "3 6 9 12 15 "
     ]
    },
    {
     "data": {
      "text/plain": [
       "[3, 6, 9, 12, 15]"
      ]
     },
     "execution_count": 95,
     "metadata": {},
     "output_type": "execute_result"
    }
   ],
   "source": [
    "muls(3,*[1,2,3,4,5])"
   ]
  },
  {
   "cell_type": "code",
   "execution_count": null,
   "id": "f3b6e9f0",
   "metadata": {},
   "outputs": [],
   "source": []
  },
  {
   "cell_type": "code",
   "execution_count": null,
   "id": "ea5c5bfa",
   "metadata": {},
   "outputs": [],
   "source": []
  }
 ],
 "metadata": {
  "kernelspec": {
   "display_name": "Python 3 (ipykernel)",
   "language": "python",
   "name": "python3"
  },
  "language_info": {
   "codemirror_mode": {
    "name": "ipython",
    "version": 3
   },
   "file_extension": ".py",
   "mimetype": "text/x-python",
   "name": "python",
   "nbconvert_exporter": "python",
   "pygments_lexer": "ipython3",
   "version": "3.10.14"
  }
 },
 "nbformat": 4,
 "nbformat_minor": 5
}
