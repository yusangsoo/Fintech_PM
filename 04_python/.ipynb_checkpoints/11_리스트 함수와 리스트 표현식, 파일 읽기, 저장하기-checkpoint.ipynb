{
 "cells": [
  {
   "cell_type": "markdown",
   "id": "68abf91a",
   "metadata": {},
   "source": [
    "## 리스트 함수\n",
    "* min() : 리스트 내에서 최솟값을 찾아주는 함수\n",
    "* max() : 리스트 내에서 최댓값을 찾아주는 함수\n",
    "* sum() : 리스트 내의 요소를 전부 더하는 함수\n"
   ]
  },
  {
   "cell_type": "code",
   "execution_count": 2,
   "id": "488a36e0",
   "metadata": {},
   "outputs": [],
   "source": [
    "a = [38, 21, 53, 62, 19, 5, 40, 25, 88, 75]\n",
    "b = [66, 25, 71, 53, 27, 91, 57, 52, 79, 57]"
   ]
  },
  {
   "cell_type": "markdown",
   "id": "406e7f02",
   "metadata": {},
   "source": [
    "1. 정렬해서 가장 앞에 있는 숫자 추출\n",
    "2. 모든 요소를 꺼내서 비교"
   ]
  },
  {
   "cell_type": "code",
   "execution_count": 13,
   "id": "b9ee9a58",
   "metadata": {},
   "outputs": [
    {
     "name": "stdout",
     "output_type": "stream",
     "text": [
      "[5, 19, 21, 25, 38, 40, 53, 62, 75, 88]\n"
     ]
    }
   ],
   "source": [
    "print(sorted(a))"
   ]
  },
  {
   "cell_type": "code",
   "execution_count": 14,
   "id": "6b96c892",
   "metadata": {},
   "outputs": [
    {
     "name": "stdout",
     "output_type": "stream",
     "text": [
      "88\n"
     ]
    }
   ],
   "source": [
    "temp = a[0]\n",
    "for i in a :\n",
    "    if temp <= i :\n",
    "        temp = i\n",
    "print(temp)"
   ]
  },
  {
   "cell_type": "code",
   "execution_count": 17,
   "id": "c8519ccf",
   "metadata": {},
   "outputs": [
    {
     "name": "stdout",
     "output_type": "stream",
     "text": [
      "426\n"
     ]
    }
   ],
   "source": [
    "# 리스트 내의 모든 요소 더하기\n",
    "m = 0\n",
    "for i in a :\n",
    "    m += i\n",
    "print(m)"
   ]
  },
  {
   "cell_type": "code",
   "execution_count": 3,
   "id": "e356696a",
   "metadata": {},
   "outputs": [
    {
     "data": {
      "text/plain": [
       "426"
      ]
     },
     "execution_count": 3,
     "metadata": {},
     "output_type": "execute_result"
    }
   ],
   "source": [
    "sum(a)"
   ]
  },
  {
   "cell_type": "markdown",
   "id": "21e9dfab",
   "metadata": {},
   "source": [
    "## 리스트 표현식(list comprehension) 사용하기\n",
    "* 리스트 안에 for 반복문과 if else 조건문을 한 번에 적는 방법\n",
    "* 여러 줄의 코드를 1줄로 줄일 수 있고\n",
    "* for, if else 문을 쓸 때 보다 처리속도가 빠르다\n",
    "* [실행할 명령 for 변수 in list, tuple]"
   ]
  },
  {
   "cell_type": "code",
   "execution_count": 4,
   "id": "798ee313",
   "metadata": {},
   "outputs": [
    {
     "data": {
      "text/plain": [
       "[1, 2, 3, 4, 5, 6, 7, 8, 9, 10]"
      ]
     },
     "execution_count": 4,
     "metadata": {},
     "output_type": "execute_result"
    }
   ],
   "source": [
    "list(range(1,11))"
   ]
  },
  {
   "cell_type": "code",
   "execution_count": 5,
   "id": "b7f38e0d",
   "metadata": {},
   "outputs": [
    {
     "name": "stdout",
     "output_type": "stream",
     "text": [
      "[1, 2, 3, 4, 5, 6, 7, 8, 9, 10]\n"
     ]
    }
   ],
   "source": [
    "a = []\n",
    "for i in range(1,11) :\n",
    "    a.append(i)\n",
    "print(a)"
   ]
  },
  {
   "cell_type": "code",
   "execution_count": 6,
   "id": "2e57aca7",
   "metadata": {},
   "outputs": [
    {
     "data": {
      "text/plain": [
       "[1, 2, 3, 4, 5, 6, 7, 8, 9, 10]"
      ]
     },
     "execution_count": 6,
     "metadata": {},
     "output_type": "execute_result"
    }
   ],
   "source": [
    "# 1부터 10까지 숫자를 포함하는 리스트 생성\n",
    "# 조건을 줄수도, 중첩을 할 수도, i에 수를 줄 수도 있지만 결국 이는 리스트를 생성하는 거\n",
    "a= []\n",
    "[i for i in range(1,11)]"
   ]
  },
  {
   "cell_type": "code",
   "execution_count": 7,
   "id": "ea3a88c8",
   "metadata": {},
   "outputs": [],
   "source": [
    "import time"
   ]
  },
  {
   "cell_type": "code",
   "execution_count": 9,
   "id": "350d0e97",
   "metadata": {},
   "outputs": [
    {
     "name": "stdout",
     "output_type": "stream",
     "text": [
      "[6, 7, 8, 9, 10, 11, 12, 13, 14, 15]\n",
      "코드 실행 시간 :  3.1827127933502197\n"
     ]
    }
   ],
   "source": [
    "start = time.time()\n",
    "\n",
    "a = []\n",
    "for i in range(1, 20000000) :\n",
    "    a.append(i+5)\n",
    "print(a[:10])\n",
    "print('코드 실행 시간 : ', time.time()-start)"
   ]
  },
  {
   "cell_type": "code",
   "execution_count": 10,
   "id": "f65272c3",
   "metadata": {},
   "outputs": [
    {
     "name": "stdout",
     "output_type": "stream",
     "text": [
      "[]\n",
      "코드 실행 시간 :  1.5263419151306152\n"
     ]
    }
   ],
   "source": [
    "# append로 하는 것보다 시간을 단축하는데 용이\n",
    "start = time.time()\n",
    "\n",
    "b = []\n",
    "[i+5 for i in range(1, 20000000)]\n",
    "print(b[:10])\n",
    "print('코드 실행 시간 : ', time.time()-start)"
   ]
  },
  {
   "cell_type": "code",
   "execution_count": 11,
   "id": "9bb3d574",
   "metadata": {},
   "outputs": [],
   "source": [
    "import numpy as np"
   ]
  },
  {
   "cell_type": "code",
   "execution_count": 13,
   "id": "94cb92f7",
   "metadata": {},
   "outputs": [
    {
     "name": "stdout",
     "output_type": "stream",
     "text": [
      "[ 6  7  8  9 10 11 12 13 14 15]\n",
      "코드 실행 시간 :  0.7201595306396484\n"
     ]
    }
   ],
   "source": [
    "# numpy를 사용하면 압도적으로 빠름\n",
    "start = time.time()\n",
    "\n",
    "c = np.arange(1,200000000)\n",
    "c = c + 5\n",
    "print(c[:10])\n",
    "print('코드 실행 시간 : ', time.time()-start)"
   ]
  },
  {
   "cell_type": "code",
   "execution_count": null,
   "id": "81269aef",
   "metadata": {},
   "outputs": [],
   "source": []
  },
  {
   "cell_type": "code",
   "execution_count": null,
   "id": "33737c3a",
   "metadata": {},
   "outputs": [],
   "source": []
  },
  {
   "cell_type": "code",
   "execution_count": null,
   "id": "f6d87627",
   "metadata": {},
   "outputs": [],
   "source": []
  },
  {
   "cell_type": "code",
   "execution_count": null,
   "id": "e4a159d5",
   "metadata": {},
   "outputs": [],
   "source": []
  },
  {
   "cell_type": "code",
   "execution_count": null,
   "id": "b804998b",
   "metadata": {},
   "outputs": [],
   "source": []
  },
  {
   "cell_type": "code",
   "execution_count": null,
   "id": "4dd8fe4e",
   "metadata": {},
   "outputs": [],
   "source": []
  },
  {
   "cell_type": "code",
   "execution_count": null,
   "id": "512f5140",
   "metadata": {},
   "outputs": [],
   "source": []
  },
  {
   "cell_type": "code",
   "execution_count": null,
   "id": "9bde0bc5",
   "metadata": {},
   "outputs": [],
   "source": []
  },
  {
   "cell_type": "code",
   "execution_count": null,
   "id": "2f35981b",
   "metadata": {},
   "outputs": [],
   "source": []
  },
  {
   "cell_type": "code",
   "execution_count": null,
   "id": "e6cda403",
   "metadata": {},
   "outputs": [],
   "source": []
  },
  {
   "cell_type": "code",
   "execution_count": null,
   "id": "45ee5c13",
   "metadata": {},
   "outputs": [],
   "source": []
  },
  {
   "cell_type": "code",
   "execution_count": null,
   "id": "728b447d",
   "metadata": {},
   "outputs": [],
   "source": []
  },
  {
   "cell_type": "code",
   "execution_count": null,
   "id": "ce9b02e2",
   "metadata": {},
   "outputs": [],
   "source": []
  },
  {
   "cell_type": "code",
   "execution_count": null,
   "id": "8abbd135",
   "metadata": {},
   "outputs": [],
   "source": []
  },
  {
   "cell_type": "code",
   "execution_count": null,
   "id": "5213143c",
   "metadata": {},
   "outputs": [],
   "source": []
  },
  {
   "cell_type": "code",
   "execution_count": null,
   "id": "a6b23a36",
   "metadata": {},
   "outputs": [],
   "source": []
  },
  {
   "cell_type": "code",
   "execution_count": null,
   "id": "f6efab82",
   "metadata": {},
   "outputs": [],
   "source": []
  },
  {
   "cell_type": "code",
   "execution_count": null,
   "id": "dd4c3d0b",
   "metadata": {},
   "outputs": [],
   "source": []
  },
  {
   "cell_type": "code",
   "execution_count": null,
   "id": "a81b5ad2",
   "metadata": {},
   "outputs": [],
   "source": []
  },
  {
   "cell_type": "code",
   "execution_count": null,
   "id": "9d55e3ff",
   "metadata": {},
   "outputs": [],
   "source": []
  },
  {
   "cell_type": "code",
   "execution_count": null,
   "id": "313f309b",
   "metadata": {},
   "outputs": [],
   "source": []
  },
  {
   "cell_type": "code",
   "execution_count": null,
   "id": "2f694096",
   "metadata": {},
   "outputs": [],
   "source": []
  },
  {
   "cell_type": "code",
   "execution_count": null,
   "id": "68dd079e",
   "metadata": {},
   "outputs": [],
   "source": []
  }
 ],
 "metadata": {
  "kernelspec": {
   "display_name": "Python 3 (ipykernel)",
   "language": "python",
   "name": "python3"
  },
  "language_info": {
   "codemirror_mode": {
    "name": "ipython",
    "version": 3
   },
   "file_extension": ".py",
   "mimetype": "text/x-python",
   "name": "python",
   "nbconvert_exporter": "python",
   "pygments_lexer": "ipython3",
   "version": "3.10.14"
  }
 },
 "nbformat": 4,
 "nbformat_minor": 5
}
