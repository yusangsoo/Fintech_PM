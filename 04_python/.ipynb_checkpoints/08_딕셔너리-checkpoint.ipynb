{
 "cells": [
  {
   "cell_type": "markdown",
   "id": "f3b6418a",
   "metadata": {},
   "source": [
    "# 딕셔너리 사용하기\n",
    "## dict\n",
    "* 웹 상에서 가장 많이 사용되는 자료형\n",
    "* 딕셔너리를 잘 이해하면 pandas도 쉽게 이해 가능\n",
    "* key : value로 이뤄진 자료형\n",
    "* key를 호출하면 value가 출력"
   ]
  },
  {
   "cell_type": "markdown",
   "id": "d16e8726",
   "metadata": {},
   "source": [
    "## 딕셔너리 만들기\n",
    "{key : value, ket : value}"
   ]
  },
  {
   "cell_type": "code",
   "execution_count": 1,
   "id": "8ceed182",
   "metadata": {},
   "outputs": [
    {
     "name": "stdout",
     "output_type": "stream",
     "text": [
      "{'년월': '20240710', '국가': '미국', '방문자 수': 1000}\n"
     ]
    }
   ],
   "source": [
    "d = {'년월' : '20240710', '국가' : '미국', '방문자 수' : 1000}\n",
    "print(d)"
   ]
  },
  {
   "cell_type": "code",
   "execution_count": 5,
   "id": "1fc32186",
   "metadata": {},
   "outputs": [
    {
     "name": "stdout",
     "output_type": "stream",
     "text": [
      "20240710\n",
      "1000\n"
     ]
    }
   ],
   "source": [
    "print(d['년월'])\n",
    "print(d['방문자 수'])"
   ]
  },
  {
   "cell_type": "markdown",
   "id": "7582d01b",
   "metadata": {},
   "source": [
    "## 딕셔너리 key의 자료형\n",
    "* 문자열, 정수, 실수, boolean type, tuple)\n",
    "* list, dict는 안됨"
   ]
  },
  {
   "cell_type": "code",
   "execution_count": 6,
   "id": "ecc0eb7c",
   "metadata": {},
   "outputs": [
    {
     "name": "stdout",
     "output_type": "stream",
     "text": [
      "{'백': 100, 100: '백', 3.5: [3.6, 3.7], False: 0, (0, '서울'): '종로구'}\n"
     ]
    }
   ],
   "source": [
    "e = {'백': 100, 100:'백', 3.5 : [3.6, 3.7], False : 0, (0, '서울'):'종로구'}\n",
    "print(e)"
   ]
  },
  {
   "cell_type": "code",
   "execution_count": 8,
   "id": "5fd0c253",
   "metadata": {},
   "outputs": [
    {
     "name": "stdout",
     "output_type": "stream",
     "text": [
      "100\n",
      "백\n",
      "[3.6, 3.7]\n",
      "0\n",
      "종로구\n"
     ]
    }
   ],
   "source": [
    "print(e['백'])\n",
    "print(e[100])\n",
    "print(e[3.5])\n",
    "print(e[False])\n",
    "print(e[0, '서울'])"
   ]
  },
  {
   "cell_type": "markdown",
   "id": "0ea3bd8e",
   "metadata": {},
   "source": [
    "## 딕셔너리 value의 자료형\n",
    "* value는 모든 자료형이 올 수 있음"
   ]
  },
  {
   "cell_type": "code",
   "execution_count": 10,
   "id": "62cfda84",
   "metadata": {},
   "outputs": [
    {
     "name": "stdout",
     "output_type": "stream",
     "text": [
      "{'정수': 100, '실수': 13.5, '문자열': '딕셔너리의 값', '리스트': [1, 2, 3, 4], '튜플': (1, 2, 3, 4), '딕셔너리': {'key': 'value'}, 'boolean': True}\n"
     ]
    }
   ],
   "source": [
    "f = {'정수' : 100, '실수' : 13.5, \"문자열\" : '딕셔너리의 값', '리스트':[1,2,3,4], '튜플': (1,2,3,4), '딕셔너리' : {'key':'value'}, 'boolean':True}\n",
    "print(f)"
   ]
  },
  {
   "cell_type": "markdown",
   "id": "75950ae5",
   "metadata": {},
   "source": [
    "## 빈 딕셔너리 만들기"
   ]
  },
  {
   "cell_type": "code",
   "execution_count": 12,
   "id": "62616610",
   "metadata": {},
   "outputs": [
    {
     "name": "stdout",
     "output_type": "stream",
     "text": [
      "{}\n",
      "{}\n"
     ]
    }
   ],
   "source": [
    "g = {}\n",
    "print(g)\n",
    "h = dict()\n",
    "print(h)"
   ]
  },
  {
   "cell_type": "markdown",
   "id": "8026a801",
   "metadata": {},
   "source": [
    "## 딕셔너리에 자료 추가하기\n",
    "* 변수['key'] = value"
   ]
  },
  {
   "cell_type": "code",
   "execution_count": 13,
   "id": "7ee52b42",
   "metadata": {},
   "outputs": [
    {
     "name": "stdout",
     "output_type": "stream",
     "text": [
      "{'번호': 0}\n"
     ]
    }
   ],
   "source": [
    "g['번호'] = 0\n",
    "print(g)"
   ]
  },
  {
   "cell_type": "code",
   "execution_count": 15,
   "id": "57b58b87",
   "metadata": {},
   "outputs": [
    {
     "name": "stdout",
     "output_type": "stream",
     "text": [
      "{'번호': 0, '이름': '홍길동'}\n"
     ]
    }
   ],
   "source": [
    "g['이름'] = '홍길동'\n",
    "print(g)"
   ]
  },
  {
   "cell_type": "markdown",
   "id": "ad4c93ac",
   "metadata": {},
   "source": [
    "# dict()로 딕셔너리 만들기\n",
    "## 1) dict(key=value, key=value)\n",
    "* key에 '',\"\"을 사용하지 않음\n",
    "* key는 모두 문자로 변환된다.\n",
    "* value가 문자형 자료라면 반드시 \"\",''가 필요하다"
   ]
  },
  {
   "cell_type": "code",
   "execution_count": 16,
   "id": "8bfa2b83",
   "metadata": {},
   "outputs": [
    {
     "name": "stdout",
     "output_type": "stream",
     "text": [
      "{'정수': 100, '실수': 13.5, '문자': '문자열', '리스트': [1, 2, 3], '튜플': (4, 5, 6), '딕셔너리': {'key': 'value'}}\n"
     ]
    }
   ],
   "source": [
    "d = dict(정수 = 100, 실수 = 13.5, 문자 = '문자열', 리스트 = [1,2,3], 튜플 = (4,5,6), 딕셔너리 = {'key':'value'})\n",
    "print(d)"
   ]
  },
  {
   "cell_type": "markdown",
   "id": "e072a350",
   "metadata": {},
   "source": [
    "### 2) dict([(key1, value1), (key2, value2)]) 형식\n",
    "* 리스트 안에 튜플을 나열해 만듦"
   ]
  },
  {
   "cell_type": "code",
   "execution_count": 17,
   "id": "3e63e9cd",
   "metadata": {},
   "outputs": [
    {
     "name": "stdout",
     "output_type": "stream",
     "text": [
      "{'key1': 2, '실수': 3.14}\n"
     ]
    }
   ],
   "source": [
    "d2 = dict([('key1', 2), ('실수', 3.14)])\n",
    "print(d2)"
   ]
  },
  {
   "cell_type": "markdown",
   "id": "cd11af79",
   "metadata": {},
   "source": [
    "### 3) dict(zip([key1,key2,key3], [value1, value2, value3])) 형식\n",
    "* key 묶음 리스트와 value 묶음 리스트를 zip 함수로 합친 후 dict로 만듦\n",
    "* key 묶음과 value 묶음은 요소의 개수가 동일해야 함"
   ]
  },
  {
   "cell_type": "code",
   "execution_count": 19,
   "id": "68a81b73",
   "metadata": {},
   "outputs": [
    {
     "name": "stdout",
     "output_type": "stream",
     "text": [
      "{'문자열': '딕셔너리의 값', '리스트': [1, 2, 3, 4], '튜플': (5, 6, 7, 8), '딕셔너리': {'key': 'value'}, '불린': True}\n"
     ]
    }
   ],
   "source": [
    "d3 = dict(zip(['문자열', '리스트', '튜플', '딕셔너리', '불린'], ['딕셔너리의 값', [1,2,3,4], (5,6,7,8), {'key':'value'}, True]))\n",
    "print(d3)"
   ]
  },
  {
   "cell_type": "markdown",
   "id": "2b58d375",
   "metadata": {},
   "source": [
    "## 딕셔너리에서 값 삭제하기\n",
    "del 변수명[key] -> key와 value 동시에 삭제 <br>\n",
    "del 변수명[key][인덱스] -> key의 특정value를 삭제"
   ]
  },
  {
   "cell_type": "code",
   "execution_count": 20,
   "id": "ec5986f7",
   "metadata": {},
   "outputs": [
    {
     "data": {
      "text/plain": [
       "{'문자열': '딕셔너리의 값',\n",
       " '리스트': [1, 2, 3, 4],\n",
       " '튜플': (5, 6, 7, 8),\n",
       " '딕셔너리': {'key': 'value'},\n",
       " '불린': True}"
      ]
     },
     "execution_count": 20,
     "metadata": {},
     "output_type": "execute_result"
    }
   ],
   "source": [
    "d3"
   ]
  },
  {
   "cell_type": "code",
   "execution_count": 22,
   "id": "14ea7c95",
   "metadata": {},
   "outputs": [
    {
     "data": {
      "text/plain": [
       "{'문자열': '딕셔너리의 값',\n",
       " '리스트': [1, 2, 3, 4],\n",
       " '튜플': (5, 6, 7, 8),\n",
       " '딕셔너리': {'key': 'value'},\n",
       " '불린': True,\n",
       " '믄자열': '오타가 난 키값'}"
      ]
     },
     "execution_count": 22,
     "metadata": {},
     "output_type": "execute_result"
    }
   ],
   "source": [
    "d3['믄자열'] = '오타가 난 키값'\n",
    "d3"
   ]
  },
  {
   "cell_type": "code",
   "execution_count": 23,
   "id": "303acab8",
   "metadata": {},
   "outputs": [
    {
     "data": {
      "text/plain": [
       "{'문자열': '딕셔너리의 값',\n",
       " '리스트': [1, 2, 3, 4],\n",
       " '튜플': (5, 6, 7, 8),\n",
       " '딕셔너리': {'key': 'value'},\n",
       " '불린': True}"
      ]
     },
     "execution_count": 23,
     "metadata": {},
     "output_type": "execute_result"
    }
   ],
   "source": [
    "del d3['믄자열']\n",
    "d3"
   ]
  },
  {
   "cell_type": "code",
   "execution_count": 24,
   "id": "78f16f16",
   "metadata": {},
   "outputs": [
    {
     "data": {
      "text/plain": [
       "{'문자열': '딕셔너리의 값',\n",
       " '리스트': [1, 3, 4],\n",
       " '튜플': (5, 6, 7, 8),\n",
       " '딕셔너리': {'key': 'value'},\n",
       " '불린': True}"
      ]
     },
     "execution_count": 24,
     "metadata": {},
     "output_type": "execute_result"
    }
   ],
   "source": [
    "del d3['리스트'][1]\n",
    "d3"
   ]
  },
  {
   "cell_type": "code",
   "execution_count": 26,
   "id": "e1e6a8cf",
   "metadata": {},
   "outputs": [
    {
     "data": {
      "text/plain": [
       "{'문자열': '딕셔너리의 값',\n",
       " '리스트': [1, 2, 2, 3, 4],\n",
       " '튜플': (5, 6, 7, 8),\n",
       " '딕셔너리': {'key': 'value'},\n",
       " '불린': True}"
      ]
     },
     "execution_count": 26,
     "metadata": {},
     "output_type": "execute_result"
    }
   ],
   "source": [
    "# value 값 추가\n",
    "d3['리스트'].insert(1,2)\n",
    "d3"
   ]
  },
  {
   "cell_type": "markdown",
   "id": "61a84213",
   "metadata": {},
   "source": [
    "### 딕셔너리 안에 특정 key가 있는지 확인하기\n",
    "* in과 not in 연산자 활용\n",
    "* value는 나오지 않음"
   ]
  },
  {
   "cell_type": "code",
   "execution_count": 27,
   "id": "b73c1d02",
   "metadata": {},
   "outputs": [
    {
     "data": {
      "text/plain": [
       "True"
      ]
     },
     "execution_count": 27,
     "metadata": {},
     "output_type": "execute_result"
    }
   ],
   "source": [
    "'리스트' in d3"
   ]
  },
  {
   "cell_type": "markdown",
   "id": "278f41eb",
   "metadata": {},
   "source": [
    "### len()으로 딕셔너리 key의 개수 구하기"
   ]
  },
  {
   "cell_type": "code",
   "execution_count": 31,
   "id": "a05145c9",
   "metadata": {},
   "outputs": [
    {
     "data": {
      "text/plain": [
       "4"
      ]
     },
     "execution_count": 31,
     "metadata": {},
     "output_type": "execute_result"
    }
   ],
   "source": [
    "len(d3['튜플'])"
   ]
  },
  {
   "cell_type": "markdown",
   "id": "3b32fc77",
   "metadata": {},
   "source": [
    "## 딕셔너리 함수 사용"
   ]
  },
  {
   "cell_type": "markdown",
   "id": "a8130a79",
   "metadata": {},
   "source": [
    "### 1) setdefault(key, value)\n",
    "* 딕셔너리에 key와 value를 추가\n",
    "* key만 지정할 경우 value는 'None'으로 입력됨\n",
    "* setdefault는 기존에 key가 있는 경우 value를 업데이트 하지 않음."
   ]
  },
  {
   "cell_type": "code",
   "execution_count": 32,
   "id": "ef9db224",
   "metadata": {},
   "outputs": [
    {
     "data": {
      "text/plain": [
       "{'문자열': '딕셔너리의 값',\n",
       " '리스트': [1, 2, 2, 3, 4],\n",
       " '튜플': (5, 6, 7, 8),\n",
       " '딕셔너리': {'key': 'value'},\n",
       " '불린': True,\n",
       " 'd': None}"
      ]
     },
     "execution_count": 32,
     "metadata": {},
     "output_type": "execute_result"
    }
   ],
   "source": [
    "d3.setdefault('d')\n",
    "d3"
   ]
  },
  {
   "cell_type": "code",
   "execution_count": 33,
   "id": "9f5ed8b0",
   "metadata": {},
   "outputs": [
    {
     "data": {
      "text/plain": [
       "{'문자열': '딕셔너리의 값',\n",
       " '리스트': [1, 2, 2, 3, 4],\n",
       " '튜플': (5, 6, 7, 8),\n",
       " '딕셔너리': {'key': 'value'},\n",
       " '불린': True,\n",
       " 'd': None,\n",
       " 'e': 123}"
      ]
     },
     "execution_count": 33,
     "metadata": {},
     "output_type": "execute_result"
    }
   ],
   "source": [
    "d3.setdefault('e', 123)\n",
    "d3"
   ]
  },
  {
   "cell_type": "markdown",
   "id": "a7ebf1d6",
   "metadata": {},
   "source": [
    "* 딕셔너리는 key가 중복될 수 없다.\n",
    "* 만약 중복이 된다면 가장 나중에 할당한 값으로 변한다."
   ]
  },
  {
   "cell_type": "code",
   "execution_count": 34,
   "id": "1fec4dcc",
   "metadata": {},
   "outputs": [
    {
     "data": {
      "text/plain": [
       "{'문자열': '딕셔너리의 값',\n",
       " '리스트': '리스트지',\n",
       " '튜플': (5, 6, 7, 8),\n",
       " '딕셔너리': {'key': 'value'},\n",
       " '불린': True,\n",
       " 'd': None,\n",
       " 'e': 123}"
      ]
     },
     "execution_count": 34,
     "metadata": {},
     "output_type": "execute_result"
    }
   ],
   "source": [
    "# key가 중복일 경우\n",
    "d4 = {'문자열': '딕셔너리의 값',\n",
    " '리스트': [1, 2, 2, 3, 4],\n",
    " '튜플': (5, 6, 7, 8),\n",
    " '딕셔너리': {'key': 'value'},\n",
    " '불린': True,\n",
    " 'd': None,\n",
    " 'e': 123,\n",
    " '리스트': '리스트지'}\n",
    "d4"
   ]
  },
  {
   "cell_type": "code",
   "execution_count": 35,
   "id": "baf36a5c",
   "metadata": {},
   "outputs": [
    {
     "data": {
      "text/plain": [
       "{'문자열': '딕셔너리의 값',\n",
       " '리스트': '리스트지',\n",
       " '튜플': (5, 6, 7, 8),\n",
       " '딕셔너리': {'key': 'value'},\n",
       " '불린': True,\n",
       " 'd': None,\n",
       " 'e': 123}"
      ]
     },
     "execution_count": 35,
     "metadata": {},
     "output_type": "execute_result"
    }
   ],
   "source": [
    "d4.setdefault('e',345)\n",
    "d4"
   ]
  },
  {
   "cell_type": "markdown",
   "id": "7c370d1e",
   "metadata": {},
   "source": [
    "### 2) update(key=value)\n",
    "* key는 문자형 key라도 따옴표를 사용하지 않응.\n",
    "* key를 문자형이 아니라 정수, 실수, 튜플로 넣을 경우에는 {key:value} 형식으로 넣는다."
   ]
  },
  {
   "cell_type": "code",
   "execution_count": 36,
   "id": "af95f02b",
   "metadata": {},
   "outputs": [
    {
     "data": {
      "text/plain": [
       "{'문자열': '딕셔너리의 값',\n",
       " '리스트': '리스트지',\n",
       " '튜플': (5, 6, 7, 8),\n",
       " '딕셔너리': {'key': 'value'},\n",
       " '불린': True,\n",
       " 'd': None,\n",
       " 'e': 'eee'}"
      ]
     },
     "execution_count": 36,
     "metadata": {},
     "output_type": "execute_result"
    }
   ],
   "source": [
    "d4.update(e='eee')\n",
    "d4"
   ]
  },
  {
   "cell_type": "code",
   "execution_count": 37,
   "id": "097e7322",
   "metadata": {},
   "outputs": [
    {
     "data": {
      "text/plain": [
       "{'문자열': '딕셔너리의 값',\n",
       " '리스트': '리스트지',\n",
       " '튜플': (5, 6, 7, 8),\n",
       " '딕셔너리': {'key': 'value'},\n",
       " '불린': True,\n",
       " 'd': None,\n",
       " 'e': 'eee',\n",
       " 13: '십삼',\n",
       " (0, '도시'): '서울시'}"
      ]
     },
     "execution_count": 37,
     "metadata": {},
     "output_type": "execute_result"
    }
   ],
   "source": [
    "d4.update({13:'십삼'})\n",
    "d4.update({(0,'도시'):'서울시'})\n",
    "d4"
   ]
  },
  {
   "cell_type": "code",
   "execution_count": 38,
   "id": "97c1cd8c",
   "metadata": {},
   "outputs": [
    {
     "data": {
      "text/plain": [
       "{'문자열': '딕셔너리의 값',\n",
       " '리스트': '리스트지',\n",
       " '튜플': (5, 6, 7, 8),\n",
       " '딕셔너리': {'key': 'value'},\n",
       " '불린': True,\n",
       " 'd': None,\n",
       " 'e': 'eee',\n",
       " 13: '십삼',\n",
       " (0, '도시'): '서울시',\n",
       " 'a': '십',\n",
       " 'b': '이십',\n",
       " 'c': '삼십'}"
      ]
     },
     "execution_count": 38,
     "metadata": {},
     "output_type": "execute_result"
    }
   ],
   "source": [
    "d4.update([['a','십'],['b','이십'],['c','삼십']])\n",
    "d4"
   ]
  },
  {
   "cell_type": "markdown",
   "id": "dd4f76d8",
   "metadata": {},
   "source": [
    "## 딕셔너리에서 value 값 가져오기\n",
    "* .get(key, key가 없을 때 기본값)"
   ]
  },
  {
   "cell_type": "code",
   "execution_count": 43,
   "id": "af1bf714",
   "metadata": {},
   "outputs": [
    {
     "name": "stdout",
     "output_type": "stream",
     "text": [
      "딕셔너리의 값\n",
      "없음\n"
     ]
    }
   ],
   "source": [
    "print(d4.get('문자열'))\n",
    "print(d4.get('f','없음'))"
   ]
  },
  {
   "cell_type": "markdown",
   "id": "7cbbf42b",
   "metadata": {},
   "source": [
    "### 💡(중요)딕셔너리에서 key와 value, key, value를 가져오는 함수\n",
    "* items() : dict_items([(key, value)])로 출력\n",
    "* keys() : key를 리스트 형식으로 출력\n",
    "* values() : value를 리스트 형식으로 출력"
   ]
  },
  {
   "cell_type": "code",
   "execution_count": 50,
   "id": "e441f7e1",
   "metadata": {},
   "outputs": [
    {
     "name": "stdout",
     "output_type": "stream",
     "text": [
      "dict_items([('문자열', '딕셔너리의 값'), ('리스트', '리스트지'), ('튜플', (5, 6, 7, 8)), ('딕셔너리', {'key': 'value'}), ('불린', True), ('d', None), ('e', 'eee'), (13, '십삼'), ((0, '도시'), '서울시'), ('a', '십'), ('b', '이십'), ('c', '삼십')])\n",
      "<class 'dict_items'>\n"
     ]
    }
   ],
   "source": [
    "print(d4.items())\n",
    "print(type(d4.items()))"
   ]
  },
  {
   "cell_type": "code",
   "execution_count": 53,
   "id": "515aa394",
   "metadata": {},
   "outputs": [
    {
     "data": {
      "text/plain": [
       "('문자열', '딕셔너리의 값')"
      ]
     },
     "execution_count": 53,
     "metadata": {},
     "output_type": "execute_result"
    }
   ],
   "source": [
    "# dict_items의 타입을 list 타입으로 변환\n",
    "d4_itmes_list = list(d4.items())\n",
    "d4_itmes_list[0]"
   ]
  },
  {
   "cell_type": "code",
   "execution_count": null,
   "id": "629663f7",
   "metadata": {},
   "outputs": [],
   "source": []
  },
  {
   "cell_type": "code",
   "execution_count": 45,
   "id": "f473e057",
   "metadata": {},
   "outputs": [
    {
     "data": {
      "text/plain": [
       "dict_keys(['문자열', '리스트', '튜플', '딕셔너리', '불린', 'd', 'e', 13, (0, '도시'), 'a', 'b', 'c'])"
      ]
     },
     "execution_count": 45,
     "metadata": {},
     "output_type": "execute_result"
    }
   ],
   "source": [
    "d4.keys()"
   ]
  },
  {
   "cell_type": "code",
   "execution_count": null,
   "id": "7428a57a",
   "metadata": {},
   "outputs": [],
   "source": []
  },
  {
   "cell_type": "code",
   "execution_count": null,
   "id": "e9345c21",
   "metadata": {},
   "outputs": [],
   "source": []
  },
  {
   "cell_type": "code",
   "execution_count": null,
   "id": "1cc320f8",
   "metadata": {},
   "outputs": [],
   "source": []
  },
  {
   "cell_type": "code",
   "execution_count": null,
   "id": "f1e08a4c",
   "metadata": {},
   "outputs": [],
   "source": []
  }
 ],
 "metadata": {
  "kernelspec": {
   "display_name": "Python 3 (ipykernel)",
   "language": "python",
   "name": "python3"
  },
  "language_info": {
   "codemirror_mode": {
    "name": "ipython",
    "version": 3
   },
   "file_extension": ".py",
   "mimetype": "text/x-python",
   "name": "python",
   "nbconvert_exporter": "python",
   "pygments_lexer": "ipython3",
   "version": "3.10.14"
  }
 },
 "nbformat": 4,
 "nbformat_minor": 5
}
