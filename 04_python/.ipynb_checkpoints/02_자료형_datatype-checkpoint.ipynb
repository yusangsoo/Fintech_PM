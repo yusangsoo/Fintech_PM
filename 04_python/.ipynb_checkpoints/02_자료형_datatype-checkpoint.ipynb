{
 "cells": [
  {
   "cell_type": "markdown",
   "id": "3b7a72b0",
   "metadata": {},
   "source": [
    "# 파이썬은 변수에 담는 자료에 따라서 동적으로 자료형이 정해짐"
   ]
  },
  {
   "cell_type": "markdown",
   "id": "c10a62c5",
   "metadata": {},
   "source": [
    "## 정수형 변수(int, integer)"
   ]
  },
  {
   "cell_type": "code",
   "execution_count": 1,
   "id": "a1fc226d",
   "metadata": {},
   "outputs": [],
   "source": [
    "x = 10"
   ]
  },
  {
   "cell_type": "markdown",
   "id": "5620c1d8",
   "metadata": {},
   "source": [
    "## 실수형 변수(float)"
   ]
  },
  {
   "cell_type": "code",
   "execution_count": 2,
   "id": "65a967ab",
   "metadata": {},
   "outputs": [],
   "source": [
    "y = 10.4"
   ]
  },
  {
   "cell_type": "markdown",
   "id": "42ff869c",
   "metadata": {},
   "source": [
    "## 문자형 변수(str)"
   ]
  },
  {
   "cell_type": "code",
   "execution_count": 7,
   "id": "44c2699e",
   "metadata": {},
   "outputs": [
    {
     "name": "stdout",
     "output_type": "stream",
     "text": [
      "문 / 문자열 / 문자열 '문자' / 문자 \"문자열\"\n"
     ]
    }
   ],
   "source": [
    "## 문자는 작은따옴표, 큰따옴표 둘 다 가능\n",
    "s = '문'\n",
    "s2 = \"문자열\"\n",
    "s3 = \"문자열 '문자'\"\n",
    "s4 = '문자 \"문자열\"'\n",
    "print(s, s2, s3, s4, sep = \" / \")"
   ]
  },
  {
   "cell_type": "markdown",
   "id": "2f92bd62",
   "metadata": {},
   "source": [
    "## 문단을 통채로 넣는 법\n",
    "\n",
    "''' ''' 또는 \"\"\" \"\"\"으로 활용"
   ]
  },
  {
   "cell_type": "code",
   "execution_count": 11,
   "id": "f106d994",
   "metadata": {},
   "outputs": [
    {
     "name": "stdout",
     "output_type": "stream",
     "text": [
      " 문자형 변수에는 단어 뿐만 아니라\n",
      "문장도 넣을 수 있다.\n",
      "줄 바꿈도 물론 가능\n"
     ]
    }
   ],
   "source": [
    "s5 = ''' 문자형 변수에는 단어 뿐만 아니라\n",
    "문장도 넣을 수 있다.\n",
    "줄 바꿈도 물론 가능'''\n",
    "\n",
    "print(s5)"
   ]
  },
  {
   "cell_type": "code",
   "execution_count": 12,
   "id": "6bbfa4bb",
   "metadata": {},
   "outputs": [
    {
     "name": "stdout",
     "output_type": "stream",
     "text": [
      " 문자형 변수에는 단어 뿐만 아니라 문장도 넣을 수 있다. 줄 바꿈도 물론 가능\n"
     ]
    }
   ],
   "source": [
    "s6 = \" 문자형 변수에는 단어 뿐만 아니라 \\\n",
    "문장도 넣을 수 있다. \\\n",
    "줄 바꿈도 물론 가능\"\n",
    "\n",
    "print(s6)"
   ]
  },
  {
   "cell_type": "code",
   "execution_count": 13,
   "id": "e3d4b503",
   "metadata": {},
   "outputs": [
    {
     "name": "stdout",
     "output_type": "stream",
     "text": [
      " 문자형 변수에는 단어 뿐만 아니라\n",
      "문장도 넣을 수 있다.\n",
      "줄 바꿈도 물론 가능\n"
     ]
    }
   ],
   "source": [
    "s7 = \"\"\" 문자형 변수에는 단어 뿐만 아니라\n",
    "문장도 넣을 수 있다.\n",
    "줄 바꿈도 물론 가능\"\"\"\n",
    "\n",
    "print(s7)"
   ]
  },
  {
   "cell_type": "code",
   "execution_count": 14,
   "id": "42b18f9c",
   "metadata": {},
   "outputs": [
    {
     "data": {
      "text/plain": [
       "' 문자형 변수에는 단어 뿐만 아니라\\n문장도 넣을 수 있다.\\n줄 바꿈도 물론 가능'"
      ]
     },
     "execution_count": 14,
     "metadata": {},
     "output_type": "execute_result"
    }
   ],
   "source": [
    "s7"
   ]
  },
  {
   "cell_type": "markdown",
   "id": "b20fc71a",
   "metadata": {},
   "source": [
    "## 변수의 데이터 타입을 출력하는 함수 type()"
   ]
  },
  {
   "cell_type": "code",
   "execution_count": 16,
   "id": "153ee018",
   "metadata": {},
   "outputs": [
    {
     "name": "stdout",
     "output_type": "stream",
     "text": [
      "10\n",
      "<class 'int'>\n"
     ]
    }
   ],
   "source": [
    "print(x)\n",
    "print(type(x))"
   ]
  },
  {
   "cell_type": "markdown",
   "id": "5a118c0a",
   "metadata": {},
   "source": [
    "## 리스트(list), 튜플(tuple)\n",
    "* 순서가 있음.\n",
    "* 인덱싱, 슬라이싱 가능\n",
    "* 여러 개의 자료를 넣을 수 있다.\n",
    "* 여러 개의 데이터 타입의 자료를 넣을 수 있다.\n",
    "* 리스트는 대괄호[] 사용\n",
    "* 튜플은 소괄호() 사용"
   ]
  },
  {
   "cell_type": "code",
   "execution_count": 18,
   "id": "3874b571",
   "metadata": {},
   "outputs": [
    {
     "name": "stdout",
     "output_type": "stream",
     "text": [
      "[1, 3.14, '파이썬', [1, 2, 3, 4], (5, 6, 7, 8)]\n"
     ]
    }
   ],
   "source": [
    "L = [1,3.14, \"파이썬\", [1,2,3,4], (5,6,7,8)]\n",
    "print(L)"
   ]
  },
  {
   "cell_type": "code",
   "execution_count": 22,
   "id": "7e9bbdec",
   "metadata": {},
   "outputs": [
    {
     "data": {
      "text/plain": [
       "3"
      ]
     },
     "execution_count": 22,
     "metadata": {},
     "output_type": "execute_result"
    }
   ],
   "source": [
    "L[3][2]"
   ]
  },
  {
   "cell_type": "markdown",
   "id": "d5498172",
   "metadata": {},
   "source": [
    "## 인덱싱 : 리스트, 튜플에서 인덱스 번호를 이용해서 자료를 출력\n",
    "* 인덱스는 자료의 순번"
   ]
  },
  {
   "cell_type": "code",
   "execution_count": 23,
   "id": "7c582ecd",
   "metadata": {},
   "outputs": [
    {
     "data": {
      "text/plain": [
       "2"
      ]
     },
     "execution_count": 23,
     "metadata": {},
     "output_type": "execute_result"
    }
   ],
   "source": [
    "# index()를 사용해서 특정 값의 인덱스 번호가 몇인지 알 수 있음\n",
    "L.index(\"파이썬\")"
   ]
  },
  {
   "cell_type": "markdown",
   "id": "0fc76fc5",
   "metadata": {},
   "source": [
    "## 슬라이싱 : 인덱스의 범위 지정해서 여러 개의 자료를 가져오는 것\n",
    "* 변수명[시작 인덱스 : 끝 인덱스+1]\n",
    "= 시작 인덱스부터 끝 인덱스까지 가져와라"
   ]
  },
  {
   "cell_type": "code",
   "execution_count": 24,
   "id": "129e31bb",
   "metadata": {},
   "outputs": [
    {
     "data": {
      "text/plain": [
       "[1, 3.14]"
      ]
     },
     "execution_count": 24,
     "metadata": {},
     "output_type": "execute_result"
    }
   ],
   "source": [
    "L[0:2]"
   ]
  },
  {
   "cell_type": "code",
   "execution_count": 27,
   "id": "5d5f405c",
   "metadata": {},
   "outputs": [
    {
     "data": {
      "text/plain": [
       "[(5, 6, 7, 8), [1, 2, 3, 4], '파이썬', 3.14, 1]"
      ]
     },
     "execution_count": 27,
     "metadata": {},
     "output_type": "execute_result"
    }
   ],
   "source": [
    "# 뒤에서부터 가져오는 방법은\n",
    "L[::-1]"
   ]
  },
  {
   "cell_type": "markdown",
   "id": "b1e45d8f",
   "metadata": {},
   "source": [
    "## 튜플\n",
    "* 리스트처럼 순서가 있어 인덱스 활용 가능, 슬라이싱 가능\n",
    "* 자료의 추가 및 삭제가 안됨."
   ]
  },
  {
   "cell_type": "code",
   "execution_count": 28,
   "id": "11d6d0d9",
   "metadata": {},
   "outputs": [],
   "source": [
    "t = (1,2,\"튜플\")"
   ]
  },
  {
   "cell_type": "code",
   "execution_count": 29,
   "id": "4e306aed",
   "metadata": {},
   "outputs": [
    {
     "data": {
      "text/plain": [
       "'튜플'"
      ]
     },
     "execution_count": 29,
     "metadata": {},
     "output_type": "execute_result"
    }
   ],
   "source": [
    "t[2]"
   ]
  },
  {
   "cell_type": "code",
   "execution_count": 30,
   "id": "b8726166",
   "metadata": {},
   "outputs": [
    {
     "ename": "AttributeError",
     "evalue": "'tuple' object has no attribute 'append'",
     "output_type": "error",
     "traceback": [
      "\u001b[1;31m---------------------------------------------------------------------------\u001b[0m",
      "\u001b[1;31mAttributeError\u001b[0m                            Traceback (most recent call last)",
      "Cell \u001b[1;32mIn[30], line 1\u001b[0m\n\u001b[1;32m----> 1\u001b[0m \u001b[43mt\u001b[49m\u001b[38;5;241;43m.\u001b[39;49m\u001b[43mappend\u001b[49m(\u001b[38;5;241m10\u001b[39m)\n",
      "\u001b[1;31mAttributeError\u001b[0m: 'tuple' object has no attribute 'append'"
     ]
    }
   ],
   "source": [
    "t.append(10)"
   ]
  },
  {
   "cell_type": "markdown",
   "id": "44a26c0f",
   "metadata": {},
   "source": [
    "## 딕셔너리(dict)\n",
    "* {key:value} 형태의 자료형\n",
    "* 순서가 없어 인덱싱, 슬라이싱 안됨\n",
    "* 반복 불가 = 반복문에서 활용 불가\n",
    "* key를 호출하면 value가 출력\n",
    "* key에 리스트를 제외하고 다른 자료형 사용 가능"
   ]
  },
  {
   "cell_type": "code",
   "execution_count": 32,
   "id": "bb1c0fed",
   "metadata": {},
   "outputs": [
    {
     "data": {
      "text/plain": [
       "{'년월': '202407', '국가': '미국', '방문자수': 1000}"
      ]
     },
     "execution_count": 32,
     "metadata": {},
     "output_type": "execute_result"
    }
   ],
   "source": [
    "d = {'년월' : '202407', '국가' : '미국', '방문자수' : 1000}\n",
    "d"
   ]
  },
  {
   "cell_type": "code",
   "execution_count": 34,
   "id": "9799b4ab",
   "metadata": {},
   "outputs": [
    {
     "data": {
      "text/plain": [
       "[3, 4, 5]"
      ]
     },
     "execution_count": 34,
     "metadata": {},
     "output_type": "execute_result"
    }
   ],
   "source": [
    "d2 = {2: [3,4,5], 3.14 : \"원주율\"}\n",
    "d2[2]"
   ]
  },
  {
   "cell_type": "code",
   "execution_count": 37,
   "id": "52c1a82a",
   "metadata": {},
   "outputs": [
    {
     "data": {
      "text/plain": [
       "{(1, 2): '튜플'}"
      ]
     },
     "execution_count": 37,
     "metadata": {},
     "output_type": "execute_result"
    }
   ],
   "source": [
    "d3 = {(1,2):'튜플'}\n",
    "d3"
   ]
  },
  {
   "cell_type": "code",
   "execution_count": null,
   "id": "684fc12f",
   "metadata": {},
   "outputs": [],
   "source": []
  }
 ],
 "metadata": {
  "kernelspec": {
   "display_name": "Python 3 (ipykernel)",
   "language": "python",
   "name": "python3"
  },
  "language_info": {
   "codemirror_mode": {
    "name": "ipython",
    "version": 3
   },
   "file_extension": ".py",
   "mimetype": "text/x-python",
   "name": "python",
   "nbconvert_exporter": "python",
   "pygments_lexer": "ipython3",
   "version": "3.10.14"
  }
 },
 "nbformat": 4,
 "nbformat_minor": 5
}
