{
 "cells": [
  {
   "cell_type": "markdown",
   "id": "259336a5",
   "metadata": {},
   "source": [
    "# 문자열 사용하기, 문자열 함수\n",
    "### 1. 문자열 사용하기의 기본"
   ]
  },
  {
   "cell_type": "markdown",
   "id": "b5acaf62",
   "metadata": {},
   "source": [
    "(큰, 작은) 따옴표 안에 문자를 넣어서 문자열을 만듦.\n"
   ]
  },
  {
   "cell_type": "code",
   "execution_count": 2,
   "id": "7dc281cd",
   "metadata": {},
   "outputs": [
    {
     "name": "stdout",
     "output_type": "stream",
     "text": [
      "hello 'world'\n"
     ]
    }
   ],
   "source": [
    "hello = \"hello 'world'\"\n",
    "print(hello)"
   ]
  },
  {
   "cell_type": "markdown",
   "id": "7c3a01a5",
   "metadata": {},
   "source": [
    "여러 줄로 된 문자열 사용하기 <br>\n",
    "''' ''' 혹은 \"\"\" \"\"\" 사용"
   ]
  },
  {
   "cell_type": "code",
   "execution_count": 4,
   "id": "2aac8ad2",
   "metadata": {},
   "outputs": [
    {
     "name": "stdout",
     "output_type": "stream",
     "text": [
      "\n",
      "안녕하세요\n",
      "python 수업인데요\n",
      "문 좀 열어주세요\n",
      "\n"
     ]
    }
   ],
   "source": [
    "hello = '''\n",
    "안녕하세요\n",
    "python 수업인데요\n",
    "문 좀 열어주세요\n",
    "'''\n",
    "print(hello)"
   ]
  },
  {
   "cell_type": "code",
   "execution_count": 5,
   "id": "1bb24972",
   "metadata": {},
   "outputs": [
    {
     "name": "stdout",
     "output_type": "stream",
     "text": [
      "\n",
      "안녕하세요\n",
      "파이썬 인데요\n",
      "python 집에 있나요?\n",
      "\n"
     ]
    }
   ],
   "source": [
    "hello2 = \"\"\"\n",
    "안녕하세요\n",
    "파이썬 인데요\n",
    "python 집에 있나요?\n",
    "\"\"\"\n",
    "print(hello2)"
   ]
  },
  {
   "cell_type": "markdown",
   "id": "268c0b5f",
   "metadata": {},
   "source": [
    "* escape(탈출) 문자 사용 <br>\n",
    "\\n -> 줄바꿈<br>\n",
    "\\t -> 탭. 4칸 공백<br>\n",
    "\\r -> 현재 줄의 제일 왼쪽 끝으로 커서 이동"
   ]
  },
  {
   "cell_type": "code",
   "execution_count": 7,
   "id": "a211fe0c",
   "metadata": {},
   "outputs": [
    {
     "name": "stdout",
     "output_type": "stream",
     "text": [
      "파이썬에서 줄바꿈은 \\n으로 합니다. \n",
      "\n",
      "\n",
      " 3줄 줄바꿈 끝\n"
     ]
    }
   ],
   "source": [
    "h1 = \"파이썬에서 줄바꿈은 \\\\n으로 합니다. \\n\\n\\n 3줄 줄바꿈 끝\"\n",
    "print(h1)"
   ]
  },
  {
   "cell_type": "code",
   "execution_count": 8,
   "id": "f04ca7ea",
   "metadata": {},
   "outputs": [
    {
     "name": "stdout",
     "output_type": "stream",
     "text": [
      "탭으로 공간을 띄우는 것은 \\t로 \t합니다.\n"
     ]
    }
   ],
   "source": [
    "h2 = \"탭으로 공간을 띄우는 것은 \\\\t로 \\t합니다.\"\n",
    "print(h2)"
   ]
  },
  {
   "cell_type": "code",
   "execution_count": 9,
   "id": "e149e146",
   "metadata": {},
   "outputs": [
    {
     "name": "stdout",
     "output_type": "stream",
     "text": [
      "캐리지 리턴은 \\r입니다. \n",
      "커서가 같은 줄 가장 앞으로 이동하기 때문에 \r",
      "글자가 겹쳐져서 지워졌습니다.\n"
     ]
    }
   ],
   "source": [
    "h3 = \"캐리지 리턴은 \\\\r입니다. \\n커서가 같은 줄 가장 앞으로 이동하기 때문에 \\r글자가 겹쳐져서 지워졌습니다.\"\n",
    "print(h3)"
   ]
  },
  {
   "cell_type": "markdown",
   "id": "21777353",
   "metadata": {},
   "source": [
    "## 인덱스와 문자열\n",
    "* 문자 : 글자가 1개 <br>\n",
    "* 문자열 : 글자가 여러 개. 순서가 있는 자료. 번호와 인덱스 가능"
   ]
  },
  {
   "cell_type": "code",
   "execution_count": 10,
   "id": "03f97c9c",
   "metadata": {},
   "outputs": [
    {
     "name": "stdout",
     "output_type": "stream",
     "text": [
      "문자열은 왼쪽부터 번호를 매길 수 있으며 시작은 0번부터 입니다.\n"
     ]
    }
   ],
   "source": [
    "h4 = \"문자열은 왼쪽부터 번호를 매길 수 있으며 시작은 0번부터 입니다.\"\n",
    "print(h4)"
   ]
  },
  {
   "cell_type": "code",
   "execution_count": 11,
   "id": "974588ae",
   "metadata": {},
   "outputs": [
    {
     "data": {
      "text/plain": [
       "'문자열은 '"
      ]
     },
     "execution_count": 11,
     "metadata": {},
     "output_type": "execute_result"
    }
   ],
   "source": [
    "h4[0:5]"
   ]
  },
  {
   "cell_type": "code",
   "execution_count": 12,
   "id": "ac4408e6",
   "metadata": {},
   "outputs": [
    {
     "data": {
      "text/plain": [
       "' 입니다.'"
      ]
     },
     "execution_count": 12,
     "metadata": {},
     "output_type": "execute_result"
    }
   ],
   "source": [
    "h4[-5:]"
   ]
  },
  {
   "cell_type": "code",
   "execution_count": 13,
   "id": "43f1a08a",
   "metadata": {},
   "outputs": [
    {
     "data": {
      "text/plain": [
       "'자은왼부 '"
      ]
     },
     "execution_count": 13,
     "metadata": {},
     "output_type": "execute_result"
    }
   ],
   "source": [
    "# 1부터 10까지 2칸씩 띄워서 가져와\n",
    "h4[1:11:2]"
   ]
  },
  {
   "cell_type": "markdown",
   "id": "29960ead",
   "metadata": {},
   "source": [
    "## 문자열 함수\n",
    "* .replace(찾을 값, 바꿀 값) : 문자열 바꾸기. 원본은 바꾸지 않음. 바꾸기 위해선 재할당을 해야 함.\n",
    "* .split() : 문자열 분리하기. 공백을 기준으로 문자열을 분리해 리스트로 만듦. 원본을 바꾸진 않음. 괄호 안엔 분리 기준을 넣는다\n",
    "* .join() : 문자열 합치기 -> 합칠 때 넣을 값.join(합칠 값). 원본을 바꾸진 않음.\n",
    "* .strip() : 왼쪽, 오른쪽, 양쪽 공백 혹은 특정 문자 삭제하기. 원본을 바꾸진 않음.\n",
    "* .lstrip() : 왼쪽\n",
    "* .rstrip() : 오른쪽\n",
    "* .strip() : 양쪽"
   ]
  },
  {
   "cell_type": "code",
   "execution_count": 14,
   "id": "2da44619",
   "metadata": {},
   "outputs": [
    {
     "data": {
      "text/plain": [
       "'hello, python'"
      ]
     },
     "execution_count": 14,
     "metadata": {},
     "output_type": "execute_result"
    }
   ],
   "source": [
    "h5 = \"hello, python\"\n",
    "h5"
   ]
  },
  {
   "cell_type": "code",
   "execution_count": 17,
   "id": "6963326d",
   "metadata": {},
   "outputs": [
    {
     "name": "stdout",
     "output_type": "stream",
     "text": [
      "hello, world\n",
      "hello, python\n"
     ]
    }
   ],
   "source": [
    "print(h5.replace('python', 'world'))\n",
    "print(h5)"
   ]
  },
  {
   "cell_type": "markdown",
   "id": "367bfacb",
   "metadata": {},
   "source": [
    "* str.maketrans('찾을 문자', '바꿀 문자', '추가로 없앨 문자')로 변환테이블 생성\n",
    "* translate으로 문자를 찾아서 바꿈. 원본은 바꾸지 않음."
   ]
  },
  {
   "cell_type": "code",
   "execution_count": 19,
   "id": "eabfd9bd",
   "metadata": {},
   "outputs": [],
   "source": [
    "h5 = h5.replace('python', 'world')"
   ]
  },
  {
   "cell_type": "code",
   "execution_count": 20,
   "id": "cdf6b19d",
   "metadata": {},
   "outputs": [],
   "source": [
    "table = str.maketrans('abcdefg', '1234567')"
   ]
  },
  {
   "cell_type": "code",
   "execution_count": 21,
   "id": "b0219660",
   "metadata": {},
   "outputs": [
    {
     "data": {
      "text/plain": [
       "'h5llo, worl4'"
      ]
     },
     "execution_count": 21,
     "metadata": {},
     "output_type": "execute_result"
    }
   ],
   "source": [
    "h5.translate(table)"
   ]
  },
  {
   "cell_type": "code",
   "execution_count": 25,
   "id": "18a56dbb",
   "metadata": {},
   "outputs": [],
   "source": [
    "# a를 1로, b를 2로, c를 3으로 ... 그리고 l과 o와 r을 없애라\n",
    "table = str.maketrans('abcdefg', '1234567', 'lor')"
   ]
  },
  {
   "cell_type": "code",
   "execution_count": 26,
   "id": "3a165132",
   "metadata": {},
   "outputs": [
    {
     "data": {
      "text/plain": [
       "'h5, w4'"
      ]
     },
     "execution_count": 26,
     "metadata": {},
     "output_type": "execute_result"
    }
   ],
   "source": [
    "h5.translate(table)"
   ]
  },
  {
   "cell_type": "code",
   "execution_count": 24,
   "id": "9d7d8631",
   "metadata": {},
   "outputs": [
    {
     "data": {
      "text/plain": [
       "'hello, world'"
      ]
     },
     "execution_count": 24,
     "metadata": {},
     "output_type": "execute_result"
    }
   ],
   "source": [
    "h5"
   ]
  },
  {
   "cell_type": "code",
   "execution_count": 27,
   "id": "4cc12a8e",
   "metadata": {},
   "outputs": [
    {
     "data": {
      "text/plain": [
       "['문자열은', '왼쪽부터', '번호를', '매길', '수', '있으며', '시작은', '0번부터', '입니다.']"
      ]
     },
     "execution_count": 27,
     "metadata": {},
     "output_type": "execute_result"
    }
   ],
   "source": [
    "h4.split()"
   ]
  },
  {
   "cell_type": "code",
   "execution_count": 28,
   "id": "5f658371",
   "metadata": {},
   "outputs": [],
   "source": [
    "h6 = \"'문자열은', '왼쪽부터', '번호를', '매길', '수', '있으며', '시작은', '0번부터', '입니다.'\""
   ]
  },
  {
   "cell_type": "code",
   "execution_count": 32,
   "id": "bb068691",
   "metadata": {},
   "outputs": [
    {
     "data": {
      "text/plain": [
       "\"'번호를'\""
      ]
     },
     "execution_count": 32,
     "metadata": {},
     "output_type": "execute_result"
    }
   ],
   "source": [
    "h6.split(', ')[2]"
   ]
  },
  {
   "cell_type": "code",
   "execution_count": 33,
   "id": "9a15c864",
   "metadata": {},
   "outputs": [],
   "source": [
    "h7 = \"사과, 배, 포도, 파인애플, 망고, 오렌지\""
   ]
  },
  {
   "cell_type": "code",
   "execution_count": 35,
   "id": "51f0e4d5",
   "metadata": {},
   "outputs": [
    {
     "name": "stdout",
     "output_type": "stream",
     "text": [
      "['사과', '배', '포도', '파인애플', '망고', '오렌지']\n"
     ]
    }
   ],
   "source": [
    "h7_1 = h7.split(', ')\n",
    "print(h7_1)"
   ]
  },
  {
   "cell_type": "code",
   "execution_count": 36,
   "id": "bbfda5df",
   "metadata": {},
   "outputs": [],
   "source": [
    "h9 = ['iron man', 'sprider-man', 'black widow', 'hulk']"
   ]
  },
  {
   "cell_type": "code",
   "execution_count": 42,
   "id": "8ed67550",
   "metadata": {},
   "outputs": [
    {
     "data": {
      "text/plain": [
       "'iron man vs sprider-man vs black widow vs hulk'"
      ]
     },
     "execution_count": 42,
     "metadata": {},
     "output_type": "execute_result"
    }
   ],
   "source": [
    "h9_1 = ' vs '.join(h9)\n",
    "h9_1"
   ]
  },
  {
   "cell_type": "code",
   "execution_count": 41,
   "id": "9fb8afa0",
   "metadata": {},
   "outputs": [
    {
     "name": "stdout",
     "output_type": "stream",
     "text": [
      "IRON MAN VS SPRIDER-MAN VS BLACK WIDOW VS HULK\n",
      "iron man vs sprider-man vs black widow vs hulk\n"
     ]
    }
   ],
   "source": [
    "print(h9_1.upper())\n",
    "print(h9_1.lower())"
   ]
  },
  {
   "cell_type": "code",
   "execution_count": 43,
   "id": "21b14c7a",
   "metadata": {},
   "outputs": [
    {
     "data": {
      "text/plain": [
       "'    공백이 있는 문자열    '"
      ]
     },
     "execution_count": 43,
     "metadata": {},
     "output_type": "execute_result"
    }
   ],
   "source": [
    "h11 = \"    공백이 있는 문자열    \"\n",
    "h11"
   ]
  },
  {
   "cell_type": "code",
   "execution_count": 44,
   "id": "8d20b231",
   "metadata": {},
   "outputs": [
    {
     "name": "stdout",
     "output_type": "stream",
     "text": [
      "공백이 있는 문자열    \n",
      "    공백이 있는 문자열\n",
      "공백이 있는 문자열\n"
     ]
    }
   ],
   "source": [
    "print(h11.lstrip())\n",
    "print(h11.rstrip())\n",
    "print(h11.strip())"
   ]
  },
  {
   "cell_type": "code",
   "execution_count": 46,
   "id": "b297cb5e",
   "metadata": {},
   "outputs": [
    {
     "data": {
      "text/plain": [
       "'  ...  , 공백과 특수문자가 같이 있는 문자열 !! ^^ ....  '"
      ]
     },
     "execution_count": 46,
     "metadata": {},
     "output_type": "execute_result"
    }
   ],
   "source": [
    "h12 = \"  ...  , 공백과 특수문자가 같이 있는 문자열 !! ^^ ....  \"\n",
    "h12"
   ]
  },
  {
   "cell_type": "code",
   "execution_count": 48,
   "id": "c504978b",
   "metadata": {},
   "outputs": [
    {
     "name": "stdout",
     "output_type": "stream",
     "text": [
      "...  , 공백과 특수문자가 같이 있는 문자열 !! ^^ ....  \n",
      "  ...  , 공백과 특수문자가 같이 있는 문자열 !! ^^ ....\n",
      "...  , 공백과 특수문자가 같이 있는 문자열 !! ^^ ....\n"
     ]
    }
   ],
   "source": [
    "print(h12.lstrip())\n",
    "print(h12.rstrip())\n",
    "print(h12.strip())"
   ]
  },
  {
   "cell_type": "code",
   "execution_count": 55,
   "id": "5c2d2d5e",
   "metadata": {
    "scrolled": true
   },
   "outputs": [
    {
     "name": "stdout",
     "output_type": "stream",
     "text": [
      "공백과 특수문자가 같이 있는 문자열 !! ^^ ....  \n",
      "  ...  , 공백과 특수문자가 같이 있는 문자열\n",
      "공백과 특수문자가 같이 있는 문자열\n"
     ]
    }
   ],
   "source": [
    "print(h12.lstrip(\"., \"))\n",
    "print(h12.rstrip('.!^ '))\n",
    "print(h12.strip(\"., !^\"))"
   ]
  },
  {
   "cell_type": "code",
   "execution_count": 58,
   "id": "3cd4fa0e",
   "metadata": {},
   "outputs": [
    {
     "name": "stdout",
     "output_type": "stream",
     "text": [
      "  ...  , 공백과 특수 문자가\n",
      " ^^ 같이 있는 \t문자열 !! ^^ ....  \n"
     ]
    }
   ],
   "source": [
    "h13 = \"  ...  , 공백과 특수 문자가\\n ^^ 같이 있는 \\t문자열 !! ^^ ....  \"\n",
    "print(h13)"
   ]
  },
  {
   "cell_type": "code",
   "execution_count": 68,
   "id": "87b04e89",
   "metadata": {
    "scrolled": true
   },
   "outputs": [
    {
     "name": "stdout",
     "output_type": "stream",
     "text": [
      "공백과 특수 문자가\n",
      " ^^ 같이 있는 \t문자열\n"
     ]
    }
   ],
   "source": [
    "# 문자열 내에 있는 건 처리하지 못함\n",
    "print(h13.strip('., \\n!^'))"
   ]
  },
  {
   "cell_type": "markdown",
   "id": "00041ab1",
   "metadata": {},
   "source": [
    "메소드 체이닝으로 여러 함수 동시에 사용하기"
   ]
  },
  {
   "cell_type": "code",
   "execution_count": 71,
   "id": "9d2d1652",
   "metadata": {},
   "outputs": [
    {
     "data": {
      "text/plain": [
       "'공백과 특수 문자가 같이 있는 문자열'"
      ]
     },
     "execution_count": 71,
     "metadata": {},
     "output_type": "execute_result"
    }
   ],
   "source": [
    "h13.strip('., !^').replace(\"^\", \"\").replace(\"\\n\",'').replace(\"\\t\",'').replace(\"  \", \" \")"
   ]
  },
  {
   "cell_type": "code",
   "execution_count": 75,
   "id": "78fe0c23",
   "metadata": {},
   "outputs": [
    {
     "data": {
      "text/plain": [
       "'공백과 특수 문자가 같이 있는 문자열'"
      ]
     },
     "execution_count": 75,
     "metadata": {},
     "output_type": "execute_result"
    }
   ],
   "source": [
    "h13.translate(str.maketrans('','',\".,!^\\n\\t\")).strip().replace('  ',' ')"
   ]
  },
  {
   "cell_type": "markdown",
   "id": "3c0c7aab",
   "metadata": {},
   "source": [
    "* string.punctuation을 이용해 특수문자 제거하기"
   ]
  },
  {
   "cell_type": "code",
   "execution_count": 77,
   "id": "6ff19a51",
   "metadata": {},
   "outputs": [
    {
     "data": {
      "text/plain": [
       "['Formatter',\n",
       " 'Template',\n",
       " '_ChainMap',\n",
       " '__all__',\n",
       " '__builtins__',\n",
       " '__cached__',\n",
       " '__doc__',\n",
       " '__file__',\n",
       " '__loader__',\n",
       " '__name__',\n",
       " '__package__',\n",
       " '__spec__',\n",
       " '_re',\n",
       " '_sentinel_dict',\n",
       " '_string',\n",
       " 'ascii_letters',\n",
       " 'ascii_lowercase',\n",
       " 'ascii_uppercase',\n",
       " 'capwords',\n",
       " 'digits',\n",
       " 'hexdigits',\n",
       " 'octdigits',\n",
       " 'printable',\n",
       " 'punctuation',\n",
       " 'whitespace']"
      ]
     },
     "execution_count": 77,
     "metadata": {},
     "output_type": "execute_result"
    }
   ],
   "source": [
    "import string\n",
    "dir(string)"
   ]
  },
  {
   "cell_type": "code",
   "execution_count": 78,
   "id": "0a10c1c5",
   "metadata": {},
   "outputs": [
    {
     "data": {
      "text/plain": [
       "'!\"#$%&\\'()*+,-./:;<=>?@[\\\\]^_`{|}~'"
      ]
     },
     "execution_count": 78,
     "metadata": {},
     "output_type": "execute_result"
    }
   ],
   "source": [
    "string.punctuation"
   ]
  },
  {
   "cell_type": "code",
   "execution_count": 80,
   "id": "aae7e3ba",
   "metadata": {},
   "outputs": [
    {
     "data": {
      "text/plain": [
       "'공백과 특수 문자가 같이 있는 문자열'"
      ]
     },
     "execution_count": 80,
     "metadata": {},
     "output_type": "execute_result"
    }
   ],
   "source": [
    "h13.translate(str.maketrans('','',string.punctuation)).strip().replace('  ',' ').replace(\"\\n\",'').replace(\"\\t\",\"\")"
   ]
  },
  {
   "cell_type": "code",
   "execution_count": 82,
   "id": "d52871d8",
   "metadata": {},
   "outputs": [],
   "source": [
    "test1 = '''344,622642,더 호텔 수 (THE HOTEL SOO),family,1박 가족 여행,2018년 5월 21일,8.0,\"위치 : 이순신 광장과는 반대편이라 차량으로 이동해야 합니다. 루프탑에서의\n",
    "바다 경치는 좋습니다.\n",
    "시설 : 깔끔하고 좋습니다. 패밀리룸을 사용 했는데 저녁6시쯤 갔더니 마지막 방이라며 2층을 배정 받았습니다. 창문을 여니 약간 쓰레기 냄새가 났고 바다가 보이지 않습니다.        \n",
    "루프탑 : 바베큐 세트가 저렴 했던거 같고 경치가 좋습니다. 수영장도 있었는데 계절이 아닌지.... \n",
    "    하지만 여름이면 좋을것 같습니다. 주차장은 장소가 넓지 않았던거 같고, 저녁에 나갔다 왔더니 야외 공터에 차를 대라고 하였습니다.    \n",
    "주말 저녁이라 그런지 가격을 제법 비싸게 준거 같은데... 2층이라 마음에 들지 않았습니다. 옆에 조선소 같은게 있어 쫌 보기에 좋지 않았습니다......................................'''"
   ]
  },
  {
   "cell_type": "code",
   "execution_count": 84,
   "id": "b625f024",
   "metadata": {},
   "outputs": [
    {
     "name": "stdout",
     "output_type": "stream",
     "text": [
      "['344', '622642', '더 호텔 수 (THE HOTEL SOO)', 'family', '1박 가족 여행', '2018년 5월 21일', '8.0', '\"위치 : 이순신 광장과는 반대편이라 차량으로 이동해야 합니다. 루프탑에서의\\n바다 경치는 좋습니다.\\n시설 : 깔끔하고 좋습니다. 패밀리룸을 사용 했는데 저녁6시쯤 갔더니 마지막 방이라며 2층을 배정 받았습니다. 창문을 여니 약간 쓰레기 냄새가 났고 바다가 보이지 않습니다.        \\n루프탑 : 바베큐 세트가 저렴 했던거 같고 경치가 좋습니다. 수영장도 있었는데 계절이 아닌지.... \\n    하지만 여름이면 좋을것 같습니다. 주차장은 장소가 넓지 않았던거 같고', ' 저녁에 나갔다 왔더니 야외 공터에 차를 대라고 하였습니다.    \\n주말 저녁이라 그런지 가격을 제법 비싸게 준거 같은데... 2층이라 마음에 들지 않았습니다. 옆에 조선소 같은게 있어 쫌 보기에 좋지 않았습니다......................................']\n"
     ]
    }
   ],
   "source": [
    "test_split = test1.split(',')\n",
    "print(test_split)"
   ]
  },
  {
   "cell_type": "code",
   "execution_count": 108,
   "id": "ed15d58a",
   "metadata": {},
   "outputs": [
    {
     "name": "stdout",
     "output_type": "stream",
     "text": [
      "344,622642\n",
      "더 호텔 수 (THE HOTEL SOO)\n",
      "['더 호텔 수', 'THE HOTEL SOO)']\n",
      "더 호텔 수\n",
      "THE HOTEL SOO\n",
      "family\n",
      "1박 가족 여행\n",
      "2018년 5월 21일\n",
      "8.0\n",
      "\"위치 : 이순신 광장과는 반대편이라 차량으로 이동해야 합니다. 루프탑에서의바다 경치는 좋습니다.시설 : 깔끔하고 좋습니다. 패밀리룸을 사용 했는데 저녁6시쯤 갔더니 마지막 방이라며 2층을 배정 받았습니다. 창문을 여니 약간 쓰레기 냄새가 났고 바다가 보이지 않습니다.        루프탑 : 바베큐 세트가 저렴 했던거 같고 경치가 좋습니다. 수영장도 있었는데 계절이 아닌지....     하지만 여름이면 좋을것 같습니다. 주차장은 장소가 넓지 않았던거 같고 저녁에 나갔다 왔더니 야외 공터에 차를 대라고 하였습니다.    주말 저녁이라 그런지 가격을 제법 비싸게 준거 같은데... 2층이라 마음에 들지 않았습니다. 옆에 조선소 같은게 있어 쫌 보기에 좋지 않았습니다\n"
     ]
    }
   ],
   "source": [
    "hid_1 = ','.join(test_split[0:2])\n",
    "print(hid_1)\n",
    "hotel_name = test_split[2]\n",
    "print(hotel_name)\n",
    "hotel_name = hotel_name.split(' (')\n",
    "print(hotel_name)\n",
    "hotel_name_kor_1 = hotel_name[0]\n",
    "print(hotel_name_kor_1)\n",
    "hotel_name_eng_1 = hotel_name[1].replace(')','')\n",
    "print(hotel_name_eng_1)\n",
    "trip_type_1 = test_split[3]\n",
    "print(trip_type_1)\n",
    "trip_type_2 = test_split[4]\n",
    "print(trip_type_2)\n",
    "trip_date = test_split[5]\n",
    "print(trip_date)\n",
    "rating = test_split[6]\n",
    "print(rating)\n",
    "review = ''.join(test_split[7:]).replace(\"\\n\", '').strip('.')\n",
    "print(review)"
   ]
  },
  {
   "cell_type": "code",
   "execution_count": 109,
   "id": "71233bd9",
   "metadata": {},
   "outputs": [],
   "source": [
    "test2= \"18062,427535,파크 하얏트 부산 (Park Hyatt Busan),family,2박 가족 여행,2019년 12월 29일,10.0,결혼 1주년 기념으로 아이랑 신랑이랑 다녀왔어요~ 룸컨디션 너무 좋았고 뷰가 최고였습니다! 2박 머물렀는데 청소도 깔끔하게 해주시고 애기가 이불에 살짝 토했는데도 바로 갈아주시고 좋았습니다~ 대신 창가쪽 커튼 한쪽이 떨어져있어서 조금 거슬렸구요... 창가에 침실이 있다보니 암막커튼을 치지 않으면 조금 쌀쌀한 느낌은 있었어요! 아 그리고 아기때문에 침대에 가드를 부탁드렸는데 가드가 너무 별로였습니다... 가드 구실을 못하고 넘 허술하게 매트리스 아래 그냥 끼워진거라 아기가 밤새 두번이나 가드사이에 빠졌습니다... 이점 좀 아쉬워요 ! 그 외에는 다이닝룸 리빙룸, 바까지 모두 이용했는데 서비스 좋았습니다~~!\""
   ]
  },
  {
   "cell_type": "code",
   "execution_count": 110,
   "id": "c9cdd06e",
   "metadata": {},
   "outputs": [
    {
     "name": "stdout",
     "output_type": "stream",
     "text": [
      "['18062', '427535', '파크 하얏트 부산 (Park Hyatt Busan)', 'family', '2박 가족 여행', '2019년 12월 29일', '10.0', '결혼 1주년 기념으로 아이랑 신랑이랑 다녀왔어요~ 룸컨디션 너무 좋았고 뷰가 최고였습니다! 2박 머물렀는데 청소도 깔끔하게 해주시고 애기가 이불에 살짝 토했는데도 바로 갈아주시고 좋았습니다~ 대신 창가쪽 커튼 한쪽이 떨어져있어서 조금 거슬렸구요... 창가에 침실이 있다보니 암막커튼을 치지 않으면 조금 쌀쌀한 느낌은 있었어요! 아 그리고 아기때문에 침대에 가드를 부탁드렸는데 가드가 너무 별로였습니다... 가드 구실을 못하고 넘 허술하게 매트리스 아래 그냥 끼워진거라 아기가 밤새 두번이나 가드사이에 빠졌습니다... 이점 좀 아쉬워요 ! 그 외에는 다이닝룸 리빙룸', ' 바까지 모두 이용했는데 서비스 좋았습니다~~!']\n"
     ]
    }
   ],
   "source": [
    "test2_split = test2.split(',')\n",
    "print(test2_split)"
   ]
  },
  {
   "cell_type": "code",
   "execution_count": 112,
   "id": "bba7abc1",
   "metadata": {},
   "outputs": [
    {
     "name": "stdout",
     "output_type": "stream",
     "text": [
      "18062,427535\n",
      "파크 하얏트 부산 (Park Hyatt Busan)\n",
      "['파크 하얏트 부산', 'Park Hyatt Busan)']\n",
      "파크 하얏트 부산\n",
      "Park Hyatt Busan\n",
      "family\n",
      "2박 가족 여행\n",
      "2019년 12월 29일\n",
      "10.0\n",
      "결혼 1주년 기념으로 아이랑 신랑이랑 다녀왔어요 룸컨디션 너무 좋았고 뷰가 최고였습니다 2박 머물렀는데 청소도 깔끔하게 해주시고 애기가 이불에 살짝 토했는데도 바로 갈아주시고 좋았습니다 대신 창가쪽 커튼 한쪽이 떨어져있어서 조금 거슬렸구요... 창가에 침실이 있다보니 암막커튼을 치지 않으면 조금 쌀쌀한 느낌은 있었어요 아 그리고 아기때문에 침대에 가드를 부탁드렸는데 가드가 너무 별로였습니다... 가드 구실을 못하고 넘 허술하게 매트리스 아래 그냥 끼워진거라 아기가 밤새 두번이나 가드사이에 빠졌습니다... 이점 좀 아쉬워요  그 외에는 다이닝룸 리빙룸 바까지 모두 이용했는데 서비스 좋았습니다\n"
     ]
    }
   ],
   "source": [
    "hid_2 = ','.join(test2_split[0:2])\n",
    "print(hid_2)\n",
    "hotel_name_2 = test2_split[2]\n",
    "print(hotel_name_2)\n",
    "hotel_name_2 = hotel_name_2.split(' (')\n",
    "print(hotel_name_2)\n",
    "hotel_name_kor_2 = hotel_name_2[0]\n",
    "print(hotel_name_kor_2)\n",
    "hotel_name_eng_2 = hotel_name_2[1].replace(')','')\n",
    "print(hotel_name_eng_2)\n",
    "trip_type_1_2 = test2_split[3]\n",
    "print(trip_type_1_2)\n",
    "trip_type_2_2 = test2_split[4]\n",
    "print(trip_type_2_2)\n",
    "trip_date_2 = test2_split[5]\n",
    "print(trip_date_2)\n",
    "rating_2 = test2_split[6]\n",
    "print(rating_2)\n",
    "review_2 = ''.join(test2_split[7:]).translate(str.maketrans('','','!~'))\n",
    "print(review_2)"
   ]
  },
  {
   "cell_type": "code",
   "execution_count": 113,
   "id": "e9c533a5",
   "metadata": {},
   "outputs": [],
   "source": [
    "test3 = \"\"\"112731,239840,서귀포 칼 호텔 (Seogwipo KAL Hotel),family,3박 가족 여행,2020년 11월 19일,8.0,넓디넓은 정원과 산책로 덕분에 코로나 시대 언택트 여행에 좋았구요. 조용하고 한적하게 잘 쉬었어요.\n",
    "아무래도 서귀포가 제주시쪽보단 사람도 적어서 오히려 편하면서, 주변에 식당이나 까페, 편의점 갈때도 걸어서도 다녀올 입지라 좋습니다.\n",
    "실내 수영장은 생각만큼? 작은 규모라 오히려 사람 없이 잘 놀았어요ㅎㅎ \n",
    "라운지바가 넓고 층고도 높아서 커피나 맥주 먹으며 쉬기에 좋고요.\n",
    "매일 주시는 1.5리터 생수ㅎㅎ별거 아닐수 있지만 매우 감사했구요.\n",
    "다만 층수가 낮은 방이어서 그런가 모기가 있었어요^^;; 그외에는 다 깨끗했구요. \n",
    "매트리스가 오래됐는지 묘하게 불편해서 허리가 아프긴 하더라고요;; 다행히? 세미온돌이라 바닥에서 자는게 오히려 나았고요\n",
    "조식은...최근 후기가 다 별로라길래 하루만 가봤는데 역시;;ㅎ 뭐 저렴하기도 하지만.. 저는 나가서 먹었습니다.\"\"\""
   ]
  },
  {
   "cell_type": "code",
   "execution_count": 114,
   "id": "0c77eee2",
   "metadata": {
    "scrolled": true
   },
   "outputs": [
    {
     "name": "stdout",
     "output_type": "stream",
     "text": [
      "['112731', '239840', '서귀포 칼 호텔 (Seogwipo KAL Hotel)', 'family', '3박 가족 여행', '2020년 11월 19일', '8.0', '넓디넓은 정원과 산책로 덕분에 코로나 시대 언택트 여행에 좋았구요. 조용하고 한적하게 잘 쉬었어요.\\n아무래도 서귀포가 제주시쪽보단 사람도 적어서 오히려 편하면서', ' 주변에 식당이나 까페', ' 편의점 갈때도 걸어서도 다녀올 입지라 좋습니다.\\n실내 수영장은 생각만큼? 작은 규모라 오히려 사람 없이 잘 놀았어요ㅎㅎ \\n라운지바가 넓고 층고도 높아서 커피나 맥주 먹으며 쉬기에 좋고요.\\n매일 주시는 1.5리터 생수ㅎㅎ별거 아닐수 있지만 매우 감사했구요.\\n다만 층수가 낮은 방이어서 그런가 모기가 있었어요^^;; 그외에는 다 깨끗했구요. \\n매트리스가 오래됐는지 묘하게 불편해서 허리가 아프긴 하더라고요;; 다행히? 세미온돌이라 바닥에서 자는게 오히려 나았고요\\n조식은...최근 후기가 다 별로라길래 하루만 가봤는데 역시;;ㅎ 뭐 저렴하기도 하지만.. 저는 나가서 먹었습니다.']\n"
     ]
    }
   ],
   "source": [
    "test3_split = test3.split(',')\n",
    "print(test3_split)"
   ]
  },
  {
   "cell_type": "code",
   "execution_count": 116,
   "id": "69ea698b",
   "metadata": {
    "scrolled": false
   },
   "outputs": [
    {
     "name": "stdout",
     "output_type": "stream",
     "text": [
      "112731,239840\n",
      "서귀포 칼 호텔 (Seogwipo KAL Hotel)\n",
      "['서귀포 칼 호텔', 'Seogwipo KAL Hotel)']\n",
      "서귀포 칼 호텔\n",
      "Seogwipo KAL Hotel\n",
      "family\n",
      "3박 가족 여행\n",
      "2020년 11월 19일\n",
      "8.0\n",
      "넓디넓은 정원과 산책로 덕분에 코로나 시대 언택트 여행에 좋았구요. 조용하고 한적하게 잘 쉬었어요.아무래도 서귀포가 제주시쪽보단 사람도 적어서 오히려 편하면서  주변에 식당이나 까페  편의점 갈때도 걸어서도 다녀올 입지라 좋습니다.실내 수영장은 생각만큼 작은 규모라 오히려 사람 없이 잘 놀았어요ㅎㅎ 라운지바가 넓고 층고도 높아서 커피나 맥주 먹으며 쉬기에 좋고요.매일 주시는 1.5리터 생수ㅎㅎ별거 아닐수 있지만 매우 감사했구요.다만 층수가 낮은 방이어서 그런가 모기가 있었어요 그외에는 다 깨끗했구요. 매트리스가 오래됐는지 묘하게 불편해서 허리가 아프긴 하더라고요 다행히 세미온돌이라 바닥에서 자는게 오히려 나았고요조식은...최근 후기가 다 별로라길래 하루만 가봤는데 역시ㅎ 뭐 저렴하기도 하지만.. 저는 나가서 먹었습니다.\n"
     ]
    }
   ],
   "source": [
    "hid_3 = ','.join(test3_split[0:2])\n",
    "print(hid_3)\n",
    "hotel_name_3 = test3_split[2]\n",
    "print(hotel_name_3)\n",
    "hotel_name_3 = hotel_name_3.split(' (')\n",
    "print(hotel_name_3)\n",
    "hotel_name_kor_3 = hotel_name_3[0]\n",
    "print(hotel_name_kor_3)\n",
    "hotel_name_eng_3 = hotel_name_3[1].replace(')','')\n",
    "print(hotel_name_eng_3)\n",
    "trip_type_1_3 = test3_split[3]\n",
    "print(trip_type_1_3)\n",
    "trip_type_2_3 = test3_split[4]\n",
    "print(trip_type_2_3)\n",
    "trip_date_3 = test3_split[5]\n",
    "print(trip_date_3)\n",
    "rating_3 = test3_split[6]\n",
    "print(rating_3)\n",
    "review_3 = ' '.join(test3_split[7:]).translate(str.maketrans('','','!~\\n^;?'))\n",
    "print(review_3)"
   ]
  },
  {
   "cell_type": "code",
   "execution_count": null,
   "id": "2d5dd4df",
   "metadata": {},
   "outputs": [],
   "source": []
  },
  {
   "cell_type": "code",
   "execution_count": null,
   "id": "a6d33b06",
   "metadata": {},
   "outputs": [],
   "source": []
  },
  {
   "cell_type": "code",
   "execution_count": null,
   "id": "5fe8e161",
   "metadata": {},
   "outputs": [],
   "source": []
  }
 ],
 "metadata": {
  "kernelspec": {
   "display_name": "Python 3 (ipykernel)",
   "language": "python",
   "name": "python3"
  },
  "language_info": {
   "codemirror_mode": {
    "name": "ipython",
    "version": 3
   },
   "file_extension": ".py",
   "mimetype": "text/x-python",
   "name": "python",
   "nbconvert_exporter": "python",
   "pygments_lexer": "ipython3",
   "version": "3.10.14"
  }
 },
 "nbformat": 4,
 "nbformat_minor": 5
}
