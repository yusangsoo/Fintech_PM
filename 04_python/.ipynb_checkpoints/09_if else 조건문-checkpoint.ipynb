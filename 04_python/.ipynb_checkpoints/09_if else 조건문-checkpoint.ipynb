{
 "cells": [
  {
   "cell_type": "markdown",
   "id": "1a80f6e7",
   "metadata": {},
   "source": [
    "# if else 조건문"
   ]
  },
  {
   "cell_type": "markdown",
   "id": "8248b32d",
   "metadata": {},
   "source": [
    "## 1. 조건문이란 특정 조건일 때 실행하는 문법\n",
    "if 조건식 : <br>\n",
    "____조건식이 참일 때 실행할 코드 <br>\n",
    "else: <br>\n",
    "____조건식이 거짓일 때 실행할 코드"
   ]
  },
  {
   "cell_type": "code",
   "execution_count": 1,
   "id": "23d8fad2",
   "metadata": {},
   "outputs": [],
   "source": [
    "x = 11"
   ]
  },
  {
   "cell_type": "code",
   "execution_count": 2,
   "id": "088bb757",
   "metadata": {},
   "outputs": [
    {
     "name": "stdout",
     "output_type": "stream",
     "text": [
      "x는 10이 아닌 11 입니다\n"
     ]
    }
   ],
   "source": [
    "if x == 10:\n",
    "    print(\"x는\", x, \"입니다.\")\n",
    "else:\n",
    "    print(\"x는 10이 아닌\", x, '입니다')"
   ]
  },
  {
   "cell_type": "code",
   "execution_count": 3,
   "id": "b21cdf1b",
   "metadata": {},
   "outputs": [],
   "source": [
    "L1 = ['파이썬', '조건문', 10, 15.3, True, [1,2,3],(4,5,6),{'key':'value'}]"
   ]
  },
  {
   "cell_type": "code",
   "execution_count": 4,
   "id": "a7aa772f",
   "metadata": {},
   "outputs": [
    {
     "name": "stdout",
     "output_type": "stream",
     "text": [
      "L1안에 파이썬이 있습니다.\n"
     ]
    }
   ],
   "source": [
    "if '파이썬' in L1 :\n",
    "    print('L1안에 파이썬이 있습니다.')"
   ]
  },
  {
   "cell_type": "code",
   "execution_count": 6,
   "id": "b73e74b6",
   "metadata": {},
   "outputs": [
    {
     "name": "stdout",
     "output_type": "stream",
     "text": [
      "L1안에 hello가 없습니다.\n"
     ]
    }
   ],
   "source": [
    "if 'hell' in L1 :\n",
    "    print('L1안에 hello가 있습니다.')\n",
    "else:\n",
    "    print('L1안에 hello가 없습니다.')"
   ]
  },
  {
   "cell_type": "code",
   "execution_count": 9,
   "id": "e761587a",
   "metadata": {},
   "outputs": [
    {
     "name": "stdout",
     "output_type": "stream",
     "text": [
      "숫자를 입력하세요17359\n",
      "입력한 숫자 17359 는 홀수입니다.\n"
     ]
    }
   ],
   "source": [
    "x = int(input('숫자를 입력하세요'))\n",
    "if x % 2 == 0 :\n",
    "    print('입력한 숫자', x, '는 짝수입니다.')\n",
    "else:\n",
    "    print('입력한 숫자', x, '는 홀수입니다.')"
   ]
  },
  {
   "cell_type": "markdown",
   "id": "60e1976e",
   "metadata": {},
   "source": [
    "## 2. 다중 조건문 사용하기 elif\n",
    "if 조건식 : <br>\n",
    "____조건식이 참일 때 실행할 코드 <br>\n",
    "elif 조건식 2: <br>\n",
    "____조건식2가 참일 때 실행할 코드<br>\n",
    "elif 조건식 3:<br>\n",
    "____조건식3이 참일 때 실행할 코드<br>\n",
    "else:<br>\n",
    "____조건식 1,2,3이 모두 아닐 경우"
   ]
  },
  {
   "cell_type": "markdown",
   "id": "21028e45",
   "metadata": {},
   "source": [
    "점수가 81-100이면 a, 61-80이면 b, 41-60이면 c, 21-40이면 d, 0-20 f"
   ]
  },
  {
   "cell_type": "code",
   "execution_count": 10,
   "id": "90d4310a",
   "metadata": {},
   "outputs": [
    {
     "name": "stdout",
     "output_type": "stream",
     "text": [
      "점수를 입력해주세요 66\n",
      "학점은 b입니다\n"
     ]
    }
   ],
   "source": [
    "x = int(input('점수를 입력해주세요 '))\n",
    "if 81<= x <= 100 :\n",
    "    print('학점은 a입니다')\n",
    "elif 61 <= x :\n",
    "    print('학점은 b입니다')\n",
    "elif 41 <= x :\n",
    "    print('학점은 c입니다')\n",
    "elif 21 <= x :\n",
    "    print('학점은 d입니다')\n",
    "else:\n",
    "    print('학점은 f입니다')"
   ]
  },
  {
   "cell_type": "markdown",
   "id": "d96a3e1d",
   "metadata": {},
   "source": [
    "국어, 영어, 수학, 과학 점수를 입력해서 평균 80점 이상이면 합격, 미만이면 불합격 <br>\n",
    "단, 과목 당 60점 미만이 있으면 과락으로 불합격 <br>\n",
    "입력 범위는 0-100이며 범위를 벗어나면 '입력범위 초과'를 출력"
   ]
  },
  {
   "cell_type": "code",
   "execution_count": 28,
   "id": "7db8cfcc",
   "metadata": {},
   "outputs": [
    {
     "name": "stdout",
     "output_type": "stream",
     "text": [
      "국어 점수를 입력해주세요 1010\n",
      "영어 점수를 입력해주세요 88\n",
      "수학 점수를 입력해주세요 88\n",
      "과학 점수를 입력해주세요 88\n",
      "1010\n",
      "88\n",
      "88\n",
      "88\n",
      "입력범위 초과2\n"
     ]
    }
   ],
   "source": [
    "ko = int(input('국어 점수를 입력해주세요 '))\n",
    "en = int(input('영어 점수를 입력해주세요 '))\n",
    "ma = int(input('수학 점수를 입력해주세요 '))\n",
    "sc = int(input('과학 점수를 입력해주세요 '))\n",
    "print(ko)\n",
    "print(en)\n",
    "print(ma)\n",
    "print(sc)\n",
    "\n",
    "if ko < 0 or en < 0 or ma < 0 or sc < 0 :\n",
    "    print('입력범위 초과1')\n",
    "elif ko > 100 or en > 100 or ma > 100 or sc > 100 :\n",
    "    print('입력범위 초과2')\n",
    "elif ko < 60 or en < 60 or ma < 60 or sc < 60 :\n",
    "    print('과락')\n",
    "elif (ko+en+ma+sc)/4 >= 80 :\n",
    "    print('합격')\n",
    "else:\n",
    "    print('불합격')"
   ]
  },
  {
   "cell_type": "code",
   "execution_count": 32,
   "id": "3970c47c",
   "metadata": {},
   "outputs": [
    {
     "name": "stdout",
     "output_type": "stream",
     "text": [
      "국어, 영어, 수학, 과학 점수를 입력해주세여10 10 10 10\n",
      "10 10 10 10\n",
      "<class 'int'>\n"
     ]
    }
   ],
   "source": [
    "kor, eng, mat, sci = map(int, input(\"국어, 영어, 수학, 과학 점수를 입력해주세여\").split())\n",
    "print(kor, eng, mat, sci)\n",
    "print(type(kor))"
   ]
  },
  {
   "cell_type": "markdown",
   "id": "ca954396",
   "metadata": {},
   "source": [
    "1-50 사이의 숫자를 입력받아서 3의 배수면 '3의 배수입니다.'를 출력. 아니면 '3의 배수가 아닙니다' 출력"
   ]
  },
  {
   "cell_type": "code",
   "execution_count": 35,
   "id": "d343b85a",
   "metadata": {},
   "outputs": [
    {
     "name": "stdout",
     "output_type": "stream",
     "text": [
      "숫자를 입력하세요 42\n",
      "3의 배수입니다.\n"
     ]
    }
   ],
   "source": [
    "num = int(input(\"숫자를 입력하세요 \"))\n",
    "\n",
    "if 1 <= num <= 50 :\n",
    "    if num % 3 == 0:\n",
    "        print('3의 배수입니다.')\n",
    "    else:\n",
    "        print('3의 배수가 아닙니다.')\n",
    "else:\n",
    "    print('1부터 50까지의 숫자를 입력하세요')"
   ]
  },
  {
   "cell_type": "code",
   "execution_count": null,
   "id": "2b10794b",
   "metadata": {},
   "outputs": [],
   "source": []
  },
  {
   "cell_type": "code",
   "execution_count": null,
   "id": "e9ded7ef",
   "metadata": {},
   "outputs": [],
   "source": []
  },
  {
   "cell_type": "code",
   "execution_count": null,
   "id": "a1e9f2bb",
   "metadata": {},
   "outputs": [],
   "source": []
  },
  {
   "cell_type": "code",
   "execution_count": null,
   "id": "94aaee33",
   "metadata": {},
   "outputs": [],
   "source": []
  },
  {
   "cell_type": "code",
   "execution_count": null,
   "id": "9a779744",
   "metadata": {},
   "outputs": [],
   "source": []
  },
  {
   "cell_type": "code",
   "execution_count": null,
   "id": "165eec73",
   "metadata": {},
   "outputs": [],
   "source": []
  },
  {
   "cell_type": "code",
   "execution_count": null,
   "id": "aee7213f",
   "metadata": {},
   "outputs": [],
   "source": []
  },
  {
   "cell_type": "code",
   "execution_count": null,
   "id": "48839a0f",
   "metadata": {},
   "outputs": [],
   "source": []
  },
  {
   "cell_type": "code",
   "execution_count": null,
   "id": "8bf5641f",
   "metadata": {},
   "outputs": [],
   "source": []
  },
  {
   "cell_type": "code",
   "execution_count": null,
   "id": "d313de14",
   "metadata": {},
   "outputs": [],
   "source": []
  },
  {
   "cell_type": "code",
   "execution_count": null,
   "id": "17e32282",
   "metadata": {},
   "outputs": [],
   "source": []
  },
  {
   "cell_type": "code",
   "execution_count": null,
   "id": "d2c9bc66",
   "metadata": {},
   "outputs": [],
   "source": []
  },
  {
   "cell_type": "code",
   "execution_count": null,
   "id": "0f56b673",
   "metadata": {},
   "outputs": [],
   "source": []
  },
  {
   "cell_type": "code",
   "execution_count": null,
   "id": "89a28a5d",
   "metadata": {},
   "outputs": [],
   "source": []
  },
  {
   "cell_type": "code",
   "execution_count": null,
   "id": "06eb069f",
   "metadata": {},
   "outputs": [],
   "source": []
  },
  {
   "cell_type": "code",
   "execution_count": null,
   "id": "9f0e17b7",
   "metadata": {},
   "outputs": [],
   "source": []
  },
  {
   "cell_type": "code",
   "execution_count": null,
   "id": "69944a72",
   "metadata": {},
   "outputs": [],
   "source": []
  },
  {
   "cell_type": "code",
   "execution_count": null,
   "id": "420d830e",
   "metadata": {},
   "outputs": [],
   "source": []
  },
  {
   "cell_type": "code",
   "execution_count": null,
   "id": "17b20163",
   "metadata": {},
   "outputs": [],
   "source": []
  },
  {
   "cell_type": "code",
   "execution_count": null,
   "id": "9ed4ff1c",
   "metadata": {},
   "outputs": [],
   "source": []
  },
  {
   "cell_type": "code",
   "execution_count": null,
   "id": "9d881fe3",
   "metadata": {},
   "outputs": [],
   "source": []
  },
  {
   "cell_type": "code",
   "execution_count": null,
   "id": "a11582d7",
   "metadata": {},
   "outputs": [],
   "source": []
  }
 ],
 "metadata": {
  "kernelspec": {
   "display_name": "Python 3 (ipykernel)",
   "language": "python",
   "name": "python3"
  },
  "language_info": {
   "codemirror_mode": {
    "name": "ipython",
    "version": 3
   },
   "file_extension": ".py",
   "mimetype": "text/x-python",
   "name": "python",
   "nbconvert_exporter": "python",
   "pygments_lexer": "ipython3",
   "version": "3.10.14"
  }
 },
 "nbformat": 4,
 "nbformat_minor": 5
}
