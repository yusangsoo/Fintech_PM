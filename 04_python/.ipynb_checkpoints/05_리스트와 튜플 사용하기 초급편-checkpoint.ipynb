{
 "cells": [
  {
   "cell_type": "markdown",
   "id": "3a55a856",
   "metadata": {},
   "source": [
    "# 리스트와 튜플"
   ]
  },
  {
   "cell_type": "code",
   "execution_count": 1,
   "id": "f387f69d",
   "metadata": {},
   "outputs": [],
   "source": [
    "a = 1\n",
    "b = 2\n",
    "c = 3\n",
    "d = 4\n",
    "e = 5"
   ]
  },
  {
   "cell_type": "code",
   "execution_count": 2,
   "id": "65a9df6b",
   "metadata": {},
   "outputs": [],
   "source": [
    "L1 = [1,2,3,4,5]"
   ]
  },
  {
   "cell_type": "code",
   "execution_count": 6,
   "id": "1123b5dd",
   "metadata": {},
   "outputs": [
    {
     "data": {
      "text/plain": [
       "['파이썬', 1, 17.2, True]"
      ]
     },
     "execution_count": 6,
     "metadata": {},
     "output_type": "execute_result"
    }
   ],
   "source": [
    "L2 = ['파이썬', 1, 17.2, True]\n",
    "L2"
   ]
  },
  {
   "cell_type": "code",
   "execution_count": 7,
   "id": "8ae3f2cb",
   "metadata": {},
   "outputs": [],
   "source": [
    "L3 = []"
   ]
  },
  {
   "cell_type": "markdown",
   "id": "8dd3f330",
   "metadata": {},
   "source": [
    "## list() 형변환 함수"
   ]
  },
  {
   "cell_type": "code",
   "execution_count": 8,
   "id": "3ffddb01",
   "metadata": {},
   "outputs": [
    {
     "name": "stdout",
     "output_type": "stream",
     "text": [
      "<class 'range'>\n"
     ]
    }
   ],
   "source": [
    "print(type(range(10)))"
   ]
  },
  {
   "cell_type": "code",
   "execution_count": 12,
   "id": "522b1cda",
   "metadata": {},
   "outputs": [
    {
     "name": "stdout",
     "output_type": "stream",
     "text": [
      "[0, 1, 2, 3, 4, 5, 6, 7, 8, 9]\n",
      "<class 'list'>\n"
     ]
    }
   ],
   "source": [
    "L5 = list(range(10))\n",
    "print(L5)\n",
    "print(type(list(range(10))))"
   ]
  },
  {
   "cell_type": "markdown",
   "id": "d6a0fe4d",
   "metadata": {},
   "source": [
    "## range()함수\n",
    "* range(시작, 끝, 증가값)"
   ]
  },
  {
   "cell_type": "code",
   "execution_count": 13,
   "id": "a612a3ca",
   "metadata": {},
   "outputs": [
    {
     "data": {
      "text/plain": [
       "[1, 3, 5, 7, 9, 11, 13, 15, 17, 19]"
      ]
     },
     "execution_count": 13,
     "metadata": {},
     "output_type": "execute_result"
    }
   ],
   "source": [
    "list(range(1,20,2))"
   ]
  },
  {
   "cell_type": "code",
   "execution_count": 15,
   "id": "369cd879",
   "metadata": {},
   "outputs": [
    {
     "data": {
      "text/plain": [
       "[3, 6, 9, 12, 15, 18, 21, 24, 27]"
      ]
     },
     "execution_count": 15,
     "metadata": {},
     "output_type": "execute_result"
    }
   ],
   "source": [
    "list(range(3,30,3))"
   ]
  },
  {
   "cell_type": "code",
   "execution_count": 16,
   "id": "e30a7f0d",
   "metadata": {},
   "outputs": [
    {
     "data": {
      "text/plain": [
       "[40, 37, 34, 31, 28, 25, 22, 19, 16, 13, 10, 7, 4]"
      ]
     },
     "execution_count": 16,
     "metadata": {},
     "output_type": "execute_result"
    }
   ],
   "source": [
    "list(range(40,3,-3))"
   ]
  },
  {
   "cell_type": "markdown",
   "id": "73388cab",
   "metadata": {},
   "source": [
    "## .append()함수\n",
    "* 리스트 끝에 자료 추가하는 함수"
   ]
  },
  {
   "cell_type": "code",
   "execution_count": 20,
   "id": "c9c6af22",
   "metadata": {},
   "outputs": [
    {
     "name": "stdout",
     "output_type": "stream",
     "text": [
      "['파이썬', 1, 17.2, True, 3, 3]\n"
     ]
    }
   ],
   "source": [
    "L2.append(3)\n",
    "print(L2)"
   ]
  },
  {
   "cell_type": "code",
   "execution_count": 21,
   "id": "85e5cb5f",
   "metadata": {},
   "outputs": [],
   "source": [
    "del L2[-1]"
   ]
  },
  {
   "cell_type": "code",
   "execution_count": 22,
   "id": "5c59c77b",
   "metadata": {},
   "outputs": [
    {
     "name": "stdout",
     "output_type": "stream",
     "text": [
      "['파이썬', 1, 17.2, True, 3]\n"
     ]
    }
   ],
   "source": [
    "print(L2)"
   ]
  },
  {
   "cell_type": "code",
   "execution_count": 23,
   "id": "2cec75f0",
   "metadata": {},
   "outputs": [
    {
     "data": {
      "text/plain": [
       "['파이썬', 1, 17.2, True, 3, [1, 2, 3]]"
      ]
     },
     "execution_count": 23,
     "metadata": {},
     "output_type": "execute_result"
    }
   ],
   "source": [
    "L2.append([1,2,3]) \n",
    "L2"
   ]
  },
  {
   "cell_type": "markdown",
   "id": "aa5199d7",
   "metadata": {},
   "source": [
    "* 길이를 재는 함수 : len()"
   ]
  },
  {
   "cell_type": "code",
   "execution_count": 24,
   "id": "dd1d41df",
   "metadata": {},
   "outputs": [
    {
     "data": {
      "text/plain": [
       "6"
      ]
     },
     "execution_count": 24,
     "metadata": {},
     "output_type": "execute_result"
    }
   ],
   "source": [
    "len(L2)"
   ]
  },
  {
   "cell_type": "markdown",
   "id": "731086bc",
   "metadata": {},
   "source": [
    "## insert()\n",
    "* .insert(추가할 위치 인덱스, 값)"
   ]
  },
  {
   "cell_type": "code",
   "execution_count": 25,
   "id": "6adb69b7",
   "metadata": {},
   "outputs": [
    {
     "name": "stdout",
     "output_type": "stream",
     "text": [
      "['파이썬', 1, '리스트 함수', 17.2, True, 3, [1, 2, 3]]\n"
     ]
    }
   ],
   "source": [
    "L2.insert(2, \"리스트 함수\")\n",
    "print(L2)"
   ]
  },
  {
   "cell_type": "markdown",
   "id": "045f51ba",
   "metadata": {},
   "source": [
    "## 리스트의 자료 삭제\n",
    "\n",
    "1. del 변수명[인덱스번호]\n",
    "2. .pop() : 리스트의 가장 끝 자료가 출력되고 삭제됨.\n",
    "3. .remove(값) : 리스트의 앞부터 일치하는 값 하나를 찾아서 삭제"
   ]
  },
  {
   "cell_type": "code",
   "execution_count": 27,
   "id": "cc744b5e",
   "metadata": {},
   "outputs": [
    {
     "data": {
      "text/plain": [
       "[1, 2, 3]"
      ]
     },
     "execution_count": 27,
     "metadata": {},
     "output_type": "execute_result"
    }
   ],
   "source": [
    "L2.pop()"
   ]
  },
  {
   "cell_type": "code",
   "execution_count": 28,
   "id": "06dbe204",
   "metadata": {},
   "outputs": [
    {
     "data": {
      "text/plain": [
       "['파이썬', 1, '리스트 함수', 17.2, True, 3]"
      ]
     },
     "execution_count": 28,
     "metadata": {},
     "output_type": "execute_result"
    }
   ],
   "source": [
    "L2"
   ]
  },
  {
   "cell_type": "code",
   "execution_count": 29,
   "id": "03f4ef5f",
   "metadata": {},
   "outputs": [
    {
     "name": "stdout",
     "output_type": "stream",
     "text": [
      "['파이썬', 1, '리스트 함수', 17.2, True, 3, 17.2]\n",
      "['파이썬', 1, '리스트 함수', True, 3, 17.2]\n"
     ]
    }
   ],
   "source": [
    "L2.append(17.2)\n",
    "print(L2)\n",
    "L2.remove(17.2)\n",
    "print(L2)"
   ]
  },
  {
   "cell_type": "code",
   "execution_count": 30,
   "id": "73605978",
   "metadata": {},
   "outputs": [
    {
     "name": "stdout",
     "output_type": "stream",
     "text": [
      "['파이썬', '리스트 함수', True, 3, 17.2]\n"
     ]
    }
   ],
   "source": [
    "del L2[1]\n",
    "print(L2)"
   ]
  },
  {
   "cell_type": "code",
   "execution_count": 31,
   "id": "8bc11465",
   "metadata": {},
   "outputs": [
    {
     "name": "stdout",
     "output_type": "stream",
     "text": [
      "['파이썬', '리스트 함수', [17.2, 3, '파이썬'], True, 3, 17.2]\n",
      "['파이썬', '리스트 함수', [17.2, 3, '파이썬'], True, 3]\n"
     ]
    }
   ],
   "source": [
    "L2.insert(2, [17.2, 3, '파이썬'])\n",
    "print(L2)\n",
    "L2.remove(17.2)\n",
    "print(L2)"
   ]
  },
  {
   "cell_type": "code",
   "execution_count": 32,
   "id": "0be59c0c",
   "metadata": {},
   "outputs": [
    {
     "name": "stdout",
     "output_type": "stream",
     "text": [
      "['파이썬', '리스트 함수', [3, '파이썬'], True, 3]\n"
     ]
    }
   ],
   "source": [
    "L2[2].remove(17.2)\n",
    "print(L2)"
   ]
  },
  {
   "cell_type": "markdown",
   "id": "20a93fbe",
   "metadata": {},
   "source": [
    "## 리스트 확장하기 .extend()\n",
    "append와 달리 extend는 리스트를 넣어도 각각의 요소만 들어감"
   ]
  },
  {
   "cell_type": "code",
   "execution_count": 1,
   "id": "215e7b95",
   "metadata": {},
   "outputs": [
    {
     "name": "stdout",
     "output_type": "stream",
     "text": [
      "[10, 20, 30]\n"
     ]
    }
   ],
   "source": [
    "a = [10,20,30]\n",
    "print(a)"
   ]
  },
  {
   "cell_type": "code",
   "execution_count": 2,
   "id": "c88b9410",
   "metadata": {},
   "outputs": [
    {
     "name": "stdout",
     "output_type": "stream",
     "text": [
      "[10, 20, 30, [40, 50, 60]]\n"
     ]
    }
   ],
   "source": [
    "a.append([40,50,60])\n",
    "print(a)"
   ]
  },
  {
   "cell_type": "code",
   "execution_count": 3,
   "id": "abd8b1ca",
   "metadata": {},
   "outputs": [
    {
     "name": "stdout",
     "output_type": "stream",
     "text": [
      "[10, 20, 30, [40, 50, 60], 40, 50, 60]\n"
     ]
    }
   ],
   "source": [
    "a.extend([40,50,60])\n",
    "print(a)"
   ]
  },
  {
   "cell_type": "markdown",
   "id": "6fb70901",
   "metadata": {},
   "source": [
    "## 리스트에서 특정 값의 인덱스 구하기 .index(찾을 값)"
   ]
  },
  {
   "cell_type": "code",
   "execution_count": 4,
   "id": "504f1e00",
   "metadata": {},
   "outputs": [
    {
     "data": {
      "text/plain": [
       "5"
      ]
     },
     "execution_count": 4,
     "metadata": {},
     "output_type": "execute_result"
    }
   ],
   "source": [
    "a.index(50)"
   ]
  },
  {
   "cell_type": "code",
   "execution_count": 5,
   "id": "63cc8679",
   "metadata": {},
   "outputs": [
    {
     "name": "stdout",
     "output_type": "stream",
     "text": [
      "[10, 20, [40, 50, 60], 30, [40, 50, 60], 40, 50, 60]\n"
     ]
    }
   ],
   "source": [
    "a.insert(2,[40,50,60])\n",
    "print(a)"
   ]
  },
  {
   "cell_type": "code",
   "execution_count": 6,
   "id": "37b66438",
   "metadata": {},
   "outputs": [
    {
     "data": {
      "text/plain": [
       "6"
      ]
     },
     "execution_count": 6,
     "metadata": {},
     "output_type": "execute_result"
    }
   ],
   "source": [
    "a.index(50)"
   ]
  },
  {
   "cell_type": "code",
   "execution_count": 7,
   "id": "0d3a71e9",
   "metadata": {},
   "outputs": [
    {
     "data": {
      "text/plain": [
       "1"
      ]
     },
     "execution_count": 7,
     "metadata": {},
     "output_type": "execute_result"
    }
   ],
   "source": [
    "a[2].index(50)"
   ]
  },
  {
   "cell_type": "code",
   "execution_count": 8,
   "id": "98a6a0fd",
   "metadata": {},
   "outputs": [
    {
     "name": "stdout",
     "output_type": "stream",
     "text": [
      "[10, 20, 50, [40, 50, 60], 30, [40, 50, 60], 40, 50, 60]\n"
     ]
    }
   ],
   "source": [
    "a.insert(2, 50)\n",
    "print(a)"
   ]
  },
  {
   "cell_type": "code",
   "execution_count": 9,
   "id": "0b33f5b7",
   "metadata": {},
   "outputs": [
    {
     "data": {
      "text/plain": [
       "2"
      ]
     },
     "execution_count": 9,
     "metadata": {},
     "output_type": "execute_result"
    }
   ],
   "source": [
    "a.index(50)"
   ]
  },
  {
   "cell_type": "code",
   "execution_count": 11,
   "id": "479a09ae",
   "metadata": {},
   "outputs": [
    {
     "data": {
      "text/plain": [
       "4"
      ]
     },
     "execution_count": 11,
     "metadata": {},
     "output_type": "execute_result"
    }
   ],
   "source": [
    "a[3:].index(50)"
   ]
  },
  {
   "cell_type": "code",
   "execution_count": 12,
   "id": "3f13aec1",
   "metadata": {},
   "outputs": [
    {
     "data": {
      "text/plain": [
       "7"
      ]
     },
     "execution_count": 12,
     "metadata": {},
     "output_type": "execute_result"
    }
   ],
   "source": [
    "a.index(50,3)"
   ]
  },
  {
   "cell_type": "markdown",
   "id": "67b9f7b0",
   "metadata": {},
   "source": [
    "## 리스트 안에서 특정 값의 개수 구하기 .count(값)"
   ]
  },
  {
   "cell_type": "code",
   "execution_count": 13,
   "id": "663b581d",
   "metadata": {},
   "outputs": [
    {
     "data": {
      "text/plain": [
       "2"
      ]
     },
     "execution_count": 13,
     "metadata": {},
     "output_type": "execute_result"
    }
   ],
   "source": [
    "a.count(50)"
   ]
  },
  {
   "cell_type": "markdown",
   "id": "02671ab4",
   "metadata": {},
   "source": [
    "## 리스트 순서 뒤집기\n",
    ".reverse()"
   ]
  },
  {
   "cell_type": "code",
   "execution_count": 16,
   "id": "e6a1cd1e",
   "metadata": {},
   "outputs": [
    {
     "name": "stdout",
     "output_type": "stream",
     "text": [
      "[10, 20, 50, [40, 50, 60], 30, [40, 50, 60], 40, 50, 60]\n"
     ]
    }
   ],
   "source": [
    "# 실행하자마자 결과가 바뀜\n",
    "a.reverse()\n",
    "print(a)"
   ]
  },
  {
   "cell_type": "code",
   "execution_count": 17,
   "id": "9e87b73a",
   "metadata": {},
   "outputs": [
    {
     "data": {
      "text/plain": [
       "[10, 20, 50, [40, 50, 60], 30, [40, 50, 60], 40, 50, 60]"
      ]
     },
     "execution_count": 17,
     "metadata": {},
     "output_type": "execute_result"
    }
   ],
   "source": [
    "a"
   ]
  },
  {
   "cell_type": "markdown",
   "id": "9f0ba246",
   "metadata": {},
   "source": [
    "## 원본데이터 건들지 않고 인덱싱으로 순서 뒤집기\n",
    "[::-1]"
   ]
  },
  {
   "cell_type": "code",
   "execution_count": 30,
   "id": "820d9a2c",
   "metadata": {},
   "outputs": [
    {
     "name": "stdout",
     "output_type": "stream",
     "text": [
      "[10, 20, 50, [40, 50, 60], 30, [40, 50, 60], 40, 50, 60]\n",
      "[60, 50, 40, [40, 50, 60], 30, [40, 50, 60], 50, 20, 10]\n",
      "[10, 20, 50, [40, 50, 60], 30, [40, 50, 60], 40, 50, 60]\n"
     ]
    }
   ],
   "source": [
    "print(a)\n",
    "print(a[::-1])\n",
    "print(a)"
   ]
  },
  {
   "cell_type": "code",
   "execution_count": null,
   "id": "f6c81a12",
   "metadata": {},
   "outputs": [],
   "source": []
  },
  {
   "cell_type": "code",
   "execution_count": null,
   "id": "70d2b0c5",
   "metadata": {},
   "outputs": [],
   "source": []
  },
  {
   "cell_type": "markdown",
   "id": "1a1b611a",
   "metadata": {},
   "source": [
    "## 리스트 정렬하기\n",
    ".sort() : 오름차순 <br>\n",
    ".sort(reverse = True) : 내림차순 <br>\n",
    "값에 리스트와 정수가 혼재되어 있으면 정렬 불가 <br>\n",
    "실행 즉시 원본데이터를 바꿈"
   ]
  },
  {
   "cell_type": "code",
   "execution_count": 18,
   "id": "1636209c",
   "metadata": {},
   "outputs": [
    {
     "ename": "TypeError",
     "evalue": "'<' not supported between instances of 'list' and 'int'",
     "output_type": "error",
     "traceback": [
      "\u001b[1;31m---------------------------------------------------------------------------\u001b[0m",
      "\u001b[1;31mTypeError\u001b[0m                                 Traceback (most recent call last)",
      "Cell \u001b[1;32mIn[18], line 1\u001b[0m\n\u001b[1;32m----> 1\u001b[0m \u001b[43ma\u001b[49m\u001b[38;5;241;43m.\u001b[39;49m\u001b[43msort\u001b[49m\u001b[43m(\u001b[49m\u001b[43m)\u001b[49m\n",
      "\u001b[1;31mTypeError\u001b[0m: '<' not supported between instances of 'list' and 'int'"
     ]
    }
   ],
   "source": [
    "a.sort()"
   ]
  },
  {
   "cell_type": "code",
   "execution_count": 24,
   "id": "943eab1f",
   "metadata": {},
   "outputs": [
    {
     "name": "stdout",
     "output_type": "stream",
     "text": [
      "[7, 1, 6, 5, 1, 5, 8, 2, 8, 3]\n"
     ]
    }
   ],
   "source": [
    "b = [7,1,6,5,1,5,8,2,8,3]\n",
    "print(b)"
   ]
  },
  {
   "cell_type": "code",
   "execution_count": 21,
   "id": "ca8b2643",
   "metadata": {},
   "outputs": [
    {
     "name": "stdout",
     "output_type": "stream",
     "text": [
      "[1, 1, 2, 3, 5, 5, 6, 7, 8, 8]\n"
     ]
    }
   ],
   "source": [
    "b.sort()\n",
    "print(b)"
   ]
  },
  {
   "cell_type": "code",
   "execution_count": 22,
   "id": "58bc2696",
   "metadata": {},
   "outputs": [
    {
     "name": "stdout",
     "output_type": "stream",
     "text": [
      "[1, 1, 2, 3, 5, 5, 6, 7, 8, 8]\n"
     ]
    }
   ],
   "source": [
    "print(b)"
   ]
  },
  {
   "cell_type": "code",
   "execution_count": 23,
   "id": "aa044bfd",
   "metadata": {},
   "outputs": [
    {
     "name": "stdout",
     "output_type": "stream",
     "text": [
      "[8, 8, 7, 6, 5, 5, 3, 2, 1, 1]\n"
     ]
    }
   ],
   "source": [
    "b.sort(reverse = True)\n",
    "print(b)"
   ]
  },
  {
   "cell_type": "markdown",
   "id": "7e20fb1d",
   "metadata": {},
   "source": [
    "## 원본데이터를 건들지 않고 리스트 정렬하기\n",
    "sorted(리스트) 오름차순<br>\n",
    "sorted(리스트, reverse = True) 내림차순"
   ]
  },
  {
   "cell_type": "code",
   "execution_count": 26,
   "id": "c74073d7",
   "metadata": {},
   "outputs": [
    {
     "data": {
      "text/plain": [
       "[1, 1, 2, 3, 5, 5, 6, 7, 8, 8]"
      ]
     },
     "execution_count": 26,
     "metadata": {},
     "output_type": "execute_result"
    }
   ],
   "source": [
    "sorted(b)"
   ]
  },
  {
   "cell_type": "code",
   "execution_count": 27,
   "id": "b897fa8a",
   "metadata": {},
   "outputs": [
    {
     "data": {
      "text/plain": [
       "[7, 1, 6, 5, 1, 5, 8, 2, 8, 3]"
      ]
     },
     "execution_count": 27,
     "metadata": {},
     "output_type": "execute_result"
    }
   ],
   "source": [
    "b"
   ]
  },
  {
   "cell_type": "code",
   "execution_count": 28,
   "id": "209f5b39",
   "metadata": {},
   "outputs": [
    {
     "data": {
      "text/plain": [
       "[8, 8, 7, 6, 5, 5, 3, 2, 1, 1]"
      ]
     },
     "execution_count": 28,
     "metadata": {},
     "output_type": "execute_result"
    }
   ],
   "source": [
    "sorted(b, reverse = True)"
   ]
  },
  {
   "cell_type": "markdown",
   "id": "3e42e8dd",
   "metadata": {},
   "source": [
    "# tuple 사용\n",
    "* 튜플은 리스트처럼 모든 자료형을 넣어서 만들 수 있다.\n",
    "* 순서가 있는 자료형, 인덱스가 있다. -> 인덱싱, 슬라이싱 가능\n",
    "* 리스트와 다르게 자료의 추가, 삭제가 안된다.\n",
    "* 튜플은 ()안에 자료를 넣어서 만든다.\n",
    "* 튜플 형변환 함수는 tuple()이다."
   ]
  },
  {
   "cell_type": "code",
   "execution_count": 31,
   "id": "5081d8e6",
   "metadata": {},
   "outputs": [
    {
     "name": "stdout",
     "output_type": "stream",
     "text": [
      "(1, 2, 3, 4, '튜플', [5, 6, 7], 8.5, (8, 9, 10))\n",
      "<class 'tuple'>\n"
     ]
    }
   ],
   "source": [
    "t = (1,2,3,4,\"튜플\",[5,6,7],8.5,(8,9,10))\n",
    "print(t)\n",
    "print(type(t))"
   ]
  },
  {
   "cell_type": "markdown",
   "id": "b6869a3f",
   "metadata": {},
   "source": [
    "## 튜플에 자료 추가하는 법\n",
    "튜플을 리스트로 바꾸고 값을 추가한 후 다시 튜플로 만드는 방식으로 추가 가능"
   ]
  },
  {
   "cell_type": "markdown",
   "id": "6489e35a",
   "metadata": {},
   "source": [
    "## (주의)튜플에 자료를 1개만 넣고 만들 때"
   ]
  },
  {
   "cell_type": "code",
   "execution_count": 32,
   "id": "53f43049",
   "metadata": {},
   "outputs": [
    {
     "name": "stdout",
     "output_type": "stream",
     "text": [
      "2\n",
      "<class 'int'>\n",
      "(3,)\n",
      "<class 'tuple'>\n"
     ]
    }
   ],
   "source": [
    "t2 = (2)\n",
    "print(t2)\n",
    "print(type(t2))\n",
    "\n",
    "t3 = (3,)\n",
    "print(t3)\n",
    "print(type(t3))"
   ]
  },
  {
   "cell_type": "code",
   "execution_count": null,
   "id": "dbf118d8",
   "metadata": {},
   "outputs": [],
   "source": []
  }
 ],
 "metadata": {
  "kernelspec": {
   "display_name": "Python 3 (ipykernel)",
   "language": "python",
   "name": "python3"
  },
  "language_info": {
   "codemirror_mode": {
    "name": "ipython",
    "version": 3
   },
   "file_extension": ".py",
   "mimetype": "text/x-python",
   "name": "python",
   "nbconvert_exporter": "python",
   "pygments_lexer": "ipython3",
   "version": "3.10.14"
  }
 },
 "nbformat": 4,
 "nbformat_minor": 5
}
