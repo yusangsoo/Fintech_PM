{
 "cells": [
  {
   "cell_type": "markdown",
   "id": "3a55a856",
   "metadata": {},
   "source": [
    "# 리스트와 튜플"
   ]
  },
  {
   "cell_type": "code",
   "execution_count": 1,
   "id": "f387f69d",
   "metadata": {},
   "outputs": [],
   "source": [
    "a = 1\n",
    "b = 2\n",
    "c = 3\n",
    "d = 4\n",
    "e = 5"
   ]
  },
  {
   "cell_type": "code",
   "execution_count": 2,
   "id": "65a9df6b",
   "metadata": {},
   "outputs": [],
   "source": [
    "L1 = [1,2,3,4,5]"
   ]
  },
  {
   "cell_type": "code",
   "execution_count": 6,
   "id": "1123b5dd",
   "metadata": {},
   "outputs": [
    {
     "data": {
      "text/plain": [
       "['파이썬', 1, 17.2, True]"
      ]
     },
     "execution_count": 6,
     "metadata": {},
     "output_type": "execute_result"
    }
   ],
   "source": [
    "L2 = ['파이썬', 1, 17.2, True]\n",
    "L2"
   ]
  },
  {
   "cell_type": "code",
   "execution_count": 7,
   "id": "8ae3f2cb",
   "metadata": {},
   "outputs": [],
   "source": [
    "L3 = []"
   ]
  },
  {
   "cell_type": "markdown",
   "id": "8dd3f330",
   "metadata": {},
   "source": [
    "## list() 형변환 함수"
   ]
  },
  {
   "cell_type": "code",
   "execution_count": 8,
   "id": "3ffddb01",
   "metadata": {},
   "outputs": [
    {
     "name": "stdout",
     "output_type": "stream",
     "text": [
      "<class 'range'>\n"
     ]
    }
   ],
   "source": [
    "print(type(range(10)))"
   ]
  },
  {
   "cell_type": "code",
   "execution_count": 12,
   "id": "522b1cda",
   "metadata": {},
   "outputs": [
    {
     "name": "stdout",
     "output_type": "stream",
     "text": [
      "[0, 1, 2, 3, 4, 5, 6, 7, 8, 9]\n",
      "<class 'list'>\n"
     ]
    }
   ],
   "source": [
    "L5 = list(range(10))\n",
    "print(L5)\n",
    "print(type(list(range(10))))"
   ]
  },
  {
   "cell_type": "markdown",
   "id": "d6a0fe4d",
   "metadata": {},
   "source": [
    "## range()함수\n",
    "* range(시작, 끝, 증가값)"
   ]
  },
  {
   "cell_type": "code",
   "execution_count": 13,
   "id": "a612a3ca",
   "metadata": {},
   "outputs": [
    {
     "data": {
      "text/plain": [
       "[1, 3, 5, 7, 9, 11, 13, 15, 17, 19]"
      ]
     },
     "execution_count": 13,
     "metadata": {},
     "output_type": "execute_result"
    }
   ],
   "source": [
    "list(range(1,20,2))"
   ]
  },
  {
   "cell_type": "code",
   "execution_count": 15,
   "id": "369cd879",
   "metadata": {},
   "outputs": [
    {
     "data": {
      "text/plain": [
       "[3, 6, 9, 12, 15, 18, 21, 24, 27]"
      ]
     },
     "execution_count": 15,
     "metadata": {},
     "output_type": "execute_result"
    }
   ],
   "source": [
    "list(range(3,30,3))"
   ]
  },
  {
   "cell_type": "code",
   "execution_count": 16,
   "id": "e30a7f0d",
   "metadata": {},
   "outputs": [
    {
     "data": {
      "text/plain": [
       "[40, 37, 34, 31, 28, 25, 22, 19, 16, 13, 10, 7, 4]"
      ]
     },
     "execution_count": 16,
     "metadata": {},
     "output_type": "execute_result"
    }
   ],
   "source": [
    "list(range(40,3,-3))"
   ]
  },
  {
   "cell_type": "markdown",
   "id": "73388cab",
   "metadata": {},
   "source": [
    "## .append()함수\n",
    "* 리스트 끝에 자료 추가하는 함수"
   ]
  },
  {
   "cell_type": "code",
   "execution_count": 20,
   "id": "c9c6af22",
   "metadata": {},
   "outputs": [
    {
     "name": "stdout",
     "output_type": "stream",
     "text": [
      "['파이썬', 1, 17.2, True, 3, 3]\n"
     ]
    }
   ],
   "source": [
    "L2.append(3)\n",
    "print(L2)"
   ]
  },
  {
   "cell_type": "code",
   "execution_count": 21,
   "id": "85e5cb5f",
   "metadata": {},
   "outputs": [],
   "source": [
    "del L2[-1]"
   ]
  },
  {
   "cell_type": "code",
   "execution_count": 22,
   "id": "5c59c77b",
   "metadata": {},
   "outputs": [
    {
     "name": "stdout",
     "output_type": "stream",
     "text": [
      "['파이썬', 1, 17.2, True, 3]\n"
     ]
    }
   ],
   "source": [
    "print(L2)"
   ]
  },
  {
   "cell_type": "code",
   "execution_count": 23,
   "id": "2cec75f0",
   "metadata": {},
   "outputs": [
    {
     "data": {
      "text/plain": [
       "['파이썬', 1, 17.2, True, 3, [1, 2, 3]]"
      ]
     },
     "execution_count": 23,
     "metadata": {},
     "output_type": "execute_result"
    }
   ],
   "source": [
    "L2.append([1,2,3]) \n",
    "L2"
   ]
  },
  {
   "cell_type": "markdown",
   "id": "aa5199d7",
   "metadata": {},
   "source": [
    "* 길이를 재는 함수 : len()"
   ]
  },
  {
   "cell_type": "code",
   "execution_count": 24,
   "id": "dd1d41df",
   "metadata": {},
   "outputs": [
    {
     "data": {
      "text/plain": [
       "6"
      ]
     },
     "execution_count": 24,
     "metadata": {},
     "output_type": "execute_result"
    }
   ],
   "source": [
    "len(L2)"
   ]
  },
  {
   "cell_type": "markdown",
   "id": "731086bc",
   "metadata": {},
   "source": [
    "## insert()\n",
    "* .insert(추가할 위치 인덱스, 값)"
   ]
  },
  {
   "cell_type": "code",
   "execution_count": 25,
   "id": "6adb69b7",
   "metadata": {},
   "outputs": [
    {
     "name": "stdout",
     "output_type": "stream",
     "text": [
      "['파이썬', 1, '리스트 함수', 17.2, True, 3, [1, 2, 3]]\n"
     ]
    }
   ],
   "source": [
    "L2.insert(2, \"리스트 함수\")\n",
    "print(L2)"
   ]
  },
  {
   "cell_type": "markdown",
   "id": "045f51ba",
   "metadata": {},
   "source": [
    "## 리스트의 자료 삭제\n",
    "\n",
    "1. del 변수명[인덱스번호]\n",
    "2. .pop() : 리스트의 가장 끝 자료가 출력되고 삭제됨.\n",
    "3. .remove(값) : 리스트의 앞부터 일치하는 값 하나를 찾아서 삭제"
   ]
  },
  {
   "cell_type": "code",
   "execution_count": 27,
   "id": "cc744b5e",
   "metadata": {},
   "outputs": [
    {
     "data": {
      "text/plain": [
       "[1, 2, 3]"
      ]
     },
     "execution_count": 27,
     "metadata": {},
     "output_type": "execute_result"
    }
   ],
   "source": [
    "L2.pop()"
   ]
  },
  {
   "cell_type": "code",
   "execution_count": 28,
   "id": "06dbe204",
   "metadata": {},
   "outputs": [
    {
     "data": {
      "text/plain": [
       "['파이썬', 1, '리스트 함수', 17.2, True, 3]"
      ]
     },
     "execution_count": 28,
     "metadata": {},
     "output_type": "execute_result"
    }
   ],
   "source": [
    "L2"
   ]
  },
  {
   "cell_type": "code",
   "execution_count": 29,
   "id": "03f4ef5f",
   "metadata": {},
   "outputs": [
    {
     "name": "stdout",
     "output_type": "stream",
     "text": [
      "['파이썬', 1, '리스트 함수', 17.2, True, 3, 17.2]\n",
      "['파이썬', 1, '리스트 함수', True, 3, 17.2]\n"
     ]
    }
   ],
   "source": [
    "L2.append(17.2)\n",
    "print(L2)\n",
    "L2.remove(17.2)\n",
    "print(L2)"
   ]
  },
  {
   "cell_type": "code",
   "execution_count": 30,
   "id": "73605978",
   "metadata": {},
   "outputs": [
    {
     "name": "stdout",
     "output_type": "stream",
     "text": [
      "['파이썬', '리스트 함수', True, 3, 17.2]\n"
     ]
    }
   ],
   "source": [
    "del L2[1]\n",
    "print(L2)"
   ]
  },
  {
   "cell_type": "code",
   "execution_count": 31,
   "id": "8bc11465",
   "metadata": {},
   "outputs": [
    {
     "name": "stdout",
     "output_type": "stream",
     "text": [
      "['파이썬', '리스트 함수', [17.2, 3, '파이썬'], True, 3, 17.2]\n",
      "['파이썬', '리스트 함수', [17.2, 3, '파이썬'], True, 3]\n"
     ]
    }
   ],
   "source": [
    "L2.insert(2, [17.2, 3, '파이썬'])\n",
    "print(L2)\n",
    "L2.remove(17.2)\n",
    "print(L2)"
   ]
  },
  {
   "cell_type": "code",
   "execution_count": 32,
   "id": "0be59c0c",
   "metadata": {},
   "outputs": [
    {
     "name": "stdout",
     "output_type": "stream",
     "text": [
      "['파이썬', '리스트 함수', [3, '파이썬'], True, 3]\n"
     ]
    }
   ],
   "source": [
    "L2[2].remove(17.2)\n",
    "print(L2)"
   ]
  },
  {
   "cell_type": "code",
   "execution_count": null,
   "id": "0bf6bad4",
   "metadata": {},
   "outputs": [],
   "source": []
  }
 ],
 "metadata": {
  "kernelspec": {
   "display_name": "Python 3 (ipykernel)",
   "language": "python",
   "name": "python3"
  },
  "language_info": {
   "codemirror_mode": {
    "name": "ipython",
    "version": 3
   },
   "file_extension": ".py",
   "mimetype": "text/x-python",
   "name": "python",
   "nbconvert_exporter": "python",
   "pygments_lexer": "ipython3",
   "version": "3.10.14"
  }
 },
 "nbformat": 4,
 "nbformat_minor": 5
}
