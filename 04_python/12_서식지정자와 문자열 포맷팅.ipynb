{
 "cells": [
  {
   "cell_type": "markdown",
   "id": "011b26e1",
   "metadata": {},
   "source": [
    "# 서식지정자, format 메서드\n",
    "- 이것들을 사용하는 이유는 문자열로만 입력해야 하는 상황에서 같은 위치의 문자를 여러 번 바꿔야 할 필요성이 있음.\n",
    "- 문자의 자릿수 맞춤, 위치 정렬 등에도 사용"
   ]
  },
  {
   "cell_type": "markdown",
   "id": "fce06839",
   "metadata": {},
   "source": [
    "## 서식지정자 %d, %s, %f, %길이s"
   ]
  },
  {
   "cell_type": "markdown",
   "id": "01a4e649",
   "metadata": {},
   "source": [
    "* 문자를 입력할 땐 %s"
   ]
  },
  {
   "cell_type": "code",
   "execution_count": 2,
   "id": "49c06ea7",
   "metadata": {},
   "outputs": [
    {
     "name": "stdout",
     "output_type": "stream",
     "text": [
      "이 수업의 이름은 핀테크 서비스 기획자입니다.\n"
     ]
    }
   ],
   "source": [
    "print('이 수업의 이름은 %s입니다.' %'핀테크 서비스 기획자')"
   ]
  },
  {
   "cell_type": "code",
   "execution_count": 3,
   "id": "7583a40e",
   "metadata": {},
   "outputs": [],
   "source": [
    "subject = ['국어', '영어', '수학', '과학', '파이썬', 'database']"
   ]
  },
  {
   "cell_type": "code",
   "execution_count": 5,
   "id": "ef2587c2",
   "metadata": {},
   "outputs": [
    {
     "name": "stdout",
     "output_type": "stream",
     "text": [
      "이 수업의 이름은 국어입니다\n",
      "이 수업의 이름은 영어입니다\n",
      "이 수업의 이름은 수학입니다\n",
      "이 수업의 이름은 과학입니다\n",
      "이 수업의 이름은 파이썬입니다\n",
      "이 수업의 이름은 database입니다\n"
     ]
    }
   ],
   "source": [
    "for i in subject:\n",
    "    print('이 수업의 이름은 %s입니다' %i)"
   ]
  },
  {
   "cell_type": "markdown",
   "id": "e74d5288",
   "metadata": {},
   "source": [
    "* 정수를 입력할 땐 %d"
   ]
  },
  {
   "cell_type": "code",
   "execution_count": 6,
   "id": "40e8f636",
   "metadata": {},
   "outputs": [
    {
     "name": "stdout",
     "output_type": "stream",
     "text": [
      "올해는 2024년입니다\n"
     ]
    }
   ],
   "source": [
    "print('올해는 %d년입니다' %2024)"
   ]
  },
  {
   "cell_type": "code",
   "execution_count": 7,
   "id": "5b54cfa0",
   "metadata": {},
   "outputs": [
    {
     "name": "stdout",
     "output_type": "stream",
     "text": [
      "올해는 20년입니다\n"
     ]
    }
   ],
   "source": [
    "# 소수점은 자동으로 버려짐\n",
    "print('올해는 %d년입니다' %20.24)"
   ]
  },
  {
   "cell_type": "code",
   "execution_count": 8,
   "id": "46938aaa",
   "metadata": {},
   "outputs": [
    {
     "name": "stdout",
     "output_type": "stream",
     "text": [
      "올해는 2019년입니다\n",
      "올해는 2020년입니다\n",
      "올해는 2021년입니다\n",
      "올해는 2022년입니다\n",
      "올해는 2023년입니다\n",
      "올해는 2024년입니다\n"
     ]
    }
   ],
   "source": [
    "year = [2019, 2020, 2021, 2022, 2023, 2024]\n",
    "for i in year :\n",
    "    print('올해는 %d년입니다' % i)"
   ]
  },
  {
   "cell_type": "markdown",
   "id": "089d0845",
   "metadata": {},
   "source": [
    "* 실수를 입력할 땐 %f\n",
    "* 기본으로 소수점 6자리까지 표시\n",
    "* 소수점 자릿수 조정은 %.nf으로 함 (여기서 n은 자릿수를 나타냄)"
   ]
  },
  {
   "cell_type": "code",
   "execution_count": 11,
   "id": "d36f97ec",
   "metadata": {},
   "outputs": [
    {
     "name": "stdout",
     "output_type": "stream",
     "text": [
      "사람의 정상 체온은 약 36.500000도 입니다\n",
      "사람의 정상 체온은 약 36.5도 입니다\n"
     ]
    }
   ],
   "source": [
    "print('사람의 정상 체온은 약 %f도 입니다' % 36.5)\n",
    "print('사람의 정상 체온은 약 %.1f도 입니다' % 36.5)"
   ]
  },
  {
   "cell_type": "markdown",
   "id": "d78365f1",
   "metadata": {},
   "source": [
    "* 서식지정자로 %길이s 문자열"
   ]
  },
  {
   "cell_type": "code",
   "execution_count": 96,
   "id": "72729fc0",
   "metadata": {},
   "outputs": [
    {
     "name": "stdout",
     "output_type": "stream",
     "text": [
      "      10자리\n"
     ]
    },
    {
     "data": {
      "text/plain": [
       "'      10자리'"
      ]
     },
     "execution_count": 96,
     "metadata": {},
     "output_type": "execute_result"
    }
   ],
   "source": [
    "print('%10s' %'10자리')\n",
    "'%10s' %'10자리'"
   ]
  },
  {
   "cell_type": "markdown",
   "id": "84c873cf",
   "metadata": {},
   "source": [
    "* 서식지정자로 %길이d %숫자"
   ]
  },
  {
   "cell_type": "code",
   "execution_count": 18,
   "id": "250b7f50",
   "metadata": {},
   "outputs": [
    {
     "name": "stdout",
     "output_type": "stream",
     "text": [
      "     15000 입니다\n"
     ]
    },
    {
     "data": {
      "text/plain": [
       "'     15000 입니다'"
      ]
     },
     "execution_count": 18,
     "metadata": {},
     "output_type": "execute_result"
    }
   ],
   "source": [
    "print('%10d 입니다' % 15000)\n",
    "'%10d 입니다' % 15000"
   ]
  },
  {
   "cell_type": "markdown",
   "id": "5350fa8d",
   "metadata": {},
   "source": [
    "여러 항목을 동시에 넣기 (그럴 땐 튜플로 값들을 묶기)"
   ]
  },
  {
   "cell_type": "code",
   "execution_count": 21,
   "id": "05d652f7",
   "metadata": {},
   "outputs": [
    {
     "name": "stdout",
     "output_type": "stream",
     "text": [
      "오늘은 2024년  7월 16일 입니다.\n"
     ]
    }
   ],
   "source": [
    "print('오늘은 %4d년 %2d월 %2d일 입니다.' % (2024, 7, 16))"
   ]
  },
  {
   "cell_type": "code",
   "execution_count": 22,
   "id": "05b343e4",
   "metadata": {},
   "outputs": [],
   "source": [
    "company = ['삼성전자', 'LG전자', '현대차', '대한항공', '하나투어']\n",
    "stock = [71800, 121000, 195000, 31900, 86600]"
   ]
  },
  {
   "cell_type": "code",
   "execution_count": 25,
   "id": "905d8452",
   "metadata": {},
   "outputs": [
    {
     "name": "stdout",
     "output_type": "stream",
     "text": [
      "삼성전자의 주가는 71800원 입니다\n",
      "LG전자의 주가는 121000원 입니다\n",
      "현대차의 주가는 195000원 입니다\n",
      "대한항공의 주가는 31900원 입니다\n",
      "하나투어의 주가는 86600원 입니다\n"
     ]
    }
   ],
   "source": [
    "for i in range(len(company)) :\n",
    "    print('%s의 주가는 %d원 입니다' % (company[i], stock[i]))"
   ]
  },
  {
   "cell_type": "code",
   "execution_count": 26,
   "id": "2354ba26",
   "metadata": {},
   "outputs": [
    {
     "name": "stdout",
     "output_type": "stream",
     "text": [
      "삼성전자의 주가는 71800원 입니다\n",
      "LG전자의 주가는 121000원 입니다\n",
      "현대차의 주가는 195000원 입니다\n",
      "대한항공의 주가는 31900원 입니다\n",
      "하나투어의 주가는 86600원 입니다\n"
     ]
    }
   ],
   "source": [
    "for com, sto in zip(company, stock) :\n",
    "    print('%s의 주가는 %d원 입니다' % (com, sto))"
   ]
  },
  {
   "cell_type": "markdown",
   "id": "e4223abb",
   "metadata": {},
   "source": [
    "## format 메서드 사용\n",
    "f-string 문자열 포맷팅"
   ]
  },
  {
   "cell_type": "markdown",
   "id": "c755c963",
   "metadata": {},
   "source": [
    "- format 메서드 사용\n",
    "- '{인덱스}'.format(값)\n",
    "- 인덱스를 사용하지 않아도 됨. 이 경우 순서대로 들어감"
   ]
  },
  {
   "cell_type": "code",
   "execution_count": 27,
   "id": "8019bf06",
   "metadata": {},
   "outputs": [
    {
     "name": "stdout",
     "output_type": "stream",
     "text": [
      "삼성전자의 주가는 71800원입니다.\n"
     ]
    }
   ],
   "source": [
    "print('{0}의 주가는 {1}원입니다.'.format('삼성전자', 71800))"
   ]
  },
  {
   "cell_type": "code",
   "execution_count": 32,
   "id": "5138641b",
   "metadata": {},
   "outputs": [
    {
     "name": "stdout",
     "output_type": "stream",
     "text": [
      "삼성전자의 주가는 71800원입니다. 삼성전자의 상한가는 93000, 삼성전자의 하한가는 50200원입니다\n"
     ]
    }
   ],
   "source": [
    "print('{0}의 주가는 {1}원입니다. {0}의 상한가는 {3}, {0}의 하한가는 {2}원입니다'.format('삼성전자', 71800, 50200, 93000))"
   ]
  },
  {
   "cell_type": "markdown",
   "id": "30f8d3ee",
   "metadata": {},
   "source": [
    "format 메서드에 변수로 값 넣기"
   ]
  },
  {
   "cell_type": "code",
   "execution_count": 33,
   "id": "048ae90a",
   "metadata": {},
   "outputs": [],
   "source": [
    "drama = '오징어게임'\n",
    "ranking = 1"
   ]
  },
  {
   "cell_type": "code",
   "execution_count": 35,
   "id": "d9b8d3b3",
   "metadata": {},
   "outputs": [
    {
     "name": "stdout",
     "output_type": "stream",
     "text": [
      "넷플릭스 1위 드라마는 오징어게임입니다.\n"
     ]
    }
   ],
   "source": [
    "print('넷플릭스 {0}위 드라마는 {1}입니다.' .format(ranking, drama))"
   ]
  },
  {
   "cell_type": "code",
   "execution_count": 36,
   "id": "ff5a0195",
   "metadata": {},
   "outputs": [
    {
     "name": "stdout",
     "output_type": "stream",
     "text": [
      "삼성전자의 주가는 71800원입니다.\n",
      "LG전자의 주가는 121000원입니다.\n",
      "현대차의 주가는 195000원입니다.\n",
      "대한항공의 주가는 31900원입니다.\n",
      "하나투어의 주가는 86600원입니다.\n"
     ]
    }
   ],
   "source": [
    "for com, sto in zip(company, stock) : \n",
    "    print('{0}의 주가는 {1}원입니다.'.format(com, sto))"
   ]
  },
  {
   "cell_type": "markdown",
   "id": "1f5670c2",
   "metadata": {},
   "source": [
    "- f-stirng 사용\n",
    "- f-string은 파이썬 3.6 버전부터 사용 가능"
   ]
  },
  {
   "cell_type": "code",
   "execution_count": 37,
   "id": "9c4e7ba9",
   "metadata": {},
   "outputs": [
    {
     "name": "stdout",
     "output_type": "stream",
     "text": [
      "삼성전자의 주가는 71800원입니다.\n",
      "LG전자의 주가는 121000원입니다.\n",
      "현대차의 주가는 195000원입니다.\n",
      "대한항공의 주가는 31900원입니다.\n",
      "하나투어의 주가는 86600원입니다.\n"
     ]
    }
   ],
   "source": [
    "for com, sto in zip(company, stock) : \n",
    "    print(f'{com}의 주가는 {sto}원입니다.')"
   ]
  },
  {
   "cell_type": "markdown",
   "id": "1b4dbd30",
   "metadata": {},
   "source": [
    "## 3. format 메서드와 f-string으로 문자열 정렬하기, 자리 수 지정해 출력\n",
    "'{인덱스: <길이}'.format(값) <br>\n",
    "f'{값:<길이}'"
   ]
  },
  {
   "cell_type": "markdown",
   "id": "23950c7c",
   "metadata": {},
   "source": [
    "< 10 : 공간을 10칸 확보하고 글자를 왼쪽 정렬 <br>\n",
    "\\> 10 : 공간을 10칸 확보하고 글자를 오른쪽 정렬"
   ]
  },
  {
   "cell_type": "code",
   "execution_count": 39,
   "id": "d33ef7fb",
   "metadata": {},
   "outputs": [
    {
     "name": "stdout",
     "output_type": "stream",
     "text": [
      "삼성전자      \n"
     ]
    },
    {
     "data": {
      "text/plain": [
       "'삼성전자      '"
      ]
     },
     "execution_count": 39,
     "metadata": {},
     "output_type": "execute_result"
    }
   ],
   "source": [
    "print('{0:<10}'.format('삼성전자'))\n",
    "'{0:<10}'.format('삼성전자')"
   ]
  },
  {
   "cell_type": "code",
   "execution_count": 40,
   "id": "f0c3bc68",
   "metadata": {},
   "outputs": [
    {
     "name": "stdout",
     "output_type": "stream",
     "text": [
      "      삼성전자\n"
     ]
    },
    {
     "data": {
      "text/plain": [
       "'      삼성전자'"
      ]
     },
     "execution_count": 40,
     "metadata": {},
     "output_type": "execute_result"
    }
   ],
   "source": [
    "print('{0:>10}'.format('삼성전자'))\n",
    "'{0:>10}'.format('삼성전자')"
   ]
  },
  {
   "cell_type": "code",
   "execution_count": 43,
   "id": "69984076",
   "metadata": {},
   "outputs": [
    {
     "name": "stdout",
     "output_type": "stream",
     "text": [
      "      삼성전자\n"
     ]
    }
   ],
   "source": [
    "print(f\"{'삼성전자':>10}\")"
   ]
  },
  {
   "cell_type": "markdown",
   "id": "df2bb67a",
   "metadata": {},
   "source": [
    "- 숫자 자리수 맞추고 기본 값 지정하기 <br>\n",
    "'{인덱스:채울숫자 길이 서식지정자}'.format(값) / 단, 서식지정자에서 '%'는 제외해야 함<br>\n",
    "f'{값:채울숫자 길이 서식지정자}'"
   ]
  },
  {
   "cell_type": "markdown",
   "id": "4972bb80",
   "metadata": {},
   "source": [
    "1자리 숫자 앞에 0 추가하기"
   ]
  },
  {
   "cell_type": "code",
   "execution_count": 47,
   "id": "6ccd0412",
   "metadata": {},
   "outputs": [
    {
     "name": "stdout",
     "output_type": "stream",
     "text": [
      "01&002\n"
     ]
    }
   ],
   "source": [
    "print('{:02d}&{:03d}'.format(1,2))"
   ]
  },
  {
   "cell_type": "code",
   "execution_count": 51,
   "id": "bd530d91",
   "metadata": {},
   "outputs": [
    {
     "name": "stdout",
     "output_type": "stream",
     "text": [
      "01월\n"
     ]
    }
   ],
   "source": [
    "print(f\"{1:02d}월\")"
   ]
  },
  {
   "cell_type": "markdown",
   "id": "6e9728db",
   "metadata": {},
   "source": [
    "실수 === 정수 자릿수와 소수점 자릿수 지정"
   ]
  },
  {
   "cell_type": "code",
   "execution_count": 55,
   "id": "efc8e702",
   "metadata": {},
   "outputs": [
    {
     "name": "stdout",
     "output_type": "stream",
     "text": [
      "100.516\n",
      "1.516\n"
     ]
    }
   ],
   "source": [
    "print('{0:2.3f}'.format(100.51553))\n",
    "print('{0:2.3f}'.format(1.5155))"
   ]
  },
  {
   "cell_type": "code",
   "execution_count": 57,
   "id": "8ec66fa5",
   "metadata": {
    "scrolled": true
   },
   "outputs": [
    {
     "name": "stdout",
     "output_type": "stream",
     "text": [
      "0001.516\n"
     ]
    }
   ],
   "source": [
    "# n.mf 일 때 n은 소수점 포함 전체 자릿수. m은 소수점 자릿수.\n",
    "print('{0:08.3f}'.format(1.5155))"
   ]
  },
  {
   "cell_type": "code",
   "execution_count": 61,
   "id": "706746f0",
   "metadata": {},
   "outputs": [
    {
     "name": "stdout",
     "output_type": "stream",
     "text": [
      "100.516\n",
      "1.516\n",
      "0001.516\n"
     ]
    }
   ],
   "source": [
    "print(f'{100.51553:2.3f}')\n",
    "print(f'{1.51553:2.3f}')\n",
    "print(f'{1.51553:08.3f}')"
   ]
  },
  {
   "cell_type": "markdown",
   "id": "aa0df2c3",
   "metadata": {},
   "source": [
    "1월 1일부터 12월 31일까지 출력하는데 1자리라면 앞에 0을 붙여서 출력."
   ]
  },
  {
   "cell_type": "code",
   "execution_count": 65,
   "id": "b2e02855",
   "metadata": {
    "scrolled": true
   },
   "outputs": [
    {
     "name": "stdout",
     "output_type": "stream",
     "text": [
      "01월 01일\n",
      "01월 02일\n",
      "01월 03일\n",
      "01월 04일\n",
      "01월 05일\n",
      "01월 06일\n",
      "01월 07일\n",
      "01월 08일\n",
      "01월 09일\n",
      "01월 10일\n",
      "01월 11일\n",
      "01월 12일\n",
      "01월 13일\n",
      "01월 14일\n",
      "01월 15일\n",
      "01월 16일\n",
      "01월 17일\n",
      "01월 18일\n",
      "01월 19일\n",
      "01월 20일\n",
      "01월 21일\n",
      "01월 22일\n",
      "01월 23일\n",
      "01월 24일\n",
      "01월 25일\n",
      "01월 26일\n",
      "01월 27일\n",
      "01월 28일\n",
      "01월 29일\n",
      "01월 30일\n",
      "01월 31일\n",
      "02월 01일\n",
      "02월 02일\n",
      "02월 03일\n",
      "02월 04일\n",
      "02월 05일\n",
      "02월 06일\n",
      "02월 07일\n",
      "02월 08일\n",
      "02월 09일\n",
      "02월 10일\n",
      "02월 11일\n",
      "02월 12일\n",
      "02월 13일\n",
      "02월 14일\n",
      "02월 15일\n",
      "02월 16일\n",
      "02월 17일\n",
      "02월 18일\n",
      "02월 19일\n",
      "02월 20일\n",
      "02월 21일\n",
      "02월 22일\n",
      "02월 23일\n",
      "02월 24일\n",
      "02월 25일\n",
      "02월 26일\n",
      "02월 27일\n",
      "02월 28일\n",
      "02월 29일\n",
      "02월 30일\n",
      "02월 31일\n",
      "03월 01일\n",
      "03월 02일\n",
      "03월 03일\n",
      "03월 04일\n",
      "03월 05일\n",
      "03월 06일\n",
      "03월 07일\n",
      "03월 08일\n",
      "03월 09일\n",
      "03월 10일\n",
      "03월 11일\n",
      "03월 12일\n",
      "03월 13일\n",
      "03월 14일\n",
      "03월 15일\n",
      "03월 16일\n",
      "03월 17일\n",
      "03월 18일\n",
      "03월 19일\n",
      "03월 20일\n",
      "03월 21일\n",
      "03월 22일\n",
      "03월 23일\n",
      "03월 24일\n",
      "03월 25일\n",
      "03월 26일\n",
      "03월 27일\n",
      "03월 28일\n",
      "03월 29일\n",
      "03월 30일\n",
      "03월 31일\n",
      "04월 01일\n",
      "04월 02일\n",
      "04월 03일\n",
      "04월 04일\n",
      "04월 05일\n",
      "04월 06일\n",
      "04월 07일\n",
      "04월 08일\n",
      "04월 09일\n",
      "04월 10일\n",
      "04월 11일\n",
      "04월 12일\n",
      "04월 13일\n",
      "04월 14일\n",
      "04월 15일\n",
      "04월 16일\n",
      "04월 17일\n",
      "04월 18일\n",
      "04월 19일\n",
      "04월 20일\n",
      "04월 21일\n",
      "04월 22일\n",
      "04월 23일\n",
      "04월 24일\n",
      "04월 25일\n",
      "04월 26일\n",
      "04월 27일\n",
      "04월 28일\n",
      "04월 29일\n",
      "04월 30일\n",
      "04월 31일\n",
      "05월 01일\n",
      "05월 02일\n",
      "05월 03일\n",
      "05월 04일\n",
      "05월 05일\n",
      "05월 06일\n",
      "05월 07일\n",
      "05월 08일\n",
      "05월 09일\n",
      "05월 10일\n",
      "05월 11일\n",
      "05월 12일\n",
      "05월 13일\n",
      "05월 14일\n",
      "05월 15일\n",
      "05월 16일\n",
      "05월 17일\n",
      "05월 18일\n",
      "05월 19일\n",
      "05월 20일\n",
      "05월 21일\n",
      "05월 22일\n",
      "05월 23일\n",
      "05월 24일\n",
      "05월 25일\n",
      "05월 26일\n",
      "05월 27일\n",
      "05월 28일\n",
      "05월 29일\n",
      "05월 30일\n",
      "05월 31일\n",
      "06월 01일\n",
      "06월 02일\n",
      "06월 03일\n",
      "06월 04일\n",
      "06월 05일\n",
      "06월 06일\n",
      "06월 07일\n",
      "06월 08일\n",
      "06월 09일\n",
      "06월 10일\n",
      "06월 11일\n",
      "06월 12일\n",
      "06월 13일\n",
      "06월 14일\n",
      "06월 15일\n",
      "06월 16일\n",
      "06월 17일\n",
      "06월 18일\n",
      "06월 19일\n",
      "06월 20일\n",
      "06월 21일\n",
      "06월 22일\n",
      "06월 23일\n",
      "06월 24일\n",
      "06월 25일\n",
      "06월 26일\n",
      "06월 27일\n",
      "06월 28일\n",
      "06월 29일\n",
      "06월 30일\n",
      "06월 31일\n",
      "07월 01일\n",
      "07월 02일\n",
      "07월 03일\n",
      "07월 04일\n",
      "07월 05일\n",
      "07월 06일\n",
      "07월 07일\n",
      "07월 08일\n",
      "07월 09일\n",
      "07월 10일\n",
      "07월 11일\n",
      "07월 12일\n",
      "07월 13일\n",
      "07월 14일\n",
      "07월 15일\n",
      "07월 16일\n",
      "07월 17일\n",
      "07월 18일\n",
      "07월 19일\n",
      "07월 20일\n",
      "07월 21일\n",
      "07월 22일\n",
      "07월 23일\n",
      "07월 24일\n",
      "07월 25일\n",
      "07월 26일\n",
      "07월 27일\n",
      "07월 28일\n",
      "07월 29일\n",
      "07월 30일\n",
      "07월 31일\n",
      "08월 01일\n",
      "08월 02일\n",
      "08월 03일\n",
      "08월 04일\n",
      "08월 05일\n",
      "08월 06일\n",
      "08월 07일\n",
      "08월 08일\n",
      "08월 09일\n",
      "08월 10일\n",
      "08월 11일\n",
      "08월 12일\n",
      "08월 13일\n",
      "08월 14일\n",
      "08월 15일\n",
      "08월 16일\n",
      "08월 17일\n",
      "08월 18일\n",
      "08월 19일\n",
      "08월 20일\n",
      "08월 21일\n",
      "08월 22일\n",
      "08월 23일\n",
      "08월 24일\n",
      "08월 25일\n",
      "08월 26일\n",
      "08월 27일\n",
      "08월 28일\n",
      "08월 29일\n",
      "08월 30일\n",
      "08월 31일\n",
      "09월 01일\n",
      "09월 02일\n",
      "09월 03일\n",
      "09월 04일\n",
      "09월 05일\n",
      "09월 06일\n",
      "09월 07일\n",
      "09월 08일\n",
      "09월 09일\n",
      "09월 10일\n",
      "09월 11일\n",
      "09월 12일\n",
      "09월 13일\n",
      "09월 14일\n",
      "09월 15일\n",
      "09월 16일\n",
      "09월 17일\n",
      "09월 18일\n",
      "09월 19일\n",
      "09월 20일\n",
      "09월 21일\n",
      "09월 22일\n",
      "09월 23일\n",
      "09월 24일\n",
      "09월 25일\n",
      "09월 26일\n",
      "09월 27일\n",
      "09월 28일\n",
      "09월 29일\n",
      "09월 30일\n",
      "09월 31일\n",
      "10월 01일\n",
      "10월 02일\n",
      "10월 03일\n",
      "10월 04일\n",
      "10월 05일\n",
      "10월 06일\n",
      "10월 07일\n",
      "10월 08일\n",
      "10월 09일\n",
      "10월 10일\n",
      "10월 11일\n",
      "10월 12일\n",
      "10월 13일\n",
      "10월 14일\n",
      "10월 15일\n",
      "10월 16일\n",
      "10월 17일\n",
      "10월 18일\n",
      "10월 19일\n",
      "10월 20일\n",
      "10월 21일\n",
      "10월 22일\n",
      "10월 23일\n",
      "10월 24일\n",
      "10월 25일\n",
      "10월 26일\n",
      "10월 27일\n",
      "10월 28일\n",
      "10월 29일\n",
      "10월 30일\n",
      "10월 31일\n",
      "11월 01일\n",
      "11월 02일\n",
      "11월 03일\n",
      "11월 04일\n",
      "11월 05일\n",
      "11월 06일\n",
      "11월 07일\n",
      "11월 08일\n",
      "11월 09일\n",
      "11월 10일\n",
      "11월 11일\n",
      "11월 12일\n",
      "11월 13일\n",
      "11월 14일\n",
      "11월 15일\n",
      "11월 16일\n",
      "11월 17일\n",
      "11월 18일\n",
      "11월 19일\n",
      "11월 20일\n",
      "11월 21일\n",
      "11월 22일\n",
      "11월 23일\n",
      "11월 24일\n",
      "11월 25일\n",
      "11월 26일\n",
      "11월 27일\n",
      "11월 28일\n",
      "11월 29일\n",
      "11월 30일\n",
      "11월 31일\n",
      "12월 01일\n",
      "12월 02일\n",
      "12월 03일\n",
      "12월 04일\n",
      "12월 05일\n",
      "12월 06일\n",
      "12월 07일\n",
      "12월 08일\n",
      "12월 09일\n",
      "12월 10일\n",
      "12월 11일\n",
      "12월 12일\n",
      "12월 13일\n",
      "12월 14일\n",
      "12월 15일\n",
      "12월 16일\n",
      "12월 17일\n",
      "12월 18일\n",
      "12월 19일\n",
      "12월 20일\n",
      "12월 21일\n",
      "12월 22일\n",
      "12월 23일\n",
      "12월 24일\n",
      "12월 25일\n",
      "12월 26일\n",
      "12월 27일\n",
      "12월 28일\n",
      "12월 29일\n",
      "12월 30일\n",
      "12월 31일\n"
     ]
    }
   ],
   "source": [
    "month = list(range(1,13))\n",
    "day = list(range(1, 32))\n",
    "for i in month : \n",
    "    for j in day :\n",
    "        print(f'{i:02d}월 {j:02d}일')"
   ]
  },
  {
   "cell_type": "markdown",
   "id": "8043d204",
   "metadata": {},
   "source": [
    "- 공백을 원하는 문자로 채우고 자릿수 맞추기<br>\n",
    "'{인덱스:원하는 숫자 방향 자릿수}'.format(값)<br>\n",
    "f'{값:원하는 숫자 방향 자릿수}'"
   ]
  },
  {
   "cell_type": "code",
   "execution_count": 68,
   "id": "8eb024a4",
   "metadata": {},
   "outputs": [
    {
     "name": "stdout",
     "output_type": "stream",
     "text": [
      "0001\n",
      "3331\n",
      "1000\n",
      "1333\n",
      "$$$1\n"
     ]
    }
   ],
   "source": [
    "print('{0:0>4}'.format(1))\n",
    "print('{0:3>4}'.format(1))\n",
    "print('{0:0<4}'.format(1))\n",
    "print('{0:3<4}'.format(1))\n",
    "print('{0:$>4}'.format(1))"
   ]
  },
  {
   "cell_type": "code",
   "execution_count": 71,
   "id": "44dcb2cf",
   "metadata": {},
   "outputs": [
    {
     "data": {
      "text/plain": [
       "'1%%%'"
      ]
     },
     "execution_count": 71,
     "metadata": {},
     "output_type": "execute_result"
    }
   ],
   "source": [
    "f'{1:%<4}'"
   ]
  },
  {
   "cell_type": "code",
   "execution_count": null,
   "id": "f018dc63",
   "metadata": {},
   "outputs": [],
   "source": [
    "url = 'https://finance.naver.com/sise/sise_trans_style.naver?sosok=01'"
   ]
  },
  {
   "cell_type": "code",
   "execution_count": 72,
   "id": "be2e9400",
   "metadata": {},
   "outputs": [
    {
     "name": "stdout",
     "output_type": "stream",
     "text": [
      "https://finance.naver.com/sise/sise_trans_style.naver?sosok=01\n",
      "https://finance.naver.com/sise/sise_trans_style.naver?sosok=02\n",
      "https://finance.naver.com/sise/sise_trans_style.naver?sosok=03\n",
      "https://finance.naver.com/sise/sise_trans_style.naver?sosok=04\n",
      "https://finance.naver.com/sise/sise_trans_style.naver?sosok=05\n",
      "https://finance.naver.com/sise/sise_trans_style.naver?sosok=06\n",
      "https://finance.naver.com/sise/sise_trans_style.naver?sosok=07\n",
      "https://finance.naver.com/sise/sise_trans_style.naver?sosok=08\n",
      "https://finance.naver.com/sise/sise_trans_style.naver?sosok=09\n"
     ]
    }
   ],
   "source": [
    "for i in range(1,10) :\n",
    "    print(f'https://finance.naver.com/sise/sise_trans_style.naver?sosok={i:02d}')"
   ]
  },
  {
   "cell_type": "code",
   "execution_count": 73,
   "id": "8decc18f",
   "metadata": {},
   "outputs": [
    {
     "name": "stdout",
     "output_type": "stream",
     "text": [
      "https://finance.naver.com/sise/sise_trans_style.naver?sosok=01\n",
      "https://finance.naver.com/sise/sise_trans_style.naver?sosok=02\n",
      "https://finance.naver.com/sise/sise_trans_style.naver?sosok=03\n",
      "https://finance.naver.com/sise/sise_trans_style.naver?sosok=04\n",
      "https://finance.naver.com/sise/sise_trans_style.naver?sosok=05\n",
      "https://finance.naver.com/sise/sise_trans_style.naver?sosok=06\n",
      "https://finance.naver.com/sise/sise_trans_style.naver?sosok=07\n",
      "https://finance.naver.com/sise/sise_trans_style.naver?sosok=08\n",
      "https://finance.naver.com/sise/sise_trans_style.naver?sosok=09\n"
     ]
    }
   ],
   "source": [
    "for i in range(1,10) :\n",
    "    print('https://finance.naver.com/sise/sise_trans_style.naver?sosok={0:02d}'.format(i))"
   ]
  },
  {
   "cell_type": "markdown",
   "id": "4905b38a",
   "metadata": {},
   "source": [
    "파일 이름을 한 번에 바꾸기 <br>\n",
    "숫자로 되어 있는 1자리 혹은 2자릿수 파일 이름을 앞을 0으로 채우는 3자릿수 숫자로 이름 변경"
   ]
  },
  {
   "cell_type": "code",
   "execution_count": 90,
   "id": "07f522f2",
   "metadata": {},
   "outputs": [
    {
     "name": "stdout",
     "output_type": "stream",
     "text": [
      "['001.jpg', '010.jpg', '011.jpg', '002.jpg', '003.png']\n"
     ]
    }
   ],
   "source": [
    "img_list = ['1.jpg', '10.jpg', '11.jpg', '2.jpg', '3.png']\n",
    "for i, j in enumerate(img_list) :\n",
    "    img_list[i] = f'{j:0>7}'\n",
    "print(img_list)"
   ]
  },
  {
   "cell_type": "code",
   "execution_count": 94,
   "id": "6a106774",
   "metadata": {},
   "outputs": [
    {
     "name": "stdout",
     "output_type": "stream",
     "text": [
      "['001.jpg', '010.jpg', '011.jpg', '002.jpg', '003.png']\n"
     ]
    }
   ],
   "source": [
    "img_list = ['1.jpg', '10.jpg', '11.jpg', '2.jpg', '3.png']\n",
    "img_list = [f'{j:0>7}' for j in img_list]\n",
    "print(img_list)"
   ]
  },
  {
   "cell_type": "code",
   "execution_count": null,
   "id": "3ef66afe",
   "metadata": {},
   "outputs": [],
   "source": []
  }
 ],
 "metadata": {
  "kernelspec": {
   "display_name": "Python 3 (ipykernel)",
   "language": "python",
   "name": "python3"
  },
  "language_info": {
   "codemirror_mode": {
    "name": "ipython",
    "version": 3
   },
   "file_extension": ".py",
   "mimetype": "text/x-python",
   "name": "python",
   "nbconvert_exporter": "python",
   "pygments_lexer": "ipython3",
   "version": "3.10.14"
  }
 },
 "nbformat": 4,
 "nbformat_minor": 5
}
