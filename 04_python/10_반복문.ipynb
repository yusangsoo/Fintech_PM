{
 "cells": [
  {
   "cell_type": "markdown",
   "id": "a7757153",
   "metadata": {},
   "source": [
    "# 반복문\n",
    "종류 <br>\n",
    "for, while\n",
    "\n",
    "* 반복문은 동일한 작업을 여러 번 반복해야 할 경우\n",
    "\n",
    "* for, while 두 종류의 반복문이 있음\n",
    "\n",
    "* for는 반복 횟수가 정해져 있는 경우에 사용\n",
    "\n",
    "* while은 반복 횟수가 정해지지 않은 경우에 사용"
   ]
  },
  {
   "cell_type": "markdown",
   "id": "71e9b235",
   "metadata": {},
   "source": [
    "for 반복문 : 반복할 횟수가 정해져 있는 경우\n",
    "\n",
    "for 변수 in 반복할 객체, 자료:\n",
    "____반복할 코드"
   ]
  },
  {
   "cell_type": "markdown",
   "id": "562cfbbe",
   "metadata": {},
   "source": [
    "순서가 있는 자료형은 모두 for문제 사용 가능\n",
    "\n",
    "* 문자열\n",
    "\n",
    "* 리스트\n",
    "\n",
    "* 튜플"
   ]
  },
  {
   "cell_type": "code",
   "execution_count": 1,
   "id": "c235435d",
   "metadata": {},
   "outputs": [
    {
     "name": "stdout",
     "output_type": "stream",
     "text": [
      "파 이 썬 은   문 자 열 을   반 복 문 에   넣 어   출 력   가 능 "
     ]
    }
   ],
   "source": [
    "a = \"파이썬은 문자열을 반복문에 넣어 출력 가능\"\n",
    "for char in a:\n",
    "  print(char, end = \" \")"
   ]
  },
  {
   "cell_type": "code",
   "execution_count": 2,
   "id": "268af1ef",
   "metadata": {},
   "outputs": [
    {
     "name": "stdout",
     "output_type": "stream",
     "text": [
      "1 2 3 4 5 "
     ]
    }
   ],
   "source": [
    "for item in [1,2,3,4,5]:\n",
    "  print(item, end = \" \")"
   ]
  },
  {
   "cell_type": "code",
   "execution_count": 3,
   "id": "f3554b71",
   "metadata": {},
   "outputs": [
    {
     "name": "stdout",
     "output_type": "stream",
     "text": [
      "1 2 3 3 문자열 [1, 2, 3] (4, 5, 6) {'반복문': 'for'} "
     ]
    }
   ],
   "source": [
    "L = [1,2,3,3, '문자열', [1,2,3], (4,5,6), {'반복문':'for'}]\n",
    "for lis in L:\n",
    "  print(lis, end = \" \")"
   ]
  },
  {
   "cell_type": "code",
   "execution_count": 4,
   "id": "099a6a65",
   "metadata": {},
   "outputs": [
    {
     "name": "stdout",
     "output_type": "stream",
     "text": [
      "{'번호': 1, '주소': '서울', '전화번호': '010-2222-1111', '이름': '홍길동'}\n"
     ]
    }
   ],
   "source": [
    "d = dict(번호 = 1, 주소 = '서울', 전화번호 = '010-2222-1111', 이름 = '홍길동')\n",
    "print(d)"
   ]
  },
  {
   "cell_type": "code",
   "execution_count": 5,
   "id": "4db80918",
   "metadata": {},
   "outputs": [
    {
     "name": "stdout",
     "output_type": "stream",
     "text": [
      "번호 주소 전화번호 이름 "
     ]
    }
   ],
   "source": [
    "# 딕셔너리는 반복문에 넣었을 때 key만 출력된다\n",
    "\n",
    "for item in d : \n",
    "  print(item, end = \" \")"
   ]
  },
  {
   "cell_type": "code",
   "execution_count": 6,
   "id": "b2c9e729",
   "metadata": {},
   "outputs": [
    {
     "name": "stdout",
     "output_type": "stream",
     "text": [
      "1 서울 010-2222-1111 홍길동 "
     ]
    }
   ],
   "source": [
    "for key in d :\n",
    "  print(d[key], end = \" \")"
   ]
  },
  {
   "cell_type": "code",
   "execution_count": 7,
   "id": "b8f60aad",
   "metadata": {},
   "outputs": [
    {
     "name": "stdout",
     "output_type": "stream",
     "text": [
      "1 서울 010-2222-1111 홍길동 "
     ]
    }
   ],
   "source": [
    "for key in d :\n",
    "  print(d.get(key,0), end= \" \")"
   ]
  },
  {
   "cell_type": "code",
   "execution_count": 8,
   "id": "28f0d2fe",
   "metadata": {},
   "outputs": [
    {
     "name": "stdout",
     "output_type": "stream",
     "text": [
      "55\n"
     ]
    }
   ],
   "source": [
    "j = 0\n",
    "for i in range(1,11) :\n",
    "  j = j + i\n",
    "print(j)"
   ]
  },
  {
   "cell_type": "code",
   "execution_count": 9,
   "id": "eff9fd70",
   "metadata": {},
   "outputs": [
    {
     "name": "stdout",
     "output_type": "stream",
     "text": [
      "933262154439441526816992388562667004907159682643816214685929638952175999932299156089414639761565182862536979208272237582511852109168640000000000000000000000\n"
     ]
    }
   ],
   "source": [
    "# 1부터 100까지 곱한 수를 출력\n",
    "m = 1\n",
    "for num in range(1,100) :\n",
    "  m = m*num\n",
    "print(m)"
   ]
  },
  {
   "cell_type": "code",
   "execution_count": 10,
   "id": "ea72d529",
   "metadata": {},
   "outputs": [
    {
     "name": "stdout",
     "output_type": "stream",
     "text": [
      "650\n"
     ]
    }
   ],
   "source": [
    "# 1부터 50까지 짝수인 수만 더한 값\n",
    "even = 0\n",
    "for i in range(1,51) :\n",
    "  if i % 2 == 0 :\n",
    "    even = even + i\n",
    "print(even)"
   ]
  },
  {
   "cell_type": "code",
   "execution_count": 11,
   "id": "c5599091",
   "metadata": {},
   "outputs": [
    {
     "name": "stdout",
     "output_type": "stream",
     "text": [
      "650\n"
     ]
    }
   ],
   "source": [
    "# 1부터 50까지 짝수인 수만 더한 값\n",
    "even = 0\n",
    "for i in range(1,26) :\n",
    "    even = even + i * 2\n",
    "print(even)"
   ]
  },
  {
   "cell_type": "code",
   "execution_count": 12,
   "id": "3ce446f3",
   "metadata": {},
   "outputs": [
    {
     "name": "stdout",
     "output_type": "stream",
     "text": [
      "7 14 21 28 35 42 49 56 63 70 77 84 91 98 59126328543388935628800\n"
     ]
    }
   ],
   "source": [
    "# 1부터 100까지의 수 중에서 7의 배수만 찾아 곱한 값을 출력\n",
    "seven = 1\n",
    "for i in range(7,101,7) :\n",
    "  print(i, end = \" \")\n",
    "  seven = seven*i\n",
    "print(seven)"
   ]
  },
  {
   "cell_type": "code",
   "execution_count": 13,
   "id": "1b120651",
   "metadata": {},
   "outputs": [
    {
     "name": "stdout",
     "output_type": "stream",
     "text": [
      "2050\n"
     ]
    }
   ],
   "source": [
    "# 1부터 100까지 수를 만들고 그중 30에서 70까지만 더해서 출력\n",
    "f = 0\n",
    "for i in range(1,101) :\n",
    "  if i < 30 or i > 70 :\n",
    "    i = 0\n",
    "  f = f + i\n",
    "print(f)"
   ]
  },
  {
   "cell_type": "code",
   "execution_count": 14,
   "id": "94a6c9b6",
   "metadata": {},
   "outputs": [
    {
     "name": "stdout",
     "output_type": "stream",
     "text": [
      "2050\n"
     ]
    }
   ],
   "source": [
    "# 1부터 100까지 수를 만들고 그중 30에서 70까지만 더해서 출력\n",
    "temp = 0\n",
    "for num in range(1,101)[29:70]:\n",
    "  temp += num\n",
    "print(temp)"
   ]
  },
  {
   "cell_type": "code",
   "execution_count": 15,
   "id": "0f01cc50",
   "metadata": {},
   "outputs": [
    {
     "name": "stdout",
     "output_type": "stream",
     "text": [
      "L1 [1, 3, 5, 7, 9]\n",
      "L2 [0, 2, 4, 6, 8]\n",
      "1 0\n",
      "1\n",
      "3 2\n",
      "5\n",
      "5 4\n",
      "9\n",
      "7 6\n",
      "13\n",
      "9 8\n",
      "17\n"
     ]
    }
   ],
   "source": [
    "L1 = list(range(1,10,2))\n",
    "print('L1', L1)\n",
    "L2 = list(range(0,10,2))\n",
    "print('L2', L2)\n",
    "\n",
    "for num, num2 in zip(L1, L2):\n",
    "  print(num, num2)\n",
    "  temp = num+num2\n",
    "  print(temp)"
   ]
  },
  {
   "cell_type": "code",
   "execution_count": 16,
   "id": "4e2eedd3",
   "metadata": {},
   "outputs": [
    {
     "name": "stdout",
     "output_type": "stream",
     "text": [
      "0 파\n",
      "1 이\n",
      "2 썬\n",
      "3 은\n",
      "4  \n",
      "5 문\n",
      "6 자\n",
      "7 열\n",
      "8 을\n",
      "9  \n",
      "10 반\n",
      "11 복\n",
      "12 문\n",
      "13 에\n",
      "14  \n",
      "15 넣\n",
      "16 어\n",
      "17  \n",
      "18 출\n",
      "19 력\n",
      "20  \n",
      "21 가\n",
      "22 능\n"
     ]
    }
   ],
   "source": [
    "# enumerate(): index를 만들어주는 함수\n",
    "for index, char in enumerate(\"파이썬은 문자열을 반복문에 넣어 출력 가능\") :\n",
    "  print(index, char)"
   ]
  },
  {
   "cell_type": "code",
   "execution_count": 17,
   "id": "fae23757",
   "metadata": {},
   "outputs": [
    {
     "name": "stdout",
     "output_type": "stream",
     "text": [
      "0 (1, 0) 1\n",
      "1 (3, 2) 3\n",
      "2 (5, 4) 5\n",
      "3 (7, 6) 7\n",
      "4 (9, 8) 9\n"
     ]
    }
   ],
   "source": [
    "# zip함수는 튜플로 결과를 묶어서 내놓음.\n",
    "## 거기에 enumerate함수로 덮으니 zip함수의 결과를 튜플 1세트로 보는 것\n",
    "### 그래서 zip함수에 몇 개가 있든 결국 튜플 1세트\n",
    "for num1, num2 in enumerate(zip(L1,L2)) :\n",
    "  print(num1, num2, num2[0])"
   ]
  },
  {
   "cell_type": "code",
   "execution_count": 18,
   "id": "d924ca2b",
   "metadata": {},
   "outputs": [
    {
     "name": "stdout",
     "output_type": "stream",
     "text": [
      "0 1\n",
      "1 3\n",
      "2 5\n"
     ]
    }
   ],
   "source": [
    "L3 = [5,4,2]\n",
    "for index, (num1, num2, num3) in enumerate(zip(L1,L2,L3)) :\n",
    "  print(index, num1)"
   ]
  },
  {
   "cell_type": "code",
   "execution_count": 19,
   "id": "b1bac90c",
   "metadata": {},
   "outputs": [
    {
     "name": "stdout",
     "output_type": "stream",
     "text": [
      "10\n",
      "9\n",
      "8\n",
      "7\n",
      "6\n",
      "5\n",
      "4\n",
      "3\n",
      "2\n",
      "1\n"
     ]
    }
   ],
   "source": [
    "for num in reversed(range(1,11)):\n",
    "  print(num)"
   ]
  },
  {
   "cell_type": "markdown",
   "id": "3233cbc9",
   "metadata": {},
   "source": [
    "### while\n",
    "* 반복할 횟수가 정해져 있지 않은 경우\n",
    "* 무한 반복이 가능해 그렇게 되지 않도록 조건식을 짜는 것이 중요 변수 선언 및 초기화 <br>\n",
    "while 조건식 : <br>\n",
    "__반복할 코드 <br>\n",
    "__변수 증가/감소 로직 <br>"
   ]
  },
  {
   "cell_type": "code",
   "execution_count": 20,
   "id": "5ec010d7",
   "metadata": {},
   "outputs": [
    {
     "name": "stdout",
     "output_type": "stream",
     "text": [
      "1 2 3 4 5 6 7 8 9 10 "
     ]
    }
   ],
   "source": [
    "# while문으로 1-10까지 출력\n",
    "i = 1\n",
    "while i <= 10 :\n",
    "  print(i, end = \" \")\n",
    "  i += 1"
   ]
  },
  {
   "cell_type": "code",
   "execution_count": 21,
   "id": "4309b9fa",
   "metadata": {},
   "outputs": [
    {
     "name": "stdout",
     "output_type": "stream",
     "text": [
      "55\n"
     ]
    }
   ],
   "source": [
    "# while문을 이용해서 1~10까지 더해서 결과 출력\n",
    "j = 0\n",
    "i = 1\n",
    "while i <= 10 :\n",
    "  j = j+i\n",
    "  i += 1\n",
    "print(j)"
   ]
  },
  {
   "cell_type": "code",
   "execution_count": 22,
   "id": "f6c9d4c1",
   "metadata": {},
   "outputs": [
    {
     "name": "stdout",
     "output_type": "stream",
     "text": [
      "210\n"
     ]
    }
   ],
   "source": [
    "# 20에서 1까지 숫자를 더한 값을 출력\n",
    "i = 20\n",
    "hap = 0\n",
    "while i > 0 :\n",
    "  hap += i\n",
    "  i -= 1\n",
    "print(hap)"
   ]
  },
  {
   "cell_type": "code",
   "execution_count": 23,
   "id": "b6e9a5a0",
   "metadata": {},
   "outputs": [
    {
     "name": "stdout",
     "output_type": "stream",
     "text": [
      "216\n"
     ]
    }
   ],
   "source": [
    "# 1에서 50까지 수 중에서 3의 배수이고, 짝수인 수를 찾아서 더한 값 출력\n",
    "i = 1\n",
    "j = 0\n",
    "while i <= 50 :\n",
    "  if i % 3 == 0 and i % 2 == 0 :\n",
    "    j += i\n",
    "  i += 1\n",
    "print(j)"
   ]
  },
  {
   "cell_type": "code",
   "execution_count": 24,
   "id": "d7465676",
   "metadata": {},
   "outputs": [],
   "source": [
    "# 무한반복을 주는 법은 while에 true라고 조건을 준다.\n",
    "# 무한반복을 주는 이유는 횟수를 모르기 때문\n",
    "# 무한반복을 탈출시켜주는 코드(break)를 반드시 입력해야 한다."
   ]
  },
  {
   "cell_type": "code",
   "execution_count": 25,
   "id": "e85b102f",
   "metadata": {},
   "outputs": [
    {
     "name": "stdout",
     "output_type": "stream",
     "text": [
      "5050\n"
     ]
    }
   ],
   "source": [
    "i = 1\n",
    "hap = 0\n",
    "while True:\n",
    "  if i <= 100 :\n",
    "    hap += i\n",
    "    i += 1\n",
    "  else:\n",
    "    break\n",
    "print(hap)\n"
   ]
  },
  {
   "cell_type": "markdown",
   "id": "fee2f2c1",
   "metadata": {},
   "source": [
    "* True가 되는 경우 : 정수, 실수, 문자열, True를 넣을 때\n",
    "* False가 되는 경우 : 0, 0.0, '', \"\", [], (), {}"
   ]
  },
  {
   "cell_type": "code",
   "execution_count": null,
   "id": "685deef2",
   "metadata": {},
   "outputs": [],
   "source": []
  },
  {
   "cell_type": "code",
   "execution_count": null,
   "id": "5fb2d6f0",
   "metadata": {},
   "outputs": [],
   "source": []
  },
  {
   "cell_type": "code",
   "execution_count": null,
   "id": "0d4ef963",
   "metadata": {},
   "outputs": [],
   "source": []
  },
  {
   "cell_type": "code",
   "execution_count": null,
   "id": "97e5dba1",
   "metadata": {},
   "outputs": [],
   "source": []
  },
  {
   "cell_type": "code",
   "execution_count": null,
   "id": "9e542997",
   "metadata": {},
   "outputs": [],
   "source": []
  },
  {
   "cell_type": "code",
   "execution_count": null,
   "id": "8d181036",
   "metadata": {},
   "outputs": [],
   "source": []
  },
  {
   "cell_type": "code",
   "execution_count": null,
   "id": "2aba8f01",
   "metadata": {},
   "outputs": [],
   "source": []
  },
  {
   "cell_type": "code",
   "execution_count": null,
   "id": "b6ae240f",
   "metadata": {},
   "outputs": [],
   "source": []
  },
  {
   "cell_type": "code",
   "execution_count": null,
   "id": "1a95c7ce",
   "metadata": {},
   "outputs": [],
   "source": []
  },
  {
   "cell_type": "code",
   "execution_count": null,
   "id": "9a034796",
   "metadata": {},
   "outputs": [],
   "source": []
  }
 ],
 "metadata": {
  "kernelspec": {
   "display_name": "Python 3 (ipykernel)",
   "language": "python",
   "name": "python3"
  },
  "language_info": {
   "codemirror_mode": {
    "name": "ipython",
    "version": 3
   },
   "file_extension": ".py",
   "mimetype": "text/x-python",
   "name": "python",
   "nbconvert_exporter": "python",
   "pygments_lexer": "ipython3",
   "version": "3.10.14"
  }
 },
 "nbformat": 4,
 "nbformat_minor": 5
}
