{
 "cells": [
  {
   "cell_type": "markdown",
   "id": "7f10f7e9",
   "metadata": {},
   "source": [
    "# 3. 연산자의 종류와 활용"
   ]
  },
  {
   "cell_type": "markdown",
   "id": "d76aed9c",
   "metadata": {},
   "source": [
    "## 1) 연산자의 종류\n",
    "* 산술연산자 : +, -, *, /, %, //, **\n",
    "* 할당연산자 : =, +=, -=, *=, /=, %=\n",
    "* 비교연산자 : ==, !=, >, <, >=, <=\n",
    "* 논리연산자 : and, or, not\n",
    "* 식별연산자 : is, is not\n",
    "* 멤버연산자 : in, not in\n"
   ]
  },
  {
   "cell_type": "markdown",
   "id": "696c37cd",
   "metadata": {},
   "source": [
    "### 산술연산자"
   ]
  },
  {
   "cell_type": "code",
   "execution_count": 1,
   "id": "0ee23652",
   "metadata": {},
   "outputs": [
    {
     "data": {
      "text/plain": [
       "2"
      ]
     },
     "execution_count": 1,
     "metadata": {},
     "output_type": "execute_result"
    }
   ],
   "source": [
    "1 + 1"
   ]
  },
  {
   "cell_type": "code",
   "execution_count": 2,
   "id": "beef43d2",
   "metadata": {},
   "outputs": [
    {
     "data": {
      "text/plain": [
       "2"
      ]
     },
     "execution_count": 2,
     "metadata": {},
     "output_type": "execute_result"
    }
   ],
   "source": [
    "5 - 3"
   ]
  },
  {
   "cell_type": "code",
   "execution_count": 3,
   "id": "2559323f",
   "metadata": {},
   "outputs": [
    {
     "data": {
      "text/plain": [
       "81"
      ]
     },
     "execution_count": 3,
     "metadata": {},
     "output_type": "execute_result"
    }
   ],
   "source": [
    "9 * 9"
   ]
  },
  {
   "cell_type": "code",
   "execution_count": 4,
   "id": "f035ea07",
   "metadata": {},
   "outputs": [
    {
     "data": {
      "text/plain": [
       "199.33333333333334"
      ]
     },
     "execution_count": 4,
     "metadata": {},
     "output_type": "execute_result"
    }
   ],
   "source": [
    "598 / 3"
   ]
  },
  {
   "cell_type": "code",
   "execution_count": 5,
   "id": "2d191bc0",
   "metadata": {},
   "outputs": [
    {
     "data": {
      "text/plain": [
       "2.0"
      ]
     },
     "execution_count": 5,
     "metadata": {},
     "output_type": "execute_result"
    }
   ],
   "source": [
    "# 정수 / 정수 = 실수\n",
    "4 / 2"
   ]
  },
  {
   "cell_type": "code",
   "execution_count": 6,
   "id": "91d8e32f",
   "metadata": {},
   "outputs": [
    {
     "name": "stdout",
     "output_type": "stream",
     "text": [
      "<class 'int'>\n",
      "<class 'int'>\n",
      "<class 'float'>\n"
     ]
    }
   ],
   "source": [
    "a = 4\n",
    "b = 2\n",
    "c = a / b\n",
    "\n",
    "print(type(a))\n",
    "print(type(b))\n",
    "print(type(c))"
   ]
  },
  {
   "cell_type": "code",
   "execution_count": 7,
   "id": "5d205c01",
   "metadata": {},
   "outputs": [
    {
     "data": {
      "text/plain": [
       "0"
      ]
     },
     "execution_count": 7,
     "metadata": {},
     "output_type": "execute_result"
    }
   ],
   "source": [
    "# 나머지\n",
    "4 % 2"
   ]
  },
  {
   "cell_type": "code",
   "execution_count": 8,
   "id": "ff8f23d3",
   "metadata": {},
   "outputs": [
    {
     "data": {
      "text/plain": [
       "3"
      ]
     },
     "execution_count": 8,
     "metadata": {},
     "output_type": "execute_result"
    }
   ],
   "source": [
    "# 몫\n",
    "6 // 2"
   ]
  },
  {
   "cell_type": "code",
   "execution_count": 9,
   "id": "e3ad3987",
   "metadata": {},
   "outputs": [
    {
     "data": {
      "text/plain": [
       "9"
      ]
     },
     "execution_count": 9,
     "metadata": {},
     "output_type": "execute_result"
    }
   ],
   "source": [
    "3 ** 2"
   ]
  },
  {
   "cell_type": "markdown",
   "id": "2df2a8f3",
   "metadata": {},
   "source": [
    "* 괄호를 이용해서 연산 우선순위 조정"
   ]
  },
  {
   "cell_type": "code",
   "execution_count": 10,
   "id": "f377f7df",
   "metadata": {},
   "outputs": [
    {
     "data": {
      "text/plain": [
       "-1371"
      ]
     },
     "execution_count": 10,
     "metadata": {},
     "output_type": "execute_result"
    }
   ],
   "source": [
    "(3 ** 4 - 100) ** 3 // 5 + 1"
   ]
  },
  {
   "cell_type": "markdown",
   "id": "5502ca25",
   "metadata": {},
   "source": [
    "초를 입력하면 몇 분 몇 초로 환산해주는 코드를 작성\n",
    "input(\"초를 입력하세요 : \")"
   ]
  },
  {
   "cell_type": "code",
   "execution_count": 22,
   "id": "91665a13",
   "metadata": {},
   "outputs": [
    {
     "name": "stdout",
     "output_type": "stream",
     "text": [
      "초를 입력하세요 : 1234\n",
      "20 분 34 초\n"
     ]
    }
   ],
   "source": [
    "a = input('초를 입력하세요 : ')\n",
    "print(int(a) // 60,'분', int(a) % 60,'초')"
   ]
  },
  {
   "cell_type": "markdown",
   "id": "397a4693",
   "metadata": {},
   "source": [
    "### 할당연산자"
   ]
  },
  {
   "cell_type": "markdown",
   "id": "2cecf46c",
   "metadata": {},
   "source": [
    "* += 왼쪽 변수 값에 오른쪽 값을 더해서 왼쪽 변수에 할당\n",
    "* -= 왼쪽 변수 값에 오른쪽 값을 빼서 왼쪽 변수에 할당\n",
    "* *= 왼쪽 변수 값에 오른쪽 값을 곱해서 왼쪽 변수에 할당\n",
    "* /= 왼쪽 변수 값에 오른쪽 값을 나눠서 왼쪽 변수에 할당\n",
    "* %= 왼쪽 변수 값에 오른쪽 값의 나머지를 왼쪽 변수에 할당"
   ]
  },
  {
   "cell_type": "code",
   "execution_count": 24,
   "id": "b98e14f4",
   "metadata": {},
   "outputs": [
    {
     "name": "stdout",
     "output_type": "stream",
     "text": [
      "2 0 6 2.0 1\n"
     ]
    }
   ],
   "source": [
    "a = 1\n",
    "b = 2\n",
    "c = 3\n",
    "d = 4\n",
    "e = 5\n",
    "a += 1\n",
    "b -= 2\n",
    "c *= 2\n",
    "d /= 2\n",
    "e %= 2\n",
    "print(a,b,c,d,e)"
   ]
  },
  {
   "cell_type": "markdown",
   "id": "3740c87a",
   "metadata": {},
   "source": [
    "### 비교연산자"
   ]
  },
  {
   "cell_type": "code",
   "execution_count": 25,
   "id": "6a2c1c04",
   "metadata": {},
   "outputs": [],
   "source": [
    "a = 3\n",
    "b = 3.0\n",
    "c = 5\n",
    "d = \"Python\"\n",
    "e = \"python\"\n",
    "f = True\n",
    "g = False"
   ]
  },
  {
   "cell_type": "code",
   "execution_count": 26,
   "id": "b79525fe",
   "metadata": {},
   "outputs": [
    {
     "data": {
      "text/plain": [
       "False"
      ]
     },
     "execution_count": 26,
     "metadata": {},
     "output_type": "execute_result"
    }
   ],
   "source": [
    "a == b"
   ]
  },
  {
   "cell_type": "code",
   "execution_count": 27,
   "id": "bd9044ec",
   "metadata": {},
   "outputs": [
    {
     "data": {
      "text/plain": [
       "True"
      ]
     },
     "execution_count": 27,
     "metadata": {},
     "output_type": "execute_result"
    }
   ],
   "source": [
    "a != c"
   ]
  },
  {
   "cell_type": "code",
   "execution_count": 28,
   "id": "fa136c1b",
   "metadata": {},
   "outputs": [
    {
     "data": {
      "text/plain": [
       "False"
      ]
     },
     "execution_count": 28,
     "metadata": {},
     "output_type": "execute_result"
    }
   ],
   "source": [
    "a == c"
   ]
  },
  {
   "cell_type": "code",
   "execution_count": 29,
   "id": "17a4b2c9",
   "metadata": {},
   "outputs": [
    {
     "data": {
      "text/plain": [
       "False"
      ]
     },
     "execution_count": 29,
     "metadata": {},
     "output_type": "execute_result"
    }
   ],
   "source": [
    "d == e"
   ]
  },
  {
   "cell_type": "code",
   "execution_count": 30,
   "id": "a04cb84f",
   "metadata": {},
   "outputs": [
    {
     "data": {
      "text/plain": [
       "False"
      ]
     },
     "execution_count": 30,
     "metadata": {},
     "output_type": "execute_result"
    }
   ],
   "source": [
    "f == g"
   ]
  },
  {
   "cell_type": "markdown",
   "id": "8a1bdaa2",
   "metadata": {},
   "source": [
    "### 논리연산자"
   ]
  },
  {
   "cell_type": "code",
   "execution_count": 31,
   "id": "be1ad172",
   "metadata": {},
   "outputs": [
    {
     "data": {
      "text/plain": [
       "True"
      ]
     },
     "execution_count": 31,
     "metadata": {},
     "output_type": "execute_result"
    }
   ],
   "source": [
    "True and True"
   ]
  },
  {
   "cell_type": "code",
   "execution_count": 32,
   "id": "4760059a",
   "metadata": {},
   "outputs": [
    {
     "data": {
      "text/plain": [
       "False"
      ]
     },
     "execution_count": 32,
     "metadata": {},
     "output_type": "execute_result"
    }
   ],
   "source": [
    "True and False"
   ]
  },
  {
   "cell_type": "code",
   "execution_count": 33,
   "id": "b9ad3ac5",
   "metadata": {},
   "outputs": [
    {
     "data": {
      "text/plain": [
       "True"
      ]
     },
     "execution_count": 33,
     "metadata": {},
     "output_type": "execute_result"
    }
   ],
   "source": [
    "False or True"
   ]
  },
  {
   "cell_type": "code",
   "execution_count": 34,
   "id": "9ea0c9e3",
   "metadata": {},
   "outputs": [
    {
     "data": {
      "text/plain": [
       "False"
      ]
     },
     "execution_count": 34,
     "metadata": {},
     "output_type": "execute_result"
    }
   ],
   "source": [
    "not True"
   ]
  },
  {
   "cell_type": "code",
   "execution_count": 35,
   "id": "380c8525",
   "metadata": {},
   "outputs": [
    {
     "data": {
      "text/plain": [
       "True"
      ]
     },
     "execution_count": 35,
     "metadata": {},
     "output_type": "execute_result"
    }
   ],
   "source": [
    "not False"
   ]
  },
  {
   "cell_type": "markdown",
   "id": "e79c8e87",
   "metadata": {},
   "source": [
    "and, or, not 논리연산자가 식 하나에 모두 들어있으면\n",
    "not, and, or 순으로 판단함"
   ]
  },
  {
   "cell_type": "code",
   "execution_count": 38,
   "id": "28aea1df",
   "metadata": {},
   "outputs": [
    {
     "data": {
      "text/plain": [
       "True"
      ]
     },
     "execution_count": 38,
     "metadata": {},
     "output_type": "execute_result"
    }
   ],
   "source": [
    "not True and False or not False"
   ]
  },
  {
   "cell_type": "markdown",
   "id": "c2e77415",
   "metadata": {},
   "source": [
    "### 식별연산자\n",
    "객체가 같은지 비교하는 연산자 <br>\n",
    "a is b : a 객체와 b 객체가 같은지 비교하고 같으면 True, 다르면 False <br>\n",
    "javascript의 === 연산자와 동일"
   ]
  },
  {
   "cell_type": "code",
   "execution_count": 39,
   "id": "60230bcf",
   "metadata": {},
   "outputs": [
    {
     "name": "stdout",
     "output_type": "stream",
     "text": [
      "3\n",
      "3.0\n",
      "5\n"
     ]
    }
   ],
   "source": [
    "print(a)\n",
    "print(b)\n",
    "print(c)"
   ]
  },
  {
   "cell_type": "code",
   "execution_count": 40,
   "id": "45ee7d3c",
   "metadata": {},
   "outputs": [
    {
     "name": "stdout",
     "output_type": "stream",
     "text": [
      "True\n",
      "False\n"
     ]
    }
   ],
   "source": [
    "print(a == b)\n",
    "print(a is b)"
   ]
  },
  {
   "cell_type": "code",
   "execution_count": 41,
   "id": "3b39556d",
   "metadata": {},
   "outputs": [],
   "source": [
    "d = 3"
   ]
  },
  {
   "cell_type": "code",
   "execution_count": 42,
   "id": "23767586",
   "metadata": {},
   "outputs": [
    {
     "name": "stdout",
     "output_type": "stream",
     "text": [
      "3\n",
      "3\n",
      "True\n",
      "True\n"
     ]
    }
   ],
   "source": [
    "print(a)\n",
    "print(d)\n",
    "print(a == d)\n",
    "print(a is d)"
   ]
  },
  {
   "cell_type": "markdown",
   "id": "44193d46",
   "metadata": {},
   "source": [
    "### 멤버연산자\n",
    "리스트나 튜플 같은 객체 내에 해당 값이 있으면 Ture, 없으면 False."
   ]
  },
  {
   "cell_type": "code",
   "execution_count": 43,
   "id": "91d8afae",
   "metadata": {},
   "outputs": [
    {
     "data": {
      "text/plain": [
       "True"
      ]
     },
     "execution_count": 43,
     "metadata": {},
     "output_type": "execute_result"
    }
   ],
   "source": [
    "member = [1,2,3,4,5]\n",
    "3 in member"
   ]
  },
  {
   "cell_type": "code",
   "execution_count": 44,
   "id": "f6e98b7e",
   "metadata": {},
   "outputs": [
    {
     "data": {
      "text/plain": [
       "True"
      ]
     },
     "execution_count": 44,
     "metadata": {},
     "output_type": "execute_result"
    }
   ],
   "source": [
    "6 not in member"
   ]
  },
  {
   "cell_type": "code",
   "execution_count": null,
   "id": "566ff9d3",
   "metadata": {},
   "outputs": [],
   "source": []
  }
 ],
 "metadata": {
  "kernelspec": {
   "display_name": "Python 3 (ipykernel)",
   "language": "python",
   "name": "python3"
  },
  "language_info": {
   "codemirror_mode": {
    "name": "ipython",
    "version": 3
   },
   "file_extension": ".py",
   "mimetype": "text/x-python",
   "name": "python",
   "nbconvert_exporter": "python",
   "pygments_lexer": "ipython3",
   "version": "3.10.14"
  }
 },
 "nbformat": 4,
 "nbformat_minor": 5
}
