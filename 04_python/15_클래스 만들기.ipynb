{
 "cells": [
  {
   "cell_type": "markdown",
   "id": "c3297e3a",
   "metadata": {},
   "source": [
    "# 클래스 만들기\n",
    "* 클래스는 객체지향 프로그래밍의 핵심\n",
    "* 클래스 하나에 여러 개의 함수(메서드)를 포함\n",
    "* 클래스는 커피머신 공장\n",
    "* 메서드는 커피머신의 기능들"
   ]
  },
  {
   "cell_type": "markdown",
   "id": "1cdc78dd",
   "metadata": {},
   "source": [
    "더하기 함수 만들기"
   ]
  },
  {
   "cell_type": "code",
   "execution_count": 1,
   "id": "7a83b6f7",
   "metadata": {},
   "outputs": [],
   "source": [
    "def add(a,b) :\n",
    "    return a+b"
   ]
  },
  {
   "cell_type": "code",
   "execution_count": 2,
   "id": "c810df66",
   "metadata": {},
   "outputs": [
    {
     "data": {
      "text/plain": [
       "7"
      ]
     },
     "execution_count": 2,
     "metadata": {},
     "output_type": "execute_result"
    }
   ],
   "source": [
    "add(3,4)"
   ]
  },
  {
   "cell_type": "code",
   "execution_count": 4,
   "id": "ec73e3a0",
   "metadata": {},
   "outputs": [
    {
     "ename": "UnboundLocalError",
     "evalue": "local variable 'result' referenced before assignment",
     "output_type": "error",
     "traceback": [
      "\u001b[1;31m---------------------------------------------------------------------------\u001b[0m",
      "\u001b[1;31mUnboundLocalError\u001b[0m                         Traceback (most recent call last)",
      "Cell \u001b[1;32mIn[4], line 6\u001b[0m\n\u001b[0;32m      4\u001b[0m     result \u001b[38;5;241m+\u001b[39m\u001b[38;5;241m=\u001b[39m num\n\u001b[0;32m      5\u001b[0m     \u001b[38;5;28;01mreturn\u001b[39;00m result\n\u001b[1;32m----> 6\u001b[0m \u001b[43madd2\u001b[49m\u001b[43m(\u001b[49m\u001b[38;5;241;43m2\u001b[39;49m\u001b[43m)\u001b[49m\n",
      "Cell \u001b[1;32mIn[4], line 4\u001b[0m, in \u001b[0;36madd2\u001b[1;34m(num)\u001b[0m\n\u001b[0;32m      3\u001b[0m \u001b[38;5;28;01mdef\u001b[39;00m \u001b[38;5;21madd2\u001b[39m(num) :\n\u001b[1;32m----> 4\u001b[0m     result \u001b[38;5;241m+\u001b[39m\u001b[38;5;241m=\u001b[39m num\n\u001b[0;32m      5\u001b[0m     \u001b[38;5;28;01mreturn\u001b[39;00m result\n",
      "\u001b[1;31mUnboundLocalError\u001b[0m: local variable 'result' referenced before assignment"
     ]
    }
   ],
   "source": [
    "## 함수를 정의할 때 함수 바깥에 있는 변수는 가져오지 못함\n",
    "result = 0\n",
    "def add2(num) :\n",
    "    result += num\n",
    "    return result\n",
    "add2(2)"
   ]
  },
  {
   "cell_type": "code",
   "execution_count": 5,
   "id": "84a81a9f",
   "metadata": {},
   "outputs": [],
   "source": [
    "## 그래서 함수 바깥에 있는 변수를 가져오기 위해선 global 변수를 사용\n",
    "result = 0\n",
    "def add2(num) :\n",
    "    global result\n",
    "    result += num\n",
    "    return result\n"
   ]
  },
  {
   "cell_type": "code",
   "execution_count": 8,
   "id": "360450bf",
   "metadata": {},
   "outputs": [
    {
     "data": {
      "text/plain": [
       "9"
      ]
     },
     "execution_count": 8,
     "metadata": {},
     "output_type": "execute_result"
    }
   ],
   "source": [
    "add2(3)"
   ]
  },
  {
   "cell_type": "markdown",
   "id": "d8c9876f",
   "metadata": {},
   "source": [
    "위의 방식으로 함수를 만들면 이전 데이터를 기억하게 할 수 있지만 초기화를 하가너 여러 사람이 사용하면서 각기 다른 계산을 할 수 없다.<br>\n",
    "사용자가 늘어나면 변수와 함수를 따로 만들어야 한다는 문제 발생. <br>\n",
    "여러 사람이 각자 다른 계싼을 할 수 있고 이전 값을 기억할 수 있도록 만들려면 클래스로 함수를 만들어야 한다."
   ]
  },
  {
   "cell_type": "markdown",
   "id": "fb3bc9b4",
   "metadata": {},
   "source": [
    "클래스로 계산기 만들기 <br>\n",
    "클래스명을 만들 때는 대문자로 시작하고 카멜 표기법을 사용 <br>\n",
    "class 클래스명: <br> \n",
    "____def 메서드 명() : <br>\n",
    "________실행할 코드 <br>\n",
    "________return <br>"
   ]
  },
  {
   "cell_type": "code",
   "execution_count": 12,
   "id": "1d515ea8",
   "metadata": {},
   "outputs": [],
   "source": [
    "class Calculator() :\n",
    "    def __init__(self) :   # self는 Calculator()\n",
    "        self.result = 0\n",
    "    def add(self,num) :    # self는 calculator.add(num)\n",
    "        self.result += num\n",
    "        return self.result"
   ]
  },
  {
   "cell_type": "markdown",
   "id": "99860e32",
   "metadata": {},
   "source": [
    "클래스 사용방법\n",
    "- 변수에 클래스를 담아서 인스턴스 생성\n",
    "- 인스턴스 변수명 = 클래스명()으로 생성할 수 있다.\n",
    "- 인스턴스를 생성하고 나면 인스턴스.메서드 형식으로 클래스에 정의한 메서드를 사용할 수 있음"
   ]
  },
  {
   "cell_type": "code",
   "execution_count": 13,
   "id": "32cc5a1f",
   "metadata": {},
   "outputs": [],
   "source": [
    "# cal1 변수에 Calculator() 클래스를 담아 인스턴스 생성\n",
    "cal1 = Calculator()"
   ]
  },
  {
   "cell_type": "code",
   "execution_count": 15,
   "id": "8fe3d265",
   "metadata": {},
   "outputs": [
    {
     "name": "stdout",
     "output_type": "stream",
     "text": [
      "<__main__.Calculator object at 0x000002A2651B4C70>\n",
      "<class '__main__.Calculator'>\n"
     ]
    }
   ],
   "source": [
    "print(cal1)\n",
    "print(type(cal1))"
   ]
  },
  {
   "cell_type": "code",
   "execution_count": 16,
   "id": "65b224af",
   "metadata": {},
   "outputs": [
    {
     "data": {
      "text/plain": [
       "5"
      ]
     },
     "execution_count": 16,
     "metadata": {},
     "output_type": "execute_result"
    }
   ],
   "source": [
    "cal1.add(5)"
   ]
  },
  {
   "cell_type": "code",
   "execution_count": 19,
   "id": "c54eee9e",
   "metadata": {},
   "outputs": [
    {
     "data": {
      "text/plain": [
       "8"
      ]
     },
     "execution_count": 19,
     "metadata": {},
     "output_type": "execute_result"
    }
   ],
   "source": [
    "cal1.add(3)"
   ]
  },
  {
   "cell_type": "code",
   "execution_count": 20,
   "id": "5cd5a193",
   "metadata": {},
   "outputs": [],
   "source": [
    "# 다른 인스턴스이기에 cal1과 cal2는 각기 다른 값을 저장함\n",
    "cal2 = Calculator()"
   ]
  },
  {
   "cell_type": "code",
   "execution_count": 21,
   "id": "882cf7fe",
   "metadata": {},
   "outputs": [
    {
     "data": {
      "text/plain": [
       "3"
      ]
     },
     "execution_count": 21,
     "metadata": {},
     "output_type": "execute_result"
    }
   ],
   "source": [
    "cal2.add(3)"
   ]
  },
  {
   "cell_type": "markdown",
   "id": "624468ea",
   "metadata": {},
   "source": [
    "* Calculator 클래스로 만든 별개의 계산기 cal1, cal2를 파이썬에선 인스턴스 혹은 객체라고 부름\n",
    "* 각각의 인스턴스는 독립적으로 역할을 수행함\n",
    "* 계산기 cal1, cal2의 결과값은 서로 독립적으로 유지함"
   ]
  },
  {
   "cell_type": "code",
   "execution_count": 24,
   "id": "7a51a51f",
   "metadata": {},
   "outputs": [],
   "source": [
    "class Calculator() :\n",
    "    def __init__(self) :\n",
    "        self.result = 0\n",
    "        \n",
    "    def add(self,num) :\n",
    "        self.result += num\n",
    "        return self.result\n",
    "    \n",
    "    def sub(self, num) :\n",
    "        self.result -= num\n",
    "        return self.result"
   ]
  },
  {
   "cell_type": "code",
   "execution_count": 25,
   "id": "e4f7e2a6",
   "metadata": {},
   "outputs": [],
   "source": [
    "james = Calculator()"
   ]
  },
  {
   "cell_type": "code",
   "execution_count": 26,
   "id": "437440bd",
   "metadata": {},
   "outputs": [
    {
     "data": {
      "text/plain": [
       "10"
      ]
     },
     "execution_count": 26,
     "metadata": {},
     "output_type": "execute_result"
    }
   ],
   "source": [
    "james.add(10)"
   ]
  },
  {
   "cell_type": "code",
   "execution_count": 27,
   "id": "ac46b897",
   "metadata": {},
   "outputs": [
    {
     "data": {
      "text/plain": [
       "15"
      ]
     },
     "execution_count": 27,
     "metadata": {},
     "output_type": "execute_result"
    }
   ],
   "source": [
    "james.add(5)"
   ]
  },
  {
   "cell_type": "code",
   "execution_count": 28,
   "id": "c955907b",
   "metadata": {},
   "outputs": [
    {
     "data": {
      "text/plain": [
       "11"
      ]
     },
     "execution_count": 28,
     "metadata": {},
     "output_type": "execute_result"
    }
   ],
   "source": [
    "james.sub(4)"
   ]
  },
  {
   "cell_type": "code",
   "execution_count": 29,
   "id": "06fcef69",
   "metadata": {},
   "outputs": [],
   "source": [
    "susan = Calculator()"
   ]
  },
  {
   "cell_type": "code",
   "execution_count": 32,
   "id": "b814b26d",
   "metadata": {},
   "outputs": [
    {
     "data": {
      "text/plain": [
       "305"
      ]
     },
     "execution_count": 32,
     "metadata": {},
     "output_type": "execute_result"
    }
   ],
   "source": [
    "susan.add(7)\n",
    "susan.add(100)\n",
    "susan.sub(8)"
   ]
  },
  {
   "cell_type": "markdown",
   "id": "4a07e8c8",
   "metadata": {},
   "source": [
    "## 메서드(method)\n",
    "* class 안에 정의하는 함수\n",
    "* 클래스에 기능을 만듦 <br>\n",
    "\\# self가 항상 맨 처음에 들어감 <br>\n",
    "def 메서드명(self, 매개변수, num수2) : <br>\n",
    "____self.매개변수 = 매개변수 <br>\n",
    "____self.num2 = num2"
   ]
  },
  {
   "cell_type": "markdown",
   "id": "4101ea9c",
   "metadata": {},
   "source": [
    "사칙연산이 가능한 FourCal 계산기 만들기"
   ]
  },
  {
   "cell_type": "code",
   "execution_count": 36,
   "id": "438ded6e",
   "metadata": {},
   "outputs": [],
   "source": [
    "# FourCal 이라는 클래스를 만들고 숫자를 입력받는 setdata 메서드 만들기\n",
    "class FourCal():\n",
    "    def setdata(self, num1, num2) :\n",
    "        self.num1 = num1\n",
    "        self.num2 = num2\n",
    "        print('self.num1 : ', self.num1)\n",
    "        print('self.num2 : ', self.num2)"
   ]
  },
  {
   "cell_type": "markdown",
   "id": "1ead1050",
   "metadata": {},
   "source": [
    "self는 클래스명을 의미하기 때문에 반드시 넣어줘야 함"
   ]
  },
  {
   "cell_type": "code",
   "execution_count": 37,
   "id": "74eb5832",
   "metadata": {},
   "outputs": [],
   "source": [
    "sam = FourCal()"
   ]
  },
  {
   "cell_type": "code",
   "execution_count": 38,
   "id": "2474070f",
   "metadata": {},
   "outputs": [
    {
     "name": "stdout",
     "output_type": "stream",
     "text": [
      "self.num1 :  10\n",
      "self.num2 :  2\n"
     ]
    }
   ],
   "source": [
    "sam.setdata(10,2)"
   ]
  },
  {
   "cell_type": "code",
   "execution_count": 48,
   "id": "3448e2f0",
   "metadata": {},
   "outputs": [],
   "source": [
    "# FourCal 이라는 클래스를 만들고 숫자를 입력받는 setdata 메서드 만들기\n",
    "# add 기능 추가하기\n",
    "class FourCal():\n",
    "    def setdata(self, num1, num2) :\n",
    "        self.num1 = num1\n",
    "        self.num2 = num2\n",
    "        print('self.num1 : ', self.num1)\n",
    "        print('self.num2 : ', self.num2)\n",
    "        \n",
    "    def add(self) :\n",
    "        result = self.num1 + self.num2\n",
    "        return result\n",
    "    \n",
    "    def sub(self) :\n",
    "        result = self.num1 - self.num2\n",
    "        return result\n",
    "    \n",
    "    def mul(self) :\n",
    "        result = self.num1 * self.num2\n",
    "        return result\n",
    "    \n",
    "    def div(self) :\n",
    "        result = self.num1 / self.num2\n",
    "        return result"
   ]
  },
  {
   "cell_type": "code",
   "execution_count": 49,
   "id": "ec35b3f4",
   "metadata": {},
   "outputs": [],
   "source": [
    "sam = FourCal()"
   ]
  },
  {
   "cell_type": "code",
   "execution_count": 50,
   "id": "17421ded",
   "metadata": {},
   "outputs": [
    {
     "name": "stdout",
     "output_type": "stream",
     "text": [
      "self.num1 :  4\n",
      "self.num2 :  5\n"
     ]
    }
   ],
   "source": [
    "sam.setdata(4,5)"
   ]
  },
  {
   "cell_type": "code",
   "execution_count": 46,
   "id": "0f1fd4ec",
   "metadata": {},
   "outputs": [
    {
     "data": {
      "text/plain": [
       "9"
      ]
     },
     "execution_count": 46,
     "metadata": {},
     "output_type": "execute_result"
    }
   ],
   "source": [
    "sam.add()"
   ]
  },
  {
   "cell_type": "code",
   "execution_count": 47,
   "id": "ec9c8c44",
   "metadata": {},
   "outputs": [
    {
     "data": {
      "text/plain": [
       "-1"
      ]
     },
     "execution_count": 47,
     "metadata": {},
     "output_type": "execute_result"
    }
   ],
   "source": [
    "sam.sub()"
   ]
  },
  {
   "cell_type": "code",
   "execution_count": 53,
   "id": "5979667e",
   "metadata": {},
   "outputs": [
    {
     "name": "stdout",
     "output_type": "stream",
     "text": [
      "20\n",
      "0.8\n"
     ]
    }
   ],
   "source": [
    "print(sam.mul())\n",
    "print(sam.div())"
   ]
  },
  {
   "cell_type": "markdown",
   "id": "24a19cf2",
   "metadata": {},
   "source": [
    "## 생성자\n",
    "* 객체에 num1, num2와 같은 초기값을 설정해야 할 필요가 있을 때 setdata와 같은 걸 호출해서 초기값을 설정하는 것보다 생성자를 만들어서 인스턴스를 생성할 때 값을 바로 받는 것이 더 좋다.\n",
    "* 즉, 매개변수를 받는 것이 좋다는 말\n",
    "* 생성자(constructor)란 객체가 생성될 때 자동으로 호출되는 메서드\n",
    "* class 내에서 메서드 명으로 __init__을 사용하면 그것이 생성자가 된다"
   ]
  },
  {
   "cell_type": "code",
   "execution_count": 54,
   "id": "d2431c6e",
   "metadata": {},
   "outputs": [],
   "source": [
    "class FourCal2() :\n",
    "    def __init__(self, num1, num2) : #생성자\n",
    "        self.num1 = num1    #self.num1 인스턴스 변수\n",
    "        self.num2 = num2    #self.num1 인스턴스 변수\n",
    "        \n",
    "    def add(self) :\n",
    "        result = self.num1 + self.num2\n",
    "        return result\n",
    "    \n",
    "    def sub(self) :\n",
    "        result = self.num1 - self.num2\n",
    "        return result\n",
    "    \n",
    "    def mul(self) :\n",
    "        result = self.num1 * self.num2\n",
    "        return result\n",
    "    \n",
    "    def div(self) :\n",
    "        result = self.num1 / self.num2\n",
    "        return result"
   ]
  },
  {
   "cell_type": "code",
   "execution_count": 57,
   "id": "6764339a",
   "metadata": {},
   "outputs": [
    {
     "ename": "TypeError",
     "evalue": "FourCal2.__init__() missing 2 required positional arguments: 'num1' and 'num2'",
     "output_type": "error",
     "traceback": [
      "\u001b[1;31m---------------------------------------------------------------------------\u001b[0m",
      "\u001b[1;31mTypeError\u001b[0m                                 Traceback (most recent call last)",
      "Cell \u001b[1;32mIn[57], line 2\u001b[0m\n\u001b[0;32m      1\u001b[0m \u001b[38;5;66;03m# 오류가 난 이유 : 생성자인 num1, num2가 필요한 경우지만 num1과 num2가 없기 때문\u001b[39;00m\n\u001b[1;32m----> 2\u001b[0m james \u001b[38;5;241m=\u001b[39m \u001b[43mFourCal2\u001b[49m\u001b[43m(\u001b[49m\u001b[43m)\u001b[49m\n",
      "\u001b[1;31mTypeError\u001b[0m: FourCal2.__init__() missing 2 required positional arguments: 'num1' and 'num2'"
     ]
    }
   ],
   "source": [
    "# 오류가 난 이유 : 생성자인 num1, num2가 필요한 경우지만 num1과 num2가 없기 때문\n",
    "james = FourCal2()"
   ]
  },
  {
   "cell_type": "code",
   "execution_count": 58,
   "id": "8ceb8489",
   "metadata": {},
   "outputs": [],
   "source": [
    "james = FourCal2(100,27)"
   ]
  },
  {
   "cell_type": "code",
   "execution_count": 59,
   "id": "87fd3daf",
   "metadata": {},
   "outputs": [
    {
     "data": {
      "text/plain": [
       "127"
      ]
     },
     "execution_count": 59,
     "metadata": {},
     "output_type": "execute_result"
    }
   ],
   "source": [
    "james.add()"
   ]
  },
  {
   "cell_type": "code",
   "execution_count": 62,
   "id": "24f77c61",
   "metadata": {},
   "outputs": [
    {
     "data": {
      "text/plain": [
       "73"
      ]
     },
     "execution_count": 62,
     "metadata": {},
     "output_type": "execute_result"
    }
   ],
   "source": [
    "james.sub()"
   ]
  },
  {
   "cell_type": "code",
   "execution_count": 63,
   "id": "0d77a556",
   "metadata": {},
   "outputs": [
    {
     "data": {
      "text/plain": [
       "2700"
      ]
     },
     "execution_count": 63,
     "metadata": {},
     "output_type": "execute_result"
    }
   ],
   "source": [
    "james.mul()"
   ]
  },
  {
   "cell_type": "code",
   "execution_count": 64,
   "id": "95811e0f",
   "metadata": {},
   "outputs": [
    {
     "data": {
      "text/plain": [
       "3.7037037037037037"
      ]
     },
     "execution_count": 64,
     "metadata": {},
     "output_type": "execute_result"
    }
   ],
   "source": [
    "james.div()"
   ]
  },
  {
   "cell_type": "markdown",
   "id": "4589dc41",
   "metadata": {},
   "source": [
    "## 클래스의 상속\n",
    "* 어떤 클래스를 만들 때 다른 클래스의 기능을 물려받는 것\n",
    "* 기존 클래스에 기능을 추가할 때 주로 사용\n",
    "* a클래스를 상속받아 b클래스를 생성한다고 할 때, b클래스는 a클래스의 모든 기능을 사용할 수 있음"
   ]
  },
  {
   "cell_type": "markdown",
   "id": "32e38519",
   "metadata": {},
   "source": [
    "FourCal을 상속받아 제곱 기능을 추가한 MoreFourCal 클래스 만들기"
   ]
  },
  {
   "cell_type": "code",
   "execution_count": 65,
   "id": "1e63c648",
   "metadata": {},
   "outputs": [],
   "source": [
    "class MoreFourCal() :\n",
    "    def pow(self) :\n",
    "        result = self.num1 ** self.num2\n",
    "        return result"
   ]
  },
  {
   "cell_type": "code",
   "execution_count": 66,
   "id": "c1acbe87",
   "metadata": {},
   "outputs": [],
   "source": [
    "sally = MoreFourCal()"
   ]
  },
  {
   "cell_type": "code",
   "execution_count": 67,
   "id": "3317caa3",
   "metadata": {},
   "outputs": [
    {
     "ename": "AttributeError",
     "evalue": "'MoreFourCal' object has no attribute 'num1'",
     "output_type": "error",
     "traceback": [
      "\u001b[1;31m---------------------------------------------------------------------------\u001b[0m",
      "\u001b[1;31mAttributeError\u001b[0m                            Traceback (most recent call last)",
      "Cell \u001b[1;32mIn[67], line 1\u001b[0m\n\u001b[1;32m----> 1\u001b[0m \u001b[43msally\u001b[49m\u001b[38;5;241;43m.\u001b[39;49m\u001b[43mpow\u001b[49m\u001b[43m(\u001b[49m\u001b[43m)\u001b[49m\n",
      "Cell \u001b[1;32mIn[65], line 3\u001b[0m, in \u001b[0;36mMoreFourCal.pow\u001b[1;34m(self)\u001b[0m\n\u001b[0;32m      2\u001b[0m \u001b[38;5;28;01mdef\u001b[39;00m \u001b[38;5;21mpow\u001b[39m(\u001b[38;5;28mself\u001b[39m) :\n\u001b[1;32m----> 3\u001b[0m     result \u001b[38;5;241m=\u001b[39m \u001b[38;5;28;43mself\u001b[39;49m\u001b[38;5;241;43m.\u001b[39;49m\u001b[43mnum1\u001b[49m \u001b[38;5;241m*\u001b[39m\u001b[38;5;241m*\u001b[39m \u001b[38;5;28mself\u001b[39m\u001b[38;5;241m.\u001b[39mnum2\n\u001b[0;32m      4\u001b[0m     \u001b[38;5;28;01mreturn\u001b[39;00m result\n",
      "\u001b[1;31mAttributeError\u001b[0m: 'MoreFourCal' object has no attribute 'num1'"
     ]
    }
   ],
   "source": [
    "# 상속받지 않았을 때 num1, num2가 없으니 오류 발생\n",
    "sally.pow()"
   ]
  },
  {
   "cell_type": "code",
   "execution_count": 72,
   "id": "e8f2589b",
   "metadata": {},
   "outputs": [],
   "source": [
    "# 상속받는 법\n",
    "class MoreFourCal(FourCal2) :\n",
    "    def pow(self) :\n",
    "        result = self.num1 ** self.num2\n",
    "        return result"
   ]
  },
  {
   "cell_type": "code",
   "execution_count": 73,
   "id": "e876191a",
   "metadata": {},
   "outputs": [],
   "source": [
    "sally = MoreFourCal(3,2)"
   ]
  },
  {
   "cell_type": "code",
   "execution_count": 74,
   "id": "e66b6339",
   "metadata": {},
   "outputs": [
    {
     "data": {
      "text/plain": [
       "9"
      ]
     },
     "execution_count": 74,
     "metadata": {},
     "output_type": "execute_result"
    }
   ],
   "source": [
    "sally.pow()"
   ]
  },
  {
   "cell_type": "code",
   "execution_count": 76,
   "id": "1c63e6c0",
   "metadata": {},
   "outputs": [],
   "source": [
    "sally = FourCal2(3,2)"
   ]
  },
  {
   "cell_type": "code",
   "execution_count": 77,
   "id": "3edaef8d",
   "metadata": {},
   "outputs": [
    {
     "ename": "AttributeError",
     "evalue": "'FourCal2' object has no attribute 'pow'",
     "output_type": "error",
     "traceback": [
      "\u001b[1;31m---------------------------------------------------------------------------\u001b[0m",
      "\u001b[1;31mAttributeError\u001b[0m                            Traceback (most recent call last)",
      "Cell \u001b[1;32mIn[77], line 1\u001b[0m\n\u001b[1;32m----> 1\u001b[0m \u001b[43msally\u001b[49m\u001b[38;5;241;43m.\u001b[39;49m\u001b[43mpow\u001b[49m()\n",
      "\u001b[1;31mAttributeError\u001b[0m: 'FourCal2' object has no attribute 'pow'"
     ]
    }
   ],
   "source": [
    "# 오류가 난 이유 : FourCal2 클래스엔 pow()함수가 없기 때문.\n",
    "# 상속자는 피상속자의 메서드를 사용할 수 없음\n",
    "sally.pow()"
   ]
  },
  {
   "cell_type": "markdown",
   "id": "5b49cb66",
   "metadata": {},
   "source": [
    "## 메서드 오버라이딩\n",
    "* method overriding\n",
    "* 부모 클래스에서 상속한 메서드를 자식 클래스에서 동일한 이름으로 다시 재정의해 오류가 나지 않게끔 하려고 함"
   ]
  },
  {
   "cell_type": "code",
   "execution_count": 78,
   "id": "4339ba40",
   "metadata": {},
   "outputs": [],
   "source": [
    "john = FourCal2(4,0)"
   ]
  },
  {
   "cell_type": "markdown",
   "id": "cfa52030",
   "metadata": {},
   "source": [
    "FourCal2는 num2에 0이 입력될 경우 나눗셈을 할 때 오류가 발생함.<br>\n",
    "SafeFourCal을 만들고 FourCal2를 상속받은 후 div함수를 새롭게 정의하려고 함"
   ]
  },
  {
   "cell_type": "code",
   "execution_count": 87,
   "id": "4eff26dc",
   "metadata": {},
   "outputs": [],
   "source": [
    "class SafeFourCal(FourCal2):\n",
    "    def div(self) :\n",
    "        if self.num2 == 0 :\n",
    "            return 0\n",
    "        else :\n",
    "            return self.num1 / self.num2\n",
    "        # return result로 해도 됨"
   ]
  },
  {
   "cell_type": "code",
   "execution_count": 88,
   "id": "b29ddfc0",
   "metadata": {},
   "outputs": [],
   "source": [
    "john = SafeFourCal(4,0)"
   ]
  },
  {
   "cell_type": "code",
   "execution_count": 89,
   "id": "acf2b7ee",
   "metadata": {},
   "outputs": [
    {
     "data": {
      "text/plain": [
       "0"
      ]
     },
     "execution_count": 89,
     "metadata": {},
     "output_type": "execute_result"
    }
   ],
   "source": [
    "john.div()"
   ]
  },
  {
   "cell_type": "code",
   "execution_count": null,
   "id": "233fb581",
   "metadata": {},
   "outputs": [],
   "source": []
  },
  {
   "cell_type": "code",
   "execution_count": null,
   "id": "9c2b38c6",
   "metadata": {},
   "outputs": [],
   "source": []
  }
 ],
 "metadata": {
  "kernelspec": {
   "display_name": "Python 3 (ipykernel)",
   "language": "python",
   "name": "python3"
  },
  "language_info": {
   "codemirror_mode": {
    "name": "ipython",
    "version": 3
   },
   "file_extension": ".py",
   "mimetype": "text/x-python",
   "name": "python",
   "nbconvert_exporter": "python",
   "pygments_lexer": "ipython3",
   "version": "3.10.14"
  }
 },
 "nbformat": 4,
 "nbformat_minor": 5
}
