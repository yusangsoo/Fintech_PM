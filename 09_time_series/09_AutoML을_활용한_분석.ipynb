{
 "cells": [
  {
   "cell_type": "code",
   "execution_count": 1,
   "id": "2f72b0b9",
   "metadata": {
    "scrolled": true
   },
   "outputs": [
    {
     "name": "stdout",
     "output_type": "stream",
     "text": [
      "Collecting flaml[catboost]\n",
      "  Downloading FLAML-2.3.1-py3-none-any.whl.metadata (16 kB)\n",
      "Requirement already satisfied: NumPy>=1.17 in c:\\users\\5-08\\miniforge3\\envs\\fintech\\lib\\site-packages (from flaml[catboost]) (1.26.4)\n",
      "Collecting catboost<1.2,>=0.26 (from flaml[catboost])\n",
      "  Downloading catboost-1.1.1-cp310-none-win_amd64.whl.metadata (1.2 kB)\n",
      "Requirement already satisfied: graphviz in c:\\users\\5-08\\miniforge3\\envs\\fintech\\lib\\site-packages (from catboost<1.2,>=0.26->flaml[catboost]) (0.20.3)\n",
      "Requirement already satisfied: matplotlib in c:\\users\\5-08\\miniforge3\\envs\\fintech\\lib\\site-packages (from catboost<1.2,>=0.26->flaml[catboost]) (3.9.1)\n",
      "Requirement already satisfied: pandas>=0.24.0 in c:\\users\\5-08\\miniforge3\\envs\\fintech\\lib\\site-packages (from catboost<1.2,>=0.26->flaml[catboost]) (2.2.2)\n",
      "Requirement already satisfied: scipy in c:\\users\\5-08\\miniforge3\\envs\\fintech\\lib\\site-packages (from catboost<1.2,>=0.26->flaml[catboost]) (1.13.1)\n",
      "Requirement already satisfied: plotly in c:\\users\\5-08\\miniforge3\\envs\\fintech\\lib\\site-packages (from catboost<1.2,>=0.26->flaml[catboost]) (5.24.1)\n",
      "Requirement already satisfied: six in c:\\users\\5-08\\miniforge3\\envs\\fintech\\lib\\site-packages (from catboost<1.2,>=0.26->flaml[catboost]) (1.16.0)\n",
      "Requirement already satisfied: python-dateutil>=2.8.2 in c:\\users\\5-08\\miniforge3\\envs\\fintech\\lib\\site-packages (from pandas>=0.24.0->catboost<1.2,>=0.26->flaml[catboost]) (2.9.0)\n",
      "Requirement already satisfied: pytz>=2020.1 in c:\\users\\5-08\\miniforge3\\envs\\fintech\\lib\\site-packages (from pandas>=0.24.0->catboost<1.2,>=0.26->flaml[catboost]) (2024.1)\n",
      "Requirement already satisfied: tzdata>=2022.7 in c:\\users\\5-08\\miniforge3\\envs\\fintech\\lib\\site-packages (from pandas>=0.24.0->catboost<1.2,>=0.26->flaml[catboost]) (2024.1)\n",
      "Requirement already satisfied: contourpy>=1.0.1 in c:\\users\\5-08\\miniforge3\\envs\\fintech\\lib\\site-packages (from matplotlib->catboost<1.2,>=0.26->flaml[catboost]) (1.2.1)\n",
      "Requirement already satisfied: cycler>=0.10 in c:\\users\\5-08\\miniforge3\\envs\\fintech\\lib\\site-packages (from matplotlib->catboost<1.2,>=0.26->flaml[catboost]) (0.12.1)\n",
      "Requirement already satisfied: fonttools>=4.22.0 in c:\\users\\5-08\\miniforge3\\envs\\fintech\\lib\\site-packages (from matplotlib->catboost<1.2,>=0.26->flaml[catboost]) (4.53.1)\n",
      "Requirement already satisfied: kiwisolver>=1.3.1 in c:\\users\\5-08\\miniforge3\\envs\\fintech\\lib\\site-packages (from matplotlib->catboost<1.2,>=0.26->flaml[catboost]) (1.4.5)\n",
      "Requirement already satisfied: packaging>=20.0 in c:\\users\\5-08\\miniforge3\\envs\\fintech\\lib\\site-packages (from matplotlib->catboost<1.2,>=0.26->flaml[catboost]) (24.1)\n",
      "Requirement already satisfied: pillow>=8 in c:\\users\\5-08\\miniforge3\\envs\\fintech\\lib\\site-packages (from matplotlib->catboost<1.2,>=0.26->flaml[catboost]) (10.4.0)\n",
      "Requirement already satisfied: pyparsing>=2.3.1 in c:\\users\\5-08\\miniforge3\\envs\\fintech\\lib\\site-packages (from matplotlib->catboost<1.2,>=0.26->flaml[catboost]) (3.1.2)\n",
      "Requirement already satisfied: tenacity>=6.2.0 in c:\\users\\5-08\\miniforge3\\envs\\fintech\\lib\\site-packages (from plotly->catboost<1.2,>=0.26->flaml[catboost]) (9.0.0)\n",
      "Downloading catboost-1.1.1-cp310-none-win_amd64.whl (73.9 MB)\n",
      "   ---------------------------------------- 0.0/73.9 MB ? eta -:--:--\n",
      "   ---------------------------------------- 0.1/73.9 MB 1.1 MB/s eta 0:01:08\n",
      "   - -------------------------------------- 3.0/73.9 MB 32.2 MB/s eta 0:00:03\n",
      "   ---- ----------------------------------- 8.1/73.9 MB 57.9 MB/s eta 0:00:02\n",
      "   ------ --------------------------------- 11.4/73.9 MB 81.8 MB/s eta 0:00:01\n",
      "   -------- ------------------------------- 14.9/73.9 MB 81.8 MB/s eta 0:00:01\n",
      "   ---------- ----------------------------- 19.6/73.9 MB 72.6 MB/s eta 0:00:01\n",
      "   ------------- -------------------------- 24.1/73.9 MB 81.8 MB/s eta 0:00:01\n",
      "   -------------- ------------------------- 27.7/73.9 MB 93.0 MB/s eta 0:00:01\n",
      "   ---------------- ----------------------- 30.4/73.9 MB 81.8 MB/s eta 0:00:01\n",
      "   ------------------ --------------------- 35.1/73.9 MB 72.6 MB/s eta 0:00:01\n",
      "   --------------------- ------------------ 40.2/73.9 MB 110.0 MB/s eta 0:00:01\n",
      "   ------------------------ --------------- 45.3/73.9 MB 110.0 MB/s eta 0:00:01\n",
      "   ------------------------- -------------- 46.6/73.9 MB 81.8 MB/s eta 0:00:01\n",
      "   --------------------------- ------------ 50.1/73.9 MB 72.6 MB/s eta 0:00:01\n",
      "   ----------------------------- ---------- 55.3/73.9 MB 72.6 MB/s eta 0:00:01\n",
      "   -------------------------------- ------- 60.5/73.9 MB 131.2 MB/s eta 0:00:01\n",
      "   ----------------------------------- ---- 65.6/73.9 MB 108.8 MB/s eta 0:00:01\n",
      "   -------------------------------------- - 70.5/73.9 MB 93.9 MB/s eta 0:00:01\n",
      "   ---------------------------------------  73.9/73.9 MB 93.9 MB/s eta 0:00:01\n",
      "   ---------------------------------------  73.9/73.9 MB 93.9 MB/s eta 0:00:01\n",
      "   ---------------------------------------  73.9/73.9 MB 93.9 MB/s eta 0:00:01\n",
      "   ---------------------------------------  73.9/73.9 MB 93.9 MB/s eta 0:00:01\n",
      "   ---------------------------------------- 73.9/73.9 MB 34.4 MB/s eta 0:00:00\n",
      "Downloading FLAML-2.3.1-py3-none-any.whl (313 kB)\n",
      "   ---------------------------------------- 0.0/313.3 kB ? eta -:--:--\n",
      "   --------------------------------------- 313.3/313.3 kB 20.2 MB/s eta 0:00:00\n",
      "Installing collected packages: flaml, catboost\n",
      "Successfully installed catboost-1.1.1 flaml-2.3.1\n"
     ]
    }
   ],
   "source": [
    "!pip install \"flaml[catboost]\""
   ]
  },
  {
   "cell_type": "code",
   "execution_count": null,
   "id": "37ce65eb",
   "metadata": {},
   "outputs": [],
   "source": [
    "from flaml import AutoML\n",
    "from sklearn.metrics import classification_report, roc_auc_score"
   ]
  },
  {
   "cell_type": "code",
   "execution_count": null,
   "id": "43abed59",
   "metadata": {},
   "outputs": [],
   "source": [
    "automl = AutoML(time_budget = 600, metric = 'roc_auc', task = 'classification', log_file_name = 'fraud_detection.log')\n",
    "automl.fit(X_smt, y_smt)\n",
    "pred = automl.predict(X_valid)\n",
    "print(classification_report(y_valid, pred))"
   ]
  },
  {
   "cell_type": "code",
   "execution_count": null,
   "id": "4ba407ff",
   "metadata": {},
   "outputs": [],
   "source": []
  },
  {
   "cell_type": "code",
   "execution_count": null,
   "id": "5623fb3d",
   "metadata": {},
   "outputs": [],
   "source": []
  },
  {
   "cell_type": "code",
   "execution_count": null,
   "id": "c6773b44",
   "metadata": {},
   "outputs": [],
   "source": []
  },
  {
   "cell_type": "code",
   "execution_count": null,
   "id": "57848a63",
   "metadata": {},
   "outputs": [],
   "source": []
  },
  {
   "cell_type": "code",
   "execution_count": null,
   "id": "022d1447",
   "metadata": {},
   "outputs": [],
   "source": []
  },
  {
   "cell_type": "code",
   "execution_count": null,
   "id": "9807cd16",
   "metadata": {},
   "outputs": [],
   "source": []
  },
  {
   "cell_type": "code",
   "execution_count": null,
   "id": "1ffb367d",
   "metadata": {},
   "outputs": [],
   "source": []
  },
  {
   "cell_type": "code",
   "execution_count": null,
   "id": "4c0c01e2",
   "metadata": {},
   "outputs": [],
   "source": []
  },
  {
   "cell_type": "code",
   "execution_count": null,
   "id": "f8a36593",
   "metadata": {},
   "outputs": [],
   "source": []
  },
  {
   "cell_type": "code",
   "execution_count": null,
   "id": "752f4454",
   "metadata": {},
   "outputs": [],
   "source": []
  },
  {
   "cell_type": "code",
   "execution_count": null,
   "id": "24136614",
   "metadata": {},
   "outputs": [],
   "source": []
  },
  {
   "cell_type": "code",
   "execution_count": null,
   "id": "511077c3",
   "metadata": {},
   "outputs": [],
   "source": []
  },
  {
   "cell_type": "code",
   "execution_count": null,
   "id": "0589c465",
   "metadata": {},
   "outputs": [],
   "source": []
  },
  {
   "cell_type": "code",
   "execution_count": null,
   "id": "7de27c3c",
   "metadata": {},
   "outputs": [],
   "source": []
  },
  {
   "cell_type": "code",
   "execution_count": null,
   "id": "0774b6ad",
   "metadata": {},
   "outputs": [],
   "source": []
  },
  {
   "cell_type": "code",
   "execution_count": null,
   "id": "d448574f",
   "metadata": {},
   "outputs": [],
   "source": []
  },
  {
   "cell_type": "code",
   "execution_count": null,
   "id": "6c1f6ba1",
   "metadata": {},
   "outputs": [],
   "source": []
  },
  {
   "cell_type": "code",
   "execution_count": null,
   "id": "6a2630c3",
   "metadata": {},
   "outputs": [],
   "source": []
  },
  {
   "cell_type": "code",
   "execution_count": null,
   "id": "160c3179",
   "metadata": {},
   "outputs": [],
   "source": []
  },
  {
   "cell_type": "code",
   "execution_count": null,
   "id": "c0ab364e",
   "metadata": {},
   "outputs": [],
   "source": []
  },
  {
   "cell_type": "code",
   "execution_count": null,
   "id": "7971d593",
   "metadata": {},
   "outputs": [],
   "source": []
  },
  {
   "cell_type": "code",
   "execution_count": null,
   "id": "f0936b77",
   "metadata": {},
   "outputs": [],
   "source": []
  },
  {
   "cell_type": "code",
   "execution_count": null,
   "id": "ca5d2d1a",
   "metadata": {},
   "outputs": [],
   "source": []
  },
  {
   "cell_type": "code",
   "execution_count": null,
   "id": "19a6d2dd",
   "metadata": {},
   "outputs": [],
   "source": []
  },
  {
   "cell_type": "code",
   "execution_count": null,
   "id": "8d69792d",
   "metadata": {},
   "outputs": [],
   "source": []
  },
  {
   "cell_type": "code",
   "execution_count": null,
   "id": "5dc958e4",
   "metadata": {},
   "outputs": [],
   "source": []
  },
  {
   "cell_type": "code",
   "execution_count": null,
   "id": "30410860",
   "metadata": {},
   "outputs": [],
   "source": []
  },
  {
   "cell_type": "code",
   "execution_count": null,
   "id": "4c746070",
   "metadata": {},
   "outputs": [],
   "source": []
  },
  {
   "cell_type": "code",
   "execution_count": null,
   "id": "1749d109",
   "metadata": {},
   "outputs": [],
   "source": []
  },
  {
   "cell_type": "code",
   "execution_count": null,
   "id": "8e9b9fc7",
   "metadata": {},
   "outputs": [],
   "source": []
  },
  {
   "cell_type": "code",
   "execution_count": null,
   "id": "7ae84bd6",
   "metadata": {},
   "outputs": [],
   "source": []
  },
  {
   "cell_type": "code",
   "execution_count": null,
   "id": "1b186c73",
   "metadata": {},
   "outputs": [],
   "source": []
  },
  {
   "cell_type": "code",
   "execution_count": null,
   "id": "f316f002",
   "metadata": {},
   "outputs": [],
   "source": []
  },
  {
   "cell_type": "code",
   "execution_count": null,
   "id": "fe4ac679",
   "metadata": {},
   "outputs": [],
   "source": []
  },
  {
   "cell_type": "code",
   "execution_count": null,
   "id": "3ac358e8",
   "metadata": {},
   "outputs": [],
   "source": []
  },
  {
   "cell_type": "code",
   "execution_count": null,
   "id": "6d620383",
   "metadata": {},
   "outputs": [],
   "source": []
  },
  {
   "cell_type": "code",
   "execution_count": null,
   "id": "1ea17042",
   "metadata": {},
   "outputs": [],
   "source": []
  },
  {
   "cell_type": "code",
   "execution_count": null,
   "id": "f2e1b0e8",
   "metadata": {},
   "outputs": [],
   "source": []
  },
  {
   "cell_type": "code",
   "execution_count": null,
   "id": "1edeeaa9",
   "metadata": {},
   "outputs": [],
   "source": []
  }
 ],
 "metadata": {
  "kernelspec": {
   "display_name": "Python 3 (ipykernel)",
   "language": "python",
   "name": "python3"
  },
  "language_info": {
   "codemirror_mode": {
    "name": "ipython",
    "version": 3
   },
   "file_extension": ".py",
   "mimetype": "text/x-python",
   "name": "python",
   "nbconvert_exporter": "python",
   "pygments_lexer": "ipython3",
   "version": "3.10.14"
  }
 },
 "nbformat": 4,
 "nbformat_minor": 5
}
