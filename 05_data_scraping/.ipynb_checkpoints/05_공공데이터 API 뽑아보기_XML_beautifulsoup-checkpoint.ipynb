{
 "cells": [
  {
   "cell_type": "markdown",
   "id": "021731ac",
   "metadata": {},
   "source": [
    "## xml로 api 뽑아보기"
   ]
  },
  {
   "cell_type": "markdown",
   "id": "2cc87185",
   "metadata": {},
   "source": [
    "서민금융상품기본정보 api"
   ]
  },
  {
   "cell_type": "code",
   "execution_count": 1,
   "id": "c3ee10a1",
   "metadata": {},
   "outputs": [],
   "source": [
    "import requests\n",
    "import pandas as pd\n",
    "import os\n",
    "from dotenv import load_dotenv"
   ]
  },
  {
   "cell_type": "code",
   "execution_count": 2,
   "id": "9438f214",
   "metadata": {},
   "outputs": [
    {
     "data": {
      "text/plain": [
       "True"
      ]
     },
     "execution_count": 2,
     "metadata": {},
     "output_type": "execute_result"
    }
   ],
   "source": [
    "load_dotenv()"
   ]
  },
  {
   "cell_type": "code",
   "execution_count": 3,
   "id": "5204139e",
   "metadata": {},
   "outputs": [],
   "source": [
    "# 1페이지만\n",
    "url = \"http://apis.data.go.kr/1160100/service/GetSmallLoanFinanceInstituteInfoService/getOrdinaryFinanceInfo\"\n",
    "servicekey = os.getenv('service_key')\n",
    "payload = {\n",
    "    'serviceKey' : servicekey,\n",
    "    'pageNo' : 1,\n",
    "    'numOfRows' : 10,\n",
    "    \n",
    "}\n",
    "\n",
    "r = requests.get(url, params = payload)\n",
    "data = r.text"
   ]
  },
  {
   "cell_type": "code",
   "execution_count": 4,
   "id": "2dcbafdd",
   "metadata": {
    "scrolled": true
   },
   "outputs": [
    {
     "name": "stdout",
     "output_type": "stream",
     "text": [
      "<class 'str'>\n"
     ]
    }
   ],
   "source": [
    "print(type(data))"
   ]
  },
  {
   "cell_type": "code",
   "execution_count": 5,
   "id": "2026979e",
   "metadata": {},
   "outputs": [
    {
     "data": {
      "text/plain": [
       "'<?xml version=\"1.0\" encoding=\"UTF-8\" standalone=\"yes\"?>\\n<response>\\n    <header>\\n        <resultCode>00</resultCode>\\n        <resultMsg>NORMAL SERVICE.</resultMsg>\\n    </header>\\n    <body>\\n        <numOfRows>10</numOfRows>\\n        <pageNo>1</pageNo>\\n        <totalCount>3696</totalCount>\\n        <items>\\n            <item>\\n                <basYm>202202</basYm>\\n                <snq>1</snq>\\n                <finPrdNm>미소금융 창업자금_임차보증금대출</finPrdNm>\\n                <lnLmt>7000만원</lnLmt>\\n                <irtCtg>변동금리</irtCtg>\\n                <irt>4.5%</irt>\\n                <maxTotLnTrm>6년</maxTotLnTrm>\\n                <maxDfrmTrm>1년</maxDfrmTrm>\\n                <maxRdptTrm>5년</maxRdptTrm>\\n                <rdptMthd>원(리)금균등분할상환</rdptMthd>\\n                <usge>창업</usge>\\n                <trgt>사업자, 금융취약계층</trgt>\\n                <instCtg>공공·정부기관</instCtg>\\n                <ofrInstNm>서민금융진흥원</ofrInstNm>\\n                <rsdAreaPamtEqltIstm>전국</rsdAreaPamtEqltIstm>\\n                <suprTgtDtlCond>개인신용평점 하위 20% 또는 차상위계층 이하 또는 근로장려금 신청 대상(수급자)인 창업(예정)자 중, 사업소요자금 총액 중 자기자금 비율이 50% 이상인 자</suprTgtDtlCond>\\n                <age>미성년자 제외</age>\\n                <incm>상환능력 심사를 위한 소득증빙 필요</incm>\\n                <rsdArea xsi:nil=\"true\" xmlns:xsi=\"http://www.w3.org/2001/XMLSchema-instance\"/>\\n                <crdtSc>개인신용평점 하위 20%</crdtSc>\\n                <anin xsi:nil=\"true\" xmlns:xsi=\"http://www.w3.org/2001/XMLSchema-instance\"/>\\n                <housHoldCnt xsi:nil=\"true\" xmlns:xsi=\"http://www.w3.org/2001/XMLSchema-instance\"/>\\n                <housAr xsi:nil=\"true\" xmlns:xsi=\"http://www.w3.org/2001/XMLSchema-instance\"/>\\n                <lnTgtHous xsi:nil=\"true\" xmlns:xsi=\"http://www.w3.org/2001/XMLSchema-instance\"/>\\n                <rfrcCnpl xsi:nil=\"true\" xmlns:xsi=\"http://www.w3.org/2001/XMLSchema-instance\"/>\\n                <grnInst xsi:nil=\"true\" xmlns:xsi=\"http://www.w3.org/2001/XMLSchema-instance\"/>\\n                <jnMthd>미소금융 전국 지점 방문</jnMthd>\\n                <rpymdCfe>없음</rpymdCfe>\\n                <lnIcdcst>없음</lnIcdcst>\\n                <ovItrYr>9% (지연배상금률)</ovItrYr>\\n                <prftAddIrtCond>우대금리: 성실상환 여부에 따라 약정금리에서 1.0%p 인하, 가산금리: 연체 31일 이상 시 약정금리에서 1.0%p 인상</prftAddIrtCond>\\n                <etcRefSbjc>거치금리: 1천만원 이하 대출 시 2%, 1천만원 초과 대출 시 4.5% (사업장임차보증금 이내에서 지원)</etcRefSbjc>\\n                <hdlInst>미소금융 전국 지점</hdlInst>\\n                <cnpl>· 서민금융콜센터 (국번없이)1397&lt;br/&gt;· &lt;a href=https://www.kinfa.or.kr/customerService/centerSearch.do target=_blank&gt;&lt;font style=color:blue;&gt;www.kinfa.or.kr/customerService/centerSearch.do &lt;/a&gt;&lt;/font&gt;&lt;span style=font-size: 12px;&gt;(서금원 홈페이지 &gt; 서민금융통합지원센터 &gt; 전국센터찾기 &gt; 미소지점)&lt;/span&gt;</cnpl>\\n                <rltSite>&lt;a href=https://www.kinfa.or.kr target=_blank&gt;&lt;font style=color:blue;&gt;www.kinfa.or.kr &lt;/a&gt;&lt;/font&gt;&lt;span style=font-size: 12px;&gt;(서금원 홈페이지 &gt; 서민금융한눈에 &gt; 창업·운영자금 &gt; 미소금융 창업·운영자금)&lt;/span&gt;</rltSite>\\n                <tgtFltr>사업자, 금융취약계층</tgtFltr>\\n                <hdlInstDtlVw>미소금융 전국 지점</hdlInstDtlVw>\\n                <prdExisYn>Y</prdExisYn>\\n                <cv19Rfrc xsi:nil=\"true\" xmlns:xsi=\"http://www.w3.org/2001/XMLSchema-instance\"/>\\n                <prdCtg>1</prdCtg>\\n                <prdNm>대출상품</prdNm>\\n                <cv19SuprCtg xsi:nil=\"true\" xmlns:xsi=\"http://www.w3.org/2001/XMLSchema-instance\"/>\\n                <cv19SuprCtn xsi:nil=\"true\" xmlns:xsi=\"http://www.w3.org/2001/XMLSchema-instance\"/>\\n                <cv19SuprTgtDtlCtn xsi:nil=\"true\" xmlns:xsi=\"http://www.w3.org/2001/XMLSchema-instance\"/>\\n                <mgmDln>상시</mgmDln>\\n                <prdCtg2>정책자금</prdCtg2>\\n                <fileWrtDt>202202080917</fileWrtDt>\\n            </item>\\n            <item>\\n                <basYm>202202</basYm>\\n                <snq>2</snq>\\n                <finPrdNm>미소금융 창업자금_생계형차량 구입자금</finPrdNm>\\n                <lnLmt>2000만원</lnLmt>\\n                <irtCtg>변동금리</irtCtg>\\n                <irt>4.5%</irt>\\n                <maxTotLnTrm>6년</maxTotLnTrm>\\n                <maxDfrmTrm>1년</maxDfrmTrm>\\n                <maxRdptTrm>5년</maxRdptTrm>\\n                <rdptMthd>원(리)금균등분할상환</rdptMthd>\\n                <usge>창업</usge>\\n                <trgt>사업자, 금융취약계층</trgt>\\n                <instCtg>공공·정부기관</instCtg>\\n                <ofrInstNm>서민금융진흥원</ofrInstNm>\\n                <rsdAreaPamtEqltIstm>전국</rsdAreaPamtEqltIstm>\\n                <suprTgtDtlCond>개인신용평점 하위 20% 또는 차상위계층 이하 또는 근로장려금 신청 대상(수급자)인 창업(예정)자 (1톤 이하의 트럭 또는 상용차)</suprTgtDtlCond>\\n                <age>미성년자 제외</age>\\n                <incm>상환능력 심사를 위한 소득증빙 필요</incm>\\n                <rsdArea xsi:nil=\"true\" xmlns:xsi=\"http://www.w3.org/2001/XMLSchema-instance\"/>\\n                <crdtSc>개인신용평점 하위 20%</crdtSc>\\n                <anin xsi:nil=\"true\" xmlns:xsi=\"http://www.w3.org/2001/XMLSchema-instance\"/>\\n                <housHoldCnt xsi:nil=\"true\" xmlns:xsi=\"http://www.w3.org/2001/XMLSchema-instance\"/>\\n                <housAr xsi:nil=\"true\" xmlns:xsi=\"http://www.w3.org/2001/XMLSchema-instance\"/>\\n                <lnTgtHous xsi:nil=\"true\" xmlns:xsi=\"http://www.w3.org/2001/XMLSchema-instance\"/>\\n                <rfrcCnpl xsi:nil=\"true\" xmlns:xsi=\"http://www.w3.org/2001/XMLSchema-instance\"/>\\n                <grnInst xsi:nil=\"true\" xmlns:xsi=\"http://www.w3.org/2001/XMLSchema-instance\"/>\\n                <jnMthd>미소금융 전국 지점 방문</jnMthd>\\n                <rpymdCfe>없음</rpymdCfe>\\n                <lnIcdcst>없음</lnIcdcst>\\n                <ovItrYr>9% (지연배상금률)</ovItrYr>\\n                <prftAddIrtCond>우대금리: 성실상환 여부에 따라 약정금리에서 1.0%p 인하, 가산금리: 연체 31일 이상 시 약정금리에서 1.0%p 인상</prftAddIrtCond>\\n                <etcRefSbjc>거치금리: 1천만원 이하 대출 시 2%, 1천만원 초과 대출 시 4.5%</etcRefSbjc>\\n                <hdlInst>미소금융 전국 지점</hdlInst>\\n                <cnpl>· 서민금융콜센터 (국번없이)1397&lt;br/&gt;· &lt;a href=https://www.kinfa.or.kr/customerService/centerSearch.do target=_blank&gt;&lt;font style=color:blue;&gt;www.kinfa.or.kr/customerService/centerSearch.do &lt;/a&gt;&lt;/font&gt;&lt;span style=font-size: 12px;&gt;(서금원 홈페이지 &gt; 서민금융통합지원센터 &gt; 전국센터찾기 &gt; 미소지점)&lt;/span&gt;</cnpl>\\n                <rltSite>&lt;a href=https://www.kinfa.or.kr target=_blank&gt;&lt;font style=color:blue;&gt;www.kinfa.or.kr &lt;/a&gt;&lt;/font&gt;&lt;span style=font-size: 12px;&gt;(서금원 홈페이지 &gt; 서민금융한눈에 &gt; 창업·운영자금 &gt; 미소금융 창업·운영자금)&lt;/span&gt;</rltSite>\\n                <tgtFltr>사업자, 금융취약계층</tgtFltr>\\n                <hdlInstDtlVw>미소금융 전국 지점</hdlInstDtlVw>\\n                <prdExisYn>Y</prdExisYn>\\n                <cv19Rfrc xsi:nil=\"true\" xmlns:xsi=\"http://www.w3.org/2001/XMLSchema-instance\"/>\\n                <prdCtg>1</prdCtg>\\n                <prdNm>대출상품</prdNm>\\n                <cv19SuprCtg xsi:nil=\"true\" xmlns:xsi=\"http://www.w3.org/2001/XMLSchema-instance\"/>\\n                <cv19SuprCtn xsi:nil=\"true\" xmlns:xsi=\"http://www.w3.org/2001/XMLSchema-instance\"/>\\n                <cv19SuprTgtDtlCtn xsi:nil=\"true\" xmlns:xsi=\"http://www.w3.org/2001/XMLSchema-instance\"/>\\n                <mgmDln>상시</mgmDln>\\n                <prdCtg2>정책자금</prdCtg2>\\n                <fileWrtDt>202202080917</fileWrtDt>\\n            </item>\\n            <item>\\n                <basYm>202202</basYm>\\n                <snq>3</snq>\\n                <finPrdNm>미소금융 창업자금_창업초기 운영자금</finPrdNm>\\n                <lnLmt>2000만원</lnLmt>\\n                <irtCtg>변동금리</irtCtg>\\n                <irt>4.5%</irt>\\n                <maxTotLnTrm>6년</maxTotLnTrm>\\n                <maxDfrmTrm>1년</maxDfrmTrm>\\n                <maxRdptTrm>5년</maxRdptTrm>\\n                <rdptMthd>원(리)금균등분할상환</rdptMthd>\\n                <usge>창업</usge>\\n                <trgt>사업자, 금융취약계층</trgt>\\n                <instCtg>공공·정부기관</instCtg>\\n                <ofrInstNm>서민금융진흥원</ofrInstNm>\\n                <rsdAreaPamtEqltIstm>전국</rsdAreaPamtEqltIstm>\\n                <suprTgtDtlCond>개인신용평점 하위 20% 또는 차상위계층 이하 또는 근로장려금 신청 대상(수급자)인 창업(예정)자 중 사업자 등록 후 6개월 미만인 자</suprTgtDtlCond>\\n                <age>미성년자 제외</age>\\n                <incm>상환능력 심사를 위한 소득증빙 필요</incm>\\n                <rsdArea xsi:nil=\"true\" xmlns:xsi=\"http://www.w3.org/2001/XMLSchema-instance\"/>\\n                <crdtSc>개인신용평점 하위 20%</crdtSc>\\n                <anin xsi:nil=\"true\" xmlns:xsi=\"http://www.w3.org/2001/XMLSchema-instance\"/>\\n                <housHoldCnt xsi:nil=\"true\" xmlns:xsi=\"http://www.w3.org/2001/XMLSchema-instance\"/>\\n                <housAr xsi:nil=\"true\" xmlns:xsi=\"http://www.w3.org/2001/XMLSchema-instance\"/>\\n                <lnTgtHous xsi:nil=\"true\" xmlns:xsi=\"http://www.w3.org/2001/XMLSchema-instance\"/>\\n                <rfrcCnpl xsi:nil=\"true\" xmlns:xsi=\"http://www.w3.org/2001/XMLSchema-instance\"/>\\n                <grnInst xsi:nil=\"true\" xmlns:xsi=\"http://www.w3.org/2001/XMLSchema-instance\"/>\\n                <jnMthd>미소금융 전국 지점 방문</jnMthd>\\n                <rpymdCfe>없음</rpymdCfe>\\n                <lnIcdcst>없음</lnIcdcst>\\n                <ovItrYr>9% (지연배상금률)</ovItrYr>\\n                <prftAddIrtCond>우대금리: 성실상환 여부에 따라 약정금리에서 1.0%p 인하, 가산금리: 연체 31일 이상 시 약정금리에서 1.0%p 인상</prftAddIrtCond>\\n                <etcRefSbjc>거치금리 : 1천만원 이하 대출 시 2%, 1천만원 초과 대출 시 4.5% (최초 대출 시 1천만원, 이후 성실상환 시 1천만원 추가지원 가능)</etcRefSbjc>\\n                <hdlInst>미소금융 전국 지점</hdlInst>\\n                <cnpl>· 서민금융콜센터 (국번없이)1397&lt;br/&gt;· &lt;a href=https://www.kinfa.or.kr/customerService/centerSearch.do target=_blank&gt;&lt;font style=color:blue;&gt;www.kinfa.or.kr/customerService/centerSearch.do &lt;/a&gt;&lt;/font&gt;&lt;span style=font-size: 12px;&gt;(서금원 홈페이지 &gt; 서민금융통합지원센터 &gt; 전국센터찾기 &gt; 미소지점)&lt;/span&gt;</cnpl>\\n                <rltSite>&lt;a href=https://www.kinfa.or.kr target=_blank&gt;&lt;font style=color:blue;&gt;www.kinfa.or.kr &lt;/a&gt;&lt;/font&gt;&lt;span style=font-size: 12px;&gt;(서금원 홈페이지 &gt; 서민금융한눈에 &gt; 창업·운영자금 &gt; 미소금융 창업·운영자금)&lt;/span&gt;</rltSite>\\n                <tgtFltr>사업자, 금융취약계층</tgtFltr>\\n                <hdlInstDtlVw>미소금융 전국 지점</hdlInstDtlVw>\\n                <prdExisYn>Y</prdExisYn>\\n                <cv19Rfrc xsi:nil=\"true\" xmlns:xsi=\"http://www.w3.org/2001/XMLSchema-instance\"/>\\n                <prdCtg>1</prdCtg>\\n                <prdNm>대출상품</prdNm>\\n                <cv19SuprCtg xsi:nil=\"true\" xmlns:xsi=\"http://www.w3.org/2001/XMLSchema-instance\"/>\\n                <cv19SuprCtn xsi:nil=\"true\" xmlns:xsi=\"http://www.w3.org/2001/XMLSchema-instance\"/>\\n                <cv19SuprTgtDtlCtn xsi:nil=\"true\" xmlns:xsi=\"http://www.w3.org/2001/XMLSchema-instance\"/>\\n                <mgmDln>상시</mgmDln>\\n                <prdCtg2>정책자금</prdCtg2>\\n                <fileWrtDt>202202080917</fileWrtDt>\\n            </item>\\n            <item>\\n                <basYm>202202</basYm>\\n                <snq>4</snq>\\n                <finPrdNm>미소금융 창업자금_창업초기 시설자금</finPrdNm>\\n                <lnLmt>2000만원</lnLmt>\\n                <irtCtg>변동금리</irtCtg>\\n                <irt>4.5%</irt>\\n                <maxTotLnTrm>6년</maxTotLnTrm>\\n                <maxDfrmTrm>1년</maxDfrmTrm>\\n                <maxRdptTrm>5년</maxRdptTrm>\\n                <rdptMthd>원(리)금균등분할상환</rdptMthd>\\n                <usge>창업</usge>\\n                <trgt>사업자, 금융취약계층</trgt>\\n                <instCtg>공공·정부기관</instCtg>\\n                <ofrInstNm>서민금융진흥원</ofrInstNm>\\n                <rsdAreaPamtEqltIstm>전국</rsdAreaPamtEqltIstm>\\n                <suprTgtDtlCond>개인신용평점 하위 20% 또는 차상위계층 이하 또는 근로장려금 신청 대상(수급자)인 창업(예정)자 중 사업자 등록 후 6개월 미만인 자</suprTgtDtlCond>\\n                <age>미성년자 제외</age>\\n                <incm>상환능력 심사를 위한 소득증빙 필요</incm>\\n                <rsdArea xsi:nil=\"true\" xmlns:xsi=\"http://www.w3.org/2001/XMLSchema-instance\"/>\\n                <crdtSc>개인신용평점 하위 20%</crdtSc>\\n                <anin xsi:nil=\"true\" xmlns:xsi=\"http://www.w3.org/2001/XMLSchema-instance\"/>\\n                <housHoldCnt xsi:nil=\"true\" xmlns:xsi=\"http://www.w3.org/2001/XMLSchema-instance\"/>\\n                <housAr xsi:nil=\"true\" xmlns:xsi=\"http://www.w3.org/2001/XMLSchema-instance\"/>\\n                <lnTgtHous xsi:nil=\"true\" xmlns:xsi=\"http://www.w3.org/2001/XMLSchema-instance\"/>\\n                <rfrcCnpl xsi:nil=\"true\" xmlns:xsi=\"http://www.w3.org/2001/XMLSchema-instance\"/>\\n                <grnInst xsi:nil=\"true\" xmlns:xsi=\"http://www.w3.org/2001/XMLSchema-instance\"/>\\n                <jnMthd>미소금융 전국 지점 방문</jnMthd>\\n                <rpymdCfe>없음</rpymdCfe>\\n                <lnIcdcst>없음</lnIcdcst>\\n                <ovItrYr>9% (지연배상금률)</ovItrYr>\\n                <prftAddIrtCond>우대금리: 성실상환 여부에 따라 약정금리에서 1.0%p 인하, 가산금리: 연체 31일 이상 시 약정금리에서 1.0%p 인상</prftAddIrtCond>\\n                <etcRefSbjc>거치금리: 1천만원 이하 대출 시 2%, 1천만원 초과 대출 시 4.5%</etcRefSbjc>\\n                <hdlInst>미소금융 전국 지점</hdlInst>\\n                <cnpl>· 서민금융콜센터 (국번없이)1397&lt;br/&gt;· &lt;a href=https://www.kinfa.or.kr/customerService/centerSearch.do target=_blank&gt;&lt;font style=color:blue;&gt;www.kinfa.or.kr/customerService/centerSearch.do &lt;/a&gt;&lt;/font&gt;&lt;span style=font-size: 12px;&gt;(서금원 홈페이지 &gt; 서민금융통합지원센터 &gt; 전국센터찾기 &gt; 미소지점)&lt;/span&gt;</cnpl>\\n                <rltSite>&lt;a href=https://www.kinfa.or.kr target=_blank&gt;&lt;font style=color:blue;&gt;www.kinfa.or.kr &lt;/a&gt;&lt;/font&gt;&lt;span style=font-size: 12px;&gt;(서금원 홈페이지 &gt; 서민금융한눈에 &gt; 창업·운영자금 &gt; 미소금융 창업·운영자금)&lt;/span&gt;</rltSite>\\n                <tgtFltr>사업자, 금융취약계층</tgtFltr>\\n                <hdlInstDtlVw>미소금융 전국 지점</hdlInstDtlVw>\\n                <prdExisYn>Y</prdExisYn>\\n                <cv19Rfrc xsi:nil=\"true\" xmlns:xsi=\"http://www.w3.org/2001/XMLSchema-instance\"/>\\n                <prdCtg>1</prdCtg>\\n                <prdNm>대출상품</prdNm>\\n                <cv19SuprCtg xsi:nil=\"true\" xmlns:xsi=\"http://www.w3.org/2001/XMLSchema-instance\"/>\\n                <cv19SuprCtn xsi:nil=\"true\" xmlns:xsi=\"http://www.w3.org/2001/XMLSchema-instance\"/>\\n                <cv19SuprTgtDtlCtn xsi:nil=\"true\" xmlns:xsi=\"http://www.w3.org/2001/XMLSchema-instance\"/>\\n                <mgmDln>상시</mgmDln>\\n                <prdCtg2>정책자금</prdCtg2>\\n                <fileWrtDt>202202080917</fileWrtDt>\\n            </item>\\n            <item>\\n                <basYm>202202</basYm>\\n                <snq>5</snq>\\n                <finPrdNm>미소금융 운영자금</finPrdNm>\\n                <lnLmt>2000만원</lnLmt>\\n                <irtCtg>변동금리</irtCtg>\\n                <irt>4.5%</irt>\\n                <maxTotLnTrm>5.5</maxTotLnTrm>\\n                <maxDfrmTrm>0.5</maxDfrmTrm>\\n                <maxRdptTrm>5년</maxRdptTrm>\\n                <rdptMthd>원(리)금균등분할상환</rdptMthd>\\n                <usge>운영·시설</usge>\\n                <trgt>사업자, 금융취약계층</trgt>\\n                <instCtg>공공·정부기관</instCtg>\\n                <ofrInstNm>서민금융진흥원</ofrInstNm>\\n                <rsdAreaPamtEqltIstm>전국</rsdAreaPamtEqltIstm>\\n                <suprTgtDtlCond>개인신용평점 하위 20% 또는 차상위계층 이하 또는 근로장려금 신청 대상(수급자)인 자영업자 중 사업자 등록 후 6개월 이상 운영 중인 자(프리랜서의 경우 1년 이상 동일 사업을 연속하여 운영 중인 자)</suprTgtDtlCond>\\n                <age>미성년자 제외</age>\\n                <incm>상환능력 심사를 위한 소득증빙 필요</incm>\\n                <rsdArea xsi:nil=\"true\" xmlns:xsi=\"http://www.w3.org/2001/XMLSchema-instance\"/>\\n                <crdtSc>개인신용평점 하위 20%</crdtSc>\\n                <anin xsi:nil=\"true\" xmlns:xsi=\"http://www.w3.org/2001/XMLSchema-instance\"/>\\n                <housHoldCnt xsi:nil=\"true\" xmlns:xsi=\"http://www.w3.org/2001/XMLSchema-instance\"/>\\n                <housAr xsi:nil=\"true\" xmlns:xsi=\"http://www.w3.org/2001/XMLSchema-instance\"/>\\n                <lnTgtHous xsi:nil=\"true\" xmlns:xsi=\"http://www.w3.org/2001/XMLSchema-instance\"/>\\n                <rfrcCnpl xsi:nil=\"true\" xmlns:xsi=\"http://www.w3.org/2001/XMLSchema-instance\"/>\\n                <grnInst xsi:nil=\"true\" xmlns:xsi=\"http://www.w3.org/2001/XMLSchema-instance\"/>\\n                <jnMthd>미소금융 전국 지점 방문</jnMthd>\\n                <rpymdCfe>없음</rpymdCfe>\\n                <lnIcdcst>없음</lnIcdcst>\\n                <ovItrYr>9% (지연배상금률)</ovItrYr>\\n                <prftAddIrtCond>우대금리: 성실상환 여부에 따라 약정금리에서 1.0%p 인하, 가산금리: 연체 31일 이상 시 약정금리에서 1.0%p 인상</prftAddIrtCond>\\n                <etcRefSbjc>거치금리 2.0% (신용카드영세가맹점주의 경우 최초 약정금리 대비 1.0%p의 이자액을 캐시백 지원)</etcRefSbjc>\\n                <hdlInst>미소금융 전국 지점</hdlInst>\\n                <cnpl>· 서민금융콜센터 (국번없이)1397&lt;br/&gt;· &lt;a href=https://www.kinfa.or.kr/customerService/centerSearch.do target=_blank&gt;&lt;font style=color:blue;&gt;www.kinfa.or.kr/customerService/centerSearch.do &lt;/a&gt;&lt;/font&gt;&lt;span style=font-size: 12px;&gt;(서금원 홈페이지 &gt; 서민금융통합지원센터 &gt; 전국센터찾기 &gt; 미소지점)&lt;/span&gt;</cnpl>\\n                <rltSite>&lt;a href=https://www.kinfa.or.kr target=_blank&gt;&lt;font style=color:blue;&gt;www.kinfa.or.kr &lt;/a&gt;&lt;/font&gt;&lt;span style=font-size: 12px;&gt;(서금원 홈페이지 &gt; 서민금융한눈에 &gt; 창업·운영자금 &gt; 미소금융 창업·운영자금)&lt;/span&gt;</rltSite>\\n                <tgtFltr>사업자, 금융취약계층</tgtFltr>\\n                <hdlInstDtlVw>미소금융 전국 지점</hdlInstDtlVw>\\n                <prdExisYn>Y</prdExisYn>\\n                <cv19Rfrc xsi:nil=\"true\" xmlns:xsi=\"http://www.w3.org/2001/XMLSchema-instance\"/>\\n                <prdCtg>1</prdCtg>\\n                <prdNm>대출상품</prdNm>\\n                <cv19SuprCtg xsi:nil=\"true\" xmlns:xsi=\"http://www.w3.org/2001/XMLSchema-instance\"/>\\n                <cv19SuprCtn xsi:nil=\"true\" xmlns:xsi=\"http://www.w3.org/2001/XMLSchema-instance\"/>\\n                <cv19SuprTgtDtlCtn xsi:nil=\"true\" xmlns:xsi=\"http://www.w3.org/2001/XMLSchema-instance\"/>\\n                <mgmDln>상시</mgmDln>\\n                <prdCtg2>정책자금</prdCtg2>\\n                <fileWrtDt>202202080917</fileWrtDt>\\n            </item>\\n            <item>\\n                <basYm>202202</basYm>\\n                <snq>6</snq>\\n                <finPrdNm>미소금융 시설개선자금</finPrdNm>\\n                <lnLmt>2000만원</lnLmt>\\n                <irtCtg>변동금리</irtCtg>\\n                <irt>4.5%</irt>\\n                <maxTotLnTrm>5.5</maxTotLnTrm>\\n                <maxDfrmTrm>0.5</maxDfrmTrm>\\n                <maxRdptTrm>5년</maxRdptTrm>\\n                <rdptMthd>원(리)금균등분할상환</rdptMthd>\\n                <usge>운영·시설</usge>\\n                <trgt>사업자, 금융취약계층</trgt>\\n                <instCtg>공공·정부기관</instCtg>\\n                <ofrInstNm>서민금융진흥원</ofrInstNm>\\n                <rsdAreaPamtEqltIstm>전국</rsdAreaPamtEqltIstm>\\n                <suprTgtDtlCond>개인신용평점 하위 20% 또는 차상위계층 이하 또는 근로장려금 신청 대상(수급자)인 자영업자 중 사업자 등록 후 6개월 이상 운영 중인 자</suprTgtDtlCond>\\n                <age>미성년자 제외</age>\\n                <incm>상환능력 심사를 위한 소득증빙 필요</incm>\\n                <rsdArea xsi:nil=\"true\" xmlns:xsi=\"http://www.w3.org/2001/XMLSchema-instance\"/>\\n                <crdtSc>개인신용평점 하위 20%</crdtSc>\\n                <anin xsi:nil=\"true\" xmlns:xsi=\"http://www.w3.org/2001/XMLSchema-instance\"/>\\n                <housHoldCnt xsi:nil=\"true\" xmlns:xsi=\"http://www.w3.org/2001/XMLSchema-instance\"/>\\n                <housAr xsi:nil=\"true\" xmlns:xsi=\"http://www.w3.org/2001/XMLSchema-instance\"/>\\n                <lnTgtHous xsi:nil=\"true\" xmlns:xsi=\"http://www.w3.org/2001/XMLSchema-instance\"/>\\n                <rfrcCnpl xsi:nil=\"true\" xmlns:xsi=\"http://www.w3.org/2001/XMLSchema-instance\"/>\\n                <grnInst xsi:nil=\"true\" xmlns:xsi=\"http://www.w3.org/2001/XMLSchema-instance\"/>\\n                <jnMthd>미소금융 전국 지점 방문</jnMthd>\\n                <rpymdCfe>없음</rpymdCfe>\\n                <lnIcdcst>없음</lnIcdcst>\\n                <ovItrYr>9% (지연배상금률)</ovItrYr>\\n                <prftAddIrtCond>우대금리: 성실상환 여부에 따라 약정금리에서 1.0%p 인하, 가산금리: 연체 31일 이상 시 약정금리에서 1.0%p 인상</prftAddIrtCond>\\n                <etcRefSbjc>거치금리 2.0%, 실소요액 범위 내 대출 (신용카드영세가맹점주의 경우 최초 약정금리 대비 1.0%p의 이자액을 캐시백 지원)</etcRefSbjc>\\n                <hdlInst>미소금융 전국 지점</hdlInst>\\n                <cnpl>· 서민금융콜센터 (국번없이)1397&lt;br/&gt;· &lt;a href=https://www.kinfa.or.kr/customerService/centerSearch.do target=_blank&gt;&lt;font style=color:blue;&gt;www.kinfa.or.kr/customerService/centerSearch.do &lt;/a&gt;&lt;/font&gt;&lt;span style=font-size: 12px;&gt;(서금원 홈페이지 &gt; 서민금융통합지원센터 &gt; 전국센터찾기 &gt; 미소지점)&lt;/span&gt;</cnpl>\\n                <rltSite>&lt;a href=https://www.kinfa.or.kr target=_blank&gt;&lt;font style=color:blue;&gt;www.kinfa.or.kr &lt;/a&gt;&lt;/font&gt;&lt;span style=font-size: 12px;&gt;(서금원 홈페이지 &gt; 서민금융한눈에 &gt; 창업·운영자금 &gt; 미소금융 창업·운영자금)&lt;/span&gt;</rltSite>\\n                <tgtFltr>사업자, 금융취약계층</tgtFltr>\\n                <hdlInstDtlVw>미소금융 전국 지점</hdlInstDtlVw>\\n                <prdExisYn>Y</prdExisYn>\\n                <cv19Rfrc xsi:nil=\"true\" xmlns:xsi=\"http://www.w3.org/2001/XMLSchema-instance\"/>\\n                <prdCtg>1</prdCtg>\\n                <prdNm>대출상품</prdNm>\\n                <cv19SuprCtg xsi:nil=\"true\" xmlns:xsi=\"http://www.w3.org/2001/XMLSchema-instance\"/>\\n                <cv19SuprCtn xsi:nil=\"true\" xmlns:xsi=\"http://www.w3.org/2001/XMLSchema-instance\"/>\\n                <cv19SuprTgtDtlCtn xsi:nil=\"true\" xmlns:xsi=\"http://www.w3.org/2001/XMLSchema-instance\"/>\\n                <mgmDln>상시</mgmDln>\\n                <prdCtg2>정책자금</prdCtg2>\\n                <fileWrtDt>202202080917</fileWrtDt>\\n            </item>\\n            <item>\\n                <basYm>202202</basYm>\\n                <snq>7</snq>\\n                <finPrdNm>미소금융 긴급생계자금</finPrdNm>\\n                <lnLmt>1000만원</lnLmt>\\n                <irtCtg>변동금리</irtCtg>\\n                <irt>4.5%</irt>\\n                <maxTotLnTrm>5년</maxTotLnTrm>\\n                <maxDfrmTrm>1년</maxDfrmTrm>\\n                <maxRdptTrm>4년</maxRdptTrm>\\n                <rdptMthd>원(리)금균등분할상환</rdptMthd>\\n                <usge>생계</usge>\\n                <trgt>사업자, 금융취약계층</trgt>\\n                <instCtg>공공·정부기관</instCtg>\\n                <ofrInstNm>서민금융진흥원</ofrInstNm>\\n                <rsdAreaPamtEqltIstm>전국</rsdAreaPamtEqltIstm>\\n                <suprTgtDtlCond>미소금융 사업자금(창업, 운영, 시설) 대출 12회차 이상 이용자 중 신청일 현재 연체없이 정상이용 중인자(한건의 대출이라도 연체일수가 1일 이상인 경우 이용불가)</suprTgtDtlCond>\\n                <age>미성년자 제외</age>\\n                <incm>상환능력 심사를 위한 소득증빙 필요</incm>\\n                <rsdArea xsi:nil=\"true\" xmlns:xsi=\"http://www.w3.org/2001/XMLSchema-instance\"/>\\n                <crdtSc>개인신용평점 하위 20%</crdtSc>\\n                <anin xsi:nil=\"true\" xmlns:xsi=\"http://www.w3.org/2001/XMLSchema-instance\"/>\\n                <housHoldCnt xsi:nil=\"true\" xmlns:xsi=\"http://www.w3.org/2001/XMLSchema-instance\"/>\\n                <housAr xsi:nil=\"true\" xmlns:xsi=\"http://www.w3.org/2001/XMLSchema-instance\"/>\\n                <lnTgtHous xsi:nil=\"true\" xmlns:xsi=\"http://www.w3.org/2001/XMLSchema-instance\"/>\\n                <rfrcCnpl xsi:nil=\"true\" xmlns:xsi=\"http://www.w3.org/2001/XMLSchema-instance\"/>\\n                <grnInst xsi:nil=\"true\" xmlns:xsi=\"http://www.w3.org/2001/XMLSchema-instance\"/>\\n                <jnMthd>미소금융 전국 지점 방문</jnMthd>\\n                <rpymdCfe>없음</rpymdCfe>\\n                <lnIcdcst>없음</lnIcdcst>\\n                <ovItrYr>9% (지연배상금률)</ovItrYr>\\n                <prftAddIrtCond>우대금리: 성실상환 여부에 따라 약정금리에서 1.0%p 인하, 가산금리: 연체 31일 이상 시 약정금리에서 1.0%p 인상</prftAddIrtCond>\\n                <etcRefSbjc>거치금리 4.5% (5백만원 초과 대출 시, 본인·배우자·직계존비속에 발생한 사고, 질병, 재난의 긴급목적을 증빙하는 서류 제출 필요)</etcRefSbjc>\\n                <hdlInst>미소금융 전국 지점</hdlInst>\\n                <cnpl>· 서민금융콜센터 (국번없이)1397&lt;br/&gt;· &lt;a href=https://www.kinfa.or.kr/customerService/centerSearch.do target=_blank&gt;&lt;font style=color:blue;&gt;www.kinfa.or.kr/customerService/centerSearch.do &lt;/a&gt;&lt;/font&gt;&lt;span style=font-size: 12px;&gt;(서금원 홈페이지 &gt; 서민금융통합지원센터 &gt; 전국센터찾기 &gt; 미소지점)&lt;/span&gt;</cnpl>\\n                <rltSite>&lt;a href=https://www.kinfa.or.kr target=_blank&gt;&lt;font style=color:blue;&gt;www.kinfa.or.kr &lt;/a&gt;&lt;/font&gt;&lt;span style=font-size: 12px;&gt;(서금원 홈페이지 &gt; 서민금융한눈에 &gt; 창업·운영자금 &gt; 미소금융 창업·운영자금)&lt;/span&gt;</rltSite>\\n                <tgtFltr>사업자, 금융취약계층</tgtFltr>\\n                <hdlInstDtlVw>미소금융 전국 지점</hdlInstDtlVw>\\n                <prdExisYn>Y</prdExisYn>\\n                <cv19Rfrc xsi:nil=\"true\" xmlns:xsi=\"http://www.w3.org/2001/XMLSchema-instance\"/>\\n                <prdCtg>1</prdCtg>\\n                <prdNm>대출상품</prdNm>\\n                <cv19SuprCtg xsi:nil=\"true\" xmlns:xsi=\"http://www.w3.org/2001/XMLSchema-instance\"/>\\n                <cv19SuprCtn xsi:nil=\"true\" xmlns:xsi=\"http://www.w3.org/2001/XMLSchema-instance\"/>\\n                <cv19SuprTgtDtlCtn xsi:nil=\"true\" xmlns:xsi=\"http://www.w3.org/2001/XMLSchema-instance\"/>\\n                <mgmDln>상시</mgmDln>\\n                <prdCtg2>정책자금</prdCtg2>\\n                <fileWrtDt>202202080917</fileWrtDt>\\n            </item>\\n            <item>\\n                <basYm>202202</basYm>\\n                <snq>8</snq>\\n                <finPrdNm>미소금융 취업성공대출</finPrdNm>\\n                <lnLmt>300만원</lnLmt>\\n                <irtCtg>변동금리</irtCtg>\\n                <irt>4.5%</irt>\\n                <maxTotLnTrm>3년</maxTotLnTrm>\\n                <maxDfrmTrm>0년</maxDfrmTrm>\\n                <maxRdptTrm>3년</maxRdptTrm>\\n                <rdptMthd>원(리)금균등분할상환</rdptMthd>\\n                <usge>생계</usge>\\n                <trgt>금융취약계층</trgt>\\n                <instCtg>공공·정부기관</instCtg>\\n                <ofrInstNm>서민금융진흥원</ofrInstNm>\\n                <rsdAreaPamtEqltIstm>전국</rsdAreaPamtEqltIstm>\\n                <suprTgtDtlCond>취업지원 프로그램(고용노동부의 취업성공패키지(국민취업지원제도 취업지원프로그램), 서금원 취업프로그램, 소상공인시장진흥공단의 희망리턴패키지 재기교육, 한국법무보호복지공단의 허그일자리지원 프로그램) 이수 후 3개월 이내 취업자 중 개인신용평점 하위 20% 또는 차상위계층 이하 또는 근로장려금 신청 대상자(수급자)&lt;br&gt;※ 단, 6개월 이상 근속 중인 자는 지원대상에서 제외</suprTgtDtlCond>\\n                <age>미성년자 제외</age>\\n                <incm>상환능력 심사를 위한 소득증빙 필요</incm>\\n                <rsdArea xsi:nil=\"true\" xmlns:xsi=\"http://www.w3.org/2001/XMLSchema-instance\"/>\\n                <crdtSc>개인신용평점 하위 20%</crdtSc>\\n                <anin xsi:nil=\"true\" xmlns:xsi=\"http://www.w3.org/2001/XMLSchema-instance\"/>\\n                <housHoldCnt xsi:nil=\"true\" xmlns:xsi=\"http://www.w3.org/2001/XMLSchema-instance\"/>\\n                <housAr xsi:nil=\"true\" xmlns:xsi=\"http://www.w3.org/2001/XMLSchema-instance\"/>\\n                <lnTgtHous xsi:nil=\"true\" xmlns:xsi=\"http://www.w3.org/2001/XMLSchema-instance\"/>\\n                <rfrcCnpl xsi:nil=\"true\" xmlns:xsi=\"http://www.w3.org/2001/XMLSchema-instance\"/>\\n                <grnInst xsi:nil=\"true\" xmlns:xsi=\"http://www.w3.org/2001/XMLSchema-instance\"/>\\n                <jnMthd>미소금융 전국 지점 방문</jnMthd>\\n                <rpymdCfe>없음</rpymdCfe>\\n                <lnIcdcst>없음</lnIcdcst>\\n                <ovItrYr>9% (지연배상금률)</ovItrYr>\\n                <prftAddIrtCond>우대금리: 성실상환 여부에 따라 약정금리에서 1.0%p 인하, 가산금리: 연체 31일 이상 시 약정금리에서 1.0%p 인상</prftAddIrtCond>\\n                <etcRefSbjc>근속기간 6개월 이상인 자는 대출 불가</etcRefSbjc>\\n                <hdlInst>미소금융 전국 지점</hdlInst>\\n                <cnpl>· 서민금융콜센터 (국번없이)1397&lt;br/&gt;· &lt;a href=https://www.kinfa.or.kr/customerService/centerSearch.do target=_blank&gt;&lt;font style=color:blue;&gt;www.kinfa.or.kr/customerService/centerSearch.do &lt;/a&gt;&lt;/font&gt;&lt;span style=font-size: 12px;&gt;(서금원 홈페이지 &gt; 서민금융통합지원센터 &gt; 전국센터찾기 &gt; 미소지점)&lt;/span&gt;</cnpl>\\n                <rltSite>&lt;a href=https://www.kinfa.or.kr target=_blank&gt;&lt;font style=color:blue;&gt;www.kinfa.or.kr &lt;/a&gt;&lt;/font&gt;&lt;span style=font-size: 12px;&gt;(서금원 홈페이지 &gt; 서민금융한눈에 &gt; 생계·주거자금 &gt; 생계자금)&lt;/span&gt;</rltSite>\\n                <tgtFltr>금융취약계층</tgtFltr>\\n                <hdlInstDtlVw>미소금융 전국 지점</hdlInstDtlVw>\\n                <prdExisYn>Y</prdExisYn>\\n                <cv19Rfrc xsi:nil=\"true\" xmlns:xsi=\"http://www.w3.org/2001/XMLSchema-instance\"/>\\n                <prdCtg>1</prdCtg>\\n                <prdNm>대출상품</prdNm>\\n                <cv19SuprCtg xsi:nil=\"true\" xmlns:xsi=\"http://www.w3.org/2001/XMLSchema-instance\"/>\\n                <cv19SuprCtn xsi:nil=\"true\" xmlns:xsi=\"http://www.w3.org/2001/XMLSchema-instance\"/>\\n                <cv19SuprTgtDtlCtn xsi:nil=\"true\" xmlns:xsi=\"http://www.w3.org/2001/XMLSchema-instance\"/>\\n                <mgmDln>상시</mgmDln>\\n                <prdCtg2>정책자금</prdCtg2>\\n                <fileWrtDt>202202080917</fileWrtDt>\\n            </item>\\n            <item>\\n                <basYm>202202</basYm>\\n                <snq>9</snq>\\n                <finPrdNm>미소금융 교육비지원대출</finPrdNm>\\n                <lnLmt>500만원</lnLmt>\\n                <irtCtg>변동금리</irtCtg>\\n                <irt>4.5%</irt>\\n                <maxTotLnTrm>6년</maxTotLnTrm>\\n                <maxDfrmTrm>1년</maxDfrmTrm>\\n                <maxRdptTrm>5년</maxRdptTrm>\\n                <rdptMthd>원(리)금균등분할상환</rdptMthd>\\n                <usge>생계</usge>\\n                <trgt>금융취약계층</trgt>\\n                <instCtg>공공·정부기관</instCtg>\\n                <ofrInstNm>서민금융진흥원</ofrInstNm>\\n                <rsdAreaPamtEqltIstm>전국</rsdAreaPamtEqltIstm>\\n                <suprTgtDtlCond>자녀가 초/중/고에 재학중인 자 중 개인신용평점 하위 20% 또는 차상위계층 이하 또는 근로장려금 신청 대상자(수급자)</suprTgtDtlCond>\\n                <age>미성년자 제외</age>\\n                <incm>상환능력 심사를 위한 소득증빙 필요</incm>\\n                <rsdArea xsi:nil=\"true\" xmlns:xsi=\"http://www.w3.org/2001/XMLSchema-instance\"/>\\n                <crdtSc>개인신용평점 하위 20%</crdtSc>\\n                <anin xsi:nil=\"true\" xmlns:xsi=\"http://www.w3.org/2001/XMLSchema-instance\"/>\\n                <housHoldCnt xsi:nil=\"true\" xmlns:xsi=\"http://www.w3.org/2001/XMLSchema-instance\"/>\\n                <housAr xsi:nil=\"true\" xmlns:xsi=\"http://www.w3.org/2001/XMLSchema-instance\"/>\\n                <lnTgtHous xsi:nil=\"true\" xmlns:xsi=\"http://www.w3.org/2001/XMLSchema-instance\"/>\\n                <rfrcCnpl xsi:nil=\"true\" xmlns:xsi=\"http://www.w3.org/2001/XMLSchema-instance\"/>\\n                <grnInst xsi:nil=\"true\" xmlns:xsi=\"http://www.w3.org/2001/XMLSchema-instance\"/>\\n                <jnMthd>미소금융 전국 지점 방문</jnMthd>\\n                <rpymdCfe>없음</rpymdCfe>\\n                <lnIcdcst>없음</lnIcdcst>\\n                <ovItrYr>9% (지연배상금률)</ovItrYr>\\n                <prftAddIrtCond>우대금리: 성실상환 여부에 따라 약정금리에서 1.0%p 인하, 가산금리: 연체 31일 이상 시 약정금리에서 1.0%p 인상</prftAddIrtCond>\\n                <etcRefSbjc>거치금리 4.5%, 공교육비(방과 후 학교활동 및 학교수업료 등) 및 일반 사교육비(학원비 등) 대출</etcRefSbjc>\\n                <hdlInst>미소금융 전국 지점</hdlInst>\\n                <cnpl>· 서민금융콜센터 (국번없이)1397&lt;br/&gt;· &lt;a href=https://www.kinfa.or.kr/customerService/centerSearch.do target=_blank&gt;&lt;font style=color:blue;&gt;www.kinfa.or.kr/customerService/centerSearch.do &lt;/a&gt;&lt;/font&gt;&lt;span style=font-size: 12px;&gt;(서금원 홈페이지 &gt; 서민금융통합지원센터 &gt; 전국센터찾기 &gt; 미소지점)&lt;/span&gt;</cnpl>\\n                <rltSite>&lt;a href=https://www.kinfa.or.kr target=_blank&gt;&lt;font style=color:blue;&gt;www.kinfa.or.kr &lt;/a&gt;&lt;/font&gt;&lt;span style=font-size: 12px;&gt;(서금원 홈페이지 &gt; 서민금융한눈에 &gt; 생계·주거자금 &gt; 생계자금)&lt;/span&gt;</rltSite>\\n                <tgtFltr>금융취약계층</tgtFltr>\\n                <hdlInstDtlVw>미소금융 전국 지점</hdlInstDtlVw>\\n                <prdExisYn>Y</prdExisYn>\\n                <cv19Rfrc xsi:nil=\"true\" xmlns:xsi=\"http://www.w3.org/2001/XMLSchema-instance\"/>\\n                <prdCtg>1</prdCtg>\\n                <prdNm>대출상품</prdNm>\\n                <cv19SuprCtg xsi:nil=\"true\" xmlns:xsi=\"http://www.w3.org/2001/XMLSchema-instance\"/>\\n                <cv19SuprCtn xsi:nil=\"true\" xmlns:xsi=\"http://www.w3.org/2001/XMLSchema-instance\"/>\\n                <cv19SuprTgtDtlCtn xsi:nil=\"true\" xmlns:xsi=\"http://www.w3.org/2001/XMLSchema-instance\"/>\\n                <mgmDln>상시</mgmDln>\\n                <prdCtg2>정책자금</prdCtg2>\\n                <fileWrtDt>202202080917</fileWrtDt>\\n            </item>\\n            <item>\\n                <basYm>202202</basYm>\\n                <snq>10</snq>\\n                <finPrdNm>미소금융 취약계층자립자금</finPrdNm>\\n                <lnLmt>1200만원</lnLmt>\\n                <irtCtg>고정금리</irtCtg>\\n                <irt>3%</irt>\\n                <maxTotLnTrm>6년</maxTotLnTrm>\\n                <maxDfrmTrm>1년</maxDfrmTrm>\\n                <maxRdptTrm>5년</maxRdptTrm>\\n                <rdptMthd>원(리)금균등분할상환</rdptMthd>\\n                <usge>생계</usge>\\n                <trgt>금융취약계층</trgt>\\n                <instCtg>공공·정부기관</instCtg>\\n                <ofrInstNm>서민금융진흥원</ofrInstNm>\\n                <rsdAreaPamtEqltIstm>전국</rsdAreaPamtEqltIstm>\\n                <suprTgtDtlCond>한부모/조손/다문화가족, 북한이탈주민/등록장애인, 특별재난지역/고용위기·재난지역/산업위기대응특별지역 거주자 중 개인신용평점 하위 20% 또는 차상위계층 이하 또는 근로장려금 신청 대상자(수급자)</suprTgtDtlCond>\\n                <age>미성년자 제외</age>\\n                <incm>상환능력 심사를 위한 소득증빙 필요</incm>\\n                <rsdArea xsi:nil=\"true\" xmlns:xsi=\"http://www.w3.org/2001/XMLSchema-instance\"/>\\n                <crdtSc>개인신용평점 하위 20%</crdtSc>\\n                <anin xsi:nil=\"true\" xmlns:xsi=\"http://www.w3.org/2001/XMLSchema-instance\"/>\\n                <housHoldCnt xsi:nil=\"true\" xmlns:xsi=\"http://www.w3.org/2001/XMLSchema-instance\"/>\\n                <housAr xsi:nil=\"true\" xmlns:xsi=\"http://www.w3.org/2001/XMLSchema-instance\"/>\\n                <lnTgtHous xsi:nil=\"true\" xmlns:xsi=\"http://www.w3.org/2001/XMLSchema-instance\"/>\\n                <rfrcCnpl xsi:nil=\"true\" xmlns:xsi=\"http://www.w3.org/2001/XMLSchema-instance\"/>\\n                <grnInst xsi:nil=\"true\" xmlns:xsi=\"http://www.w3.org/2001/XMLSchema-instance\"/>\\n                <jnMthd>미소금융 전국 지점 방문</jnMthd>\\n                <rpymdCfe>없음</rpymdCfe>\\n                <lnIcdcst>없음</lnIcdcst>\\n                <ovItrYr>6% (지연배상금률)</ovItrYr>\\n                <prftAddIrtCond>우대/가산금리 없음</prftAddIrtCond>\\n                <etcRefSbjc>거치금리 3.0%</etcRefSbjc>\\n                <hdlInst>미소금융 전국 지점</hdlInst>\\n                <cnpl>· 서민금융콜센터 (국번없이)1397&lt;br/&gt;· &lt;a href=https://www.kinfa.or.kr/customerService/centerSearch.do target=_blank&gt;&lt;font style=color:blue;&gt;www.kinfa.or.kr/customerService/centerSearch.do &lt;/a&gt;&lt;/font&gt;&lt;span style=font-size: 12px;&gt;(서금원 홈페이지 &gt; 서민금융통합지원센터 &gt; 전국센터찾기 &gt; 미소지점)&lt;/span&gt;</cnpl>\\n                <rltSite>&lt;a href=https://www.kinfa.or.kr target=_blank&gt;&lt;font style=color:blue;&gt;www.kinfa.or.kr &lt;/a&gt;&lt;/font&gt;&lt;span style=font-size: 12px;&gt;(서금원 홈페이지 &gt; 서민금융한눈에 &gt; 생계·주거자금 &gt; 생계자금)&lt;/span&gt;</rltSite>\\n                <tgtFltr>금융취약계층</tgtFltr>\\n                <hdlInstDtlVw>미소금융 전국 지점</hdlInstDtlVw>\\n                <prdExisYn>Y</prdExisYn>\\n                <cv19Rfrc xsi:nil=\"true\" xmlns:xsi=\"http://www.w3.org/2001/XMLSchema-instance\"/>\\n                <prdCtg>1</prdCtg>\\n                <prdNm>대출상품</prdNm>\\n                <cv19SuprCtg xsi:nil=\"true\" xmlns:xsi=\"http://www.w3.org/2001/XMLSchema-instance\"/>\\n                <cv19SuprCtn xsi:nil=\"true\" xmlns:xsi=\"http://www.w3.org/2001/XMLSchema-instance\"/>\\n                <cv19SuprTgtDtlCtn xsi:nil=\"true\" xmlns:xsi=\"http://www.w3.org/2001/XMLSchema-instance\"/>\\n                <mgmDln>상시</mgmDln>\\n                <prdCtg2>정책자금</prdCtg2>\\n                <fileWrtDt>202202080917</fileWrtDt>\\n            </item>\\n        </items>\\n    </body>\\n</response>\\n'"
      ]
     },
     "execution_count": 5,
     "metadata": {},
     "output_type": "execute_result"
    }
   ],
   "source": [
    "data"
   ]
  },
  {
   "cell_type": "markdown",
   "id": "37006a2e",
   "metadata": {},
   "source": [
    "## beautifulsoup으로 html, xml 파싱하기"
   ]
  },
  {
   "cell_type": "code",
   "execution_count": 6,
   "id": "87b190ba",
   "metadata": {},
   "outputs": [],
   "source": [
    "html_doc = \"\"\"<html><head><title>The Dormouse's story</title></head>\n",
    "<body>\n",
    "<p class=\"title\"><b>The Dormouse's story</b></p>\n",
    "\n",
    "<p class=\"story\">Once upon a time there were three little sisters; and their names were\n",
    "<a href=\"http://example.com/elsie\" class=\"sister\" id=\"link1\">Elsie</a>,\n",
    "<a href=\"http://example.com/lacie\" class=\"sister\" id=\"link2\">Lacie</a> and\n",
    "<a href=\"http://example.com/tillie\" class=\"sister\" id=\"link3\">Tillie</a>;\n",
    "and they lived at the bottom of a well.</p>\n",
    "\n",
    "<p class=\"story\">...</p>\n",
    "\"\"\""
   ]
  },
  {
   "cell_type": "code",
   "execution_count": 7,
   "id": "9f09eaf0",
   "metadata": {
    "scrolled": true
   },
   "outputs": [
    {
     "name": "stdout",
     "output_type": "stream",
     "text": [
      "<html>\n",
      " <head>\n",
      "  <title>\n",
      "   The Dormouse's story\n",
      "  </title>\n",
      " </head>\n",
      " <body>\n",
      "  <p class=\"title\">\n",
      "   <b>\n",
      "    The Dormouse's story\n",
      "   </b>\n",
      "  </p>\n",
      "  <p class=\"story\">\n",
      "   Once upon a time there were three little sisters; and their names were\n",
      "   <a class=\"sister\" href=\"http://example.com/elsie\" id=\"link1\">\n",
      "    Elsie\n",
      "   </a>\n",
      "   ,\n",
      "   <a class=\"sister\" href=\"http://example.com/lacie\" id=\"link2\">\n",
      "    Lacie\n",
      "   </a>\n",
      "   and\n",
      "   <a class=\"sister\" href=\"http://example.com/tillie\" id=\"link3\">\n",
      "    Tillie\n",
      "   </a>\n",
      "   ;\n",
      "and they lived at the bottom of a well.\n",
      "  </p>\n",
      "  <p class=\"story\">\n",
      "   ...\n",
      "  </p>\n",
      " </body>\n",
      "</html>\n",
      "\n"
     ]
    }
   ],
   "source": [
    "from bs4 import BeautifulSoup\n",
    "soup = BeautifulSoup(html_doc, 'html.parser')\n",
    "\n",
    "print(soup.prettify())"
   ]
  },
  {
   "cell_type": "code",
   "execution_count": 8,
   "id": "afc9051d",
   "metadata": {},
   "outputs": [
    {
     "data": {
      "text/plain": [
       "<title>The Dormouse's story</title>"
      ]
     },
     "execution_count": 8,
     "metadata": {},
     "output_type": "execute_result"
    }
   ],
   "source": [
    "# title 태그를 가져와\n",
    "soup.title"
   ]
  },
  {
   "cell_type": "code",
   "execution_count": 9,
   "id": "962345af",
   "metadata": {},
   "outputs": [
    {
     "data": {
      "text/plain": [
       "'title'"
      ]
     },
     "execution_count": 9,
     "metadata": {},
     "output_type": "execute_result"
    }
   ],
   "source": [
    "# title 태그의 이름을 가져와\n",
    "soup.title.name"
   ]
  },
  {
   "cell_type": "code",
   "execution_count": 10,
   "id": "2e28d48b",
   "metadata": {},
   "outputs": [
    {
     "data": {
      "text/plain": [
       "\"The Dormouse's story\""
      ]
     },
     "execution_count": 10,
     "metadata": {},
     "output_type": "execute_result"
    }
   ],
   "source": [
    "# title 태그의 값(텍스트)을 가져와\n",
    "soup.title.string"
   ]
  },
  {
   "cell_type": "code",
   "execution_count": 11,
   "id": "910cd110",
   "metadata": {},
   "outputs": [
    {
     "data": {
      "text/plain": [
       "'head'"
      ]
     },
     "execution_count": 11,
     "metadata": {},
     "output_type": "execute_result"
    }
   ],
   "source": [
    "# title 태그의 부모 태그의 이름을 가져와\n",
    "soup.title.parent.name"
   ]
  },
  {
   "cell_type": "code",
   "execution_count": 12,
   "id": "4592aae9",
   "metadata": {},
   "outputs": [
    {
     "data": {
      "text/plain": [
       "<p class=\"title\"><b>The Dormouse's story</b></p>"
      ]
     },
     "execution_count": 12,
     "metadata": {},
     "output_type": "execute_result"
    }
   ],
   "source": [
    "# 첫 번째 p 태그를 가져와\n",
    "soup.p"
   ]
  },
  {
   "cell_type": "code",
   "execution_count": 13,
   "id": "d029461f",
   "metadata": {},
   "outputs": [
    {
     "data": {
      "text/plain": [
       "['title']"
      ]
     },
     "execution_count": 13,
     "metadata": {},
     "output_type": "execute_result"
    }
   ],
   "source": [
    "# p태그에 class 속성의 값을 가져와라\n",
    "soup.p['class']"
   ]
  },
  {
   "cell_type": "code",
   "execution_count": 14,
   "id": "b7a7024d",
   "metadata": {},
   "outputs": [
    {
     "data": {
      "text/plain": [
       "<a class=\"sister\" href=\"http://example.com/elsie\" id=\"link1\">Elsie</a>"
      ]
     },
     "execution_count": 14,
     "metadata": {},
     "output_type": "execute_result"
    }
   ],
   "source": [
    "# 첫 번째 a 태그를 가져와\n",
    "soup.a"
   ]
  },
  {
   "cell_type": "code",
   "execution_count": 15,
   "id": "f38dfa4e",
   "metadata": {},
   "outputs": [
    {
     "data": {
      "text/plain": [
       "[<a class=\"sister\" href=\"http://example.com/elsie\" id=\"link1\">Elsie</a>,\n",
       " <a class=\"sister\" href=\"http://example.com/lacie\" id=\"link2\">Lacie</a>,\n",
       " <a class=\"sister\" href=\"http://example.com/tillie\" id=\"link3\">Tillie</a>]"
      ]
     },
     "execution_count": 15,
     "metadata": {},
     "output_type": "execute_result"
    }
   ],
   "source": [
    "# 모든 a태그를 가져와라\n",
    "soup.find_all('a')"
   ]
  },
  {
   "cell_type": "code",
   "execution_count": 16,
   "id": "d2c6f51d",
   "metadata": {},
   "outputs": [
    {
     "data": {
      "text/plain": [
       "<a class=\"sister\" href=\"http://example.com/tillie\" id=\"link3\">Tillie</a>"
      ]
     },
     "execution_count": 16,
     "metadata": {},
     "output_type": "execute_result"
    }
   ],
   "source": [
    "soup.find(id=\"link3\")"
   ]
  },
  {
   "cell_type": "markdown",
   "id": "6f58693a",
   "metadata": {},
   "source": [
    "공공데이터에서 가져온 서민금융상품정보로 해보기"
   ]
  },
  {
   "cell_type": "code",
   "execution_count": 17,
   "id": "e1daa2fa",
   "metadata": {},
   "outputs": [],
   "source": [
    "from bs4 import BeautifulSoup\n",
    "soup = BeautifulSoup(data, 'xml')"
   ]
  },
  {
   "cell_type": "code",
   "execution_count": 18,
   "id": "002e22e8",
   "metadata": {},
   "outputs": [
    {
     "data": {
      "text/plain": [
       "<?xml version=\"1.0\" encoding=\"utf-8\"?>\n",
       "<response>\n",
       "<header>\n",
       "<resultCode>00</resultCode>\n",
       "<resultMsg>NORMAL SERVICE.</resultMsg>\n",
       "</header>\n",
       "<body>\n",
       "<numOfRows>10</numOfRows>\n",
       "<pageNo>1</pageNo>\n",
       "<totalCount>3696</totalCount>\n",
       "<items>\n",
       "<item>\n",
       "<basYm>202202</basYm>\n",
       "<snq>1</snq>\n",
       "<finPrdNm>미소금융 창업자금_임차보증금대출</finPrdNm>\n",
       "<lnLmt>7000만원</lnLmt>\n",
       "<irtCtg>변동금리</irtCtg>\n",
       "<irt>4.5%</irt>\n",
       "<maxTotLnTrm>6년</maxTotLnTrm>\n",
       "<maxDfrmTrm>1년</maxDfrmTrm>\n",
       "<maxRdptTrm>5년</maxRdptTrm>\n",
       "<rdptMthd>원(리)금균등분할상환</rdptMthd>\n",
       "<usge>창업</usge>\n",
       "<trgt>사업자, 금융취약계층</trgt>\n",
       "<instCtg>공공·정부기관</instCtg>\n",
       "<ofrInstNm>서민금융진흥원</ofrInstNm>\n",
       "<rsdAreaPamtEqltIstm>전국</rsdAreaPamtEqltIstm>\n",
       "<suprTgtDtlCond>개인신용평점 하위 20% 또는 차상위계층 이하 또는 근로장려금 신청 대상(수급자)인 창업(예정)자 중, 사업소요자금 총액 중 자기자금 비율이 50% 이상인 자</suprTgtDtlCond>\n",
       "<age>미성년자 제외</age>\n",
       "<incm>상환능력 심사를 위한 소득증빙 필요</incm>\n",
       "<rsdArea xmlns:xsi=\"http://www.w3.org/2001/XMLSchema-instance\" xsi:nil=\"true\"/>\n",
       "<crdtSc>개인신용평점 하위 20%</crdtSc>\n",
       "<anin xmlns:xsi=\"http://www.w3.org/2001/XMLSchema-instance\" xsi:nil=\"true\"/>\n",
       "<housHoldCnt xmlns:xsi=\"http://www.w3.org/2001/XMLSchema-instance\" xsi:nil=\"true\"/>\n",
       "<housAr xmlns:xsi=\"http://www.w3.org/2001/XMLSchema-instance\" xsi:nil=\"true\"/>\n",
       "<lnTgtHous xmlns:xsi=\"http://www.w3.org/2001/XMLSchema-instance\" xsi:nil=\"true\"/>\n",
       "<rfrcCnpl xmlns:xsi=\"http://www.w3.org/2001/XMLSchema-instance\" xsi:nil=\"true\"/>\n",
       "<grnInst xmlns:xsi=\"http://www.w3.org/2001/XMLSchema-instance\" xsi:nil=\"true\"/>\n",
       "<jnMthd>미소금융 전국 지점 방문</jnMthd>\n",
       "<rpymdCfe>없음</rpymdCfe>\n",
       "<lnIcdcst>없음</lnIcdcst>\n",
       "<ovItrYr>9% (지연배상금률)</ovItrYr>\n",
       "<prftAddIrtCond>우대금리: 성실상환 여부에 따라 약정금리에서 1.0%p 인하, 가산금리: 연체 31일 이상 시 약정금리에서 1.0%p 인상</prftAddIrtCond>\n",
       "<etcRefSbjc>거치금리: 1천만원 이하 대출 시 2%, 1천만원 초과 대출 시 4.5% (사업장임차보증금 이내에서 지원)</etcRefSbjc>\n",
       "<hdlInst>미소금융 전국 지점</hdlInst>\n",
       "<cnpl>· 서민금융콜센터 (국번없이)1397&lt;br/&gt;· &lt;a href=https://www.kinfa.or.kr/customerService/centerSearch.do target=_blank&gt;&lt;font style=color:blue;&gt;www.kinfa.or.kr/customerService/centerSearch.do &lt;/a&gt;&lt;/font&gt;&lt;span style=font-size: 12px;&gt;(서금원 홈페이지 &gt; 서민금융통합지원센터 &gt; 전국센터찾기 &gt; 미소지점)&lt;/span&gt;</cnpl>\n",
       "<rltSite>&lt;a href=https://www.kinfa.or.kr target=_blank&gt;&lt;font style=color:blue;&gt;www.kinfa.or.kr &lt;/a&gt;&lt;/font&gt;&lt;span style=font-size: 12px;&gt;(서금원 홈페이지 &gt; 서민금융한눈에 &gt; 창업·운영자금 &gt; 미소금융 창업·운영자금)&lt;/span&gt;</rltSite>\n",
       "<tgtFltr>사업자, 금융취약계층</tgtFltr>\n",
       "<hdlInstDtlVw>미소금융 전국 지점</hdlInstDtlVw>\n",
       "<prdExisYn>Y</prdExisYn>\n",
       "<cv19Rfrc xmlns:xsi=\"http://www.w3.org/2001/XMLSchema-instance\" xsi:nil=\"true\"/>\n",
       "<prdCtg>1</prdCtg>\n",
       "<prdNm>대출상품</prdNm>\n",
       "<cv19SuprCtg xmlns:xsi=\"http://www.w3.org/2001/XMLSchema-instance\" xsi:nil=\"true\"/>\n",
       "<cv19SuprCtn xmlns:xsi=\"http://www.w3.org/2001/XMLSchema-instance\" xsi:nil=\"true\"/>\n",
       "<cv19SuprTgtDtlCtn xmlns:xsi=\"http://www.w3.org/2001/XMLSchema-instance\" xsi:nil=\"true\"/>\n",
       "<mgmDln>상시</mgmDln>\n",
       "<prdCtg2>정책자금</prdCtg2>\n",
       "<fileWrtDt>202202080917</fileWrtDt>\n",
       "</item>\n",
       "<item>\n",
       "<basYm>202202</basYm>\n",
       "<snq>2</snq>\n",
       "<finPrdNm>미소금융 창업자금_생계형차량 구입자금</finPrdNm>\n",
       "<lnLmt>2000만원</lnLmt>\n",
       "<irtCtg>변동금리</irtCtg>\n",
       "<irt>4.5%</irt>\n",
       "<maxTotLnTrm>6년</maxTotLnTrm>\n",
       "<maxDfrmTrm>1년</maxDfrmTrm>\n",
       "<maxRdptTrm>5년</maxRdptTrm>\n",
       "<rdptMthd>원(리)금균등분할상환</rdptMthd>\n",
       "<usge>창업</usge>\n",
       "<trgt>사업자, 금융취약계층</trgt>\n",
       "<instCtg>공공·정부기관</instCtg>\n",
       "<ofrInstNm>서민금융진흥원</ofrInstNm>\n",
       "<rsdAreaPamtEqltIstm>전국</rsdAreaPamtEqltIstm>\n",
       "<suprTgtDtlCond>개인신용평점 하위 20% 또는 차상위계층 이하 또는 근로장려금 신청 대상(수급자)인 창업(예정)자 (1톤 이하의 트럭 또는 상용차)</suprTgtDtlCond>\n",
       "<age>미성년자 제외</age>\n",
       "<incm>상환능력 심사를 위한 소득증빙 필요</incm>\n",
       "<rsdArea xmlns:xsi=\"http://www.w3.org/2001/XMLSchema-instance\" xsi:nil=\"true\"/>\n",
       "<crdtSc>개인신용평점 하위 20%</crdtSc>\n",
       "<anin xmlns:xsi=\"http://www.w3.org/2001/XMLSchema-instance\" xsi:nil=\"true\"/>\n",
       "<housHoldCnt xmlns:xsi=\"http://www.w3.org/2001/XMLSchema-instance\" xsi:nil=\"true\"/>\n",
       "<housAr xmlns:xsi=\"http://www.w3.org/2001/XMLSchema-instance\" xsi:nil=\"true\"/>\n",
       "<lnTgtHous xmlns:xsi=\"http://www.w3.org/2001/XMLSchema-instance\" xsi:nil=\"true\"/>\n",
       "<rfrcCnpl xmlns:xsi=\"http://www.w3.org/2001/XMLSchema-instance\" xsi:nil=\"true\"/>\n",
       "<grnInst xmlns:xsi=\"http://www.w3.org/2001/XMLSchema-instance\" xsi:nil=\"true\"/>\n",
       "<jnMthd>미소금융 전국 지점 방문</jnMthd>\n",
       "<rpymdCfe>없음</rpymdCfe>\n",
       "<lnIcdcst>없음</lnIcdcst>\n",
       "<ovItrYr>9% (지연배상금률)</ovItrYr>\n",
       "<prftAddIrtCond>우대금리: 성실상환 여부에 따라 약정금리에서 1.0%p 인하, 가산금리: 연체 31일 이상 시 약정금리에서 1.0%p 인상</prftAddIrtCond>\n",
       "<etcRefSbjc>거치금리: 1천만원 이하 대출 시 2%, 1천만원 초과 대출 시 4.5%</etcRefSbjc>\n",
       "<hdlInst>미소금융 전국 지점</hdlInst>\n",
       "<cnpl>· 서민금융콜센터 (국번없이)1397&lt;br/&gt;· &lt;a href=https://www.kinfa.or.kr/customerService/centerSearch.do target=_blank&gt;&lt;font style=color:blue;&gt;www.kinfa.or.kr/customerService/centerSearch.do &lt;/a&gt;&lt;/font&gt;&lt;span style=font-size: 12px;&gt;(서금원 홈페이지 &gt; 서민금융통합지원센터 &gt; 전국센터찾기 &gt; 미소지점)&lt;/span&gt;</cnpl>\n",
       "<rltSite>&lt;a href=https://www.kinfa.or.kr target=_blank&gt;&lt;font style=color:blue;&gt;www.kinfa.or.kr &lt;/a&gt;&lt;/font&gt;&lt;span style=font-size: 12px;&gt;(서금원 홈페이지 &gt; 서민금융한눈에 &gt; 창업·운영자금 &gt; 미소금융 창업·운영자금)&lt;/span&gt;</rltSite>\n",
       "<tgtFltr>사업자, 금융취약계층</tgtFltr>\n",
       "<hdlInstDtlVw>미소금융 전국 지점</hdlInstDtlVw>\n",
       "<prdExisYn>Y</prdExisYn>\n",
       "<cv19Rfrc xmlns:xsi=\"http://www.w3.org/2001/XMLSchema-instance\" xsi:nil=\"true\"/>\n",
       "<prdCtg>1</prdCtg>\n",
       "<prdNm>대출상품</prdNm>\n",
       "<cv19SuprCtg xmlns:xsi=\"http://www.w3.org/2001/XMLSchema-instance\" xsi:nil=\"true\"/>\n",
       "<cv19SuprCtn xmlns:xsi=\"http://www.w3.org/2001/XMLSchema-instance\" xsi:nil=\"true\"/>\n",
       "<cv19SuprTgtDtlCtn xmlns:xsi=\"http://www.w3.org/2001/XMLSchema-instance\" xsi:nil=\"true\"/>\n",
       "<mgmDln>상시</mgmDln>\n",
       "<prdCtg2>정책자금</prdCtg2>\n",
       "<fileWrtDt>202202080917</fileWrtDt>\n",
       "</item>\n",
       "<item>\n",
       "<basYm>202202</basYm>\n",
       "<snq>3</snq>\n",
       "<finPrdNm>미소금융 창업자금_창업초기 운영자금</finPrdNm>\n",
       "<lnLmt>2000만원</lnLmt>\n",
       "<irtCtg>변동금리</irtCtg>\n",
       "<irt>4.5%</irt>\n",
       "<maxTotLnTrm>6년</maxTotLnTrm>\n",
       "<maxDfrmTrm>1년</maxDfrmTrm>\n",
       "<maxRdptTrm>5년</maxRdptTrm>\n",
       "<rdptMthd>원(리)금균등분할상환</rdptMthd>\n",
       "<usge>창업</usge>\n",
       "<trgt>사업자, 금융취약계층</trgt>\n",
       "<instCtg>공공·정부기관</instCtg>\n",
       "<ofrInstNm>서민금융진흥원</ofrInstNm>\n",
       "<rsdAreaPamtEqltIstm>전국</rsdAreaPamtEqltIstm>\n",
       "<suprTgtDtlCond>개인신용평점 하위 20% 또는 차상위계층 이하 또는 근로장려금 신청 대상(수급자)인 창업(예정)자 중 사업자 등록 후 6개월 미만인 자</suprTgtDtlCond>\n",
       "<age>미성년자 제외</age>\n",
       "<incm>상환능력 심사를 위한 소득증빙 필요</incm>\n",
       "<rsdArea xmlns:xsi=\"http://www.w3.org/2001/XMLSchema-instance\" xsi:nil=\"true\"/>\n",
       "<crdtSc>개인신용평점 하위 20%</crdtSc>\n",
       "<anin xmlns:xsi=\"http://www.w3.org/2001/XMLSchema-instance\" xsi:nil=\"true\"/>\n",
       "<housHoldCnt xmlns:xsi=\"http://www.w3.org/2001/XMLSchema-instance\" xsi:nil=\"true\"/>\n",
       "<housAr xmlns:xsi=\"http://www.w3.org/2001/XMLSchema-instance\" xsi:nil=\"true\"/>\n",
       "<lnTgtHous xmlns:xsi=\"http://www.w3.org/2001/XMLSchema-instance\" xsi:nil=\"true\"/>\n",
       "<rfrcCnpl xmlns:xsi=\"http://www.w3.org/2001/XMLSchema-instance\" xsi:nil=\"true\"/>\n",
       "<grnInst xmlns:xsi=\"http://www.w3.org/2001/XMLSchema-instance\" xsi:nil=\"true\"/>\n",
       "<jnMthd>미소금융 전국 지점 방문</jnMthd>\n",
       "<rpymdCfe>없음</rpymdCfe>\n",
       "<lnIcdcst>없음</lnIcdcst>\n",
       "<ovItrYr>9% (지연배상금률)</ovItrYr>\n",
       "<prftAddIrtCond>우대금리: 성실상환 여부에 따라 약정금리에서 1.0%p 인하, 가산금리: 연체 31일 이상 시 약정금리에서 1.0%p 인상</prftAddIrtCond>\n",
       "<etcRefSbjc>거치금리 : 1천만원 이하 대출 시 2%, 1천만원 초과 대출 시 4.5% (최초 대출 시 1천만원, 이후 성실상환 시 1천만원 추가지원 가능)</etcRefSbjc>\n",
       "<hdlInst>미소금융 전국 지점</hdlInst>\n",
       "<cnpl>· 서민금융콜센터 (국번없이)1397&lt;br/&gt;· &lt;a href=https://www.kinfa.or.kr/customerService/centerSearch.do target=_blank&gt;&lt;font style=color:blue;&gt;www.kinfa.or.kr/customerService/centerSearch.do &lt;/a&gt;&lt;/font&gt;&lt;span style=font-size: 12px;&gt;(서금원 홈페이지 &gt; 서민금융통합지원센터 &gt; 전국센터찾기 &gt; 미소지점)&lt;/span&gt;</cnpl>\n",
       "<rltSite>&lt;a href=https://www.kinfa.or.kr target=_blank&gt;&lt;font style=color:blue;&gt;www.kinfa.or.kr &lt;/a&gt;&lt;/font&gt;&lt;span style=font-size: 12px;&gt;(서금원 홈페이지 &gt; 서민금융한눈에 &gt; 창업·운영자금 &gt; 미소금융 창업·운영자금)&lt;/span&gt;</rltSite>\n",
       "<tgtFltr>사업자, 금융취약계층</tgtFltr>\n",
       "<hdlInstDtlVw>미소금융 전국 지점</hdlInstDtlVw>\n",
       "<prdExisYn>Y</prdExisYn>\n",
       "<cv19Rfrc xmlns:xsi=\"http://www.w3.org/2001/XMLSchema-instance\" xsi:nil=\"true\"/>\n",
       "<prdCtg>1</prdCtg>\n",
       "<prdNm>대출상품</prdNm>\n",
       "<cv19SuprCtg xmlns:xsi=\"http://www.w3.org/2001/XMLSchema-instance\" xsi:nil=\"true\"/>\n",
       "<cv19SuprCtn xmlns:xsi=\"http://www.w3.org/2001/XMLSchema-instance\" xsi:nil=\"true\"/>\n",
       "<cv19SuprTgtDtlCtn xmlns:xsi=\"http://www.w3.org/2001/XMLSchema-instance\" xsi:nil=\"true\"/>\n",
       "<mgmDln>상시</mgmDln>\n",
       "<prdCtg2>정책자금</prdCtg2>\n",
       "<fileWrtDt>202202080917</fileWrtDt>\n",
       "</item>\n",
       "<item>\n",
       "<basYm>202202</basYm>\n",
       "<snq>4</snq>\n",
       "<finPrdNm>미소금융 창업자금_창업초기 시설자금</finPrdNm>\n",
       "<lnLmt>2000만원</lnLmt>\n",
       "<irtCtg>변동금리</irtCtg>\n",
       "<irt>4.5%</irt>\n",
       "<maxTotLnTrm>6년</maxTotLnTrm>\n",
       "<maxDfrmTrm>1년</maxDfrmTrm>\n",
       "<maxRdptTrm>5년</maxRdptTrm>\n",
       "<rdptMthd>원(리)금균등분할상환</rdptMthd>\n",
       "<usge>창업</usge>\n",
       "<trgt>사업자, 금융취약계층</trgt>\n",
       "<instCtg>공공·정부기관</instCtg>\n",
       "<ofrInstNm>서민금융진흥원</ofrInstNm>\n",
       "<rsdAreaPamtEqltIstm>전국</rsdAreaPamtEqltIstm>\n",
       "<suprTgtDtlCond>개인신용평점 하위 20% 또는 차상위계층 이하 또는 근로장려금 신청 대상(수급자)인 창업(예정)자 중 사업자 등록 후 6개월 미만인 자</suprTgtDtlCond>\n",
       "<age>미성년자 제외</age>\n",
       "<incm>상환능력 심사를 위한 소득증빙 필요</incm>\n",
       "<rsdArea xmlns:xsi=\"http://www.w3.org/2001/XMLSchema-instance\" xsi:nil=\"true\"/>\n",
       "<crdtSc>개인신용평점 하위 20%</crdtSc>\n",
       "<anin xmlns:xsi=\"http://www.w3.org/2001/XMLSchema-instance\" xsi:nil=\"true\"/>\n",
       "<housHoldCnt xmlns:xsi=\"http://www.w3.org/2001/XMLSchema-instance\" xsi:nil=\"true\"/>\n",
       "<housAr xmlns:xsi=\"http://www.w3.org/2001/XMLSchema-instance\" xsi:nil=\"true\"/>\n",
       "<lnTgtHous xmlns:xsi=\"http://www.w3.org/2001/XMLSchema-instance\" xsi:nil=\"true\"/>\n",
       "<rfrcCnpl xmlns:xsi=\"http://www.w3.org/2001/XMLSchema-instance\" xsi:nil=\"true\"/>\n",
       "<grnInst xmlns:xsi=\"http://www.w3.org/2001/XMLSchema-instance\" xsi:nil=\"true\"/>\n",
       "<jnMthd>미소금융 전국 지점 방문</jnMthd>\n",
       "<rpymdCfe>없음</rpymdCfe>\n",
       "<lnIcdcst>없음</lnIcdcst>\n",
       "<ovItrYr>9% (지연배상금률)</ovItrYr>\n",
       "<prftAddIrtCond>우대금리: 성실상환 여부에 따라 약정금리에서 1.0%p 인하, 가산금리: 연체 31일 이상 시 약정금리에서 1.0%p 인상</prftAddIrtCond>\n",
       "<etcRefSbjc>거치금리: 1천만원 이하 대출 시 2%, 1천만원 초과 대출 시 4.5%</etcRefSbjc>\n",
       "<hdlInst>미소금융 전국 지점</hdlInst>\n",
       "<cnpl>· 서민금융콜센터 (국번없이)1397&lt;br/&gt;· &lt;a href=https://www.kinfa.or.kr/customerService/centerSearch.do target=_blank&gt;&lt;font style=color:blue;&gt;www.kinfa.or.kr/customerService/centerSearch.do &lt;/a&gt;&lt;/font&gt;&lt;span style=font-size: 12px;&gt;(서금원 홈페이지 &gt; 서민금융통합지원센터 &gt; 전국센터찾기 &gt; 미소지점)&lt;/span&gt;</cnpl>\n",
       "<rltSite>&lt;a href=https://www.kinfa.or.kr target=_blank&gt;&lt;font style=color:blue;&gt;www.kinfa.or.kr &lt;/a&gt;&lt;/font&gt;&lt;span style=font-size: 12px;&gt;(서금원 홈페이지 &gt; 서민금융한눈에 &gt; 창업·운영자금 &gt; 미소금융 창업·운영자금)&lt;/span&gt;</rltSite>\n",
       "<tgtFltr>사업자, 금융취약계층</tgtFltr>\n",
       "<hdlInstDtlVw>미소금융 전국 지점</hdlInstDtlVw>\n",
       "<prdExisYn>Y</prdExisYn>\n",
       "<cv19Rfrc xmlns:xsi=\"http://www.w3.org/2001/XMLSchema-instance\" xsi:nil=\"true\"/>\n",
       "<prdCtg>1</prdCtg>\n",
       "<prdNm>대출상품</prdNm>\n",
       "<cv19SuprCtg xmlns:xsi=\"http://www.w3.org/2001/XMLSchema-instance\" xsi:nil=\"true\"/>\n",
       "<cv19SuprCtn xmlns:xsi=\"http://www.w3.org/2001/XMLSchema-instance\" xsi:nil=\"true\"/>\n",
       "<cv19SuprTgtDtlCtn xmlns:xsi=\"http://www.w3.org/2001/XMLSchema-instance\" xsi:nil=\"true\"/>\n",
       "<mgmDln>상시</mgmDln>\n",
       "<prdCtg2>정책자금</prdCtg2>\n",
       "<fileWrtDt>202202080917</fileWrtDt>\n",
       "</item>\n",
       "<item>\n",
       "<basYm>202202</basYm>\n",
       "<snq>5</snq>\n",
       "<finPrdNm>미소금융 운영자금</finPrdNm>\n",
       "<lnLmt>2000만원</lnLmt>\n",
       "<irtCtg>변동금리</irtCtg>\n",
       "<irt>4.5%</irt>\n",
       "<maxTotLnTrm>5.5</maxTotLnTrm>\n",
       "<maxDfrmTrm>0.5</maxDfrmTrm>\n",
       "<maxRdptTrm>5년</maxRdptTrm>\n",
       "<rdptMthd>원(리)금균등분할상환</rdptMthd>\n",
       "<usge>운영·시설</usge>\n",
       "<trgt>사업자, 금융취약계층</trgt>\n",
       "<instCtg>공공·정부기관</instCtg>\n",
       "<ofrInstNm>서민금융진흥원</ofrInstNm>\n",
       "<rsdAreaPamtEqltIstm>전국</rsdAreaPamtEqltIstm>\n",
       "<suprTgtDtlCond>개인신용평점 하위 20% 또는 차상위계층 이하 또는 근로장려금 신청 대상(수급자)인 자영업자 중 사업자 등록 후 6개월 이상 운영 중인 자(프리랜서의 경우 1년 이상 동일 사업을 연속하여 운영 중인 자)</suprTgtDtlCond>\n",
       "<age>미성년자 제외</age>\n",
       "<incm>상환능력 심사를 위한 소득증빙 필요</incm>\n",
       "<rsdArea xmlns:xsi=\"http://www.w3.org/2001/XMLSchema-instance\" xsi:nil=\"true\"/>\n",
       "<crdtSc>개인신용평점 하위 20%</crdtSc>\n",
       "<anin xmlns:xsi=\"http://www.w3.org/2001/XMLSchema-instance\" xsi:nil=\"true\"/>\n",
       "<housHoldCnt xmlns:xsi=\"http://www.w3.org/2001/XMLSchema-instance\" xsi:nil=\"true\"/>\n",
       "<housAr xmlns:xsi=\"http://www.w3.org/2001/XMLSchema-instance\" xsi:nil=\"true\"/>\n",
       "<lnTgtHous xmlns:xsi=\"http://www.w3.org/2001/XMLSchema-instance\" xsi:nil=\"true\"/>\n",
       "<rfrcCnpl xmlns:xsi=\"http://www.w3.org/2001/XMLSchema-instance\" xsi:nil=\"true\"/>\n",
       "<grnInst xmlns:xsi=\"http://www.w3.org/2001/XMLSchema-instance\" xsi:nil=\"true\"/>\n",
       "<jnMthd>미소금융 전국 지점 방문</jnMthd>\n",
       "<rpymdCfe>없음</rpymdCfe>\n",
       "<lnIcdcst>없음</lnIcdcst>\n",
       "<ovItrYr>9% (지연배상금률)</ovItrYr>\n",
       "<prftAddIrtCond>우대금리: 성실상환 여부에 따라 약정금리에서 1.0%p 인하, 가산금리: 연체 31일 이상 시 약정금리에서 1.0%p 인상</prftAddIrtCond>\n",
       "<etcRefSbjc>거치금리 2.0% (신용카드영세가맹점주의 경우 최초 약정금리 대비 1.0%p의 이자액을 캐시백 지원)</etcRefSbjc>\n",
       "<hdlInst>미소금융 전국 지점</hdlInst>\n",
       "<cnpl>· 서민금융콜센터 (국번없이)1397&lt;br/&gt;· &lt;a href=https://www.kinfa.or.kr/customerService/centerSearch.do target=_blank&gt;&lt;font style=color:blue;&gt;www.kinfa.or.kr/customerService/centerSearch.do &lt;/a&gt;&lt;/font&gt;&lt;span style=font-size: 12px;&gt;(서금원 홈페이지 &gt; 서민금융통합지원센터 &gt; 전국센터찾기 &gt; 미소지점)&lt;/span&gt;</cnpl>\n",
       "<rltSite>&lt;a href=https://www.kinfa.or.kr target=_blank&gt;&lt;font style=color:blue;&gt;www.kinfa.or.kr &lt;/a&gt;&lt;/font&gt;&lt;span style=font-size: 12px;&gt;(서금원 홈페이지 &gt; 서민금융한눈에 &gt; 창업·운영자금 &gt; 미소금융 창업·운영자금)&lt;/span&gt;</rltSite>\n",
       "<tgtFltr>사업자, 금융취약계층</tgtFltr>\n",
       "<hdlInstDtlVw>미소금융 전국 지점</hdlInstDtlVw>\n",
       "<prdExisYn>Y</prdExisYn>\n",
       "<cv19Rfrc xmlns:xsi=\"http://www.w3.org/2001/XMLSchema-instance\" xsi:nil=\"true\"/>\n",
       "<prdCtg>1</prdCtg>\n",
       "<prdNm>대출상품</prdNm>\n",
       "<cv19SuprCtg xmlns:xsi=\"http://www.w3.org/2001/XMLSchema-instance\" xsi:nil=\"true\"/>\n",
       "<cv19SuprCtn xmlns:xsi=\"http://www.w3.org/2001/XMLSchema-instance\" xsi:nil=\"true\"/>\n",
       "<cv19SuprTgtDtlCtn xmlns:xsi=\"http://www.w3.org/2001/XMLSchema-instance\" xsi:nil=\"true\"/>\n",
       "<mgmDln>상시</mgmDln>\n",
       "<prdCtg2>정책자금</prdCtg2>\n",
       "<fileWrtDt>202202080917</fileWrtDt>\n",
       "</item>\n",
       "<item>\n",
       "<basYm>202202</basYm>\n",
       "<snq>6</snq>\n",
       "<finPrdNm>미소금융 시설개선자금</finPrdNm>\n",
       "<lnLmt>2000만원</lnLmt>\n",
       "<irtCtg>변동금리</irtCtg>\n",
       "<irt>4.5%</irt>\n",
       "<maxTotLnTrm>5.5</maxTotLnTrm>\n",
       "<maxDfrmTrm>0.5</maxDfrmTrm>\n",
       "<maxRdptTrm>5년</maxRdptTrm>\n",
       "<rdptMthd>원(리)금균등분할상환</rdptMthd>\n",
       "<usge>운영·시설</usge>\n",
       "<trgt>사업자, 금융취약계층</trgt>\n",
       "<instCtg>공공·정부기관</instCtg>\n",
       "<ofrInstNm>서민금융진흥원</ofrInstNm>\n",
       "<rsdAreaPamtEqltIstm>전국</rsdAreaPamtEqltIstm>\n",
       "<suprTgtDtlCond>개인신용평점 하위 20% 또는 차상위계층 이하 또는 근로장려금 신청 대상(수급자)인 자영업자 중 사업자 등록 후 6개월 이상 운영 중인 자</suprTgtDtlCond>\n",
       "<age>미성년자 제외</age>\n",
       "<incm>상환능력 심사를 위한 소득증빙 필요</incm>\n",
       "<rsdArea xmlns:xsi=\"http://www.w3.org/2001/XMLSchema-instance\" xsi:nil=\"true\"/>\n",
       "<crdtSc>개인신용평점 하위 20%</crdtSc>\n",
       "<anin xmlns:xsi=\"http://www.w3.org/2001/XMLSchema-instance\" xsi:nil=\"true\"/>\n",
       "<housHoldCnt xmlns:xsi=\"http://www.w3.org/2001/XMLSchema-instance\" xsi:nil=\"true\"/>\n",
       "<housAr xmlns:xsi=\"http://www.w3.org/2001/XMLSchema-instance\" xsi:nil=\"true\"/>\n",
       "<lnTgtHous xmlns:xsi=\"http://www.w3.org/2001/XMLSchema-instance\" xsi:nil=\"true\"/>\n",
       "<rfrcCnpl xmlns:xsi=\"http://www.w3.org/2001/XMLSchema-instance\" xsi:nil=\"true\"/>\n",
       "<grnInst xmlns:xsi=\"http://www.w3.org/2001/XMLSchema-instance\" xsi:nil=\"true\"/>\n",
       "<jnMthd>미소금융 전국 지점 방문</jnMthd>\n",
       "<rpymdCfe>없음</rpymdCfe>\n",
       "<lnIcdcst>없음</lnIcdcst>\n",
       "<ovItrYr>9% (지연배상금률)</ovItrYr>\n",
       "<prftAddIrtCond>우대금리: 성실상환 여부에 따라 약정금리에서 1.0%p 인하, 가산금리: 연체 31일 이상 시 약정금리에서 1.0%p 인상</prftAddIrtCond>\n",
       "<etcRefSbjc>거치금리 2.0%, 실소요액 범위 내 대출 (신용카드영세가맹점주의 경우 최초 약정금리 대비 1.0%p의 이자액을 캐시백 지원)</etcRefSbjc>\n",
       "<hdlInst>미소금융 전국 지점</hdlInst>\n",
       "<cnpl>· 서민금융콜센터 (국번없이)1397&lt;br/&gt;· &lt;a href=https://www.kinfa.or.kr/customerService/centerSearch.do target=_blank&gt;&lt;font style=color:blue;&gt;www.kinfa.or.kr/customerService/centerSearch.do &lt;/a&gt;&lt;/font&gt;&lt;span style=font-size: 12px;&gt;(서금원 홈페이지 &gt; 서민금융통합지원센터 &gt; 전국센터찾기 &gt; 미소지점)&lt;/span&gt;</cnpl>\n",
       "<rltSite>&lt;a href=https://www.kinfa.or.kr target=_blank&gt;&lt;font style=color:blue;&gt;www.kinfa.or.kr &lt;/a&gt;&lt;/font&gt;&lt;span style=font-size: 12px;&gt;(서금원 홈페이지 &gt; 서민금융한눈에 &gt; 창업·운영자금 &gt; 미소금융 창업·운영자금)&lt;/span&gt;</rltSite>\n",
       "<tgtFltr>사업자, 금융취약계층</tgtFltr>\n",
       "<hdlInstDtlVw>미소금융 전국 지점</hdlInstDtlVw>\n",
       "<prdExisYn>Y</prdExisYn>\n",
       "<cv19Rfrc xmlns:xsi=\"http://www.w3.org/2001/XMLSchema-instance\" xsi:nil=\"true\"/>\n",
       "<prdCtg>1</prdCtg>\n",
       "<prdNm>대출상품</prdNm>\n",
       "<cv19SuprCtg xmlns:xsi=\"http://www.w3.org/2001/XMLSchema-instance\" xsi:nil=\"true\"/>\n",
       "<cv19SuprCtn xmlns:xsi=\"http://www.w3.org/2001/XMLSchema-instance\" xsi:nil=\"true\"/>\n",
       "<cv19SuprTgtDtlCtn xmlns:xsi=\"http://www.w3.org/2001/XMLSchema-instance\" xsi:nil=\"true\"/>\n",
       "<mgmDln>상시</mgmDln>\n",
       "<prdCtg2>정책자금</prdCtg2>\n",
       "<fileWrtDt>202202080917</fileWrtDt>\n",
       "</item>\n",
       "<item>\n",
       "<basYm>202202</basYm>\n",
       "<snq>7</snq>\n",
       "<finPrdNm>미소금융 긴급생계자금</finPrdNm>\n",
       "<lnLmt>1000만원</lnLmt>\n",
       "<irtCtg>변동금리</irtCtg>\n",
       "<irt>4.5%</irt>\n",
       "<maxTotLnTrm>5년</maxTotLnTrm>\n",
       "<maxDfrmTrm>1년</maxDfrmTrm>\n",
       "<maxRdptTrm>4년</maxRdptTrm>\n",
       "<rdptMthd>원(리)금균등분할상환</rdptMthd>\n",
       "<usge>생계</usge>\n",
       "<trgt>사업자, 금융취약계층</trgt>\n",
       "<instCtg>공공·정부기관</instCtg>\n",
       "<ofrInstNm>서민금융진흥원</ofrInstNm>\n",
       "<rsdAreaPamtEqltIstm>전국</rsdAreaPamtEqltIstm>\n",
       "<suprTgtDtlCond>미소금융 사업자금(창업, 운영, 시설) 대출 12회차 이상 이용자 중 신청일 현재 연체없이 정상이용 중인자(한건의 대출이라도 연체일수가 1일 이상인 경우 이용불가)</suprTgtDtlCond>\n",
       "<age>미성년자 제외</age>\n",
       "<incm>상환능력 심사를 위한 소득증빙 필요</incm>\n",
       "<rsdArea xmlns:xsi=\"http://www.w3.org/2001/XMLSchema-instance\" xsi:nil=\"true\"/>\n",
       "<crdtSc>개인신용평점 하위 20%</crdtSc>\n",
       "<anin xmlns:xsi=\"http://www.w3.org/2001/XMLSchema-instance\" xsi:nil=\"true\"/>\n",
       "<housHoldCnt xmlns:xsi=\"http://www.w3.org/2001/XMLSchema-instance\" xsi:nil=\"true\"/>\n",
       "<housAr xmlns:xsi=\"http://www.w3.org/2001/XMLSchema-instance\" xsi:nil=\"true\"/>\n",
       "<lnTgtHous xmlns:xsi=\"http://www.w3.org/2001/XMLSchema-instance\" xsi:nil=\"true\"/>\n",
       "<rfrcCnpl xmlns:xsi=\"http://www.w3.org/2001/XMLSchema-instance\" xsi:nil=\"true\"/>\n",
       "<grnInst xmlns:xsi=\"http://www.w3.org/2001/XMLSchema-instance\" xsi:nil=\"true\"/>\n",
       "<jnMthd>미소금융 전국 지점 방문</jnMthd>\n",
       "<rpymdCfe>없음</rpymdCfe>\n",
       "<lnIcdcst>없음</lnIcdcst>\n",
       "<ovItrYr>9% (지연배상금률)</ovItrYr>\n",
       "<prftAddIrtCond>우대금리: 성실상환 여부에 따라 약정금리에서 1.0%p 인하, 가산금리: 연체 31일 이상 시 약정금리에서 1.0%p 인상</prftAddIrtCond>\n",
       "<etcRefSbjc>거치금리 4.5% (5백만원 초과 대출 시, 본인·배우자·직계존비속에 발생한 사고, 질병, 재난의 긴급목적을 증빙하는 서류 제출 필요)</etcRefSbjc>\n",
       "<hdlInst>미소금융 전국 지점</hdlInst>\n",
       "<cnpl>· 서민금융콜센터 (국번없이)1397&lt;br/&gt;· &lt;a href=https://www.kinfa.or.kr/customerService/centerSearch.do target=_blank&gt;&lt;font style=color:blue;&gt;www.kinfa.or.kr/customerService/centerSearch.do &lt;/a&gt;&lt;/font&gt;&lt;span style=font-size: 12px;&gt;(서금원 홈페이지 &gt; 서민금융통합지원센터 &gt; 전국센터찾기 &gt; 미소지점)&lt;/span&gt;</cnpl>\n",
       "<rltSite>&lt;a href=https://www.kinfa.or.kr target=_blank&gt;&lt;font style=color:blue;&gt;www.kinfa.or.kr &lt;/a&gt;&lt;/font&gt;&lt;span style=font-size: 12px;&gt;(서금원 홈페이지 &gt; 서민금융한눈에 &gt; 창업·운영자금 &gt; 미소금융 창업·운영자금)&lt;/span&gt;</rltSite>\n",
       "<tgtFltr>사업자, 금융취약계층</tgtFltr>\n",
       "<hdlInstDtlVw>미소금융 전국 지점</hdlInstDtlVw>\n",
       "<prdExisYn>Y</prdExisYn>\n",
       "<cv19Rfrc xmlns:xsi=\"http://www.w3.org/2001/XMLSchema-instance\" xsi:nil=\"true\"/>\n",
       "<prdCtg>1</prdCtg>\n",
       "<prdNm>대출상품</prdNm>\n",
       "<cv19SuprCtg xmlns:xsi=\"http://www.w3.org/2001/XMLSchema-instance\" xsi:nil=\"true\"/>\n",
       "<cv19SuprCtn xmlns:xsi=\"http://www.w3.org/2001/XMLSchema-instance\" xsi:nil=\"true\"/>\n",
       "<cv19SuprTgtDtlCtn xmlns:xsi=\"http://www.w3.org/2001/XMLSchema-instance\" xsi:nil=\"true\"/>\n",
       "<mgmDln>상시</mgmDln>\n",
       "<prdCtg2>정책자금</prdCtg2>\n",
       "<fileWrtDt>202202080917</fileWrtDt>\n",
       "</item>\n",
       "<item>\n",
       "<basYm>202202</basYm>\n",
       "<snq>8</snq>\n",
       "<finPrdNm>미소금융 취업성공대출</finPrdNm>\n",
       "<lnLmt>300만원</lnLmt>\n",
       "<irtCtg>변동금리</irtCtg>\n",
       "<irt>4.5%</irt>\n",
       "<maxTotLnTrm>3년</maxTotLnTrm>\n",
       "<maxDfrmTrm>0년</maxDfrmTrm>\n",
       "<maxRdptTrm>3년</maxRdptTrm>\n",
       "<rdptMthd>원(리)금균등분할상환</rdptMthd>\n",
       "<usge>생계</usge>\n",
       "<trgt>금융취약계층</trgt>\n",
       "<instCtg>공공·정부기관</instCtg>\n",
       "<ofrInstNm>서민금융진흥원</ofrInstNm>\n",
       "<rsdAreaPamtEqltIstm>전국</rsdAreaPamtEqltIstm>\n",
       "<suprTgtDtlCond>취업지원 프로그램(고용노동부의 취업성공패키지(국민취업지원제도 취업지원프로그램), 서금원 취업프로그램, 소상공인시장진흥공단의 희망리턴패키지 재기교육, 한국법무보호복지공단의 허그일자리지원 프로그램) 이수 후 3개월 이내 취업자 중 개인신용평점 하위 20% 또는 차상위계층 이하 또는 근로장려금 신청 대상자(수급자)&lt;br&gt;※ 단, 6개월 이상 근속 중인 자는 지원대상에서 제외</suprTgtDtlCond>\n",
       "<age>미성년자 제외</age>\n",
       "<incm>상환능력 심사를 위한 소득증빙 필요</incm>\n",
       "<rsdArea xmlns:xsi=\"http://www.w3.org/2001/XMLSchema-instance\" xsi:nil=\"true\"/>\n",
       "<crdtSc>개인신용평점 하위 20%</crdtSc>\n",
       "<anin xmlns:xsi=\"http://www.w3.org/2001/XMLSchema-instance\" xsi:nil=\"true\"/>\n",
       "<housHoldCnt xmlns:xsi=\"http://www.w3.org/2001/XMLSchema-instance\" xsi:nil=\"true\"/>\n",
       "<housAr xmlns:xsi=\"http://www.w3.org/2001/XMLSchema-instance\" xsi:nil=\"true\"/>\n",
       "<lnTgtHous xmlns:xsi=\"http://www.w3.org/2001/XMLSchema-instance\" xsi:nil=\"true\"/>\n",
       "<rfrcCnpl xmlns:xsi=\"http://www.w3.org/2001/XMLSchema-instance\" xsi:nil=\"true\"/>\n",
       "<grnInst xmlns:xsi=\"http://www.w3.org/2001/XMLSchema-instance\" xsi:nil=\"true\"/>\n",
       "<jnMthd>미소금융 전국 지점 방문</jnMthd>\n",
       "<rpymdCfe>없음</rpymdCfe>\n",
       "<lnIcdcst>없음</lnIcdcst>\n",
       "<ovItrYr>9% (지연배상금률)</ovItrYr>\n",
       "<prftAddIrtCond>우대금리: 성실상환 여부에 따라 약정금리에서 1.0%p 인하, 가산금리: 연체 31일 이상 시 약정금리에서 1.0%p 인상</prftAddIrtCond>\n",
       "<etcRefSbjc>근속기간 6개월 이상인 자는 대출 불가</etcRefSbjc>\n",
       "<hdlInst>미소금융 전국 지점</hdlInst>\n",
       "<cnpl>· 서민금융콜센터 (국번없이)1397&lt;br/&gt;· &lt;a href=https://www.kinfa.or.kr/customerService/centerSearch.do target=_blank&gt;&lt;font style=color:blue;&gt;www.kinfa.or.kr/customerService/centerSearch.do &lt;/a&gt;&lt;/font&gt;&lt;span style=font-size: 12px;&gt;(서금원 홈페이지 &gt; 서민금융통합지원센터 &gt; 전국센터찾기 &gt; 미소지점)&lt;/span&gt;</cnpl>\n",
       "<rltSite>&lt;a href=https://www.kinfa.or.kr target=_blank&gt;&lt;font style=color:blue;&gt;www.kinfa.or.kr &lt;/a&gt;&lt;/font&gt;&lt;span style=font-size: 12px;&gt;(서금원 홈페이지 &gt; 서민금융한눈에 &gt; 생계·주거자금 &gt; 생계자금)&lt;/span&gt;</rltSite>\n",
       "<tgtFltr>금융취약계층</tgtFltr>\n",
       "<hdlInstDtlVw>미소금융 전국 지점</hdlInstDtlVw>\n",
       "<prdExisYn>Y</prdExisYn>\n",
       "<cv19Rfrc xmlns:xsi=\"http://www.w3.org/2001/XMLSchema-instance\" xsi:nil=\"true\"/>\n",
       "<prdCtg>1</prdCtg>\n",
       "<prdNm>대출상품</prdNm>\n",
       "<cv19SuprCtg xmlns:xsi=\"http://www.w3.org/2001/XMLSchema-instance\" xsi:nil=\"true\"/>\n",
       "<cv19SuprCtn xmlns:xsi=\"http://www.w3.org/2001/XMLSchema-instance\" xsi:nil=\"true\"/>\n",
       "<cv19SuprTgtDtlCtn xmlns:xsi=\"http://www.w3.org/2001/XMLSchema-instance\" xsi:nil=\"true\"/>\n",
       "<mgmDln>상시</mgmDln>\n",
       "<prdCtg2>정책자금</prdCtg2>\n",
       "<fileWrtDt>202202080917</fileWrtDt>\n",
       "</item>\n",
       "<item>\n",
       "<basYm>202202</basYm>\n",
       "<snq>9</snq>\n",
       "<finPrdNm>미소금융 교육비지원대출</finPrdNm>\n",
       "<lnLmt>500만원</lnLmt>\n",
       "<irtCtg>변동금리</irtCtg>\n",
       "<irt>4.5%</irt>\n",
       "<maxTotLnTrm>6년</maxTotLnTrm>\n",
       "<maxDfrmTrm>1년</maxDfrmTrm>\n",
       "<maxRdptTrm>5년</maxRdptTrm>\n",
       "<rdptMthd>원(리)금균등분할상환</rdptMthd>\n",
       "<usge>생계</usge>\n",
       "<trgt>금융취약계층</trgt>\n",
       "<instCtg>공공·정부기관</instCtg>\n",
       "<ofrInstNm>서민금융진흥원</ofrInstNm>\n",
       "<rsdAreaPamtEqltIstm>전국</rsdAreaPamtEqltIstm>\n",
       "<suprTgtDtlCond>자녀가 초/중/고에 재학중인 자 중 개인신용평점 하위 20% 또는 차상위계층 이하 또는 근로장려금 신청 대상자(수급자)</suprTgtDtlCond>\n",
       "<age>미성년자 제외</age>\n",
       "<incm>상환능력 심사를 위한 소득증빙 필요</incm>\n",
       "<rsdArea xmlns:xsi=\"http://www.w3.org/2001/XMLSchema-instance\" xsi:nil=\"true\"/>\n",
       "<crdtSc>개인신용평점 하위 20%</crdtSc>\n",
       "<anin xmlns:xsi=\"http://www.w3.org/2001/XMLSchema-instance\" xsi:nil=\"true\"/>\n",
       "<housHoldCnt xmlns:xsi=\"http://www.w3.org/2001/XMLSchema-instance\" xsi:nil=\"true\"/>\n",
       "<housAr xmlns:xsi=\"http://www.w3.org/2001/XMLSchema-instance\" xsi:nil=\"true\"/>\n",
       "<lnTgtHous xmlns:xsi=\"http://www.w3.org/2001/XMLSchema-instance\" xsi:nil=\"true\"/>\n",
       "<rfrcCnpl xmlns:xsi=\"http://www.w3.org/2001/XMLSchema-instance\" xsi:nil=\"true\"/>\n",
       "<grnInst xmlns:xsi=\"http://www.w3.org/2001/XMLSchema-instance\" xsi:nil=\"true\"/>\n",
       "<jnMthd>미소금융 전국 지점 방문</jnMthd>\n",
       "<rpymdCfe>없음</rpymdCfe>\n",
       "<lnIcdcst>없음</lnIcdcst>\n",
       "<ovItrYr>9% (지연배상금률)</ovItrYr>\n",
       "<prftAddIrtCond>우대금리: 성실상환 여부에 따라 약정금리에서 1.0%p 인하, 가산금리: 연체 31일 이상 시 약정금리에서 1.0%p 인상</prftAddIrtCond>\n",
       "<etcRefSbjc>거치금리 4.5%, 공교육비(방과 후 학교활동 및 학교수업료 등) 및 일반 사교육비(학원비 등) 대출</etcRefSbjc>\n",
       "<hdlInst>미소금융 전국 지점</hdlInst>\n",
       "<cnpl>· 서민금융콜센터 (국번없이)1397&lt;br/&gt;· &lt;a href=https://www.kinfa.or.kr/customerService/centerSearch.do target=_blank&gt;&lt;font style=color:blue;&gt;www.kinfa.or.kr/customerService/centerSearch.do &lt;/a&gt;&lt;/font&gt;&lt;span style=font-size: 12px;&gt;(서금원 홈페이지 &gt; 서민금융통합지원센터 &gt; 전국센터찾기 &gt; 미소지점)&lt;/span&gt;</cnpl>\n",
       "<rltSite>&lt;a href=https://www.kinfa.or.kr target=_blank&gt;&lt;font style=color:blue;&gt;www.kinfa.or.kr &lt;/a&gt;&lt;/font&gt;&lt;span style=font-size: 12px;&gt;(서금원 홈페이지 &gt; 서민금융한눈에 &gt; 생계·주거자금 &gt; 생계자금)&lt;/span&gt;</rltSite>\n",
       "<tgtFltr>금융취약계층</tgtFltr>\n",
       "<hdlInstDtlVw>미소금융 전국 지점</hdlInstDtlVw>\n",
       "<prdExisYn>Y</prdExisYn>\n",
       "<cv19Rfrc xmlns:xsi=\"http://www.w3.org/2001/XMLSchema-instance\" xsi:nil=\"true\"/>\n",
       "<prdCtg>1</prdCtg>\n",
       "<prdNm>대출상품</prdNm>\n",
       "<cv19SuprCtg xmlns:xsi=\"http://www.w3.org/2001/XMLSchema-instance\" xsi:nil=\"true\"/>\n",
       "<cv19SuprCtn xmlns:xsi=\"http://www.w3.org/2001/XMLSchema-instance\" xsi:nil=\"true\"/>\n",
       "<cv19SuprTgtDtlCtn xmlns:xsi=\"http://www.w3.org/2001/XMLSchema-instance\" xsi:nil=\"true\"/>\n",
       "<mgmDln>상시</mgmDln>\n",
       "<prdCtg2>정책자금</prdCtg2>\n",
       "<fileWrtDt>202202080917</fileWrtDt>\n",
       "</item>\n",
       "<item>\n",
       "<basYm>202202</basYm>\n",
       "<snq>10</snq>\n",
       "<finPrdNm>미소금융 취약계층자립자금</finPrdNm>\n",
       "<lnLmt>1200만원</lnLmt>\n",
       "<irtCtg>고정금리</irtCtg>\n",
       "<irt>3%</irt>\n",
       "<maxTotLnTrm>6년</maxTotLnTrm>\n",
       "<maxDfrmTrm>1년</maxDfrmTrm>\n",
       "<maxRdptTrm>5년</maxRdptTrm>\n",
       "<rdptMthd>원(리)금균등분할상환</rdptMthd>\n",
       "<usge>생계</usge>\n",
       "<trgt>금융취약계층</trgt>\n",
       "<instCtg>공공·정부기관</instCtg>\n",
       "<ofrInstNm>서민금융진흥원</ofrInstNm>\n",
       "<rsdAreaPamtEqltIstm>전국</rsdAreaPamtEqltIstm>\n",
       "<suprTgtDtlCond>한부모/조손/다문화가족, 북한이탈주민/등록장애인, 특별재난지역/고용위기·재난지역/산업위기대응특별지역 거주자 중 개인신용평점 하위 20% 또는 차상위계층 이하 또는 근로장려금 신청 대상자(수급자)</suprTgtDtlCond>\n",
       "<age>미성년자 제외</age>\n",
       "<incm>상환능력 심사를 위한 소득증빙 필요</incm>\n",
       "<rsdArea xmlns:xsi=\"http://www.w3.org/2001/XMLSchema-instance\" xsi:nil=\"true\"/>\n",
       "<crdtSc>개인신용평점 하위 20%</crdtSc>\n",
       "<anin xmlns:xsi=\"http://www.w3.org/2001/XMLSchema-instance\" xsi:nil=\"true\"/>\n",
       "<housHoldCnt xmlns:xsi=\"http://www.w3.org/2001/XMLSchema-instance\" xsi:nil=\"true\"/>\n",
       "<housAr xmlns:xsi=\"http://www.w3.org/2001/XMLSchema-instance\" xsi:nil=\"true\"/>\n",
       "<lnTgtHous xmlns:xsi=\"http://www.w3.org/2001/XMLSchema-instance\" xsi:nil=\"true\"/>\n",
       "<rfrcCnpl xmlns:xsi=\"http://www.w3.org/2001/XMLSchema-instance\" xsi:nil=\"true\"/>\n",
       "<grnInst xmlns:xsi=\"http://www.w3.org/2001/XMLSchema-instance\" xsi:nil=\"true\"/>\n",
       "<jnMthd>미소금융 전국 지점 방문</jnMthd>\n",
       "<rpymdCfe>없음</rpymdCfe>\n",
       "<lnIcdcst>없음</lnIcdcst>\n",
       "<ovItrYr>6% (지연배상금률)</ovItrYr>\n",
       "<prftAddIrtCond>우대/가산금리 없음</prftAddIrtCond>\n",
       "<etcRefSbjc>거치금리 3.0%</etcRefSbjc>\n",
       "<hdlInst>미소금융 전국 지점</hdlInst>\n",
       "<cnpl>· 서민금융콜센터 (국번없이)1397&lt;br/&gt;· &lt;a href=https://www.kinfa.or.kr/customerService/centerSearch.do target=_blank&gt;&lt;font style=color:blue;&gt;www.kinfa.or.kr/customerService/centerSearch.do &lt;/a&gt;&lt;/font&gt;&lt;span style=font-size: 12px;&gt;(서금원 홈페이지 &gt; 서민금융통합지원센터 &gt; 전국센터찾기 &gt; 미소지점)&lt;/span&gt;</cnpl>\n",
       "<rltSite>&lt;a href=https://www.kinfa.or.kr target=_blank&gt;&lt;font style=color:blue;&gt;www.kinfa.or.kr &lt;/a&gt;&lt;/font&gt;&lt;span style=font-size: 12px;&gt;(서금원 홈페이지 &gt; 서민금융한눈에 &gt; 생계·주거자금 &gt; 생계자금)&lt;/span&gt;</rltSite>\n",
       "<tgtFltr>금융취약계층</tgtFltr>\n",
       "<hdlInstDtlVw>미소금융 전국 지점</hdlInstDtlVw>\n",
       "<prdExisYn>Y</prdExisYn>\n",
       "<cv19Rfrc xmlns:xsi=\"http://www.w3.org/2001/XMLSchema-instance\" xsi:nil=\"true\"/>\n",
       "<prdCtg>1</prdCtg>\n",
       "<prdNm>대출상품</prdNm>\n",
       "<cv19SuprCtg xmlns:xsi=\"http://www.w3.org/2001/XMLSchema-instance\" xsi:nil=\"true\"/>\n",
       "<cv19SuprCtn xmlns:xsi=\"http://www.w3.org/2001/XMLSchema-instance\" xsi:nil=\"true\"/>\n",
       "<cv19SuprTgtDtlCtn xmlns:xsi=\"http://www.w3.org/2001/XMLSchema-instance\" xsi:nil=\"true\"/>\n",
       "<mgmDln>상시</mgmDln>\n",
       "<prdCtg2>정책자금</prdCtg2>\n",
       "<fileWrtDt>202202080917</fileWrtDt>\n",
       "</item>\n",
       "</items>\n",
       "</body>\n",
       "</response>"
      ]
     },
     "execution_count": 18,
     "metadata": {},
     "output_type": "execute_result"
    }
   ],
   "source": [
    "soup"
   ]
  },
  {
   "cell_type": "code",
   "execution_count": 26,
   "id": "eb99c7f6",
   "metadata": {},
   "outputs": [],
   "source": [
    "finPrdNm=soup.find_all('finPrdNm')"
   ]
  },
  {
   "cell_type": "code",
   "execution_count": 27,
   "id": "f402f8c2",
   "metadata": {},
   "outputs": [
    {
     "name": "stdout",
     "output_type": "stream",
     "text": [
      "미소금융 창업자금_임차보증금대출\n",
      "미소금융 창업자금_생계형차량 구입자금\n",
      "미소금융 창업자금_창업초기 운영자금\n",
      "미소금융 창업자금_창업초기 시설자금\n",
      "미소금융 운영자금\n",
      "미소금융 시설개선자금\n",
      "미소금융 긴급생계자금\n",
      "미소금융 취업성공대출\n",
      "미소금융 교육비지원대출\n",
      "미소금융 취약계층자립자금\n"
     ]
    }
   ],
   "source": [
    "for i in finPrdNm :\n",
    "    print(i.string)"
   ]
  },
  {
   "cell_type": "code",
   "execution_count": 28,
   "id": "1d16fb49",
   "metadata": {},
   "outputs": [
    {
     "data": {
      "text/plain": [
       "['미소금융 창업자금_임차보증금대출',\n",
       " '미소금융 창업자금_생계형차량 구입자금',\n",
       " '미소금융 창업자금_창업초기 운영자금',\n",
       " '미소금융 창업자금_창업초기 시설자금',\n",
       " '미소금융 운영자금',\n",
       " '미소금융 시설개선자금',\n",
       " '미소금융 긴급생계자금',\n",
       " '미소금융 취업성공대출',\n",
       " '미소금융 교육비지원대출',\n",
       " '미소금융 취약계층자립자금']"
      ]
     },
     "execution_count": 28,
     "metadata": {},
     "output_type": "execute_result"
    }
   ],
   "source": [
    "finPrdNms = [i.string for i in finPrdNm]\n",
    "finPrdNms"
   ]
  },
  {
   "cell_type": "code",
   "execution_count": null,
   "id": "f09d571f",
   "metadata": {},
   "outputs": [],
   "source": []
  }
 ],
 "metadata": {
  "kernelspec": {
   "display_name": "Python 3 (ipykernel)",
   "language": "python",
   "name": "python3"
  },
  "language_info": {
   "codemirror_mode": {
    "name": "ipython",
    "version": 3
   },
   "file_extension": ".py",
   "mimetype": "text/x-python",
   "name": "python",
   "nbconvert_exporter": "python",
   "pygments_lexer": "ipython3",
   "version": "3.10.14"
  }
 },
 "nbformat": 4,
 "nbformat_minor": 5
}
