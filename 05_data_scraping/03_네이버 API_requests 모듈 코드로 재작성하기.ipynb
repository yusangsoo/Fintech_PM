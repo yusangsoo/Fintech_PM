{
 "cells": [
  {
   "cell_type": "markdown",
   "id": "e8ab01a2",
   "metadata": {},
   "source": [
    "## 1. requests 모듈 : http 프로토콜을 사용할 수 있게 해주는 라이브러리"
   ]
  },
  {
   "cell_type": "markdown",
   "id": "c3c1ab5e",
   "metadata": {},
   "source": [
    "### request 모듈 사용 설명서 : https://requests.readthedocs.io/en/latest/user/quickstart/"
   ]
  },
  {
   "cell_type": "markdown",
   "id": "ba0d2ab6",
   "metadata": {},
   "source": [
    "## 2. requests 모듈 설치\n",
    "### conda install requests 혹은\n",
    "### pip install requests"
   ]
  },
  {
   "cell_type": "markdown",
   "id": "9a3a15bb",
   "metadata": {},
   "source": [
    "## 3. requests 모듈 사용법"
   ]
  },
  {
   "cell_type": "markdown",
   "id": "1749ba79",
   "metadata": {},
   "source": [
    "### 1)  모듈 불러오기 : import requests"
   ]
  },
  {
   "cell_type": "code",
   "execution_count": 1,
   "id": "99492467",
   "metadata": {},
   "outputs": [],
   "source": [
    "import requests"
   ]
  },
  {
   "cell_type": "markdown",
   "id": "26af9e41",
   "metadata": {},
   "source": [
    "### 2) http 접근 요청 get, post\n",
    "####  r = requests.get(url, parameters)\n",
    "####  r = requests.post(url, data = {key:value})"
   ]
  },
  {
   "cell_type": "markdown",
   "id": "116c887b",
   "metadata": {},
   "source": [
    "### 3) url 파라미터 작성 방법\n",
    "#### params = {파라미터1 : value 1, 파라미터2 : value 2, 파라미터3 : value 3}\n",
    "#### payload = {'key1' : 'value1', 'key2' : 'value2'}\n",
    "#### r = requests.get(url, params = payload)\n",
    "params를 url 다음에 넣거나 payload를 따로 만들어 params = payload로 하기. payload로 할 땐 params는 정의하지 않아도 됨"
   ]
  },
  {
   "cell_type": "markdown",
   "id": "2cf0fa31",
   "metadata": {},
   "source": [
    "### 4) 만들어진 url 확인하는 법 : print(r.url)"
   ]
  },
  {
   "cell_type": "markdown",
   "id": "5a76314a",
   "metadata": {},
   "source": [
    "### 5) header 값 넣기\n",
    "#### r = requests.head(user-agent값)\n",
    "### 2번째 방법\n",
    "#### headers = {'key1' = 'value1', 'key2' = 'value2'}\n",
    "#### r = requests.get(url, params = payload, headers = headers)"
   ]
  },
  {
   "cell_type": "markdown",
   "id": "70151e4c",
   "metadata": {},
   "source": [
    "### 6) 응답요소 response content : r.text, r.json() 두 가지 모두 받을 수 있음\n",
    "#### response = r.text\n",
    "#### response = r.json()"
   ]
  },
  {
   "cell_type": "markdown",
   "id": "d3deb874",
   "metadata": {},
   "source": [
    "### 7) 응답코드 보는 방법 r.status_code"
   ]
  },
  {
   "cell_type": "markdown",
   "id": "0e96dada",
   "metadata": {},
   "source": [
    "# 네이버 검색 API코드를 urllib에서 requests로 변경하기"
   ]
  },
  {
   "cell_type": "code",
   "execution_count": 25,
   "id": "aef41a33",
   "metadata": {},
   "outputs": [],
   "source": [
    "import requests\n",
    "import pandas as pd\n",
    "from dotenv import load_dotenv\n",
    "import os"
   ]
  },
  {
   "cell_type": "code",
   "execution_count": null,
   "id": "8553c613",
   "metadata": {},
   "outputs": [],
   "source": [
    "client_id = \"YOUR_CLIENT_ID\"\n",
    "client_secret = \"YOUR_CLIENT_SECRET\"\n",
    "encText = urllib.parse.quote(\"검색할 단어\")\n",
    "url = \"https://openapi.naver.com/v1/search/blog?query=\" + encText # JSON 결과\n",
    "# url = \"https://openapi.naver.com/v1/search/blog.xml?query=\" + encText # XML 결과\n",
    "request = urllib.request.Request(url)\n",
    "request.add_header(\"X-Naver-Client-Id\",client_id)\n",
    "request.add_header(\"X-Naver-Client-Secret\",client_secret)\n",
    "response = urllib.request.urlopen(request)\n",
    "rescode = response.getcode()\n",
    "if(rescode==200):\n",
    "    response_body = response.read()\n",
    "    print(response_body.decode('utf-8'))\n",
    "else:\n",
    "    print(\"Error Code:\" + rescode)"
   ]
  },
  {
   "cell_type": "code",
   "execution_count": 26,
   "id": "1ff0e3c7",
   "metadata": {},
   "outputs": [
    {
     "data": {
      "text/plain": [
       "True"
      ]
     },
     "execution_count": 26,
     "metadata": {},
     "output_type": "execute_result"
    }
   ],
   "source": [
    "# .env 파일에서 환경 변수 로드\n",
    "load_dotenv()"
   ]
  },
  {
   "cell_type": "code",
   "execution_count": 29,
   "id": "8a1a67be",
   "metadata": {
    "scrolled": true
   },
   "outputs": [
    {
     "name": "stdout",
     "output_type": "stream",
     "text": [
      "{'lastBuildDate': 'Tue, 23 Jul 2024 13:57:17 +0900', 'total': 429278, 'start': 1, 'display': 10, 'items': [{'title': '서울시, <b>핀테크</b>, 가계대출, 신한은행, 대출 금리 인상... ', 'link': 'https://blog.naver.com/angeldia/223521411021', 'description': '이끌 <b>핀테크</b> 스타트업 6곳 선정 발표 2024-07-22 13:44:00 SUMMARY : 서울시와 신한은행, 신한카드... INSIGHT : 이 기사는 서울시와 신한금융그룹이 협업하여 <b>핀테크</b> 스타트업을 육성하고 금융 혁신을 촉진하는... ', 'bloggername': 'Fin. cube.', 'bloggerlink': 'blog.naver.com/angeldia', 'postdate': '20240722'}, {'title': '달러스왑 <b>핀테크</b>만으로 800% 수익 난다', 'link': 'https://blog.naver.com/balmin/223520733366', 'description': '달러스왑 <b>핀테크</b>만으로 800% 수익 난다! 저자 손대식 출판 지식과감성 발매 2024.04.15. #달러스왑<b>핀테크</b>만으로800%수익난다 #손대식 #지식과감성 #달러스왑 #<b>핀테크</b> #재테크 #투자 #부자 #투자법 #<b>핀테크</b>투자법... ', 'bloggername': '위편삼절의 독서공간', 'bloggerlink': 'blog.naver.com/balmin', 'postdate': '20240721'}, {'title': '목돈 만들기 앱테크 : 소셜 <b>핀테크</b> 아임인 시작해 볼까?', 'link': 'https://blog.naver.com/jkyun0621/223522303455', 'description': '목돈 만들기 앱테크 : 소셜 <b>핀테크</b> 아임인 시작해 볼까? 한국 전통문화인 계모임을 현대적인 <b>핀테크</b> 기술로 운영하는 티웨이브의 아임인 서비스는 2021년 본격적인 앱 서비스 이후 가파른 성장세를 이어가고... ', 'bloggername': '경제현미경의 디테일한 시야', 'bloggerlink': 'blog.naver.com/jkyun0621', 'postdate': '20240723'}, {'title': '손대식, &lt;달러스왑 <b>핀테크</b>만으로 800% 수익 난다!&gt;', 'link': 'https://blog.naver.com/writeread/223519959546', 'description': '달러스왑 <b>핀테크</b>만으로 800% 수익 난다! 저자 손대식 출판 지식과감성 발매 2024.04.15. 순환투자는... p.189 손대식, &lt;달러스왑 <b>핀테크</b>만으로 800% 수익 난다!&gt; 中 +) 이 책은 투자의 순환 법칙에 대해 이야기하고 있다.... ', 'bloggername': 'Over the Rainbow', 'bloggerlink': 'blog.naver.com/writeread', 'postdate': '20240721'}, {'title': '아임인 온라인 계모임 <b>핀테크</b> 플랫폼 feat. 스테이지 채권추심... ', 'link': 'https://blog.naver.com/disneyworld777/223503738468', 'description': '계모임 #<b>핀테크</b> #플랫폼 #프로모션 #코드 #프로모션코드 #아임인프로모션 #아임인프로모션코드 #스테이지 #채권추심 #보호장치 안녕하세요. 라호야 입니다. 아임인 은 온라인 계모임 <b>핀테크</b> 플랫폼 폼입니다.... ', 'bloggername': '경제적자유를찾아서', 'bloggerlink': 'blog.naver.com/disneyworld777', 'postdate': '20240706'}, {'title': 'WISE 영국 <b>핀테크</b> 송금 앱 - 싱가포르에서 한국 계좌로 송금 후기', 'link': 'https://blog.naver.com/gahyun9898/223522337531', 'description': '☺️ #해외송금어플 #해외송금앱 #와이즈해외송금앱 #와이즈송금후기 #센트비후기 #와이즈후기 #싱가포르에서한국으로송금 #싱가포르에서한국계좌로송금후기 #전세계송금어플 #영국<b>핀테크</b> #<b>핀테크</b>송금앱... ', 'bloggername': '꾸역이의 일상블로그', 'bloggerlink': 'blog.naver.com/gahyun9898', 'postdate': '20240723'}, {'title': '달러스왑 <b>핀테크</b>만으로 800% 수익 난다 북 리뷰!', 'link': 'https://blog.naver.com/catsman/223510449282', 'description': '달러스왑 <b>핀테크</b>만으로 800% 수익 난다! 저자 손대식 출판 지식과감성 발매 2024.04.15. 달러스왑 <b>핀테크</b>만으로 800% 수익 난다 5대 자산 시장 순환투자 공식 펜타곤 투자법. 요즘같이 재테크 열풍이 전국을 휩싸인... ', 'bloggername': '냥이를 말해봐', 'bloggerlink': 'blog.naver.com/catsman', 'postdate': '20240712'}, {'title': \"투자의 새로운 시각 '달러스왑 <b>핀테크</b>만으로 800% 수익 난다... \", 'link': 'https://blog.naver.com/hyejj1226/223520593837', 'description': \"[도서서평] 투자의 새로운 시각 '달러스왑 <b>핀테크</b>만으로 800% 수익 난다' 펜타곤 투자법이라는 걸 처음 알게 되었다. <b>핀테크</b>라는 건 투자와 재테크를 하면 종종 듣게되는 이야기인데 내가 하는 투자방식과는... \", 'bloggername': '꿈쟁이의 감성 스타일링', 'bloggerlink': 'blog.naver.com/hyejj1226', 'postdate': '20240721'}, {'title': '쿠팡 정산 올라 <b>핀테크</b> 활용 사업자 선정산하는 방법', 'link': 'https://blog.naver.com/moonkra7/223513479061', 'description': '올라 <b>핀테크</b>란? 올라 <b>핀테크</b>는 2020년 9월 런칭해서 하나금융그룹 MOU 기업으로 현재 2024년 6월 기준 가입자가 약 2만명, 누적 2조원의 선정산금을 지급하였습니다. 또한, 금융위 주최의 <b>핀테크</b> 대회에서 우승... ', 'bloggername': '달그래의 쏠쏠한 재테크', 'bloggerlink': 'blog.naver.com/moonkra7', 'postdate': '20240715'}, {'title': '[도서] 달러스왑 <b>핀테크</b>만으로 800%수익난다!', 'link': 'https://blog.naver.com/chekini/223517557241', 'description': '[도서명] 달러스왑 <b>핀테크</b>만으로 800% 수익난다! 부제 (일본의 눈물) 주식이나 아파트에 장기투자하면... 달러스왑 <b>핀테크</b>만으로 800% 수익 난다! 저자 손대식 출판 지식과감성 발매 2024.04.15. 달러스왑... ', 'bloggername': 'asdf의 홈로그', 'bloggerlink': 'blog.naver.com/chekini', 'postdate': '20240718'}]}\n"
     ]
    }
   ],
   "source": [
    "client_id = os.getenv('client_id') # 환경 변수에 접근\n",
    "client_pw = os.getenv('client_pw') # 환경 변수에 접근\n",
    "\n",
    "url = \"https://openapi.naver.com/v1/search/blog\"\n",
    "payload = {'query' : '핀테크', 'display' : 10, 'start' : 1, 'sort' : 'sim'}\n",
    "headers = {'X-Naver-Client-Id' : client_id, 'X-Naver-Client-Secret' : client_pw}\n",
    "r = requests.get(url, params = payload, headers = headers)\n",
    "if r.status_code == 200 :\n",
    "    data = r.json()\n",
    "    print(data)\n",
    "else :\n",
    "    print(\"Error Code:\", r.status_code)\n",
    "    \n",
    "# print(r.url)\n",
    "# print(r.status_code)\n"
   ]
  },
  {
   "cell_type": "code",
   "execution_count": 15,
   "id": "00fe31fb",
   "metadata": {
    "scrolled": true
   },
   "outputs": [
    {
     "data": {
      "text/html": [
       "<div>\n",
       "<style scoped>\n",
       "    .dataframe tbody tr th:only-of-type {\n",
       "        vertical-align: middle;\n",
       "    }\n",
       "\n",
       "    .dataframe tbody tr th {\n",
       "        vertical-align: top;\n",
       "    }\n",
       "\n",
       "    .dataframe thead th {\n",
       "        text-align: right;\n",
       "    }\n",
       "</style>\n",
       "<table border=\"1\" class=\"dataframe\">\n",
       "  <thead>\n",
       "    <tr style=\"text-align: right;\">\n",
       "      <th></th>\n",
       "      <th>title</th>\n",
       "      <th>link</th>\n",
       "      <th>description</th>\n",
       "      <th>bloggername</th>\n",
       "      <th>bloggerlink</th>\n",
       "      <th>postdate</th>\n",
       "    </tr>\n",
       "  </thead>\n",
       "  <tbody>\n",
       "    <tr>\n",
       "      <th>0</th>\n",
       "      <td>서울시, &lt;b&gt;핀테크&lt;/b&gt;, 가계대출, 신한은행, 대출 금리 인상...</td>\n",
       "      <td>https://blog.naver.com/angeldia/223521411021</td>\n",
       "      <td>이끌 &lt;b&gt;핀테크&lt;/b&gt; 스타트업 6곳 선정 발표 2024-07-22 13:44:0...</td>\n",
       "      <td>Fin. cube.</td>\n",
       "      <td>blog.naver.com/angeldia</td>\n",
       "      <td>20240722</td>\n",
       "    </tr>\n",
       "    <tr>\n",
       "      <th>1</th>\n",
       "      <td>달러스왑 &lt;b&gt;핀테크&lt;/b&gt;만으로 800% 수익 난다</td>\n",
       "      <td>https://blog.naver.com/balmin/223520733366</td>\n",
       "      <td>달러스왑 &lt;b&gt;핀테크&lt;/b&gt;만으로 800% 수익 난다! 저자 손대식 출판 지식과감성...</td>\n",
       "      <td>위편삼절의 독서공간</td>\n",
       "      <td>blog.naver.com/balmin</td>\n",
       "      <td>20240721</td>\n",
       "    </tr>\n",
       "    <tr>\n",
       "      <th>2</th>\n",
       "      <td>목돈 만들기 앱테크 : 소셜 &lt;b&gt;핀테크&lt;/b&gt; 아임인 시작해 볼까?</td>\n",
       "      <td>https://blog.naver.com/jkyun0621/223522303455</td>\n",
       "      <td>목돈 만들기 앱테크 : 소셜 &lt;b&gt;핀테크&lt;/b&gt; 아임인 시작해 볼까? 한국 전통문화...</td>\n",
       "      <td>경제현미경의 디테일한 시야</td>\n",
       "      <td>blog.naver.com/jkyun0621</td>\n",
       "      <td>20240723</td>\n",
       "    </tr>\n",
       "    <tr>\n",
       "      <th>3</th>\n",
       "      <td>손대식, &amp;lt;달러스왑 &lt;b&gt;핀테크&lt;/b&gt;만으로 800% 수익 난다!&amp;gt;</td>\n",
       "      <td>https://blog.naver.com/writeread/223519959546</td>\n",
       "      <td>달러스왑 &lt;b&gt;핀테크&lt;/b&gt;만으로 800% 수익 난다! 저자 손대식 출판 지식과감성...</td>\n",
       "      <td>Over the Rainbow</td>\n",
       "      <td>blog.naver.com/writeread</td>\n",
       "      <td>20240721</td>\n",
       "    </tr>\n",
       "    <tr>\n",
       "      <th>4</th>\n",
       "      <td>아임인 온라인 계모임 &lt;b&gt;핀테크&lt;/b&gt; 플랫폼 feat. 스테이지 채권추심...</td>\n",
       "      <td>https://blog.naver.com/disneyworld777/22350373...</td>\n",
       "      <td>계모임 #&lt;b&gt;핀테크&lt;/b&gt; #플랫폼 #프로모션 #코드 #프로모션코드 #아임인프로모...</td>\n",
       "      <td>경제적자유를찾아서</td>\n",
       "      <td>blog.naver.com/disneyworld777</td>\n",
       "      <td>20240706</td>\n",
       "    </tr>\n",
       "    <tr>\n",
       "      <th>5</th>\n",
       "      <td>WISE 영국 &lt;b&gt;핀테크&lt;/b&gt; 송금 앱 - 싱가포르에서 한국 계좌로 송금 후기</td>\n",
       "      <td>https://blog.naver.com/gahyun9898/223522337531</td>\n",
       "      <td>☺️ #해외송금어플 #해외송금앱 #와이즈해외송금앱 #와이즈송금후기 #센트비후기 #와...</td>\n",
       "      <td>꾸역이의 일상블로그</td>\n",
       "      <td>blog.naver.com/gahyun9898</td>\n",
       "      <td>20240723</td>\n",
       "    </tr>\n",
       "    <tr>\n",
       "      <th>6</th>\n",
       "      <td>달러스왑 &lt;b&gt;핀테크&lt;/b&gt;만으로 800% 수익 난다 북 리뷰!</td>\n",
       "      <td>https://blog.naver.com/catsman/223510449282</td>\n",
       "      <td>달러스왑 &lt;b&gt;핀테크&lt;/b&gt;만으로 800% 수익 난다! 저자 손대식 출판 지식과감성...</td>\n",
       "      <td>냥이를 말해봐</td>\n",
       "      <td>blog.naver.com/catsman</td>\n",
       "      <td>20240712</td>\n",
       "    </tr>\n",
       "    <tr>\n",
       "      <th>7</th>\n",
       "      <td>투자의 새로운 시각 '달러스왑 &lt;b&gt;핀테크&lt;/b&gt;만으로 800% 수익 난다...</td>\n",
       "      <td>https://blog.naver.com/hyejj1226/223520593837</td>\n",
       "      <td>[도서서평] 투자의 새로운 시각 '달러스왑 &lt;b&gt;핀테크&lt;/b&gt;만으로 800% 수익 ...</td>\n",
       "      <td>꿈쟁이의 감성 스타일링</td>\n",
       "      <td>blog.naver.com/hyejj1226</td>\n",
       "      <td>20240721</td>\n",
       "    </tr>\n",
       "    <tr>\n",
       "      <th>8</th>\n",
       "      <td>쿠팡 정산 올라 &lt;b&gt;핀테크&lt;/b&gt; 활용 사업자 선정산하는 방법</td>\n",
       "      <td>https://blog.naver.com/moonkra7/223513479061</td>\n",
       "      <td>올라 &lt;b&gt;핀테크&lt;/b&gt;란? 올라 &lt;b&gt;핀테크&lt;/b&gt;는 2020년 9월 런칭해서 하...</td>\n",
       "      <td>달그래의 쏠쏠한 재테크</td>\n",
       "      <td>blog.naver.com/moonkra7</td>\n",
       "      <td>20240715</td>\n",
       "    </tr>\n",
       "    <tr>\n",
       "      <th>9</th>\n",
       "      <td>[도서] 달러스왑 &lt;b&gt;핀테크&lt;/b&gt;만으로 800%수익난다!</td>\n",
       "      <td>https://blog.naver.com/chekini/223517557241</td>\n",
       "      <td>[도서명] 달러스왑 &lt;b&gt;핀테크&lt;/b&gt;만으로 800% 수익난다! 부제 (일본의 눈물...</td>\n",
       "      <td>asdf의 홈로그</td>\n",
       "      <td>blog.naver.com/chekini</td>\n",
       "      <td>20240718</td>\n",
       "    </tr>\n",
       "  </tbody>\n",
       "</table>\n",
       "</div>"
      ],
      "text/plain": [
       "                                            title  \\\n",
       "0       서울시, <b>핀테크</b>, 가계대출, 신한은행, 대출 금리 인상...    \n",
       "1                   달러스왑 <b>핀테크</b>만으로 800% 수익 난다   \n",
       "2          목돈 만들기 앱테크 : 소셜 <b>핀테크</b> 아임인 시작해 볼까?   \n",
       "3     손대식, &lt;달러스왑 <b>핀테크</b>만으로 800% 수익 난다!&gt;   \n",
       "4  아임인 온라인 계모임 <b>핀테크</b> 플랫폼 feat. 스테이지 채권추심...    \n",
       "5   WISE 영국 <b>핀테크</b> 송금 앱 - 싱가포르에서 한국 계좌로 송금 후기   \n",
       "6             달러스왑 <b>핀테크</b>만으로 800% 수익 난다 북 리뷰!   \n",
       "7   투자의 새로운 시각 '달러스왑 <b>핀테크</b>만으로 800% 수익 난다...    \n",
       "8             쿠팡 정산 올라 <b>핀테크</b> 활용 사업자 선정산하는 방법   \n",
       "9               [도서] 달러스왑 <b>핀테크</b>만으로 800%수익난다!   \n",
       "\n",
       "                                                link  \\\n",
       "0       https://blog.naver.com/angeldia/223521411021   \n",
       "1         https://blog.naver.com/balmin/223520733366   \n",
       "2      https://blog.naver.com/jkyun0621/223522303455   \n",
       "3      https://blog.naver.com/writeread/223519959546   \n",
       "4  https://blog.naver.com/disneyworld777/22350373...   \n",
       "5     https://blog.naver.com/gahyun9898/223522337531   \n",
       "6        https://blog.naver.com/catsman/223510449282   \n",
       "7      https://blog.naver.com/hyejj1226/223520593837   \n",
       "8       https://blog.naver.com/moonkra7/223513479061   \n",
       "9        https://blog.naver.com/chekini/223517557241   \n",
       "\n",
       "                                         description       bloggername  \\\n",
       "0  이끌 <b>핀테크</b> 스타트업 6곳 선정 발표 2024-07-22 13:44:0...        Fin. cube.   \n",
       "1  달러스왑 <b>핀테크</b>만으로 800% 수익 난다! 저자 손대식 출판 지식과감성...        위편삼절의 독서공간   \n",
       "2  목돈 만들기 앱테크 : 소셜 <b>핀테크</b> 아임인 시작해 볼까? 한국 전통문화...    경제현미경의 디테일한 시야   \n",
       "3  달러스왑 <b>핀테크</b>만으로 800% 수익 난다! 저자 손대식 출판 지식과감성...  Over the Rainbow   \n",
       "4  계모임 #<b>핀테크</b> #플랫폼 #프로모션 #코드 #프로모션코드 #아임인프로모...         경제적자유를찾아서   \n",
       "5  ☺️ #해외송금어플 #해외송금앱 #와이즈해외송금앱 #와이즈송금후기 #센트비후기 #와...        꾸역이의 일상블로그   \n",
       "6  달러스왑 <b>핀테크</b>만으로 800% 수익 난다! 저자 손대식 출판 지식과감성...           냥이를 말해봐   \n",
       "7  [도서서평] 투자의 새로운 시각 '달러스왑 <b>핀테크</b>만으로 800% 수익 ...      꿈쟁이의 감성 스타일링   \n",
       "8  올라 <b>핀테크</b>란? 올라 <b>핀테크</b>는 2020년 9월 런칭해서 하...      달그래의 쏠쏠한 재테크   \n",
       "9  [도서명] 달러스왑 <b>핀테크</b>만으로 800% 수익난다! 부제 (일본의 눈물...         asdf의 홈로그   \n",
       "\n",
       "                     bloggerlink  postdate  \n",
       "0        blog.naver.com/angeldia  20240722  \n",
       "1          blog.naver.com/balmin  20240721  \n",
       "2       blog.naver.com/jkyun0621  20240723  \n",
       "3       blog.naver.com/writeread  20240721  \n",
       "4  blog.naver.com/disneyworld777  20240706  \n",
       "5      blog.naver.com/gahyun9898  20240723  \n",
       "6         blog.naver.com/catsman  20240712  \n",
       "7       blog.naver.com/hyejj1226  20240721  \n",
       "8        blog.naver.com/moonkra7  20240715  \n",
       "9         blog.naver.com/chekini  20240718  "
      ]
     },
     "execution_count": 15,
     "metadata": {},
     "output_type": "execute_result"
    }
   ],
   "source": [
    "df = pd.json_normalize(data['items'])\n",
    "df"
   ]
  },
  {
   "cell_type": "code",
   "execution_count": 16,
   "id": "7f60f1b9",
   "metadata": {},
   "outputs": [
    {
     "data": {
      "text/plain": [
       "10"
      ]
     },
     "execution_count": 16,
     "metadata": {},
     "output_type": "execute_result"
    }
   ],
   "source": [
    "len(df)"
   ]
  },
  {
   "cell_type": "code",
   "execution_count": 30,
   "id": "9707ffc9",
   "metadata": {},
   "outputs": [],
   "source": [
    "## while 문으로 입력받고 하는 거\n",
    "## 함수화\n",
    "## 1페이지만\n",
    "\n",
    "\n",
    "def naver_search() :\n",
    "    a = True\n",
    "    typed = input(\"블로그, 책, 뉴스, 전문자료 중 하나를 입력하세요 : \")\n",
    "    search = input(\"검색어를 입력하세요 : \")\n",
    "    client_id = os.getenv('client_id') # 환경 변수에 접근\n",
    "    client_pw = os.getenv('client_pw') # 환경 변수에 접근\n",
    "    while a :\n",
    "        if typed == \"블로그\" :\n",
    "            choice_type = 'blog'\n",
    "            url = f\"https://openapi.naver.com/v1/search/{choice_type}\"\n",
    "            payload = {f'query' : {search}, 'display' : 10, 'start' : 1, 'sort' : 'sim'}\n",
    "            headers = {'X-Naver-Client-Id' : 'client_id', 'X-Naver-Client-Secret' : 'client_pw'}\n",
    "            r = requests.get(url, params = payload, headers = headers)\n",
    "            if r.status_code == 200 :\n",
    "                data = r.json()\n",
    "                print(data)\n",
    "                a = False\n",
    "            else :\n",
    "                print(\"Error Code:\", r.status_code)\n",
    "                a = False\n",
    "\n",
    "        elif typed == \"책\" :\n",
    "            choice_type = 'book'\n",
    "            url = f\"https://openapi.naver.com/v1/search/{choice_type}\"\n",
    "            payload = {f'query' : {search}, 'display' : 10, 'start' : 1, 'sort' : 'sim'}\n",
    "            headers = {'X-Naver-Client-Id' : 'client_id', 'X-Naver-Client-Secret' : 'client_pw'}\n",
    "            r = requests.get(url, params = payload, headers = headers)\n",
    "            if r.status_code == 200 :\n",
    "                data = r.json()\n",
    "                print(data)\n",
    "                a = False\n",
    "            else :\n",
    "                print(\"Error Code:\", r.status_code)\n",
    "                a = False\n",
    "\n",
    "        elif typed == \"뉴스\" :\n",
    "            choice_type = 'news'\n",
    "            url = f\"https://openapi.naver.com/v1/search/{choice_type}\"\n",
    "            payload = {f'query' : {search}, 'display' : 10, 'start' : 1, 'sort' : 'sim'}\n",
    "            headers = {'X-Naver-Client-Id' : 'client_id', 'X-Naver-Client-Secret' : 'client_pw'}\n",
    "            r = requests.get(url, params = payload, headers = headers)\n",
    "            if r.status_code == 200 :\n",
    "                data = r.json()\n",
    "                print(data)\n",
    "                a = False\n",
    "            else :\n",
    "                print(\"Error Code:\", r.status_code)\n",
    "                a = False\n",
    "\n",
    "        elif typed == \"전문자료\" :\n",
    "            choice_type = 'doc'\n",
    "            url = f\"https://openapi.naver.com/v1/search/{choice_type}\"\n",
    "            payload = {f'query' : {search}, 'display' : 10, 'start' : 1, 'sort' : 'sim'}\n",
    "            headers = {'X-Naver-Client-Id' : 'client_id', 'X-Naver-Client-Secret' : 'client_pw'}\n",
    "            r = requests.get(url, params = payload, headers = headers)\n",
    "            if r.status_code == 200 :\n",
    "                data = r.json()\n",
    "                print(data)\n",
    "                a = False\n",
    "            else :\n",
    "                print(\"Error Code:\", r.status_code)\n",
    "                a = False\n",
    "\n",
    "        else :\n",
    "            print(\"블로그, 책, 뉴스, 전문자료 중 하나를 입력하세요\")\n",
    "            a = False"
   ]
  },
  {
   "cell_type": "code",
   "execution_count": 24,
   "id": "d7eb2288",
   "metadata": {},
   "outputs": [
    {
     "name": "stdout",
     "output_type": "stream",
     "text": [
      "블로그, 책, 뉴스, 전문자료 중 하나를 입력하세요 : 책\n",
      "검색어를 입력하세요 : 자취생\n",
      "{'lastBuildDate': 'Tue, 23 Jul 2024 11:56:46 +0900', 'total': 2, 'start': 1, 'display': 2, 'items': [{'title': '자취생 사로잡는 101가지 요리비법', 'link': 'https://search.shopping.naver.com/book/catalog/32441513698', 'image': 'https://shopping-phinf.pstatic.net/main_3244151/32441513698.20230427071839.jpg', 'author': '김경미', 'discount': '13500', 'publisher': '파프리카(교문사)', 'pubdate': '20090723', 'isbn': '9788936310035', 'description': '준비해야 될 것이 너무 많은 요리책에 반감을 갖고 있는 사람을 위한 요리책\\n\\n혼자 사는 사람들은 밖에서 밥을 사 먹거나 끼니를 대강 해결하는 경우가 많다. 사람이 매번 집에서 한 끼 잘 차려 먹기가 쉽지 않기 때문이다. 싱글족들의 이유 없는 굶주림을 해결하기 위해 전직 비서, 간호사이자 바리스타, 국어강사 등으로 활동했던 7명의 싱글들이 뭉쳤다.'}, {'title': '1인 가구 맞춤 요리책 (자취생, 싱글 직장인, 기러기아빠, 주말부부까지 혼자서 잘 차려먹기)', 'link': 'https://search.shopping.naver.com/book/catalog/32485083203', 'image': 'https://shopping-phinf.pstatic.net/main_3248508/32485083203.20220527024837.jpg', 'author': '월간 수퍼레시피', 'discount': '0', 'publisher': '레시피팩토리', 'pubdate': '20131218', 'isbn': '9791185473000', 'description': '1인 가구들의 목소리를 적극 반영한 맞춤 레피시!\\n\\n작은 주방에서 적은 재료로 만드는 1인 가구 맞춤 메뉴 150개 『1인 가구 맞춤 요리책』. 자취생, 싱글 직장인, 기러기 아빠까지 늘어나는 1인 가구를 위한 맞춤 메뉴를 소개한 책이다. 요리잡지 ‘수퍼레시피’에서 진행한 독자 모임의 의견을 바탕으로 최소한의 조리도구, 양념, 재료들을 사용한 메뉴들을 엄선했다.\\n\\n칼질을 많이 해야 하는 조리법은 피하고, 후다닥 볶아내는 조리법, 냉동했다가 해동해도 질감 차이가 크지 않은 재료를 활용한 레시피를 다양하게 담았다. 또한 친구들이 놀러 왔을 때 후다닥 만들 수 있는 조금 폼나는 안주 겸용 메뉴들까지 1인 가구만을 위한 요리들을 충실하게 선보인다. 더불어 남는 재료와 음식처리, 남은 음식 새롭게 활용하는 방법 등 혼자 사는 사람들의 실질적인 고민들을 반영하여 고충을 해결한다.'}]}\n"
     ]
    }
   ],
   "source": [
    "naver_search()"
   ]
  },
  {
   "cell_type": "code",
   "execution_count": null,
   "id": "96fa7bc2",
   "metadata": {},
   "outputs": [],
   "source": []
  },
  {
   "cell_type": "code",
   "execution_count": null,
   "id": "1fea313d",
   "metadata": {},
   "outputs": [],
   "source": []
  }
 ],
 "metadata": {
  "kernelspec": {
   "display_name": "Python 3 (ipykernel)",
   "language": "python",
   "name": "python3"
  },
  "language_info": {
   "codemirror_mode": {
    "name": "ipython",
    "version": 3
   },
   "file_extension": ".py",
   "mimetype": "text/x-python",
   "name": "python",
   "nbconvert_exporter": "python",
   "pygments_lexer": "ipython3",
   "version": "3.10.14"
  }
 },
 "nbformat": 4,
 "nbformat_minor": 5
}
