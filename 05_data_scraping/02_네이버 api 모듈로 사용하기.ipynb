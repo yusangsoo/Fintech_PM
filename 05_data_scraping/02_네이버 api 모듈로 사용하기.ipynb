{
 "cells": [
  {
   "cell_type": "code",
   "execution_count": 2,
   "id": "43f262d4",
   "metadata": {
    "scrolled": true
   },
   "outputs": [],
   "source": [
    "import naver_search as ns"
   ]
  },
  {
   "cell_type": "code",
   "execution_count": 3,
   "id": "89db5210",
   "metadata": {},
   "outputs": [
    {
     "name": "stdout",
     "output_type": "stream",
     "text": [
      "블로그, 책, 뉴스, 전문자료 중 하나를 입력하세요 : s\n",
      "검색할 검색어를 입력하세요 : s\n",
      "블로그, 책, 뉴스, 전문자료 중에 하나를 입력하세요\n"
     ]
    }
   ],
   "source": [
    "ns.choice_type2()"
   ]
  },
  {
   "cell_type": "code",
   "execution_count": 5,
   "id": "dcaa285b",
   "metadata": {},
   "outputs": [],
   "source": [
    "# docstring 확인 = shift + tab\n",
    "# ns.choice_type2()"
   ]
  },
  {
   "cell_type": "code",
   "execution_count": null,
   "id": "5ea33cb0",
   "metadata": {},
   "outputs": [],
   "source": []
  },
  {
   "cell_type": "code",
   "execution_count": 1,
   "id": "d4a088d8",
   "metadata": {},
   "outputs": [],
   "source": [
    "import naver_search2 as ns2"
   ]
  },
  {
   "cell_type": "code",
   "execution_count": 2,
   "id": "bc75aac4",
   "metadata": {},
   "outputs": [
    {
     "name": "stdout",
     "output_type": "stream",
     "text": [
      "블로그, 책, 뉴스, 전문자료 중 하나를 입력하세요 : 책\n",
      "검색어를 입력하세요 : 자취생\n",
      "{'lastBuildDate': 'Tue, 23 Jul 2024 12:32:38 +0900', 'total': 2, 'start': 1, 'display': 2, 'items': [{'title': '자취생 사로잡는 101가지 요리비법', 'link': 'https://search.shopping.naver.com/book/catalog/32441513698', 'image': 'https://shopping-phinf.pstatic.net/main_3244151/32441513698.20230427071839.jpg', 'author': '김경미', 'discount': '13500', 'publisher': '파프리카(교문사)', 'pubdate': '20090723', 'isbn': '9788936310035', 'description': '준비해야 될 것이 너무 많은 요리책에 반감을 갖고 있는 사람을 위한 요리책\\n\\n혼자 사는 사람들은 밖에서 밥을 사 먹거나 끼니를 대강 해결하는 경우가 많다. 사람이 매번 집에서 한 끼 잘 차려 먹기가 쉽지 않기 때문이다. 싱글족들의 이유 없는 굶주림을 해결하기 위해 전직 비서, 간호사이자 바리스타, 국어강사 등으로 활동했던 7명의 싱글들이 뭉쳤다.'}, {'title': '1인 가구 맞춤 요리책 (자취생, 싱글 직장인, 기러기아빠, 주말부부까지 혼자서 잘 차려먹기)', 'link': 'https://search.shopping.naver.com/book/catalog/32485083203', 'image': 'https://shopping-phinf.pstatic.net/main_3248508/32485083203.20220527024837.jpg', 'author': '월간 수퍼레시피', 'discount': '0', 'publisher': '레시피팩토리', 'pubdate': '20131218', 'isbn': '9791185473000', 'description': '1인 가구들의 목소리를 적극 반영한 맞춤 레피시!\\n\\n작은 주방에서 적은 재료로 만드는 1인 가구 맞춤 메뉴 150개 『1인 가구 맞춤 요리책』. 자취생, 싱글 직장인, 기러기 아빠까지 늘어나는 1인 가구를 위한 맞춤 메뉴를 소개한 책이다. 요리잡지 ‘수퍼레시피’에서 진행한 독자 모임의 의견을 바탕으로 최소한의 조리도구, 양념, 재료들을 사용한 메뉴들을 엄선했다.\\n\\n칼질을 많이 해야 하는 조리법은 피하고, 후다닥 볶아내는 조리법, 냉동했다가 해동해도 질감 차이가 크지 않은 재료를 활용한 레시피를 다양하게 담았다. 또한 친구들이 놀러 왔을 때 후다닥 만들 수 있는 조금 폼나는 안주 겸용 메뉴들까지 1인 가구만을 위한 요리들을 충실하게 선보인다. 더불어 남는 재료와 음식처리, 남은 음식 새롭게 활용하는 방법 등 혼자 사는 사람들의 실질적인 고민들을 반영하여 고충을 해결한다.'}]}\n"
     ]
    }
   ],
   "source": [
    "ns2.naver_search()"
   ]
  },
  {
   "cell_type": "code",
   "execution_count": null,
   "id": "ae046165",
   "metadata": {},
   "outputs": [],
   "source": []
  }
 ],
 "metadata": {
  "kernelspec": {
   "display_name": "Python 3 (ipykernel)",
   "language": "python",
   "name": "python3"
  },
  "language_info": {
   "codemirror_mode": {
    "name": "ipython",
    "version": 3
   },
   "file_extension": ".py",
   "mimetype": "text/x-python",
   "name": "python",
   "nbconvert_exporter": "python",
   "pygments_lexer": "ipython3",
   "version": "3.10.14"
  }
 },
 "nbformat": 4,
 "nbformat_minor": 5
}
