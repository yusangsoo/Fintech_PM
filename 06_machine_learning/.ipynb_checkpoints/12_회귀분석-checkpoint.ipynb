{
 "cells": [
  {
   "cell_type": "markdown",
   "id": "daf13b74",
   "metadata": {},
   "source": [
    "# 단순선형 회귀분석"
   ]
  },
  {
   "cell_type": "markdown",
   "id": "7d598b0a",
   "metadata": {},
   "source": [
    "## 1) 자동차 배기량과 연비 회귀분석"
   ]
  },
  {
   "cell_type": "code",
   "execution_count": 1,
   "id": "dea7b530",
   "metadata": {},
   "outputs": [],
   "source": [
    "import pandas as pd\n",
    "import numpy as np\n",
    "import matplotlib.pyplot as plt\n",
    "import seaborn as sns\n",
    "import statsmodels.api as sm"
   ]
  },
  {
   "cell_type": "code",
   "execution_count": 2,
   "id": "f22b2d62",
   "metadata": {},
   "outputs": [
    {
     "name": "stdout",
     "output_type": "stream",
     "text": [
      "                            OLS Regression Results                            \n",
      "==============================================================================\n",
      "Dep. Variable:                      y   R-squared:                       0.967\n",
      "Model:                            OLS   Adj. R-squared:                  0.962\n",
      "Method:                 Least Squares   F-statistic:                     203.7\n",
      "Date:                Thu, 29 Aug 2024   Prob (F-statistic):           1.97e-06\n",
      "Time:                        09:03:15   Log-Likelihood:                -3.9965\n",
      "No. Observations:                   9   AIC:                             11.99\n",
      "Df Residuals:                       7   BIC:                             12.39\n",
      "Df Model:                           1                                         \n",
      "Covariance Type:            nonrobust                                         \n",
      "==============================================================================\n",
      "                 coef    std err          t      P>|t|      [0.025      0.975]\n",
      "------------------------------------------------------------------------------\n",
      "const         16.8291      0.414     40.626      0.000      15.850      17.809\n",
      "x1            -2.4371      0.171    -14.273      0.000      -2.841      -2.033\n",
      "==============================================================================\n",
      "Omnibus:                        0.845   Durbin-Watson:                   2.048\n",
      "Prob(Omnibus):                  0.656   Jarque-Bera (JB):                0.585\n",
      "Skew:                           0.128   Prob(JB):                        0.746\n",
      "Kurtosis:                       1.778   Cond. No.                         8.12\n",
      "==============================================================================\n",
      "\n",
      "Notes:\n",
      "[1] Standard Errors assume that the covariance matrix of the errors is correctly specified.\n"
     ]
    },
    {
     "name": "stderr",
     "output_type": "stream",
     "text": [
      "C:\\Users\\5-08\\miniforge3\\envs\\fintech\\lib\\site-packages\\scipy\\stats\\_axis_nan_policy.py:531: UserWarning: kurtosistest only valid for n>=20 ... continuing anyway, n=9\n",
      "  res = hypotest_fun_out(*samples, **kwds)\n"
     ]
    }
   ],
   "source": [
    "# X는 자동차 배기량, y는 연비\n",
    "X = np.array([1, 1.4, 1.6, 2, 2.2, 2.4, 3, 3.3, 3.6])\n",
    "y = np.array([15, 13, 13, 12, 11, 10.5, 10, 9, 8])\n",
    "\n",
    "# 상수 추가 y절편 추가\n",
    "X_with_const = sm.add_constant(X)\n",
    "\n",
    "#모델 훈련\n",
    "model = sm.OLS(y, X_with_const).fit()\n",
    "y_pred = model.predict(X_with_const)\n",
    "\n",
    "print(model.summary())"
   ]
  },
  {
   "cell_type": "code",
   "execution_count": 3,
   "id": "db6dc1ee",
   "metadata": {},
   "outputs": [
    {
     "data": {
      "image/png": "[encoded data removed]",
      "text/plain": [
       "<Figure size 640x480 with 1 Axes>"
      ]
     },
     "metadata": {},
     "output_type": "display_data"
    }
   ],
   "source": [
    "plt.scatter(X, y)\n",
    "plt.plot(X, y_pred)\n",
    "plt.show()"
   ]
  },
  {
   "cell_type": "markdown",
   "id": "2941a5e8",
   "metadata": {},
   "source": [
    "- R-squared: 0.967 로 약 96% 설명한다.\n",
    "- p-value: 1.97e-06 으로 매우 작기 때문에 (0.001이하) 통계적으로 유의미하다.\n",
    "- x의 회귀계수는 -2.4371이고\n",
    "- 상수항(y절편)은 16.8291이다.\n",
    "- 따라서 추정되는 회귀식은 연비"
   ]
  },
  {
   "cell_type": "markdown",
   "id": "80d30ee4",
   "metadata": {},
   "source": [
    "## 단순선형회귀분석에 대한 ANOVA 분산 분석"
   ]
  },
  {
   "cell_type": "code",
   "execution_count": 4,
   "id": "308d3217",
   "metadata": {},
   "outputs": [
    {
     "name": "stdout",
     "output_type": "stream",
     "text": [
      "             sum_sq   df           F    PR(>F)\n",
      "X         37.274792  1.0  203.725066  0.000002\n",
      "Residual   1.280763  7.0         NaN       NaN\n"
     ]
    }
   ],
   "source": [
    "from statsmodels.formula.api import ols\n",
    "\n",
    "# X는 자동차 배기량, y는 연비\n",
    "X = np.array([1, 1.4, 1.6, 2, 2.2, 2.4, 3, 3.3, 3.6])\n",
    "y = np.array([15, 13, 13, 12, 11, 10.5, 10, 9, 8])\n",
    "\n",
    "data= pd.DataFrame(dict(X=X, y=y))\n",
    "model = ols('y ~ X', data=data).fit()\n",
    "\n",
    "anova_table = sm.stats.anova_lm(model, typ=2)\n",
    "print(anova_table)"
   ]
  },
  {
   "cell_type": "code",
   "execution_count": 5,
   "id": "383deddc",
   "metadata": {},
   "outputs": [
    {
     "data": {
      "text/plain": [
       "0.9667813626337372"
      ]
     },
     "execution_count": 5,
     "metadata": {},
     "output_type": "execute_result"
    }
   ],
   "source": [
    "37.274792 / (37.274792+1.280763)"
   ]
  },
  {
   "cell_type": "markdown",
   "id": "41cf41e2",
   "metadata": {},
   "source": [
    "## QQ-polt그리기"
   ]
  },
  {
   "cell_type": "code",
   "execution_count": 6,
   "id": "47844232",
   "metadata": {
    "scrolled": true
   },
   "outputs": [
    {
     "name": "stdout",
     "output_type": "stream",
     "text": [
      "Collecting plotnine\n",
      "  Downloading plotnine-0.13.6-py3-none-any.whl.metadata (8.9 kB)\n",
      "Requirement already satisfied: matplotlib>=3.7.0 in c:\\users\\5-08\\miniforge3\\envs\\fintech\\lib\\site-packages (from plotnine) (3.9.1)\n",
      "Requirement already satisfied: pandas<3.0.0,>=2.1.0 in c:\\users\\5-08\\miniforge3\\envs\\fintech\\lib\\site-packages (from plotnine) (2.2.2)\n",
      "Collecting mizani~=0.11.0 (from plotnine)\n",
      "  Downloading mizani-0.11.4-py3-none-any.whl.metadata (4.8 kB)\n",
      "Requirement already satisfied: numpy>=1.23.0 in c:\\users\\5-08\\miniforge3\\envs\\fintech\\lib\\site-packages (from plotnine) (1.26.4)\n",
      "Requirement already satisfied: scipy>=1.7.0 in c:\\users\\5-08\\miniforge3\\envs\\fintech\\lib\\site-packages (from plotnine) (1.13.1)\n",
      "Requirement already satisfied: statsmodels>=0.14.0 in c:\\users\\5-08\\miniforge3\\envs\\fintech\\lib\\site-packages (from plotnine) (0.14.2)\n",
      "Requirement already satisfied: contourpy>=1.0.1 in c:\\users\\5-08\\miniforge3\\envs\\fintech\\lib\\site-packages (from matplotlib>=3.7.0->plotnine) (1.2.1)\n",
      "Requirement already satisfied: cycler>=0.10 in c:\\users\\5-08\\miniforge3\\envs\\fintech\\lib\\site-packages (from matplotlib>=3.7.0->plotnine) (0.12.1)\n",
      "Requirement already satisfied: fonttools>=4.22.0 in c:\\users\\5-08\\miniforge3\\envs\\fintech\\lib\\site-packages (from matplotlib>=3.7.0->plotnine) (4.53.1)\n",
      "Requirement already satisfied: kiwisolver>=1.3.1 in c:\\users\\5-08\\miniforge3\\envs\\fintech\\lib\\site-packages (from matplotlib>=3.7.0->plotnine) (1.4.5)\n",
      "Requirement already satisfied: packaging>=20.0 in c:\\users\\5-08\\miniforge3\\envs\\fintech\\lib\\site-packages (from matplotlib>=3.7.0->plotnine) (24.1)\n",
      "Requirement already satisfied: pillow>=8 in c:\\users\\5-08\\miniforge3\\envs\\fintech\\lib\\site-packages (from matplotlib>=3.7.0->plotnine) (10.4.0)\n",
      "Requirement already satisfied: pyparsing>=2.3.1 in c:\\users\\5-08\\miniforge3\\envs\\fintech\\lib\\site-packages (from matplotlib>=3.7.0->plotnine) (3.1.2)\n",
      "Requirement already satisfied: python-dateutil>=2.7 in c:\\users\\5-08\\miniforge3\\envs\\fintech\\lib\\site-packages (from matplotlib>=3.7.0->plotnine) (2.9.0)\n",
      "Requirement already satisfied: tzdata in c:\\users\\5-08\\miniforge3\\envs\\fintech\\lib\\site-packages (from mizani~=0.11.0->plotnine) (2024.1)\n",
      "Requirement already satisfied: pytz>=2020.1 in c:\\users\\5-08\\miniforge3\\envs\\fintech\\lib\\site-packages (from pandas<3.0.0,>=2.1.0->plotnine) (2024.1)\n",
      "Requirement already satisfied: patsy>=0.5.6 in c:\\users\\5-08\\miniforge3\\envs\\fintech\\lib\\site-packages (from statsmodels>=0.14.0->plotnine) (0.5.6)\n",
      "Requirement already satisfied: six in c:\\users\\5-08\\miniforge3\\envs\\fintech\\lib\\site-packages (from patsy>=0.5.6->statsmodels>=0.14.0->plotnine) (1.16.0)\n",
      "Downloading plotnine-0.13.6-py3-none-any.whl (1.3 MB)\n",
      "   ---------------------------------------- 0.0/1.3 MB ? eta -:--:--\n",
      "   - -------------------------------------- 0.0/1.3 MB 991.0 kB/s eta 0:00:02\n",
      "   ---------------------------------------- 1.3/1.3 MB 13.7 MB/s eta 0:00:00\n",
      "Downloading mizani-0.11.4-py3-none-any.whl (127 kB)\n",
      "   ---------------------------------------- 0.0/127.4 kB ? eta -:--:--\n",
      "   ---------------------------------------- 127.4/127.4 kB 7.8 MB/s eta 0:00:00\n",
      "Installing collected packages: mizani, plotnine\n",
      "Successfully installed mizani-0.11.4 plotnine-0.13.6\n"
     ]
    }
   ],
   "source": [
    "# R의 ggplot 이라는 시각화 라이브러리를 Python 에서 쓸 수 있게 해줌\n",
    "# !pip install plotnine"
   ]
  },
  {
   "cell_type": "code",
   "execution_count": 7,
   "id": "9377ebc2",
   "metadata": {},
   "outputs": [],
   "source": [
    "import scipy.stats as stats\n",
    "from plotnine import ggplot, aes, stat_qq, stat_qq_line, labs"
   ]
  },
  {
   "cell_type": "code",
   "execution_count": 8,
   "id": "75895ff1",
   "metadata": {},
   "outputs": [
    {
     "data": {
      "text/plain": [
       "array([1. , 1.4, 1.6, 2. , 2.2, 2.4, 3. , 3.3, 3.6])"
      ]
     },
     "execution_count": 8,
     "metadata": {},
     "output_type": "execute_result"
    }
   ],
   "source": [
    "X"
   ]
  },
  {
   "cell_type": "code",
   "execution_count": 9,
   "id": "43688144",
   "metadata": {},
   "outputs": [
    {
     "data": {
      "text/plain": [
       "array([15. , 13. , 13. , 12. , 11. , 10.5, 10. ,  9. ,  8. ])"
      ]
     },
     "execution_count": 9,
     "metadata": {},
     "output_type": "execute_result"
    }
   ],
   "source": [
    "y"
   ]
  },
  {
   "cell_type": "code",
   "execution_count": 10,
   "id": "19ceac14",
   "metadata": {},
   "outputs": [
    {
     "data": {
      "image/png": "[encoded data removed]",
      "text/plain": [
       "<Figure size 400x300 with 1 Axes>"
      ]
     },
     "metadata": {},
     "output_type": "display_data"
    }
   ],
   "source": [
    "# QQplot 생성\n",
    "plt.figure(figsize=(4,3))\n",
    "sm.qqplot(X, line='45', ax=plt.gca(), label='x')\n",
    "plt.show()"
   ]
  },
  {
   "cell_type": "markdown",
   "id": "d295ab7d",
   "metadata": {},
   "source": [
    "## 다중회귀분석"
   ]
  },
  {
   "cell_type": "code",
   "execution_count": 14,
   "id": "7d04d50b",
   "metadata": {
    "scrolled": true
   },
   "outputs": [
    {
     "name": "stdout",
     "output_type": "stream",
     "text": [
      "                            OLS Regression Results                            \n",
      "==============================================================================\n",
      "Dep. Variable:                      y   R-squared:                       0.918\n",
      "Model:                            OLS   Adj. R-squared:                  0.853\n",
      "Method:                 Least Squares   F-statistic:                     14.07\n",
      "Date:                Thu, 29 Aug 2024   Prob (F-statistic):            0.00627\n",
      "Time:                        10:32:40   Log-Likelihood:                -75.420\n",
      "No. Observations:                  10   AIC:                             160.8\n",
      "Df Residuals:                       5   BIC:                             162.4\n",
      "Df Model:                           4                                         \n",
      "Covariance Type:            nonrobust                                         \n",
      "==============================================================================\n",
      "                 coef    std err          t      P>|t|      [0.025      0.975]\n",
      "------------------------------------------------------------------------------\n",
      "const       3045.6891   4084.218      0.746      0.489   -7453.127    1.35e+04\n",
      "x1           117.9225     65.779      1.793      0.133     -51.169     287.014\n",
      "x2           230.5629     61.193      3.768      0.013      73.262     387.864\n",
      "x3           436.8012    155.508      2.809      0.038      37.056     836.546\n",
      "x4           -16.4464      2.489     -6.609      0.001     -22.844     -10.049\n",
      "==============================================================================\n",
      "Omnibus:                        0.082   Durbin-Watson:                   1.486\n",
      "Prob(Omnibus):                  0.960   Jarque-Bera (JB):                0.272\n",
      "Skew:                          -0.148   Prob(JB):                        0.873\n",
      "Kurtosis:                       2.247   Cond. No.                     7.44e+03\n",
      "==============================================================================\n",
      "\n",
      "Notes:\n",
      "[1] Standard Errors assume that the covariance matrix of the errors is correctly specified.\n",
      "[2] The condition number is large, 7.44e+03. This might indicate that there are\n",
      "strong multicollinearity or other numerical problems.\n"
     ]
    },
    {
     "name": "stderr",
     "output_type": "stream",
     "text": [
      "C:\\Users\\5-08\\miniforge3\\envs\\fintech\\lib\\site-packages\\scipy\\stats\\_axis_nan_policy.py:531: UserWarning: kurtosistest only valid for n>=20 ... continuing anyway, n=10\n"
     ]
    }
   ],
   "source": [
    "# 데이터\n",
    "yard = np.array([31, 31, 27, 39, 30, 32, 28, 23, 28, 35])\n",
    "area = np.array([58, 51, 47, 35, 48, 42, 43, 56, 41, 41])\n",
    "park = np.array([1, 1, 5, 5, 2, 4, 5, 1, 1, 3])\n",
    "dist = np.array([492, 426, 400, 125, 443, 412, 201, 362, 192, 423])\n",
    "price = np.array([12631, 12084, 12220, 15649, 11486, 12276, 15527, 12666, 13180, 10169])\n",
    "\n",
    "# 독립 변수와 종속 변수 설정\n",
    "X = np.column_stack((yard, area, park, dist))\n",
    "# X = np.column_stack((area, dist))\n",
    "# X = dist\n",
    "y = price\n",
    "\n",
    "# 상수 추가\n",
    "X = sm.add_constant(X)\n",
    "\n",
    "# 모델 적합\n",
    "model = sm.OLS(y, X).fit()\n",
    "\n",
    "# 요약 출력\n",
    "print(model.summary())"
   ]
  },
  {
   "cell_type": "code",
   "execution_count": 12,
   "id": "72bf3848",
   "metadata": {},
   "outputs": [],
   "source": [
    "import numpy as np\n",
    "import pandas as pd\n",
    "import statsmodels.api as sm\n",
    "from sklearn.feature_selection import SequentialFeatureSelector\n",
    "from sklearn.linear_model import LinearRegression"
   ]
  },
  {
   "cell_type": "code",
   "execution_count": 13,
   "id": "6bc1ebf9",
   "metadata": {
    "scrolled": true
   },
   "outputs": [
    {
     "name": "stdout",
     "output_type": "stream",
     "text": [
      "                            OLS Regression Results                            \n",
      "==============================================================================\n",
      "Dep. Variable:                  price   R-squared:                       0.194\n",
      "Model:                            OLS   Adj. R-squared:                 -0.036\n",
      "Method:                 Least Squares   F-statistic:                    0.8433\n",
      "Date:                Thu, 29 Aug 2024   Prob (F-statistic):              0.470\n",
      "Time:                        09:05:31   Log-Likelihood:                -86.871\n",
      "No. Observations:                  10   AIC:                             179.7\n",
      "Df Residuals:                       7   BIC:                             180.6\n",
      "Df Model:                           2                                         \n",
      "Covariance Type:            nonrobust                                         \n",
      "==============================================================================\n",
      "                 coef    std err          t      P>|t|      [0.025      0.975]\n",
      "------------------------------------------------------------------------------\n",
      "const        1.22e+04   3990.829      3.056      0.018    2758.393    2.16e+04\n",
      "yard         -19.4302    137.385     -0.141      0.892    -344.295     305.435\n",
      "park         422.9550    335.385      1.261      0.248    -370.105    1216.015\n",
      "==============================================================================\n",
      "Omnibus:                        0.446   Durbin-Watson:                   2.392\n",
      "Prob(Omnibus):                  0.800   Jarque-Bera (JB):                0.503\n",
      "Skew:                          -0.245   Prob(JB):                        0.778\n",
      "Kurtosis:                       2.017   Cond. No.                         227.\n",
      "==============================================================================\n",
      "\n",
      "Notes:\n",
      "[1] Standard Errors assume that the covariance matrix of the errors is correctly specified.\n"
     ]
    },
    {
     "name": "stderr",
     "output_type": "stream",
     "text": [
      "C:\\Users\\5-08\\miniforge3\\envs\\fintech\\lib\\site-packages\\scipy\\stats\\_axis_nan_policy.py:531: UserWarning: kurtosistest only valid for n>=20 ... continuing anyway, n=10\n"
     ]
    }
   ],
   "source": [
    "# 데이터 생성\n",
    "yard = np.array([31, 31, 27, 39, 30, 32, 28, 23, 28, 35])\n",
    "area = np.array([58, 51, 47, 35, 48, 42, 43, 56, 41, 41])\n",
    "park = np.array([1, 1, 5, 5, 2, 4, 5, 1, 1, 3])\n",
    "dist = np.array([492, 426, 400, 125, 443, 412, 201, 362, 192, 423])\n",
    "popul = np.array([4412, 2061, 4407, 1933, 4029, 4180, 3444, 1683, 3020, 4459])\n",
    "price = np.array([12631, 12084, 12220, 15649, 11486, 12276, 15527, 12666, 13180, 10169])\n",
    "\n",
    "# 데이터프레임 생성\n",
    "data = pd.DataFrame({'yard': yard, 'area': area, 'park': park, 'dist': dist, 'popul': popul, 'price': price})\n",
    "\n",
    "# 독립 변수와 종속 변수 설정\n",
    "X = data[['yard', 'area', 'park', 'dist', 'popul']]\n",
    "y = data['price']\n",
    "\n",
    "# 전진 선택법을 사용한 회귀 분석\n",
    "model = LinearRegression()\n",
    "sfs = SequentialFeatureSelector(model, direction='forward', n_features_to_select='auto')\n",
    "sfs.fit(X, y)\n",
    "\n",
    "# 선택된 변수\n",
    "selected_features = X.columns[sfs.get_support()]\n",
    "\n",
    "# 최종 모델 적합\n",
    "X_selected = sm.add_constant(data[selected_features])\n",
    "final_model = sm.OLS(y, X_selected).fit()\n",
    "\n",
    "# 요약 출력\n",
    "print(final_model.summary())"
   ]
  },
  {
   "cell_type": "code",
   "execution_count": null,
   "id": "8013ba44",
   "metadata": {},
   "outputs": [],
   "source": []
  },
  {
   "cell_type": "code",
   "execution_count": null,
   "id": "8e571cc6",
   "metadata": {},
   "outputs": [],
   "source": []
  },
  {
   "cell_type": "code",
   "execution_count": null,
   "id": "1124d899",
   "metadata": {},
   "outputs": [],
   "source": []
  },
  {
   "cell_type": "code",
   "execution_count": null,
   "id": "4039d115",
   "metadata": {},
   "outputs": [],
   "source": []
  },
  {
   "cell_type": "code",
   "execution_count": null,
   "id": "a7dac91c",
   "metadata": {},
   "outputs": [],
   "source": []
  },
  {
   "cell_type": "code",
   "execution_count": null,
   "id": "3b39bbd3",
   "metadata": {},
   "outputs": [],
   "source": []
  },
  {
   "cell_type": "code",
   "execution_count": null,
   "id": "a306b9b6",
   "metadata": {},
   "outputs": [],
   "source": []
  },
  {
   "cell_type": "code",
   "execution_count": null,
   "id": "3d36c023",
   "metadata": {},
   "outputs": [],
   "source": []
  },
  {
   "cell_type": "code",
   "execution_count": null,
   "id": "67d847a3",
   "metadata": {},
   "outputs": [],
   "source": []
  },
  {
   "cell_type": "code",
   "execution_count": null,
   "id": "d13c37cf",
   "metadata": {},
   "outputs": [],
   "source": []
  },
  {
   "cell_type": "code",
   "execution_count": null,
   "id": "3eb07d0a",
   "metadata": {},
   "outputs": [],
   "source": []
  },
  {
   "cell_type": "code",
   "execution_count": null,
   "id": "39c47259",
   "metadata": {},
   "outputs": [],
   "source": []
  },
  {
   "cell_type": "code",
   "execution_count": null,
   "id": "112238ee",
   "metadata": {},
   "outputs": [],
   "source": []
  },
  {
   "cell_type": "code",
   "execution_count": null,
   "id": "771f07c7",
   "metadata": {},
   "outputs": [],
   "source": []
  },
  {
   "cell_type": "code",
   "execution_count": null,
   "id": "35419dcc",
   "metadata": {},
   "outputs": [],
   "source": []
  },
  {
   "cell_type": "code",
   "execution_count": null,
   "id": "3a100153",
   "metadata": {},
   "outputs": [],
   "source": []
  },
  {
   "cell_type": "code",
   "execution_count": null,
   "id": "3c52ce5e",
   "metadata": {},
   "outputs": [],
   "source": []
  }
 ],
 "metadata": {
  "kernelspec": {
   "display_name": "Python 3 (ipykernel)",
   "language": "python",
   "name": "python3"
  },
  "language_info": {
   "codemirror_mode": {
    "name": "ipython",
    "version": 3
   },
   "file_extension": ".py",
   "mimetype": "text/x-python",
   "name": "python",
   "nbconvert_exporter": "python",
   "pygments_lexer": "ipython3",
   "version": "3.10.14"
  }
 },
 "nbformat": 4,
 "nbformat_minor": 5
}
