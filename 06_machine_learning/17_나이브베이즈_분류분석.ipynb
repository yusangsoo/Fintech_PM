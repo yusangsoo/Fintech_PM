{
 "cells": [
  {
   "cell_type": "code",
   "execution_count": 1,
   "id": "70ffdb7f-3dd2-473b-8d76-198e4ba7351a",
   "metadata": {},
   "outputs": [],
   "source": [
    "import pandas as pd\n",
    "import numpy as np\n",
    "import matplotlib.pyplot as plt\n",
    "import seaborn as sns"
   ]
  },
  {
   "cell_type": "code",
   "execution_count": 2,
   "id": "f4e725e8-a0f1-4b9c-b6c3-bcd4b139300f",
   "metadata": {},
   "outputs": [
    {
     "data": {
      "text/html": [
       "<div>\n",
       "<style scoped>\n",
       "    .dataframe tbody tr th:only-of-type {\n",
       "        vertical-align: middle;\n",
       "    }\n",
       "\n",
       "    .dataframe tbody tr th {\n",
       "        vertical-align: top;\n",
       "    }\n",
       "\n",
       "    .dataframe thead th {\n",
       "        text-align: right;\n",
       "    }\n",
       "</style>\n",
       "<table border=\"1\" class=\"dataframe\">\n",
       "  <thead>\n",
       "    <tr style=\"text-align: right;\">\n",
       "      <th></th>\n",
       "      <th>Daily Time Spent on Site</th>\n",
       "      <th>Age</th>\n",
       "      <th>Area Income</th>\n",
       "      <th>Daily Internet Usage</th>\n",
       "      <th>Ad Topic Line</th>\n",
       "      <th>City</th>\n",
       "      <th>Male</th>\n",
       "      <th>Country</th>\n",
       "      <th>Timestamp</th>\n",
       "      <th>Clicked on Ad</th>\n",
       "    </tr>\n",
       "  </thead>\n",
       "  <tbody>\n",
       "    <tr>\n",
       "      <th>0</th>\n",
       "      <td>68.95</td>\n",
       "      <td>NaN</td>\n",
       "      <td>61833.90</td>\n",
       "      <td>256.09</td>\n",
       "      <td>Cloned 5thgeneration orchestration</td>\n",
       "      <td>Wrightburgh</td>\n",
       "      <td>0</td>\n",
       "      <td>Tunisia</td>\n",
       "      <td>3/27/2016 0:53</td>\n",
       "      <td>0</td>\n",
       "    </tr>\n",
       "    <tr>\n",
       "      <th>1</th>\n",
       "      <td>80.23</td>\n",
       "      <td>31.0</td>\n",
       "      <td>68441.85</td>\n",
       "      <td>193.77</td>\n",
       "      <td>Monitored national standardization</td>\n",
       "      <td>West Jodi</td>\n",
       "      <td>1</td>\n",
       "      <td>Nauru</td>\n",
       "      <td>4/4/2016 1:39</td>\n",
       "      <td>0</td>\n",
       "    </tr>\n",
       "    <tr>\n",
       "      <th>2</th>\n",
       "      <td>69.47</td>\n",
       "      <td>26.0</td>\n",
       "      <td>59785.94</td>\n",
       "      <td>236.50</td>\n",
       "      <td>Organic bottom-line service-desk</td>\n",
       "      <td>Davidton</td>\n",
       "      <td>0</td>\n",
       "      <td>San Marino</td>\n",
       "      <td>3/13/2016 20:35</td>\n",
       "      <td>0</td>\n",
       "    </tr>\n",
       "    <tr>\n",
       "      <th>3</th>\n",
       "      <td>74.15</td>\n",
       "      <td>29.0</td>\n",
       "      <td>54806.18</td>\n",
       "      <td>245.89</td>\n",
       "      <td>Triple-buffered reciprocal time-frame</td>\n",
       "      <td>West Terrifurt</td>\n",
       "      <td>1</td>\n",
       "      <td>Italy</td>\n",
       "      <td>1/10/2016 2:31</td>\n",
       "      <td>0</td>\n",
       "    </tr>\n",
       "    <tr>\n",
       "      <th>4</th>\n",
       "      <td>68.37</td>\n",
       "      <td>35.0</td>\n",
       "      <td>73889.99</td>\n",
       "      <td>225.58</td>\n",
       "      <td>Robust logistical utilization</td>\n",
       "      <td>South Manuel</td>\n",
       "      <td>0</td>\n",
       "      <td>Iceland</td>\n",
       "      <td>6/3/2016 3:36</td>\n",
       "      <td>0</td>\n",
       "    </tr>\n",
       "    <tr>\n",
       "      <th>...</th>\n",
       "      <td>...</td>\n",
       "      <td>...</td>\n",
       "      <td>...</td>\n",
       "      <td>...</td>\n",
       "      <td>...</td>\n",
       "      <td>...</td>\n",
       "      <td>...</td>\n",
       "      <td>...</td>\n",
       "      <td>...</td>\n",
       "      <td>...</td>\n",
       "    </tr>\n",
       "    <tr>\n",
       "      <th>995</th>\n",
       "      <td>72.97</td>\n",
       "      <td>30.0</td>\n",
       "      <td>71384.57</td>\n",
       "      <td>208.58</td>\n",
       "      <td>Fundamental modular algorithm</td>\n",
       "      <td>Duffystad</td>\n",
       "      <td>1</td>\n",
       "      <td>Lebanon</td>\n",
       "      <td>2/11/2016 21:49</td>\n",
       "      <td>1</td>\n",
       "    </tr>\n",
       "    <tr>\n",
       "      <th>996</th>\n",
       "      <td>51.30</td>\n",
       "      <td>45.0</td>\n",
       "      <td>67782.17</td>\n",
       "      <td>134.42</td>\n",
       "      <td>Grass-roots cohesive monitoring</td>\n",
       "      <td>New Darlene</td>\n",
       "      <td>1</td>\n",
       "      <td>Bosnia and Herzegovina</td>\n",
       "      <td>4/22/2016 2:07</td>\n",
       "      <td>1</td>\n",
       "    </tr>\n",
       "    <tr>\n",
       "      <th>997</th>\n",
       "      <td>51.63</td>\n",
       "      <td>51.0</td>\n",
       "      <td>42415.72</td>\n",
       "      <td>120.37</td>\n",
       "      <td>Expanded intangible solution</td>\n",
       "      <td>South Jessica</td>\n",
       "      <td>1</td>\n",
       "      <td>Mongolia</td>\n",
       "      <td>2/1/2016 17:24</td>\n",
       "      <td>1</td>\n",
       "    </tr>\n",
       "    <tr>\n",
       "      <th>998</th>\n",
       "      <td>55.55</td>\n",
       "      <td>19.0</td>\n",
       "      <td>41920.79</td>\n",
       "      <td>187.95</td>\n",
       "      <td>Proactive bandwidth-monitored policy</td>\n",
       "      <td>West Steven</td>\n",
       "      <td>0</td>\n",
       "      <td>Guatemala</td>\n",
       "      <td>3/24/2016 2:35</td>\n",
       "      <td>0</td>\n",
       "    </tr>\n",
       "    <tr>\n",
       "      <th>999</th>\n",
       "      <td>45.01</td>\n",
       "      <td>26.0</td>\n",
       "      <td>29875.80</td>\n",
       "      <td>178.35</td>\n",
       "      <td>Virtual 5thgeneration emulation</td>\n",
       "      <td>Ronniemouth</td>\n",
       "      <td>0</td>\n",
       "      <td>Brazil</td>\n",
       "      <td>6/3/2016 21:43</td>\n",
       "      <td>1</td>\n",
       "    </tr>\n",
       "  </tbody>\n",
       "</table>\n",
       "<p>1000 rows × 10 columns</p>\n",
       "</div>"
      ],
      "text/plain": [
       "     Daily Time Spent on Site   Age  Area Income  Daily Internet Usage  \\\n",
       "0                       68.95   NaN     61833.90                256.09   \n",
       "1                       80.23  31.0     68441.85                193.77   \n",
       "2                       69.47  26.0     59785.94                236.50   \n",
       "3                       74.15  29.0     54806.18                245.89   \n",
       "4                       68.37  35.0     73889.99                225.58   \n",
       "..                        ...   ...          ...                   ...   \n",
       "995                     72.97  30.0     71384.57                208.58   \n",
       "996                     51.30  45.0     67782.17                134.42   \n",
       "997                     51.63  51.0     42415.72                120.37   \n",
       "998                     55.55  19.0     41920.79                187.95   \n",
       "999                     45.01  26.0     29875.80                178.35   \n",
       "\n",
       "                             Ad Topic Line            City  Male  \\\n",
       "0       Cloned 5thgeneration orchestration     Wrightburgh     0   \n",
       "1       Monitored national standardization       West Jodi     1   \n",
       "2         Organic bottom-line service-desk        Davidton     0   \n",
       "3    Triple-buffered reciprocal time-frame  West Terrifurt     1   \n",
       "4            Robust logistical utilization    South Manuel     0   \n",
       "..                                     ...             ...   ...   \n",
       "995          Fundamental modular algorithm       Duffystad     1   \n",
       "996        Grass-roots cohesive monitoring     New Darlene     1   \n",
       "997           Expanded intangible solution   South Jessica     1   \n",
       "998   Proactive bandwidth-monitored policy     West Steven     0   \n",
       "999        Virtual 5thgeneration emulation     Ronniemouth     0   \n",
       "\n",
       "                    Country        Timestamp  Clicked on Ad  \n",
       "0                   Tunisia   3/27/2016 0:53              0  \n",
       "1                     Nauru    4/4/2016 1:39              0  \n",
       "2                San Marino  3/13/2016 20:35              0  \n",
       "3                     Italy   1/10/2016 2:31              0  \n",
       "4                   Iceland    6/3/2016 3:36              0  \n",
       "..                      ...              ...            ...  \n",
       "995                 Lebanon  2/11/2016 21:49              1  \n",
       "996  Bosnia and Herzegovina   4/22/2016 2:07              1  \n",
       "997                Mongolia   2/1/2016 17:24              1  \n",
       "998               Guatemala   3/24/2016 2:35              0  \n",
       "999                  Brazil   6/3/2016 21:43              1  \n",
       "\n",
       "[1000 rows x 10 columns]"
      ]
     },
     "execution_count": 2,
     "metadata": {},
     "output_type": "execute_result"
    }
   ],
   "source": [
    "data = pd.read_csv('https://raw.githubusercontent.com/haram4th/ablearn/main/advertising.csv')\n",
    "data"
   ]
  },
  {
   "cell_type": "code",
   "execution_count": 3,
   "id": "d9fa07f6-48d5-4eb3-a0e2-1f726ad3c30e",
   "metadata": {},
   "outputs": [
    {
     "name": "stdout",
     "output_type": "stream",
     "text": [
      "<class 'pandas.core.frame.DataFrame'>\n",
      "RangeIndex: 1000 entries, 0 to 999\n",
      "Data columns (total 10 columns):\n",
      " #   Column                    Non-Null Count  Dtype  \n",
      "---  ------                    --------------  -----  \n",
      " 0   Daily Time Spent on Site  1000 non-null   float64\n",
      " 1   Age                       916 non-null    float64\n",
      " 2   Area Income               1000 non-null   float64\n",
      " 3   Daily Internet Usage      1000 non-null   float64\n",
      " 4   Ad Topic Line             1000 non-null   object \n",
      " 5   City                      1000 non-null   object \n",
      " 6   Male                      1000 non-null   int64  \n",
      " 7   Country                   1000 non-null   object \n",
      " 8   Timestamp                 1000 non-null   object \n",
      " 9   Clicked on Ad             1000 non-null   int64  \n",
      "dtypes: float64(4), int64(2), object(4)\n",
      "memory usage: 78.2+ KB\n"
     ]
    }
   ],
   "source": [
    "data.info()"
   ]
  },
  {
   "cell_type": "code",
   "execution_count": 4,
   "id": "bc96a74c-b6ea-424c-8252-eeeed0a36c38",
   "metadata": {},
   "outputs": [
    {
     "data": {
      "text/html": [
       "<div>\n",
       "<style scoped>\n",
       "    .dataframe tbody tr th:only-of-type {\n",
       "        vertical-align: middle;\n",
       "    }\n",
       "\n",
       "    .dataframe tbody tr th {\n",
       "        vertical-align: top;\n",
       "    }\n",
       "\n",
       "    .dataframe thead th {\n",
       "        text-align: right;\n",
       "    }\n",
       "</style>\n",
       "<table border=\"1\" class=\"dataframe\">\n",
       "  <thead>\n",
       "    <tr style=\"text-align: right;\">\n",
       "      <th></th>\n",
       "      <th>Daily Time Spent on Site</th>\n",
       "      <th>Age</th>\n",
       "      <th>Area Income</th>\n",
       "      <th>Daily Internet Usage</th>\n",
       "      <th>Male</th>\n",
       "      <th>Clicked on Ad</th>\n",
       "    </tr>\n",
       "  </thead>\n",
       "  <tbody>\n",
       "    <tr>\n",
       "      <th>count</th>\n",
       "      <td>1000.000000</td>\n",
       "      <td>916.000000</td>\n",
       "      <td>1000.000000</td>\n",
       "      <td>1000.000000</td>\n",
       "      <td>1000.000000</td>\n",
       "      <td>1000.00000</td>\n",
       "    </tr>\n",
       "    <tr>\n",
       "      <th>mean</th>\n",
       "      <td>65.000200</td>\n",
       "      <td>36.128821</td>\n",
       "      <td>55000.000080</td>\n",
       "      <td>180.000100</td>\n",
       "      <td>0.481000</td>\n",
       "      <td>0.50000</td>\n",
       "    </tr>\n",
       "    <tr>\n",
       "      <th>std</th>\n",
       "      <td>15.853615</td>\n",
       "      <td>9.018548</td>\n",
       "      <td>13414.634022</td>\n",
       "      <td>43.902339</td>\n",
       "      <td>0.499889</td>\n",
       "      <td>0.50025</td>\n",
       "    </tr>\n",
       "    <tr>\n",
       "      <th>min</th>\n",
       "      <td>32.600000</td>\n",
       "      <td>19.000000</td>\n",
       "      <td>13996.500000</td>\n",
       "      <td>104.780000</td>\n",
       "      <td>0.000000</td>\n",
       "      <td>0.00000</td>\n",
       "    </tr>\n",
       "    <tr>\n",
       "      <th>25%</th>\n",
       "      <td>51.360000</td>\n",
       "      <td>29.000000</td>\n",
       "      <td>47031.802500</td>\n",
       "      <td>138.830000</td>\n",
       "      <td>0.000000</td>\n",
       "      <td>0.00000</td>\n",
       "    </tr>\n",
       "    <tr>\n",
       "      <th>50%</th>\n",
       "      <td>68.215000</td>\n",
       "      <td>35.000000</td>\n",
       "      <td>57012.300000</td>\n",
       "      <td>183.130000</td>\n",
       "      <td>0.000000</td>\n",
       "      <td>0.50000</td>\n",
       "    </tr>\n",
       "    <tr>\n",
       "      <th>75%</th>\n",
       "      <td>78.547500</td>\n",
       "      <td>42.000000</td>\n",
       "      <td>65470.635000</td>\n",
       "      <td>218.792500</td>\n",
       "      <td>1.000000</td>\n",
       "      <td>1.00000</td>\n",
       "    </tr>\n",
       "    <tr>\n",
       "      <th>max</th>\n",
       "      <td>91.430000</td>\n",
       "      <td>61.000000</td>\n",
       "      <td>79484.800000</td>\n",
       "      <td>269.960000</td>\n",
       "      <td>1.000000</td>\n",
       "      <td>1.00000</td>\n",
       "    </tr>\n",
       "  </tbody>\n",
       "</table>\n",
       "</div>"
      ],
      "text/plain": [
       "       Daily Time Spent on Site         Age   Area Income  \\\n",
       "count               1000.000000  916.000000   1000.000000   \n",
       "mean                  65.000200   36.128821  55000.000080   \n",
       "std                   15.853615    9.018548  13414.634022   \n",
       "min                   32.600000   19.000000  13996.500000   \n",
       "25%                   51.360000   29.000000  47031.802500   \n",
       "50%                   68.215000   35.000000  57012.300000   \n",
       "75%                   78.547500   42.000000  65470.635000   \n",
       "max                   91.430000   61.000000  79484.800000   \n",
       "\n",
       "       Daily Internet Usage         Male  Clicked on Ad  \n",
       "count           1000.000000  1000.000000     1000.00000  \n",
       "mean             180.000100     0.481000        0.50000  \n",
       "std               43.902339     0.499889        0.50025  \n",
       "min              104.780000     0.000000        0.00000  \n",
       "25%              138.830000     0.000000        0.00000  \n",
       "50%              183.130000     0.000000        0.50000  \n",
       "75%              218.792500     1.000000        1.00000  \n",
       "max              269.960000     1.000000        1.00000  "
      ]
     },
     "execution_count": 4,
     "metadata": {},
     "output_type": "execute_result"
    }
   ],
   "source": [
    "data.describe()"
   ]
  },
  {
   "cell_type": "code",
   "execution_count": 5,
   "id": "97f69b23-1683-4d87-99f8-2e4143ee2937",
   "metadata": {},
   "outputs": [
    {
     "data": {
      "text/plain": [
       "Clicked on Ad\n",
       "0    46\n",
       "1    38\n",
       "Name: count, dtype: int64"
      ]
     },
     "execution_count": 5,
     "metadata": {},
     "output_type": "execute_result"
    }
   ],
   "source": [
    "data[data['Age'].isna()]['Clicked on Ad'].value_counts()"
   ]
  },
  {
   "cell_type": "code",
   "execution_count": 6,
   "id": "da313ac1-13b5-4897-8b2c-deb8146eee13",
   "metadata": {},
   "outputs": [
    {
     "data": {
      "text/plain": [
       "['Daily Time Spent on Site',\n",
       " 'Age',\n",
       " 'Area Income',\n",
       " 'Daily Internet Usage',\n",
       " 'Ad Topic Line',\n",
       " 'City',\n",
       " 'Male',\n",
       " 'Country',\n",
       " 'Timestamp',\n",
       " 'Clicked on Ad']"
      ]
     },
     "execution_count": 6,
     "metadata": {},
     "output_type": "execute_result"
    }
   ],
   "source": [
    "# 컬럼명 리스트 만들기\n",
    "cols = list(data.columns)\n",
    "cols"
   ]
  },
  {
   "cell_type": "code",
   "execution_count": 7,
   "id": "2ebc255b-1249-4332-9f96-b6e618226efa",
   "metadata": {},
   "outputs": [
    {
     "data": {
      "text/plain": [
       "['Daily_Time_Spent_on_Site',\n",
       " 'Age',\n",
       " 'Area_Income',\n",
       " 'Daily_Internet_Usage',\n",
       " 'Ad_Topic_Line',\n",
       " 'City',\n",
       " 'Male',\n",
       " 'Country',\n",
       " 'Timestamp',\n",
       " 'Clicked_on_Ad']"
      ]
     },
     "execution_count": 7,
     "metadata": {},
     "output_type": "execute_result"
    }
   ],
   "source": [
    "# 컬럼명에 띄어쓰기 없애고 언더바 넣기\n",
    "col = []\n",
    "for i in cols :\n",
    "    col.append(i.replace(' ', '_'))\n",
    "col"
   ]
  },
  {
   "cell_type": "code",
   "execution_count": 8,
   "id": "505b42aa-e813-433b-bd5e-8cc74300edf5",
   "metadata": {},
   "outputs": [],
   "source": [
    "# 컬럼명 띄어쓰기 없앤 걸로 지정\n",
    "data.columns = col"
   ]
  },
  {
   "cell_type": "code",
   "execution_count": 9,
   "id": "39c85109-c7b0-4832-b13b-97a43b5f7202",
   "metadata": {},
   "outputs": [
    {
     "data": {
      "text/plain": [
       "Index(['Daily_Time_Spent_on_Site', 'Age', 'Area_Income',\n",
       "       'Daily_Internet_Usage', 'Ad_Topic_Line', 'City', 'Male', 'Country',\n",
       "       'Timestamp', 'Clicked_on_Ad'],\n",
       "      dtype='object')"
      ]
     },
     "execution_count": 9,
     "metadata": {},
     "output_type": "execute_result"
    }
   ],
   "source": [
    "data.columns"
   ]
  },
  {
   "cell_type": "code",
   "execution_count": 10,
   "id": "678ec8f6-4b05-4bb1-b837-ac1e4b4b4755",
   "metadata": {},
   "outputs": [
    {
     "data": {
      "text/html": [
       "<div>\n",
       "<style scoped>\n",
       "    .dataframe tbody tr th:only-of-type {\n",
       "        vertical-align: middle;\n",
       "    }\n",
       "\n",
       "    .dataframe tbody tr th {\n",
       "        vertical-align: top;\n",
       "    }\n",
       "\n",
       "    .dataframe thead th {\n",
       "        text-align: right;\n",
       "    }\n",
       "</style>\n",
       "<table border=\"1\" class=\"dataframe\">\n",
       "  <thead>\n",
       "    <tr style=\"text-align: right;\">\n",
       "      <th></th>\n",
       "      <th>Daily_Time_Spent_on_Site</th>\n",
       "      <th>Age</th>\n",
       "      <th>Area_Income</th>\n",
       "      <th>Daily_Internet_Usage</th>\n",
       "      <th>Ad_Topic_Line</th>\n",
       "      <th>City</th>\n",
       "      <th>Male</th>\n",
       "      <th>Country</th>\n",
       "      <th>Timestamp</th>\n",
       "      <th>Clicked_on_Ad</th>\n",
       "    </tr>\n",
       "  </thead>\n",
       "  <tbody>\n",
       "    <tr>\n",
       "      <th>0</th>\n",
       "      <td>68.95</td>\n",
       "      <td>NaN</td>\n",
       "      <td>61833.90</td>\n",
       "      <td>256.09</td>\n",
       "      <td>Cloned 5thgeneration orchestration</td>\n",
       "      <td>Wrightburgh</td>\n",
       "      <td>0</td>\n",
       "      <td>Tunisia</td>\n",
       "      <td>3/27/2016 0:53</td>\n",
       "      <td>0</td>\n",
       "    </tr>\n",
       "    <tr>\n",
       "      <th>1</th>\n",
       "      <td>80.23</td>\n",
       "      <td>31.0</td>\n",
       "      <td>68441.85</td>\n",
       "      <td>193.77</td>\n",
       "      <td>Monitored national standardization</td>\n",
       "      <td>West Jodi</td>\n",
       "      <td>1</td>\n",
       "      <td>Nauru</td>\n",
       "      <td>4/4/2016 1:39</td>\n",
       "      <td>0</td>\n",
       "    </tr>\n",
       "    <tr>\n",
       "      <th>2</th>\n",
       "      <td>69.47</td>\n",
       "      <td>26.0</td>\n",
       "      <td>59785.94</td>\n",
       "      <td>236.50</td>\n",
       "      <td>Organic bottom-line service-desk</td>\n",
       "      <td>Davidton</td>\n",
       "      <td>0</td>\n",
       "      <td>San Marino</td>\n",
       "      <td>3/13/2016 20:35</td>\n",
       "      <td>0</td>\n",
       "    </tr>\n",
       "    <tr>\n",
       "      <th>3</th>\n",
       "      <td>74.15</td>\n",
       "      <td>29.0</td>\n",
       "      <td>54806.18</td>\n",
       "      <td>245.89</td>\n",
       "      <td>Triple-buffered reciprocal time-frame</td>\n",
       "      <td>West Terrifurt</td>\n",
       "      <td>1</td>\n",
       "      <td>Italy</td>\n",
       "      <td>1/10/2016 2:31</td>\n",
       "      <td>0</td>\n",
       "    </tr>\n",
       "    <tr>\n",
       "      <th>4</th>\n",
       "      <td>68.37</td>\n",
       "      <td>35.0</td>\n",
       "      <td>73889.99</td>\n",
       "      <td>225.58</td>\n",
       "      <td>Robust logistical utilization</td>\n",
       "      <td>South Manuel</td>\n",
       "      <td>0</td>\n",
       "      <td>Iceland</td>\n",
       "      <td>6/3/2016 3:36</td>\n",
       "      <td>0</td>\n",
       "    </tr>\n",
       "  </tbody>\n",
       "</table>\n",
       "</div>"
      ],
      "text/plain": [
       "   Daily_Time_Spent_on_Site   Age  Area_Income  Daily_Internet_Usage  \\\n",
       "0                     68.95   NaN     61833.90                256.09   \n",
       "1                     80.23  31.0     68441.85                193.77   \n",
       "2                     69.47  26.0     59785.94                236.50   \n",
       "3                     74.15  29.0     54806.18                245.89   \n",
       "4                     68.37  35.0     73889.99                225.58   \n",
       "\n",
       "                           Ad_Topic_Line            City  Male     Country  \\\n",
       "0     Cloned 5thgeneration orchestration     Wrightburgh     0     Tunisia   \n",
       "1     Monitored national standardization       West Jodi     1       Nauru   \n",
       "2       Organic bottom-line service-desk        Davidton     0  San Marino   \n",
       "3  Triple-buffered reciprocal time-frame  West Terrifurt     1       Italy   \n",
       "4          Robust logistical utilization    South Manuel     0     Iceland   \n",
       "\n",
       "         Timestamp  Clicked_on_Ad  \n",
       "0   3/27/2016 0:53              0  \n",
       "1    4/4/2016 1:39              0  \n",
       "2  3/13/2016 20:35              0  \n",
       "3   1/10/2016 2:31              0  \n",
       "4    6/3/2016 3:36              0  "
      ]
     },
     "execution_count": 10,
     "metadata": {},
     "output_type": "execute_result"
    }
   ],
   "source": [
    "# 잘 들어갔나 확인\n",
    "data.head()"
   ]
  },
  {
   "cell_type": "markdown",
   "id": "d4a00ecd-2698-4432-837e-c4c865ccc501",
   "metadata": {},
   "source": [
    "- 나이가 nan인 행들을 처리해야 하는데 나이를 추정할 수 있는 건 없어서 삭제하거나 평균으로 지정하거나인데\n",
    "- 평균으로 굳이 지정할 이유는 없어서 그냥 삭제해버리기"
   ]
  },
  {
   "cell_type": "code",
   "execution_count": 11,
   "id": "2fd0a0be-2823-49f8-a796-64026e1fce5f",
   "metadata": {},
   "outputs": [
    {
     "data": {
      "text/plain": [
       "0       True\n",
       "1      False\n",
       "2      False\n",
       "3      False\n",
       "4      False\n",
       "       ...  \n",
       "995    False\n",
       "996    False\n",
       "997    False\n",
       "998    False\n",
       "999    False\n",
       "Name: Age, Length: 1000, dtype: bool"
      ]
     },
     "execution_count": 11,
     "metadata": {},
     "output_type": "execute_result"
    }
   ],
   "source": [
    "data['Age'].isna()"
   ]
  },
  {
   "cell_type": "code",
   "execution_count": 12,
   "id": "23d3e198-fd63-4e51-9e93-1cfd8966dadd",
   "metadata": {},
   "outputs": [],
   "source": [
    "data = data.dropna()"
   ]
  },
  {
   "cell_type": "code",
   "execution_count": 13,
   "id": "fe8f6609-d7f1-4502-9b8b-cbb07827faa3",
   "metadata": {},
   "outputs": [
    {
     "name": "stderr",
     "output_type": "stream",
     "text": [
      "/tmp/ipykernel_101895/119710355.py:1: SettingWithCopyWarning: \n",
      "A value is trying to be set on a copy of a slice from a DataFrame.\n",
      "Try using .loc[row_indexer,col_indexer] = value instead\n",
      "\n",
      "See the caveats in the documentation: https://pandas.pydata.org/pandas-docs/stable/user_guide/indexing.html#returning-a-view-versus-a-copy\n",
      "  data['percent']=data['Daily_Time_Spent_on_Site'] / data['Daily_Internet_Usage'] * 100\n"
     ]
    }
   ],
   "source": [
    "data['percent']=data['Daily_Time_Spent_on_Site'] / data['Daily_Internet_Usage'] * 100"
   ]
  },
  {
   "cell_type": "code",
   "execution_count": 14,
   "id": "ad60350a-4e43-450c-b561-e04e031bc8b2",
   "metadata": {},
   "outputs": [
    {
     "data": {
      "text/html": [
       "<div>\n",
       "<style scoped>\n",
       "    .dataframe tbody tr th:only-of-type {\n",
       "        vertical-align: middle;\n",
       "    }\n",
       "\n",
       "    .dataframe tbody tr th {\n",
       "        vertical-align: top;\n",
       "    }\n",
       "\n",
       "    .dataframe thead th {\n",
       "        text-align: right;\n",
       "    }\n",
       "</style>\n",
       "<table border=\"1\" class=\"dataframe\">\n",
       "  <thead>\n",
       "    <tr style=\"text-align: right;\">\n",
       "      <th></th>\n",
       "      <th>Daily_Time_Spent_on_Site</th>\n",
       "      <th>Age</th>\n",
       "      <th>Area_Income</th>\n",
       "      <th>Daily_Internet_Usage</th>\n",
       "      <th>Ad_Topic_Line</th>\n",
       "      <th>City</th>\n",
       "      <th>Male</th>\n",
       "      <th>Country</th>\n",
       "      <th>Timestamp</th>\n",
       "      <th>Clicked_on_Ad</th>\n",
       "      <th>percent</th>\n",
       "    </tr>\n",
       "  </thead>\n",
       "  <tbody>\n",
       "    <tr>\n",
       "      <th>1</th>\n",
       "      <td>80.23</td>\n",
       "      <td>31.0</td>\n",
       "      <td>68441.85</td>\n",
       "      <td>193.77</td>\n",
       "      <td>Monitored national standardization</td>\n",
       "      <td>West Jodi</td>\n",
       "      <td>1</td>\n",
       "      <td>Nauru</td>\n",
       "      <td>4/4/2016 1:39</td>\n",
       "      <td>0</td>\n",
       "      <td>41.404758</td>\n",
       "    </tr>\n",
       "    <tr>\n",
       "      <th>2</th>\n",
       "      <td>69.47</td>\n",
       "      <td>26.0</td>\n",
       "      <td>59785.94</td>\n",
       "      <td>236.50</td>\n",
       "      <td>Organic bottom-line service-desk</td>\n",
       "      <td>Davidton</td>\n",
       "      <td>0</td>\n",
       "      <td>San Marino</td>\n",
       "      <td>3/13/2016 20:35</td>\n",
       "      <td>0</td>\n",
       "      <td>29.374207</td>\n",
       "    </tr>\n",
       "    <tr>\n",
       "      <th>3</th>\n",
       "      <td>74.15</td>\n",
       "      <td>29.0</td>\n",
       "      <td>54806.18</td>\n",
       "      <td>245.89</td>\n",
       "      <td>Triple-buffered reciprocal time-frame</td>\n",
       "      <td>West Terrifurt</td>\n",
       "      <td>1</td>\n",
       "      <td>Italy</td>\n",
       "      <td>1/10/2016 2:31</td>\n",
       "      <td>0</td>\n",
       "      <td>30.155761</td>\n",
       "    </tr>\n",
       "    <tr>\n",
       "      <th>4</th>\n",
       "      <td>68.37</td>\n",
       "      <td>35.0</td>\n",
       "      <td>73889.99</td>\n",
       "      <td>225.58</td>\n",
       "      <td>Robust logistical utilization</td>\n",
       "      <td>South Manuel</td>\n",
       "      <td>0</td>\n",
       "      <td>Iceland</td>\n",
       "      <td>6/3/2016 3:36</td>\n",
       "      <td>0</td>\n",
       "      <td>30.308538</td>\n",
       "    </tr>\n",
       "    <tr>\n",
       "      <th>5</th>\n",
       "      <td>59.99</td>\n",
       "      <td>23.0</td>\n",
       "      <td>59761.56</td>\n",
       "      <td>226.74</td>\n",
       "      <td>Sharable client-driven software</td>\n",
       "      <td>Jamieberg</td>\n",
       "      <td>1</td>\n",
       "      <td>Norway</td>\n",
       "      <td>5/19/2016 14:30</td>\n",
       "      <td>0</td>\n",
       "      <td>26.457617</td>\n",
       "    </tr>\n",
       "  </tbody>\n",
       "</table>\n",
       "</div>"
      ],
      "text/plain": [
       "   Daily_Time_Spent_on_Site   Age  Area_Income  Daily_Internet_Usage  \\\n",
       "1                     80.23  31.0     68441.85                193.77   \n",
       "2                     69.47  26.0     59785.94                236.50   \n",
       "3                     74.15  29.0     54806.18                245.89   \n",
       "4                     68.37  35.0     73889.99                225.58   \n",
       "5                     59.99  23.0     59761.56                226.74   \n",
       "\n",
       "                           Ad_Topic_Line            City  Male     Country  \\\n",
       "1     Monitored national standardization       West Jodi     1       Nauru   \n",
       "2       Organic bottom-line service-desk        Davidton     0  San Marino   \n",
       "3  Triple-buffered reciprocal time-frame  West Terrifurt     1       Italy   \n",
       "4          Robust logistical utilization    South Manuel     0     Iceland   \n",
       "5        Sharable client-driven software       Jamieberg     1      Norway   \n",
       "\n",
       "         Timestamp  Clicked_on_Ad    percent  \n",
       "1    4/4/2016 1:39              0  41.404758  \n",
       "2  3/13/2016 20:35              0  29.374207  \n",
       "3   1/10/2016 2:31              0  30.155761  \n",
       "4    6/3/2016 3:36              0  30.308538  \n",
       "5  5/19/2016 14:30              0  26.457617  "
      ]
     },
     "execution_count": 14,
     "metadata": {},
     "output_type": "execute_result"
    }
   ],
   "source": [
    "data.head()"
   ]
  },
  {
   "cell_type": "code",
   "execution_count": 15,
   "id": "70206007-541b-4ee7-a042-fadd55a6d3b3",
   "metadata": {},
   "outputs": [
    {
     "data": {
      "text/plain": [
       "916"
      ]
     },
     "execution_count": 15,
     "metadata": {},
     "output_type": "execute_result"
    }
   ],
   "source": [
    "len(data)"
   ]
  },
  {
   "cell_type": "code",
   "execution_count": 16,
   "id": "51cb1333-9f95-4e0d-8b15-c6a465b3c3f8",
   "metadata": {},
   "outputs": [],
   "source": [
    "data = data.drop(['Ad_Topic_Line', 'City', 'Country', 'Timestamp'], axis = 1)"
   ]
  },
  {
   "cell_type": "code",
   "execution_count": 17,
   "id": "42b790f8-84fd-46bd-9b94-c6d87292a1a8",
   "metadata": {},
   "outputs": [
    {
     "data": {
      "text/html": [
       "<div>\n",
       "<style scoped>\n",
       "    .dataframe tbody tr th:only-of-type {\n",
       "        vertical-align: middle;\n",
       "    }\n",
       "\n",
       "    .dataframe tbody tr th {\n",
       "        vertical-align: top;\n",
       "    }\n",
       "\n",
       "    .dataframe thead th {\n",
       "        text-align: right;\n",
       "    }\n",
       "</style>\n",
       "<table border=\"1\" class=\"dataframe\">\n",
       "  <thead>\n",
       "    <tr style=\"text-align: right;\">\n",
       "      <th></th>\n",
       "      <th>Daily_Time_Spent_on_Site</th>\n",
       "      <th>Age</th>\n",
       "      <th>Area_Income</th>\n",
       "      <th>Daily_Internet_Usage</th>\n",
       "      <th>Male</th>\n",
       "      <th>Clicked_on_Ad</th>\n",
       "      <th>percent</th>\n",
       "    </tr>\n",
       "  </thead>\n",
       "  <tbody>\n",
       "    <tr>\n",
       "      <th>1</th>\n",
       "      <td>80.23</td>\n",
       "      <td>31.0</td>\n",
       "      <td>68441.85</td>\n",
       "      <td>193.77</td>\n",
       "      <td>1</td>\n",
       "      <td>0</td>\n",
       "      <td>41.404758</td>\n",
       "    </tr>\n",
       "    <tr>\n",
       "      <th>2</th>\n",
       "      <td>69.47</td>\n",
       "      <td>26.0</td>\n",
       "      <td>59785.94</td>\n",
       "      <td>236.50</td>\n",
       "      <td>0</td>\n",
       "      <td>0</td>\n",
       "      <td>29.374207</td>\n",
       "    </tr>\n",
       "    <tr>\n",
       "      <th>3</th>\n",
       "      <td>74.15</td>\n",
       "      <td>29.0</td>\n",
       "      <td>54806.18</td>\n",
       "      <td>245.89</td>\n",
       "      <td>1</td>\n",
       "      <td>0</td>\n",
       "      <td>30.155761</td>\n",
       "    </tr>\n",
       "    <tr>\n",
       "      <th>4</th>\n",
       "      <td>68.37</td>\n",
       "      <td>35.0</td>\n",
       "      <td>73889.99</td>\n",
       "      <td>225.58</td>\n",
       "      <td>0</td>\n",
       "      <td>0</td>\n",
       "      <td>30.308538</td>\n",
       "    </tr>\n",
       "    <tr>\n",
       "      <th>5</th>\n",
       "      <td>59.99</td>\n",
       "      <td>23.0</td>\n",
       "      <td>59761.56</td>\n",
       "      <td>226.74</td>\n",
       "      <td>1</td>\n",
       "      <td>0</td>\n",
       "      <td>26.457617</td>\n",
       "    </tr>\n",
       "    <tr>\n",
       "      <th>...</th>\n",
       "      <td>...</td>\n",
       "      <td>...</td>\n",
       "      <td>...</td>\n",
       "      <td>...</td>\n",
       "      <td>...</td>\n",
       "      <td>...</td>\n",
       "      <td>...</td>\n",
       "    </tr>\n",
       "    <tr>\n",
       "      <th>995</th>\n",
       "      <td>72.97</td>\n",
       "      <td>30.0</td>\n",
       "      <td>71384.57</td>\n",
       "      <td>208.58</td>\n",
       "      <td>1</td>\n",
       "      <td>1</td>\n",
       "      <td>34.984179</td>\n",
       "    </tr>\n",
       "    <tr>\n",
       "      <th>996</th>\n",
       "      <td>51.30</td>\n",
       "      <td>45.0</td>\n",
       "      <td>67782.17</td>\n",
       "      <td>134.42</td>\n",
       "      <td>1</td>\n",
       "      <td>1</td>\n",
       "      <td>38.163964</td>\n",
       "    </tr>\n",
       "    <tr>\n",
       "      <th>997</th>\n",
       "      <td>51.63</td>\n",
       "      <td>51.0</td>\n",
       "      <td>42415.72</td>\n",
       "      <td>120.37</td>\n",
       "      <td>1</td>\n",
       "      <td>1</td>\n",
       "      <td>42.892747</td>\n",
       "    </tr>\n",
       "    <tr>\n",
       "      <th>998</th>\n",
       "      <td>55.55</td>\n",
       "      <td>19.0</td>\n",
       "      <td>41920.79</td>\n",
       "      <td>187.95</td>\n",
       "      <td>0</td>\n",
       "      <td>0</td>\n",
       "      <td>29.555733</td>\n",
       "    </tr>\n",
       "    <tr>\n",
       "      <th>999</th>\n",
       "      <td>45.01</td>\n",
       "      <td>26.0</td>\n",
       "      <td>29875.80</td>\n",
       "      <td>178.35</td>\n",
       "      <td>0</td>\n",
       "      <td>1</td>\n",
       "      <td>25.236894</td>\n",
       "    </tr>\n",
       "  </tbody>\n",
       "</table>\n",
       "<p>916 rows × 7 columns</p>\n",
       "</div>"
      ],
      "text/plain": [
       "     Daily_Time_Spent_on_Site   Age  Area_Income  Daily_Internet_Usage  Male  \\\n",
       "1                       80.23  31.0     68441.85                193.77     1   \n",
       "2                       69.47  26.0     59785.94                236.50     0   \n",
       "3                       74.15  29.0     54806.18                245.89     1   \n",
       "4                       68.37  35.0     73889.99                225.58     0   \n",
       "5                       59.99  23.0     59761.56                226.74     1   \n",
       "..                        ...   ...          ...                   ...   ...   \n",
       "995                     72.97  30.0     71384.57                208.58     1   \n",
       "996                     51.30  45.0     67782.17                134.42     1   \n",
       "997                     51.63  51.0     42415.72                120.37     1   \n",
       "998                     55.55  19.0     41920.79                187.95     0   \n",
       "999                     45.01  26.0     29875.80                178.35     0   \n",
       "\n",
       "     Clicked_on_Ad    percent  \n",
       "1                0  41.404758  \n",
       "2                0  29.374207  \n",
       "3                0  30.155761  \n",
       "4                0  30.308538  \n",
       "5                0  26.457617  \n",
       "..             ...        ...  \n",
       "995              1  34.984179  \n",
       "996              1  38.163964  \n",
       "997              1  42.892747  \n",
       "998              0  29.555733  \n",
       "999              1  25.236894  \n",
       "\n",
       "[916 rows x 7 columns]"
      ]
     },
     "execution_count": 17,
     "metadata": {},
     "output_type": "execute_result"
    }
   ],
   "source": [
    "data"
   ]
  },
  {
   "cell_type": "code",
   "execution_count": 18,
   "id": "2f06e4d5-9bcc-4fb9-908e-c09dea8dfedc",
   "metadata": {},
   "outputs": [],
   "source": [
    "data['Sex'] = pd.get_dummies(data['Male'], drop_first = True)\n",
    "data = data.drop('Male', axis = 1)"
   ]
  },
  {
   "cell_type": "code",
   "execution_count": 19,
   "id": "b1837846-21ff-4a75-8f4a-b90fbe48edc9",
   "metadata": {
    "scrolled": true
   },
   "outputs": [
    {
     "data": {
      "text/html": [
       "<div>\n",
       "<style scoped>\n",
       "    .dataframe tbody tr th:only-of-type {\n",
       "        vertical-align: middle;\n",
       "    }\n",
       "\n",
       "    .dataframe tbody tr th {\n",
       "        vertical-align: top;\n",
       "    }\n",
       "\n",
       "    .dataframe thead th {\n",
       "        text-align: right;\n",
       "    }\n",
       "</style>\n",
       "<table border=\"1\" class=\"dataframe\">\n",
       "  <thead>\n",
       "    <tr style=\"text-align: right;\">\n",
       "      <th></th>\n",
       "      <th>Daily_Time_Spent_on_Site</th>\n",
       "      <th>Age</th>\n",
       "      <th>Area_Income</th>\n",
       "      <th>Daily_Internet_Usage</th>\n",
       "      <th>Clicked_on_Ad</th>\n",
       "      <th>percent</th>\n",
       "      <th>Sex</th>\n",
       "    </tr>\n",
       "  </thead>\n",
       "  <tbody>\n",
       "    <tr>\n",
       "      <th>Daily_Time_Spent_on_Site</th>\n",
       "      <td>1.000000</td>\n",
       "      <td>-0.337082</td>\n",
       "      <td>0.310325</td>\n",
       "      <td>0.514261</td>\n",
       "      <td>-0.746936</td>\n",
       "      <td>0.454540</td>\n",
       "      <td>-0.026391</td>\n",
       "    </tr>\n",
       "    <tr>\n",
       "      <th>Age</th>\n",
       "      <td>-0.337082</td>\n",
       "      <td>1.000000</td>\n",
       "      <td>-0.193798</td>\n",
       "      <td>-0.377338</td>\n",
       "      <td>0.503014</td>\n",
       "      <td>0.069176</td>\n",
       "      <td>-0.017407</td>\n",
       "    </tr>\n",
       "    <tr>\n",
       "      <th>Area_Income</th>\n",
       "      <td>0.310325</td>\n",
       "      <td>-0.193798</td>\n",
       "      <td>1.000000</td>\n",
       "      <td>0.335125</td>\n",
       "      <td>-0.471812</td>\n",
       "      <td>-0.053987</td>\n",
       "      <td>-0.001068</td>\n",
       "    </tr>\n",
       "    <tr>\n",
       "      <th>Daily_Internet_Usage</th>\n",
       "      <td>0.514261</td>\n",
       "      <td>-0.377338</td>\n",
       "      <td>0.335125</td>\n",
       "      <td>1.000000</td>\n",
       "      <td>-0.784050</td>\n",
       "      <td>-0.504092</td>\n",
       "      <td>0.013625</td>\n",
       "    </tr>\n",
       "    <tr>\n",
       "      <th>Clicked_on_Ad</th>\n",
       "      <td>-0.746936</td>\n",
       "      <td>0.503014</td>\n",
       "      <td>-0.471812</td>\n",
       "      <td>-0.784050</td>\n",
       "      <td>1.000000</td>\n",
       "      <td>0.089912</td>\n",
       "      <td>-0.028081</td>\n",
       "    </tr>\n",
       "    <tr>\n",
       "      <th>percent</th>\n",
       "      <td>0.454540</td>\n",
       "      <td>0.069176</td>\n",
       "      <td>-0.053987</td>\n",
       "      <td>-0.504092</td>\n",
       "      <td>0.089912</td>\n",
       "      <td>1.000000</td>\n",
       "      <td>-0.054386</td>\n",
       "    </tr>\n",
       "    <tr>\n",
       "      <th>Sex</th>\n",
       "      <td>-0.026391</td>\n",
       "      <td>-0.017407</td>\n",
       "      <td>-0.001068</td>\n",
       "      <td>0.013625</td>\n",
       "      <td>-0.028081</td>\n",
       "      <td>-0.054386</td>\n",
       "      <td>1.000000</td>\n",
       "    </tr>\n",
       "  </tbody>\n",
       "</table>\n",
       "</div>"
      ],
      "text/plain": [
       "                          Daily_Time_Spent_on_Site       Age  Area_Income  \\\n",
       "Daily_Time_Spent_on_Site                  1.000000 -0.337082     0.310325   \n",
       "Age                                      -0.337082  1.000000    -0.193798   \n",
       "Area_Income                               0.310325 -0.193798     1.000000   \n",
       "Daily_Internet_Usage                      0.514261 -0.377338     0.335125   \n",
       "Clicked_on_Ad                            -0.746936  0.503014    -0.471812   \n",
       "percent                                   0.454540  0.069176    -0.053987   \n",
       "Sex                                      -0.026391 -0.017407    -0.001068   \n",
       "\n",
       "                          Daily_Internet_Usage  Clicked_on_Ad   percent  \\\n",
       "Daily_Time_Spent_on_Site              0.514261      -0.746936  0.454540   \n",
       "Age                                  -0.377338       0.503014  0.069176   \n",
       "Area_Income                           0.335125      -0.471812 -0.053987   \n",
       "Daily_Internet_Usage                  1.000000      -0.784050 -0.504092   \n",
       "Clicked_on_Ad                        -0.784050       1.000000  0.089912   \n",
       "percent                              -0.504092       0.089912  1.000000   \n",
       "Sex                                   0.013625      -0.028081 -0.054386   \n",
       "\n",
       "                               Sex  \n",
       "Daily_Time_Spent_on_Site -0.026391  \n",
       "Age                      -0.017407  \n",
       "Area_Income              -0.001068  \n",
       "Daily_Internet_Usage      0.013625  \n",
       "Clicked_on_Ad            -0.028081  \n",
       "percent                  -0.054386  \n",
       "Sex                       1.000000  "
      ]
     },
     "execution_count": 19,
     "metadata": {},
     "output_type": "execute_result"
    }
   ],
   "source": [
    "data.corr()"
   ]
  },
  {
   "cell_type": "code",
   "execution_count": 20,
   "id": "619e5c82-caad-40aa-aa81-666424d26a94",
   "metadata": {},
   "outputs": [
    {
     "data": {
      "text/plain": [
       "<Axes: >"
      ]
     },
     "execution_count": 20,
     "metadata": {},
     "output_type": "execute_result"
    },
    {
     "data": {
      "image/png": "[encoded data removed]",
      "text/plain": [
       "<Figure size 640x480 with 2 Axes>"
      ]
     },
     "metadata": {},
     "output_type": "display_data"
    }
   ],
   "source": [
    "sns.heatmap(data.corr(), linewidth = 1, annot = True)"
   ]
  },
  {
   "cell_type": "code",
   "execution_count": 21,
   "id": "206babb3-63b2-49d1-81b0-a33d08cd4fb5",
   "metadata": {},
   "outputs": [],
   "source": [
    "from sklearn.preprocessing import MinMaxScaler\n",
    "from sklearn.metrics import accuracy_score, classification_report\n",
    "from sklearn.model_selection import train_test_split\n",
    "from sklearn.tree import DecisionTreeClassifier"
   ]
  },
  {
   "cell_type": "code",
   "execution_count": 22,
   "id": "718ee7f8-94a1-4b33-822f-a05e6976f0d5",
   "metadata": {},
   "outputs": [],
   "source": [
    "X = data.drop('Clicked_on_Ad', axis = 1)\n",
    "y = data['Clicked_on_Ad']"
   ]
  },
  {
   "cell_type": "code",
   "execution_count": 23,
   "id": "28a3b8e2-eb79-4ad1-b49b-362f4221f3c8",
   "metadata": {},
   "outputs": [],
   "source": [
    "mms = MinMaxScaler()\n",
    "scaled_X = mms.fit_transform(X)"
   ]
  },
  {
   "cell_type": "code",
   "execution_count": 24,
   "id": "0f6a5991-a615-476c-9424-8f59ba3ba843",
   "metadata": {},
   "outputs": [
    {
     "data": {
      "text/html": [
       "<div>\n",
       "<style scoped>\n",
       "    .dataframe tbody tr th:only-of-type {\n",
       "        vertical-align: middle;\n",
       "    }\n",
       "\n",
       "    .dataframe tbody tr th {\n",
       "        vertical-align: top;\n",
       "    }\n",
       "\n",
       "    .dataframe thead th {\n",
       "        text-align: right;\n",
       "    }\n",
       "</style>\n",
       "<table border=\"1\" class=\"dataframe\">\n",
       "  <thead>\n",
       "    <tr style=\"text-align: right;\">\n",
       "      <th></th>\n",
       "      <th>Daily_Time_Spent_on_Site</th>\n",
       "      <th>Age</th>\n",
       "      <th>Area_Income</th>\n",
       "      <th>Daily_Internet_Usage</th>\n",
       "      <th>Male</th>\n",
       "      <th>percent</th>\n",
       "    </tr>\n",
       "  </thead>\n",
       "  <tbody>\n",
       "    <tr>\n",
       "      <th>0</th>\n",
       "      <td>0.810448</td>\n",
       "      <td>0.285714</td>\n",
       "      <td>0.831375</td>\n",
       "      <td>0.538746</td>\n",
       "      <td>0.492961</td>\n",
       "      <td>1.0</td>\n",
       "    </tr>\n",
       "    <tr>\n",
       "      <th>1</th>\n",
       "      <td>0.627361</td>\n",
       "      <td>0.166667</td>\n",
       "      <td>0.699200</td>\n",
       "      <td>0.797433</td>\n",
       "      <td>0.252861</td>\n",
       "      <td>0.0</td>\n",
       "    </tr>\n",
       "    <tr>\n",
       "      <th>2</th>\n",
       "      <td>0.706993</td>\n",
       "      <td>0.238095</td>\n",
       "      <td>0.623160</td>\n",
       "      <td>0.854280</td>\n",
       "      <td>0.268459</td>\n",
       "      <td>1.0</td>\n",
       "    </tr>\n",
       "    <tr>\n",
       "      <th>3</th>\n",
       "      <td>0.608644</td>\n",
       "      <td>0.380952</td>\n",
       "      <td>0.914568</td>\n",
       "      <td>0.731323</td>\n",
       "      <td>0.271508</td>\n",
       "      <td>0.0</td>\n",
       "    </tr>\n",
       "    <tr>\n",
       "      <th>4</th>\n",
       "      <td>0.466054</td>\n",
       "      <td>0.095238</td>\n",
       "      <td>0.698828</td>\n",
       "      <td>0.738346</td>\n",
       "      <td>0.194653</td>\n",
       "      <td>1.0</td>\n",
       "    </tr>\n",
       "    <tr>\n",
       "      <th>...</th>\n",
       "      <td>...</td>\n",
       "      <td>...</td>\n",
       "      <td>...</td>\n",
       "      <td>...</td>\n",
       "      <td>...</td>\n",
       "      <td>...</td>\n",
       "    </tr>\n",
       "    <tr>\n",
       "      <th>911</th>\n",
       "      <td>0.686915</td>\n",
       "      <td>0.261905</td>\n",
       "      <td>0.876310</td>\n",
       "      <td>0.628405</td>\n",
       "      <td>0.364822</td>\n",
       "      <td>1.0</td>\n",
       "    </tr>\n",
       "    <tr>\n",
       "      <th>912</th>\n",
       "      <td>0.318190</td>\n",
       "      <td>0.619048</td>\n",
       "      <td>0.821302</td>\n",
       "      <td>0.179441</td>\n",
       "      <td>0.428283</td>\n",
       "      <td>1.0</td>\n",
       "    </tr>\n",
       "    <tr>\n",
       "      <th>913</th>\n",
       "      <td>0.323805</td>\n",
       "      <td>0.761905</td>\n",
       "      <td>0.433959</td>\n",
       "      <td>0.094382</td>\n",
       "      <td>0.522658</td>\n",
       "      <td>1.0</td>\n",
       "    </tr>\n",
       "    <tr>\n",
       "      <th>914</th>\n",
       "      <td>0.390505</td>\n",
       "      <td>0.000000</td>\n",
       "      <td>0.426401</td>\n",
       "      <td>0.503511</td>\n",
       "      <td>0.256484</td>\n",
       "      <td>0.0</td>\n",
       "    </tr>\n",
       "    <tr>\n",
       "      <th>915</th>\n",
       "      <td>0.211162</td>\n",
       "      <td>0.166667</td>\n",
       "      <td>0.242475</td>\n",
       "      <td>0.445393</td>\n",
       "      <td>0.170290</td>\n",
       "      <td>0.0</td>\n",
       "    </tr>\n",
       "  </tbody>\n",
       "</table>\n",
       "<p>916 rows × 6 columns</p>\n",
       "</div>"
      ],
      "text/plain": [
       "     Daily_Time_Spent_on_Site       Age  Area_Income  Daily_Internet_Usage  \\\n",
       "0                    0.810448  0.285714     0.831375              0.538746   \n",
       "1                    0.627361  0.166667     0.699200              0.797433   \n",
       "2                    0.706993  0.238095     0.623160              0.854280   \n",
       "3                    0.608644  0.380952     0.914568              0.731323   \n",
       "4                    0.466054  0.095238     0.698828              0.738346   \n",
       "..                        ...       ...          ...                   ...   \n",
       "911                  0.686915  0.261905     0.876310              0.628405   \n",
       "912                  0.318190  0.619048     0.821302              0.179441   \n",
       "913                  0.323805  0.761905     0.433959              0.094382   \n",
       "914                  0.390505  0.000000     0.426401              0.503511   \n",
       "915                  0.211162  0.166667     0.242475              0.445393   \n",
       "\n",
       "         Male  percent  \n",
       "0    0.492961      1.0  \n",
       "1    0.252861      0.0  \n",
       "2    0.268459      1.0  \n",
       "3    0.271508      0.0  \n",
       "4    0.194653      1.0  \n",
       "..        ...      ...  \n",
       "911  0.364822      1.0  \n",
       "912  0.428283      1.0  \n",
       "913  0.522658      1.0  \n",
       "914  0.256484      0.0  \n",
       "915  0.170290      0.0  \n",
       "\n",
       "[916 rows x 6 columns]"
      ]
     },
     "execution_count": 24,
     "metadata": {},
     "output_type": "execute_result"
    }
   ],
   "source": [
    "scaled_X = pd.DataFrame(scaled_X, columns = ['Daily_Time_Spent_on_Site', 'Age', 'Area_Income', 'Daily_Internet_Usage', 'Male', 'percent'])\n",
    "scaled_X"
   ]
  },
  {
   "cell_type": "code",
   "execution_count": 25,
   "id": "255b06bf-e127-4301-a4ca-b465278f4497",
   "metadata": {
    "scrolled": true
   },
   "outputs": [
    {
     "name": "stdout",
     "output_type": "stream",
     "text": [
      "==================== 1 ====================\n",
      "0.896457765667575\n",
      "              precision    recall  f1-score   support\n",
      "\n",
      "           0       0.88      0.92      0.90       185\n",
      "           1       0.92      0.87      0.89       182\n",
      "\n",
      "    accuracy                           0.90       367\n",
      "   macro avg       0.90      0.90      0.90       367\n",
      "weighted avg       0.90      0.90      0.90       367\n",
      "\n",
      "==================== 2 ====================\n",
      "0.9373297002724795\n",
      "              precision    recall  f1-score   support\n",
      "\n",
      "           0       0.91      0.98      0.94       185\n",
      "           1       0.98      0.90      0.93       182\n",
      "\n",
      "    accuracy                           0.94       367\n",
      "   macro avg       0.94      0.94      0.94       367\n",
      "weighted avg       0.94      0.94      0.94       367\n",
      "\n",
      "==================== 3 ====================\n",
      "0.9373297002724795\n",
      "              precision    recall  f1-score   support\n",
      "\n",
      "           0       0.92      0.96      0.94       185\n",
      "           1       0.95      0.92      0.94       182\n",
      "\n",
      "    accuracy                           0.94       367\n",
      "   macro avg       0.94      0.94      0.94       367\n",
      "weighted avg       0.94      0.94      0.94       367\n",
      "\n",
      "==================== 4 ====================\n",
      "0.9400544959128065\n",
      "              precision    recall  f1-score   support\n",
      "\n",
      "           0       0.95      0.94      0.94       185\n",
      "           1       0.93      0.95      0.94       182\n",
      "\n",
      "    accuracy                           0.94       367\n",
      "   macro avg       0.94      0.94      0.94       367\n",
      "weighted avg       0.94      0.94      0.94       367\n",
      "\n",
      "==================== 5 ====================\n",
      "0.9318801089918256\n",
      "              precision    recall  f1-score   support\n",
      "\n",
      "           0       0.91      0.96      0.93       185\n",
      "           1       0.95      0.91      0.93       182\n",
      "\n",
      "    accuracy                           0.93       367\n",
      "   macro avg       0.93      0.93      0.93       367\n",
      "weighted avg       0.93      0.93      0.93       367\n",
      "\n",
      "==================== 6 ====================\n",
      "0.9291553133514986\n",
      "              precision    recall  f1-score   support\n",
      "\n",
      "           0       0.91      0.95      0.93       185\n",
      "           1       0.95      0.91      0.93       182\n",
      "\n",
      "    accuracy                           0.93       367\n",
      "   macro avg       0.93      0.93      0.93       367\n",
      "weighted avg       0.93      0.93      0.93       367\n",
      "\n",
      "==================== 7 ====================\n",
      "0.9291553133514986\n",
      "              precision    recall  f1-score   support\n",
      "\n",
      "           0       0.91      0.95      0.93       185\n",
      "           1       0.95      0.91      0.93       182\n",
      "\n",
      "    accuracy                           0.93       367\n",
      "   macro avg       0.93      0.93      0.93       367\n",
      "weighted avg       0.93      0.93      0.93       367\n",
      "\n",
      "==================== 8 ====================\n",
      "0.9237057220708447\n",
      "              precision    recall  f1-score   support\n",
      "\n",
      "           0       0.91      0.94      0.93       185\n",
      "           1       0.94      0.91      0.92       182\n",
      "\n",
      "    accuracy                           0.92       367\n",
      "   macro avg       0.92      0.92      0.92       367\n",
      "weighted avg       0.92      0.92      0.92       367\n",
      "\n",
      "==================== 9 ====================\n",
      "0.9100817438692098\n",
      "              precision    recall  f1-score   support\n",
      "\n",
      "           0       0.91      0.91      0.91       185\n",
      "           1       0.91      0.91      0.91       182\n",
      "\n",
      "    accuracy                           0.91       367\n",
      "   macro avg       0.91      0.91      0.91       367\n",
      "weighted avg       0.91      0.91      0.91       367\n",
      "\n"
     ]
    }
   ],
   "source": [
    "X_train, X_test, y_train, y_test = train_test_split(scaled_X, y, test_size = 0.4, random_state = 7)\n",
    "for i in range(1, 10) :\n",
    "    dtc = DecisionTreeClassifier(max_depth = i, random_state = 7)\n",
    "    dtc.fit(X_train, y_train)\n",
    "    pred = dtc.predict(X_test)\n",
    "    print('=' * 20, i, '=' * 20)\n",
    "    print(accuracy_score(y_test, pred))\n",
    "    print(classification_report(y_test, pred))"
   ]
  },
  {
   "cell_type": "code",
   "execution_count": null,
   "id": "7269c6d1-7d80-4848-bb1d-5d5c4d88369e",
   "metadata": {},
   "outputs": [],
   "source": []
  },
  {
   "cell_type": "markdown",
   "id": "679d6ed6-467b-4492-b772-e8b493944872",
   "metadata": {},
   "source": [
    "### 강사님 버전"
   ]
  },
  {
   "cell_type": "code",
   "execution_count": 26,
   "id": "b75d818d-af91-4cca-ab99-5e1e66b3936e",
   "metadata": {},
   "outputs": [
    {
     "data": {
      "text/html": [
       "<div>\n",
       "<style scoped>\n",
       "    .dataframe tbody tr th:only-of-type {\n",
       "        vertical-align: middle;\n",
       "    }\n",
       "\n",
       "    .dataframe tbody tr th {\n",
       "        vertical-align: top;\n",
       "    }\n",
       "\n",
       "    .dataframe thead th {\n",
       "        text-align: right;\n",
       "    }\n",
       "</style>\n",
       "<table border=\"1\" class=\"dataframe\">\n",
       "  <thead>\n",
       "    <tr style=\"text-align: right;\">\n",
       "      <th></th>\n",
       "      <th>Daily Time Spent on Site</th>\n",
       "      <th>Age</th>\n",
       "      <th>Area Income</th>\n",
       "      <th>Daily Internet Usage</th>\n",
       "      <th>Ad Topic Line</th>\n",
       "      <th>City</th>\n",
       "      <th>Male</th>\n",
       "      <th>Country</th>\n",
       "      <th>Timestamp</th>\n",
       "      <th>Clicked on Ad</th>\n",
       "    </tr>\n",
       "  </thead>\n",
       "  <tbody>\n",
       "    <tr>\n",
       "      <th>0</th>\n",
       "      <td>68.95</td>\n",
       "      <td>NaN</td>\n",
       "      <td>61833.90</td>\n",
       "      <td>256.09</td>\n",
       "      <td>Cloned 5thgeneration orchestration</td>\n",
       "      <td>Wrightburgh</td>\n",
       "      <td>0</td>\n",
       "      <td>Tunisia</td>\n",
       "      <td>3/27/2016 0:53</td>\n",
       "      <td>0</td>\n",
       "    </tr>\n",
       "    <tr>\n",
       "      <th>1</th>\n",
       "      <td>80.23</td>\n",
       "      <td>31.0</td>\n",
       "      <td>68441.85</td>\n",
       "      <td>193.77</td>\n",
       "      <td>Monitored national standardization</td>\n",
       "      <td>West Jodi</td>\n",
       "      <td>1</td>\n",
       "      <td>Nauru</td>\n",
       "      <td>4/4/2016 1:39</td>\n",
       "      <td>0</td>\n",
       "    </tr>\n",
       "    <tr>\n",
       "      <th>2</th>\n",
       "      <td>69.47</td>\n",
       "      <td>26.0</td>\n",
       "      <td>59785.94</td>\n",
       "      <td>236.50</td>\n",
       "      <td>Organic bottom-line service-desk</td>\n",
       "      <td>Davidton</td>\n",
       "      <td>0</td>\n",
       "      <td>San Marino</td>\n",
       "      <td>3/13/2016 20:35</td>\n",
       "      <td>0</td>\n",
       "    </tr>\n",
       "    <tr>\n",
       "      <th>3</th>\n",
       "      <td>74.15</td>\n",
       "      <td>29.0</td>\n",
       "      <td>54806.18</td>\n",
       "      <td>245.89</td>\n",
       "      <td>Triple-buffered reciprocal time-frame</td>\n",
       "      <td>West Terrifurt</td>\n",
       "      <td>1</td>\n",
       "      <td>Italy</td>\n",
       "      <td>1/10/2016 2:31</td>\n",
       "      <td>0</td>\n",
       "    </tr>\n",
       "    <tr>\n",
       "      <th>4</th>\n",
       "      <td>68.37</td>\n",
       "      <td>35.0</td>\n",
       "      <td>73889.99</td>\n",
       "      <td>225.58</td>\n",
       "      <td>Robust logistical utilization</td>\n",
       "      <td>South Manuel</td>\n",
       "      <td>0</td>\n",
       "      <td>Iceland</td>\n",
       "      <td>6/3/2016 3:36</td>\n",
       "      <td>0</td>\n",
       "    </tr>\n",
       "    <tr>\n",
       "      <th>...</th>\n",
       "      <td>...</td>\n",
       "      <td>...</td>\n",
       "      <td>...</td>\n",
       "      <td>...</td>\n",
       "      <td>...</td>\n",
       "      <td>...</td>\n",
       "      <td>...</td>\n",
       "      <td>...</td>\n",
       "      <td>...</td>\n",
       "      <td>...</td>\n",
       "    </tr>\n",
       "    <tr>\n",
       "      <th>995</th>\n",
       "      <td>72.97</td>\n",
       "      <td>30.0</td>\n",
       "      <td>71384.57</td>\n",
       "      <td>208.58</td>\n",
       "      <td>Fundamental modular algorithm</td>\n",
       "      <td>Duffystad</td>\n",
       "      <td>1</td>\n",
       "      <td>Lebanon</td>\n",
       "      <td>2/11/2016 21:49</td>\n",
       "      <td>1</td>\n",
       "    </tr>\n",
       "    <tr>\n",
       "      <th>996</th>\n",
       "      <td>51.30</td>\n",
       "      <td>45.0</td>\n",
       "      <td>67782.17</td>\n",
       "      <td>134.42</td>\n",
       "      <td>Grass-roots cohesive monitoring</td>\n",
       "      <td>New Darlene</td>\n",
       "      <td>1</td>\n",
       "      <td>Bosnia and Herzegovina</td>\n",
       "      <td>4/22/2016 2:07</td>\n",
       "      <td>1</td>\n",
       "    </tr>\n",
       "    <tr>\n",
       "      <th>997</th>\n",
       "      <td>51.63</td>\n",
       "      <td>51.0</td>\n",
       "      <td>42415.72</td>\n",
       "      <td>120.37</td>\n",
       "      <td>Expanded intangible solution</td>\n",
       "      <td>South Jessica</td>\n",
       "      <td>1</td>\n",
       "      <td>Mongolia</td>\n",
       "      <td>2/1/2016 17:24</td>\n",
       "      <td>1</td>\n",
       "    </tr>\n",
       "    <tr>\n",
       "      <th>998</th>\n",
       "      <td>55.55</td>\n",
       "      <td>19.0</td>\n",
       "      <td>41920.79</td>\n",
       "      <td>187.95</td>\n",
       "      <td>Proactive bandwidth-monitored policy</td>\n",
       "      <td>West Steven</td>\n",
       "      <td>0</td>\n",
       "      <td>Guatemala</td>\n",
       "      <td>3/24/2016 2:35</td>\n",
       "      <td>0</td>\n",
       "    </tr>\n",
       "    <tr>\n",
       "      <th>999</th>\n",
       "      <td>45.01</td>\n",
       "      <td>26.0</td>\n",
       "      <td>29875.80</td>\n",
       "      <td>178.35</td>\n",
       "      <td>Virtual 5thgeneration emulation</td>\n",
       "      <td>Ronniemouth</td>\n",
       "      <td>0</td>\n",
       "      <td>Brazil</td>\n",
       "      <td>6/3/2016 21:43</td>\n",
       "      <td>1</td>\n",
       "    </tr>\n",
       "  </tbody>\n",
       "</table>\n",
       "<p>1000 rows × 10 columns</p>\n",
       "</div>"
      ],
      "text/plain": [
       "     Daily Time Spent on Site   Age  Area Income  Daily Internet Usage  \\\n",
       "0                       68.95   NaN     61833.90                256.09   \n",
       "1                       80.23  31.0     68441.85                193.77   \n",
       "2                       69.47  26.0     59785.94                236.50   \n",
       "3                       74.15  29.0     54806.18                245.89   \n",
       "4                       68.37  35.0     73889.99                225.58   \n",
       "..                        ...   ...          ...                   ...   \n",
       "995                     72.97  30.0     71384.57                208.58   \n",
       "996                     51.30  45.0     67782.17                134.42   \n",
       "997                     51.63  51.0     42415.72                120.37   \n",
       "998                     55.55  19.0     41920.79                187.95   \n",
       "999                     45.01  26.0     29875.80                178.35   \n",
       "\n",
       "                             Ad Topic Line            City  Male  \\\n",
       "0       Cloned 5thgeneration orchestration     Wrightburgh     0   \n",
       "1       Monitored national standardization       West Jodi     1   \n",
       "2         Organic bottom-line service-desk        Davidton     0   \n",
       "3    Triple-buffered reciprocal time-frame  West Terrifurt     1   \n",
       "4            Robust logistical utilization    South Manuel     0   \n",
       "..                                     ...             ...   ...   \n",
       "995          Fundamental modular algorithm       Duffystad     1   \n",
       "996        Grass-roots cohesive monitoring     New Darlene     1   \n",
       "997           Expanded intangible solution   South Jessica     1   \n",
       "998   Proactive bandwidth-monitored policy     West Steven     0   \n",
       "999        Virtual 5thgeneration emulation     Ronniemouth     0   \n",
       "\n",
       "                    Country        Timestamp  Clicked on Ad  \n",
       "0                   Tunisia   3/27/2016 0:53              0  \n",
       "1                     Nauru    4/4/2016 1:39              0  \n",
       "2                San Marino  3/13/2016 20:35              0  \n",
       "3                     Italy   1/10/2016 2:31              0  \n",
       "4                   Iceland    6/3/2016 3:36              0  \n",
       "..                      ...              ...            ...  \n",
       "995                 Lebanon  2/11/2016 21:49              1  \n",
       "996  Bosnia and Herzegovina   4/22/2016 2:07              1  \n",
       "997                Mongolia   2/1/2016 17:24              1  \n",
       "998               Guatemala   3/24/2016 2:35              0  \n",
       "999                  Brazil   6/3/2016 21:43              1  \n",
       "\n",
       "[1000 rows x 10 columns]"
      ]
     },
     "execution_count": 26,
     "metadata": {},
     "output_type": "execute_result"
    }
   ],
   "source": [
    "data = pd.read_csv('https://raw.githubusercontent.com/haram4th/ablearn/main/advertising.csv')\n",
    "data"
   ]
  },
  {
   "cell_type": "code",
   "execution_count": 27,
   "id": "908c6b74-a687-415f-80fd-3e5dc7b21b74",
   "metadata": {},
   "outputs": [
    {
     "name": "stdout",
     "output_type": "stream",
     "text": [
      "<class 'pandas.core.frame.DataFrame'>\n",
      "RangeIndex: 1000 entries, 0 to 999\n",
      "Data columns (total 10 columns):\n",
      " #   Column                    Non-Null Count  Dtype  \n",
      "---  ------                    --------------  -----  \n",
      " 0   Daily Time Spent on Site  1000 non-null   float64\n",
      " 1   Age                       916 non-null    float64\n",
      " 2   Area Income               1000 non-null   float64\n",
      " 3   Daily Internet Usage      1000 non-null   float64\n",
      " 4   Ad Topic Line             1000 non-null   object \n",
      " 5   City                      1000 non-null   object \n",
      " 6   Male                      1000 non-null   int64  \n",
      " 7   Country                   1000 non-null   object \n",
      " 8   Timestamp                 1000 non-null   object \n",
      " 9   Clicked on Ad             1000 non-null   int64  \n",
      "dtypes: float64(4), int64(2), object(4)\n",
      "memory usage: 78.2+ KB\n"
     ]
    }
   ],
   "source": [
    "data.info()"
   ]
  },
  {
   "cell_type": "code",
   "execution_count": 28,
   "id": "8fdacf60-e11d-462f-bc14-daccfedfed95",
   "metadata": {},
   "outputs": [
    {
     "data": {
      "text/plain": [
       "np.int64(84)"
      ]
     },
     "execution_count": 28,
     "metadata": {},
     "output_type": "execute_result"
    }
   ],
   "source": [
    "data['Age'].isna().sum()"
   ]
  },
  {
   "cell_type": "code",
   "execution_count": 29,
   "id": "fc084db9-766e-4750-9831-9eacd8eb7915",
   "metadata": {},
   "outputs": [
    {
     "data": {
      "text/plain": [
       "count    916.000000\n",
       "mean      36.128821\n",
       "std        9.018548\n",
       "min       19.000000\n",
       "25%       29.000000\n",
       "50%       35.000000\n",
       "75%       42.000000\n",
       "max       61.000000\n",
       "Name: Age, dtype: float64"
      ]
     },
     "execution_count": 29,
     "metadata": {},
     "output_type": "execute_result"
    }
   ],
   "source": [
    "data['Age'].describe()"
   ]
  },
  {
   "cell_type": "code",
   "execution_count": 30,
   "id": "c2aea260-b344-4e63-86a6-d1c0d2c6eac0",
   "metadata": {},
   "outputs": [],
   "source": [
    "data['Age'] = data['Age'].fillna(data['Age'].mean())"
   ]
  },
  {
   "cell_type": "code",
   "execution_count": 31,
   "id": "a14d526e-1de7-49a7-8281-5fdf2ca2d172",
   "metadata": {},
   "outputs": [
    {
     "name": "stdout",
     "output_type": "stream",
     "text": [
      "<class 'pandas.core.frame.DataFrame'>\n",
      "RangeIndex: 1000 entries, 0 to 999\n",
      "Data columns (total 10 columns):\n",
      " #   Column                    Non-Null Count  Dtype  \n",
      "---  ------                    --------------  -----  \n",
      " 0   Daily Time Spent on Site  1000 non-null   float64\n",
      " 1   Age                       1000 non-null   float64\n",
      " 2   Area Income               1000 non-null   float64\n",
      " 3   Daily Internet Usage      1000 non-null   float64\n",
      " 4   Ad Topic Line             1000 non-null   object \n",
      " 5   City                      1000 non-null   object \n",
      " 6   Male                      1000 non-null   int64  \n",
      " 7   Country                   1000 non-null   object \n",
      " 8   Timestamp                 1000 non-null   object \n",
      " 9   Clicked on Ad             1000 non-null   int64  \n",
      "dtypes: float64(4), int64(2), object(4)\n",
      "memory usage: 78.2+ KB\n"
     ]
    }
   ],
   "source": [
    "data.info()"
   ]
  },
  {
   "cell_type": "code",
   "execution_count": 32,
   "id": "64a83def-2ef5-4498-b1c5-0b6aee14b41f",
   "metadata": {},
   "outputs": [
    {
     "data": {
      "text/plain": [
       "count     1000.000000\n",
       "mean     55000.000080\n",
       "std      13414.634022\n",
       "min      13996.500000\n",
       "25%      47031.802500\n",
       "50%      57012.300000\n",
       "75%      65470.635000\n",
       "max      79484.800000\n",
       "Name: Area Income, dtype: float64"
      ]
     },
     "execution_count": 32,
     "metadata": {},
     "output_type": "execute_result"
    }
   ],
   "source": [
    "data['Area Income'].describe()"
   ]
  },
  {
   "cell_type": "code",
   "execution_count": 33,
   "id": "8bde385b-755e-43ab-bbba-22ee52e3677b",
   "metadata": {},
   "outputs": [
    {
     "data": {
      "text/plain": [
       "19373.553749999992"
      ]
     },
     "execution_count": 33,
     "metadata": {},
     "output_type": "execute_result"
    }
   ],
   "source": [
    "47031.802500 - 1.5 * (65470.635000 - 47031.802500)"
   ]
  },
  {
   "cell_type": "code",
   "execution_count": 34,
   "id": "b3cb29ef-87ed-4ff6-972b-106dfd8cafbd",
   "metadata": {},
   "outputs": [
    {
     "data": {
      "text/html": [
       "<div>\n",
       "<style scoped>\n",
       "    .dataframe tbody tr th:only-of-type {\n",
       "        vertical-align: middle;\n",
       "    }\n",
       "\n",
       "    .dataframe tbody tr th {\n",
       "        vertical-align: top;\n",
       "    }\n",
       "\n",
       "    .dataframe thead th {\n",
       "        text-align: right;\n",
       "    }\n",
       "</style>\n",
       "<table border=\"1\" class=\"dataframe\">\n",
       "  <thead>\n",
       "    <tr style=\"text-align: right;\">\n",
       "      <th></th>\n",
       "      <th>Daily Time Spent on Site</th>\n",
       "      <th>Age</th>\n",
       "      <th>Area Income</th>\n",
       "      <th>Daily Internet Usage</th>\n",
       "      <th>Ad Topic Line</th>\n",
       "      <th>City</th>\n",
       "      <th>Male</th>\n",
       "      <th>Country</th>\n",
       "      <th>Timestamp</th>\n",
       "      <th>Clicked on Ad</th>\n",
       "    </tr>\n",
       "  </thead>\n",
       "  <tbody>\n",
       "    <tr>\n",
       "      <th>135</th>\n",
       "      <td>49.89</td>\n",
       "      <td>39.000000</td>\n",
       "      <td>17709.98</td>\n",
       "      <td>160.03</td>\n",
       "      <td>Enhanced system-worthy application</td>\n",
       "      <td>East Michele</td>\n",
       "      <td>1</td>\n",
       "      <td>Belize</td>\n",
       "      <td>4/16/2016 12:09</td>\n",
       "      <td>1</td>\n",
       "    </tr>\n",
       "    <tr>\n",
       "      <th>410</th>\n",
       "      <td>48.09</td>\n",
       "      <td>33.000000</td>\n",
       "      <td>19345.36</td>\n",
       "      <td>180.42</td>\n",
       "      <td>Balanced motivating help-desk</td>\n",
       "      <td>West Travismouth</td>\n",
       "      <td>0</td>\n",
       "      <td>Heard Island and McDonald Islands</td>\n",
       "      <td>5/28/2016 12:38</td>\n",
       "      <td>1</td>\n",
       "    </tr>\n",
       "    <tr>\n",
       "      <th>510</th>\n",
       "      <td>57.86</td>\n",
       "      <td>30.000000</td>\n",
       "      <td>18819.34</td>\n",
       "      <td>166.86</td>\n",
       "      <td>Horizontal modular success</td>\n",
       "      <td>Estesfurt</td>\n",
       "      <td>0</td>\n",
       "      <td>Algeria</td>\n",
       "      <td>7/8/2016 17:14</td>\n",
       "      <td>1</td>\n",
       "    </tr>\n",
       "    <tr>\n",
       "      <th>640</th>\n",
       "      <td>64.63</td>\n",
       "      <td>45.000000</td>\n",
       "      <td>15598.29</td>\n",
       "      <td>158.80</td>\n",
       "      <td>Triple-buffered high-level Internet solution</td>\n",
       "      <td>Isaacborough</td>\n",
       "      <td>1</td>\n",
       "      <td>Azerbaijan</td>\n",
       "      <td>6/12/2016 3:11</td>\n",
       "      <td>1</td>\n",
       "    </tr>\n",
       "    <tr>\n",
       "      <th>665</th>\n",
       "      <td>58.05</td>\n",
       "      <td>36.128821</td>\n",
       "      <td>15879.10</td>\n",
       "      <td>195.54</td>\n",
       "      <td>Total asynchronous architecture</td>\n",
       "      <td>Sanderstown</td>\n",
       "      <td>1</td>\n",
       "      <td>Tajikistan</td>\n",
       "      <td>2/12/2016 10:39</td>\n",
       "      <td>1</td>\n",
       "    </tr>\n",
       "    <tr>\n",
       "      <th>692</th>\n",
       "      <td>66.26</td>\n",
       "      <td>47.000000</td>\n",
       "      <td>14548.06</td>\n",
       "      <td>179.04</td>\n",
       "      <td>Optional full-range projection</td>\n",
       "      <td>Matthewtown</td>\n",
       "      <td>1</td>\n",
       "      <td>Lebanon</td>\n",
       "      <td>4/25/2016 19:31</td>\n",
       "      <td>1</td>\n",
       "    </tr>\n",
       "    <tr>\n",
       "      <th>768</th>\n",
       "      <td>68.58</td>\n",
       "      <td>41.000000</td>\n",
       "      <td>13996.50</td>\n",
       "      <td>171.54</td>\n",
       "      <td>Exclusive discrete firmware</td>\n",
       "      <td>New Williamville</td>\n",
       "      <td>1</td>\n",
       "      <td>El Salvador</td>\n",
       "      <td>7/6/2016 12:04</td>\n",
       "      <td>1</td>\n",
       "    </tr>\n",
       "    <tr>\n",
       "      <th>778</th>\n",
       "      <td>52.67</td>\n",
       "      <td>44.000000</td>\n",
       "      <td>14775.50</td>\n",
       "      <td>191.26</td>\n",
       "      <td>Persevering 5thgeneration knowledge user</td>\n",
       "      <td>New Hollyberg</td>\n",
       "      <td>0</td>\n",
       "      <td>Jersey</td>\n",
       "      <td>5/19/2016 6:37</td>\n",
       "      <td>1</td>\n",
       "    </tr>\n",
       "    <tr>\n",
       "      <th>952</th>\n",
       "      <td>62.79</td>\n",
       "      <td>36.000000</td>\n",
       "      <td>18368.57</td>\n",
       "      <td>231.87</td>\n",
       "      <td>Total coherent archive</td>\n",
       "      <td>New James</td>\n",
       "      <td>1</td>\n",
       "      <td>Luxembourg</td>\n",
       "      <td>5/30/2016 20:08</td>\n",
       "      <td>1</td>\n",
       "    </tr>\n",
       "  </tbody>\n",
       "</table>\n",
       "</div>"
      ],
      "text/plain": [
       "     Daily Time Spent on Site        Age  Area Income  Daily Internet Usage  \\\n",
       "135                     49.89  39.000000     17709.98                160.03   \n",
       "410                     48.09  33.000000     19345.36                180.42   \n",
       "510                     57.86  30.000000     18819.34                166.86   \n",
       "640                     64.63  45.000000     15598.29                158.80   \n",
       "665                     58.05  36.128821     15879.10                195.54   \n",
       "692                     66.26  47.000000     14548.06                179.04   \n",
       "768                     68.58  41.000000     13996.50                171.54   \n",
       "778                     52.67  44.000000     14775.50                191.26   \n",
       "952                     62.79  36.000000     18368.57                231.87   \n",
       "\n",
       "                                    Ad Topic Line              City  Male  \\\n",
       "135            Enhanced system-worthy application      East Michele     1   \n",
       "410                 Balanced motivating help-desk  West Travismouth     0   \n",
       "510                    Horizontal modular success         Estesfurt     0   \n",
       "640  Triple-buffered high-level Internet solution      Isaacborough     1   \n",
       "665               Total asynchronous architecture       Sanderstown     1   \n",
       "692                Optional full-range projection       Matthewtown     1   \n",
       "768                   Exclusive discrete firmware  New Williamville     1   \n",
       "778      Persevering 5thgeneration knowledge user     New Hollyberg     0   \n",
       "952                        Total coherent archive         New James     1   \n",
       "\n",
       "                               Country        Timestamp  Clicked on Ad  \n",
       "135                             Belize  4/16/2016 12:09              1  \n",
       "410  Heard Island and McDonald Islands  5/28/2016 12:38              1  \n",
       "510                            Algeria   7/8/2016 17:14              1  \n",
       "640                         Azerbaijan   6/12/2016 3:11              1  \n",
       "665                         Tajikistan  2/12/2016 10:39              1  \n",
       "692                            Lebanon  4/25/2016 19:31              1  \n",
       "768                        El Salvador   7/6/2016 12:04              1  \n",
       "778                             Jersey   5/19/2016 6:37              1  \n",
       "952                         Luxembourg  5/30/2016 20:08              1  "
      ]
     },
     "execution_count": 34,
     "metadata": {},
     "output_type": "execute_result"
    }
   ],
   "source": [
    "data[data['Area Income'] < 19373.553749999992]"
   ]
  },
  {
   "cell_type": "code",
   "execution_count": 35,
   "id": "f0e45b76-eb4c-49d7-b969-35dee288c7ea",
   "metadata": {},
   "outputs": [
    {
     "data": {
      "text/plain": [
       "<Axes: xlabel='Age', ylabel='Count'>"
      ]
     },
     "execution_count": 35,
     "metadata": {},
     "output_type": "execute_result"
    },
    {
     "data": {
      "image/png": "[encoded data removed]",
      "text/plain": [
       "<Figure size 640x480 with 1 Axes>"
      ]
     },
     "metadata": {},
     "output_type": "display_data"
    }
   ],
   "source": [
    "sns.histplot(data['Age'])"
   ]
  },
  {
   "cell_type": "code",
   "execution_count": 36,
   "id": "77505bd1-027b-420a-b8b2-4a0d1b2bb2f5",
   "metadata": {},
   "outputs": [
    {
     "data": {
      "text/plain": [
       "<Axes: xlabel='Area Income', ylabel='Count'>"
      ]
     },
     "execution_count": 36,
     "metadata": {},
     "output_type": "execute_result"
    },
    {
     "data": {
      "image/png": "[encoded data removed]",
      "text/plain": [
       "<Figure size 640x480 with 1 Axes>"
      ]
     },
     "metadata": {},
     "output_type": "display_data"
    }
   ],
   "source": [
    "sns.histplot(data['Area Income'])"
   ]
  },
  {
   "cell_type": "code",
   "execution_count": 37,
   "id": "b2eb0fc1-76fe-421a-a58a-bf6bfc313739",
   "metadata": {},
   "outputs": [
    {
     "data": {
      "text/plain": [
       "count    1000.000000\n",
       "mean       65.000200\n",
       "std        15.853615\n",
       "min        32.600000\n",
       "25%        51.360000\n",
       "50%        68.215000\n",
       "75%        78.547500\n",
       "max        91.430000\n",
       "Name: Daily Time Spent on Site, dtype: float64"
      ]
     },
     "execution_count": 37,
     "metadata": {},
     "output_type": "execute_result"
    }
   ],
   "source": [
    "data['Daily Time Spent on Site'].describe()"
   ]
  },
  {
   "cell_type": "code",
   "execution_count": 38,
   "id": "a1fddf2b-8274-414f-9105-324c2e883ead",
   "metadata": {},
   "outputs": [
    {
     "data": {
      "text/plain": [
       "<Axes: xlabel='Daily Time Spent on Site', ylabel='Count'>"
      ]
     },
     "execution_count": 38,
     "metadata": {},
     "output_type": "execute_result"
    },
    {
     "data": {
      "image/png": "[encoded data removed]",
      "text/plain": [
       "<Figure size 640x480 with 1 Axes>"
      ]
     },
     "metadata": {},
     "output_type": "display_data"
    }
   ],
   "source": [
    "sns.histplot(x = 'Daily Time Spent on Site', hue = 'Clicked on Ad', data = data)"
   ]
  },
  {
   "cell_type": "code",
   "execution_count": 39,
   "id": "0f923374-1b19-46df-896e-8075430a8c6b",
   "metadata": {},
   "outputs": [
    {
     "data": {
      "text/plain": [
       "<Axes: xlabel='Daily Internet Usage', ylabel='Count'>"
      ]
     },
     "execution_count": 39,
     "metadata": {},
     "output_type": "execute_result"
    },
    {
     "data": {
      "image/png": "[encoded data removed]",
      "text/plain": [
       "<Figure size 640x480 with 1 Axes>"
      ]
     },
     "metadata": {},
     "output_type": "display_data"
    }
   ],
   "source": [
    "sns.histplot(x = 'Daily Internet Usage', hue = 'Clicked on Ad', data = data)"
   ]
  },
  {
   "cell_type": "code",
   "execution_count": 40,
   "id": "b6763fd0-2d0e-4923-9af9-9e390e65a01e",
   "metadata": {},
   "outputs": [
    {
     "data": {
      "text/plain": [
       "<Axes: xlabel='Male', ylabel='Count'>"
      ]
     },
     "execution_count": 40,
     "metadata": {},
     "output_type": "execute_result"
    },
    {
     "data": {
      "image/png": "[encoded data removed]",
      "text/plain": [
       "<Figure size 640x480 with 1 Axes>"
      ]
     },
     "metadata": {},
     "output_type": "display_data"
    }
   ],
   "source": [
    "sns.histplot(x = 'Male', hue = 'Clicked on Ad', data = data)"
   ]
  },
  {
   "cell_type": "code",
   "execution_count": 41,
   "id": "0db3ef93-4a80-4130-aac0-6b102591ed99",
   "metadata": {},
   "outputs": [
    {
     "data": {
      "text/plain": [
       "<Axes: xlabel='Age', ylabel='Count'>"
      ]
     },
     "execution_count": 41,
     "metadata": {},
     "output_type": "execute_result"
    },
    {
     "data": {
      "image/png": "[encoded data removed]",
      "text/plain": [
       "<Figure size 640x480 with 1 Axes>"
      ]
     },
     "metadata": {},
     "output_type": "display_data"
    }
   ],
   "source": [
    "sns.histplot(x = 'Age', hue = 'Clicked on Ad', data = data)"
   ]
  },
  {
   "cell_type": "code",
   "execution_count": 42,
   "id": "a961495c-5820-436e-9bcc-0cb9c4508ca3",
   "metadata": {},
   "outputs": [
    {
     "data": {
      "text/plain": [
       "<Axes: xlabel='Area Income', ylabel='Count'>"
      ]
     },
     "execution_count": 42,
     "metadata": {},
     "output_type": "execute_result"
    },
    {
     "data": {
      "image/png": "[encoded data removed]",
      "text/plain": [
       "<Figure size 640x480 with 1 Axes>"
      ]
     },
     "metadata": {},
     "output_type": "display_data"
    }
   ],
   "source": [
    "sns.histplot(x = 'Area Income', hue = 'Clicked on Ad', data = data)"
   ]
  },
  {
   "cell_type": "code",
   "execution_count": 43,
   "id": "f3e70f78-750f-4e2a-87d4-fe5e036ae1e3",
   "metadata": {},
   "outputs": [],
   "source": [
    "X = data.drop(['Ad Topic Line', 'City', 'Country', 'Timestamp', 'Clicked on Ad'], axis = 1)\n",
    "y = data['Clicked on Ad']"
   ]
  },
  {
   "cell_type": "code",
   "execution_count": 44,
   "id": "56a0fa01-1163-4467-b7f6-9ade7ed848ee",
   "metadata": {},
   "outputs": [
    {
     "data": {
      "text/plain": [
       "Index(['DailyTimeSpentonSite', 'Age', 'AreaIncome', 'DailyInternetUsage',\n",
       "       'Male'],\n",
       "      dtype='object')"
      ]
     },
     "execution_count": 44,
     "metadata": {},
     "output_type": "execute_result"
    }
   ],
   "source": [
    "X.columns = [col.replace(' ', '') for col in X.columns]\n",
    "X.columns"
   ]
  },
  {
   "cell_type": "code",
   "execution_count": 45,
   "id": "4a56a15b-a80e-4f29-8435-b5c3143bd6ff",
   "metadata": {},
   "outputs": [],
   "source": [
    "from sklearn.preprocessing import RobustScaler\n",
    "rb = RobustScaler()\n",
    "X_scaled = rb.fit_transform(X)\n",
    "X_scaled = pd.DataFrame(X_scaled, columns = X.columns)"
   ]
  },
  {
   "cell_type": "code",
   "execution_count": 46,
   "id": "4c59c484-45cd-4452-b1df-b934eefea385",
   "metadata": {},
   "outputs": [],
   "source": [
    "from sklearn.model_selection import train_test_split"
   ]
  },
  {
   "cell_type": "code",
   "execution_count": 47,
   "id": "2588b181-a3cd-4ccb-8c1e-4c811e8a3652",
   "metadata": {},
   "outputs": [],
   "source": [
    "X_train, X_test, y_train, y_test = train_test_split(X_scaled, y, test_size = 0.3, random_state = 3)"
   ]
  },
  {
   "cell_type": "code",
   "execution_count": 48,
   "id": "4131aeca-5453-4dd3-a0b9-1f9363f64115",
   "metadata": {},
   "outputs": [],
   "source": [
    "# 가우시안 나이브베이즈를 이용해 분류분석\n",
    "from sklearn.naive_bayes import GaussianNB\n",
    "from sklearn.metrics import accuracy_score, classification_report"
   ]
  },
  {
   "cell_type": "code",
   "execution_count": 50,
   "id": "22b64177-5b13-4571-8a4a-fbd88a9f2941",
   "metadata": {},
   "outputs": [
    {
     "name": "stdout",
     "output_type": "stream",
     "text": [
      "0.9566666666666667\n",
      "              precision    recall  f1-score   support\n",
      "\n",
      "           0       0.95      0.96      0.96       148\n",
      "           1       0.96      0.95      0.96       152\n",
      "\n",
      "    accuracy                           0.96       300\n",
      "   macro avg       0.96      0.96      0.96       300\n",
      "weighted avg       0.96      0.96      0.96       300\n",
      "\n"
     ]
    }
   ],
   "source": [
    "gnb = GaussianNB()\n",
    "gnb.fit(X_train, y_train)\n",
    "pred = gnb.predict(X_test)\n",
    "print(accuracy_score(y_test, pred))\n",
    "print(classification_report(y_test, pred))"
   ]
  },
  {
   "cell_type": "code",
   "execution_count": null,
   "id": "4a458ce7-2927-4a3b-9c66-ab9508809d6e",
   "metadata": {},
   "outputs": [],
   "source": []
  },
  {
   "cell_type": "code",
   "execution_count": null,
   "id": "38cc0ed1-f621-44fa-842d-df8959580cba",
   "metadata": {},
   "outputs": [],
   "source": []
  },
  {
   "cell_type": "code",
   "execution_count": null,
   "id": "f6477c65-cb3a-4321-8050-6f443381afab",
   "metadata": {},
   "outputs": [],
   "source": []
  },
  {
   "cell_type": "code",
   "execution_count": null,
   "id": "d873a464-7fd4-438b-8160-3953085a5e55",
   "metadata": {},
   "outputs": [],
   "source": []
  },
  {
   "cell_type": "code",
   "execution_count": null,
   "id": "a82b1045-1b00-44db-827f-83e9fa728127",
   "metadata": {},
   "outputs": [],
   "source": []
  },
  {
   "cell_type": "code",
   "execution_count": null,
   "id": "8666e258-1a61-44e0-8703-c445fa1512a9",
   "metadata": {},
   "outputs": [],
   "source": []
  },
  {
   "cell_type": "code",
   "execution_count": null,
   "id": "bdf221e7-8d30-46d0-be0d-29381475ff4d",
   "metadata": {},
   "outputs": [],
   "source": []
  },
  {
   "cell_type": "code",
   "execution_count": null,
   "id": "49b60857-a415-4498-98d4-77fcceafa1a6",
   "metadata": {},
   "outputs": [],
   "source": []
  },
  {
   "cell_type": "code",
   "execution_count": null,
   "id": "978cb963-48cf-43c5-ae46-d99ccb0b0117",
   "metadata": {},
   "outputs": [],
   "source": []
  },
  {
   "cell_type": "code",
   "execution_count": null,
   "id": "d67f0cae-3196-45fc-8e00-ea2b4579b72e",
   "metadata": {},
   "outputs": [],
   "source": []
  },
  {
   "cell_type": "code",
   "execution_count": null,
   "id": "f0459de8-997d-4265-a76f-4d90f09dc8d1",
   "metadata": {},
   "outputs": [],
   "source": []
  },
  {
   "cell_type": "code",
   "execution_count": null,
   "id": "498b730e-d22a-4597-ab91-072a5a4a5bed",
   "metadata": {},
   "outputs": [],
   "source": []
  },
  {
   "cell_type": "code",
   "execution_count": null,
   "id": "bf10491b-db43-4560-bc00-f2d3710da470",
   "metadata": {},
   "outputs": [],
   "source": []
  },
  {
   "cell_type": "code",
   "execution_count": null,
   "id": "40292e78-77ff-4f31-8510-ea9b78e05aee",
   "metadata": {},
   "outputs": [],
   "source": []
  },
  {
   "cell_type": "code",
   "execution_count": null,
   "id": "d5fda8a4-9450-496a-981c-c79fca22b68c",
   "metadata": {},
   "outputs": [],
   "source": []
  }
 ],
 "metadata": {
  "kernelspec": {
   "display_name": "Python 3 (ipykernel)",
   "language": "python",
   "name": "python3"
  },
  "language_info": {
   "codemirror_mode": {
    "name": "ipython",
    "version": 3
   },
   "file_extension": ".py",
   "mimetype": "text/x-python",
   "name": "python",
   "nbconvert_exporter": "python",
   "pygments_lexer": "ipython3",
   "version": "3.10.14"
  }
 },
 "nbformat": 4,
 "nbformat_minor": 5
}
