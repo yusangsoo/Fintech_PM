{
 "cells": [
  {
   "cell_type": "code",
   "execution_count": 1,
   "id": "4af37b37-4e8b-4906-8231-4ffca0295734",
   "metadata": {},
   "outputs": [],
   "source": [
    "import pandas as pd\n",
    "import numpy as np\n",
    "import matplotlib.pyplot as plt\n",
    "import seaborn as sns\n",
    "import string"
   ]
  },
  {
   "cell_type": "code",
   "execution_count": 38,
   "id": "c18d797f-7659-423d-b68b-74af6b51ad96",
   "metadata": {},
   "outputs": [
    {
     "name": "stdout",
     "output_type": "stream",
     "text": [
      "Requirement already satisfied: koreanize-matplotlib in /home/user/miniforge3/envs/nlp/lib/python3.10/site-packages (0.1.1)\n",
      "Requirement already satisfied: matplotlib in /home/user/miniforge3/envs/nlp/lib/python3.10/site-packages (from koreanize-matplotlib) (3.9.2)\n",
      "Requirement already satisfied: contourpy>=1.0.1 in /home/user/miniforge3/envs/nlp/lib/python3.10/site-packages (from matplotlib->koreanize-matplotlib) (1.3.0)\n",
      "Requirement already satisfied: cycler>=0.10 in /home/user/miniforge3/envs/nlp/lib/python3.10/site-packages (from matplotlib->koreanize-matplotlib) (0.12.1)\n",
      "Requirement already satisfied: fonttools>=4.22.0 in /home/user/miniforge3/envs/nlp/lib/python3.10/site-packages (from matplotlib->koreanize-matplotlib) (4.53.1)\n",
      "Requirement already satisfied: kiwisolver>=1.3.1 in /home/user/miniforge3/envs/nlp/lib/python3.10/site-packages (from matplotlib->koreanize-matplotlib) (1.4.5)\n",
      "Requirement already satisfied: numpy>=1.23 in /home/user/miniforge3/envs/nlp/lib/python3.10/site-packages (from matplotlib->koreanize-matplotlib) (2.1.0)\n",
      "Requirement already satisfied: packaging>=20.0 in /home/user/miniforge3/envs/nlp/lib/python3.10/site-packages (from matplotlib->koreanize-matplotlib) (24.1)\n",
      "Requirement already satisfied: pillow>=8 in /home/user/miniforge3/envs/nlp/lib/python3.10/site-packages (from matplotlib->koreanize-matplotlib) (10.4.0)\n",
      "Requirement already satisfied: pyparsing>=2.3.1 in /home/user/miniforge3/envs/nlp/lib/python3.10/site-packages (from matplotlib->koreanize-matplotlib) (3.1.4)\n",
      "Requirement already satisfied: python-dateutil>=2.7 in /home/user/miniforge3/envs/nlp/lib/python3.10/site-packages (from matplotlib->koreanize-matplotlib) (2.9.0)\n",
      "Requirement already satisfied: six>=1.5 in /home/user/miniforge3/envs/nlp/lib/python3.10/site-packages (from python-dateutil>=2.7->matplotlib->koreanize-matplotlib) (1.16.0)\n"
     ]
    }
   ],
   "source": [
    "# 표 그릴 때 한국어 나오게 하는 거\n",
    "# !pip install koreanize-matplotlib"
   ]
  },
  {
   "cell_type": "code",
   "execution_count": 39,
   "id": "5cdb2a10-f607-4595-b4d4-a8fccc21fffc",
   "metadata": {},
   "outputs": [],
   "source": [
    "import koreanize_matplotlib"
   ]
  },
  {
   "cell_type": "code",
   "execution_count": 2,
   "id": "8b77865d-f920-4713-bed6-8218e0c2c4c9",
   "metadata": {},
   "outputs": [],
   "source": [
    "train_df = pd.read_csv(\"https://raw.githubusercontent.com/haram4th/ablearn/main/ratings_train.txt\", sep='\\t')\n",
    "test_df = pd.read_csv(\"https://raw.githubusercontent.com/haram4th/ablearn/main/ratings_test.txt\", sep='\\t' )"
   ]
  },
  {
   "cell_type": "code",
   "execution_count": 3,
   "id": "5026e94d-3ae0-41f7-83c0-900ae48794be",
   "metadata": {},
   "outputs": [
    {
     "data": {
      "text/plain": [
       "0                                       아 더빙.. 진짜 짜증나네요 목소리\n",
       "1                         흠...포스터보고 초딩영화줄....오버연기조차 가볍지 않구나\n",
       "2                                         너무재밓었다그래서보는것을추천한다\n",
       "3                             교도소 이야기구먼 ..솔직히 재미는 없다..평점 조정\n",
       "4         사이몬페그의 익살스런 연기가 돋보였던 영화!스파이더맨에서 늙어보이기만 했던 커스틴 ...\n",
       "                                ...                        \n",
       "149995                                  인간이 문제지.. 소는 뭔죄인가..\n",
       "149996                                        평점이 너무 낮아서...\n",
       "149997                      이게 뭐요? 한국인은 거들먹거리고 필리핀 혼혈은 착하다?\n",
       "149998                          청춘 영화의 최고봉.방황과 우울했던 날들의 자화상\n",
       "149999                             한국 영화 최초로 수간하는 내용이 담긴 영화\n",
       "Name: document, Length: 150000, dtype: object"
      ]
     },
     "execution_count": 3,
     "metadata": {},
     "output_type": "execute_result"
    }
   ],
   "source": [
    "train_df['document']"
   ]
  },
  {
   "cell_type": "code",
   "execution_count": 4,
   "id": "07faa8f3-034e-4b5b-b7ed-5119e0224361",
   "metadata": {},
   "outputs": [],
   "source": [
    "train_df = train_df.dropna()\n",
    "test_df = test_df.dropna()"
   ]
  },
  {
   "cell_type": "markdown",
   "id": "7671a321-64ac-4d61-a9c2-0ea931abccad",
   "metadata": {},
   "source": [
    "# 정규표현식 re\n",
    "- import re\n",
    "- pattern = r'[가-힣0-9a-zA-Z]+' 한글, 숫자, 영어 대소문자만 추출\n",
    "- matches = re.findall(pattern, data)"
   ]
  },
  {
   "cell_type": "code",
   "execution_count": 5,
   "id": "fb1db634-fdd5-41c3-ba7b-aac80500e30a",
   "metadata": {},
   "outputs": [],
   "source": [
    "import re"
   ]
  },
  {
   "cell_type": "code",
   "execution_count": 6,
   "id": "882520cf-186d-4675-8b11-02f2c13f4766",
   "metadata": {},
   "outputs": [],
   "source": [
    "def text_clean(x) :\n",
    "    pattern = r'[가-힣0-9a-zA-Z]+'\n",
    "    matches = re.findall(pattern, x)\n",
    "    matches = \" \".join(matches)\n",
    "    return matches"
   ]
  },
  {
   "cell_type": "code",
   "execution_count": 7,
   "id": "3e5c2669-2c45-42af-b043-7bbab5e7c9c0",
   "metadata": {
    "scrolled": true
   },
   "outputs": [],
   "source": [
    "train_df['document'] = train_df['document'].apply(text_clean)\n",
    "test_df['document'] = test_df['document'].apply(text_clean)"
   ]
  },
  {
   "cell_type": "code",
   "execution_count": 8,
   "id": "1ada1bb6-382a-4324-9829-baed53b98aac",
   "metadata": {},
   "outputs": [],
   "source": [
    "train_X = train_df['document']\n",
    "test_X = test_df['document']"
   ]
  },
  {
   "cell_type": "code",
   "execution_count": 9,
   "id": "1eb066c2-f388-4078-92a6-99a5b8cbacfe",
   "metadata": {},
   "outputs": [],
   "source": [
    "train_y = train_df['label']\n",
    "test_y = test_df['label']"
   ]
  },
  {
   "cell_type": "markdown",
   "id": "ce0888fd-6d64-45c0-80c6-a5f42de9b066",
   "metadata": {},
   "source": [
    "카운터벡터화하기"
   ]
  },
  {
   "cell_type": "code",
   "execution_count": 10,
   "id": "ca87d6dd-6dd7-4083-9744-895d7815cc00",
   "metadata": {},
   "outputs": [],
   "source": [
    "from sklearn.feature_extraction.text import CountVectorizer"
   ]
  },
  {
   "cell_type": "code",
   "execution_count": 11,
   "id": "8b1d0a84-2b1d-44ec-8a0d-bdf84f08d7aa",
   "metadata": {},
   "outputs": [],
   "source": [
    "cv = CountVectorizer()\n",
    "train_X_cv = cv.fit_transform(train_X)\n",
    "# fit_transform은 fit으로 모델을 만들고 transform으로 결과를 내는 건데 test에도 fit을 하면 test로 다시 fit을 하게 되는 거\n",
    "# test_X_cv = cv.fit_transform(test_X)\n",
    "test_X_cv = cv.transform(test_X)"
   ]
  },
  {
   "cell_type": "code",
   "execution_count": 12,
   "id": "7bde05b9-6596-4577-a9af-a4decc2095fa",
   "metadata": {},
   "outputs": [],
   "source": [
    "from sklearn.model_selection import train_test_split\n",
    "from sklearn.metrics import accuracy_score, classification_report\n",
    "from sklearn.naive_bayes import MultinomialNB"
   ]
  },
  {
   "cell_type": "code",
   "execution_count": 13,
   "id": "44ad4c61-115a-491e-879f-7a9f4d85dbbc",
   "metadata": {},
   "outputs": [],
   "source": [
    "X_train, X_test, y_train, y_test = train_test_split(train_X_cv, train_y, test_size = 0.4, random_state = 7)"
   ]
  },
  {
   "cell_type": "code",
   "execution_count": 14,
   "id": "a48b71db-7dd2-4e4a-a6a0-99be26e1b67c",
   "metadata": {},
   "outputs": [
    {
     "name": "stdout",
     "output_type": "stream",
     "text": [
      "0.8213773792459749\n",
      "              precision    recall  f1-score   support\n",
      "\n",
      "           0       0.85      0.78      0.82     30158\n",
      "           1       0.80      0.86      0.83     29840\n",
      "\n",
      "    accuracy                           0.82     59998\n",
      "   macro avg       0.82      0.82      0.82     59998\n",
      "weighted avg       0.82      0.82      0.82     59998\n",
      "\n"
     ]
    }
   ],
   "source": [
    "mnb = MultinomialNB()\n",
    "mnb.fit(X_train, y_train)\n",
    "pred = mnb.predict(X_test)\n",
    "print(accuracy_score(y_test, pred))\n",
    "print(classification_report(y_test, pred))"
   ]
  },
  {
   "cell_type": "code",
   "execution_count": 15,
   "id": "d3ca77b0-4962-412e-8cf2-e528442c768d",
   "metadata": {
    "scrolled": true
   },
   "outputs": [
    {
     "name": "stdout",
     "output_type": "stream",
     "text": [
      "0.8183691021461288\n",
      "              precision    recall  f1-score   support\n",
      "\n",
      "           0       0.81      0.83      0.82     24826\n",
      "           1       0.83      0.81      0.82     25171\n",
      "\n",
      "    accuracy                           0.82     49997\n",
      "   macro avg       0.82      0.82      0.82     49997\n",
      "weighted avg       0.82      0.82      0.82     49997\n",
      "\n"
     ]
    }
   ],
   "source": [
    "test_pred = mnb.predict(test_X_cv)\n",
    "print(accuracy_score(test_y, test_pred))\n",
    "print(classification_report(test_y, test_pred))"
   ]
  },
  {
   "cell_type": "code",
   "execution_count": null,
   "id": "fec06a59-e4b5-4c03-8e90-9c6865cf3261",
   "metadata": {},
   "outputs": [],
   "source": []
  },
  {
   "cell_type": "markdown",
   "id": "9e5db0b9-b8d4-444d-b7a6-96b16d51ec59",
   "metadata": {},
   "source": [
    "# Konlpy의 Mecab을 이용해 형태소 분리"
   ]
  },
  {
   "cell_type": "code",
   "execution_count": 16,
   "id": "273e0b19-67d5-40c8-99bf-e3ad5f7a31f3",
   "metadata": {},
   "outputs": [],
   "source": [
    "from konlpy.tag import Mecab\n",
    "mecab = Mecab()"
   ]
  },
  {
   "cell_type": "code",
   "execution_count": 21,
   "id": "350a6b81-d8b9-48c8-b600-6eaf8663b10a",
   "metadata": {},
   "outputs": [],
   "source": [
    "def tokenizer(text) :\n",
    "    tokens = mecab.morphs(text)\n",
    "    return tokens"
   ]
  },
  {
   "cell_type": "code",
   "execution_count": 22,
   "id": "e56a9b18-4ffb-4790-a705-4b56720ba7c8",
   "metadata": {},
   "outputs": [
    {
     "data": {
      "text/plain": [
       "['아', '더', '빙', '진짜', '짜증', '나', '네요', '목소리']"
      ]
     },
     "execution_count": 22,
     "metadata": {},
     "output_type": "execute_result"
    }
   ],
   "source": [
    "tokenizer(train_df['document'][0])"
   ]
  },
  {
   "cell_type": "code",
   "execution_count": null,
   "id": "20e3ca67-b5f8-4523-9248-d283172e2b78",
   "metadata": {},
   "outputs": [],
   "source": []
  },
  {
   "cell_type": "code",
   "execution_count": null,
   "id": "a2ddf617-ec88-4aaa-a065-80d5d2a0c962",
   "metadata": {},
   "outputs": [],
   "source": []
  },
  {
   "cell_type": "code",
   "execution_count": 31,
   "id": "c9bcb805-50af-4209-ad57-f8d6b009b743",
   "metadata": {},
   "outputs": [],
   "source": [
    "words = train_df['document'].apply(tokenizer)"
   ]
  },
  {
   "cell_type": "code",
   "execution_count": 32,
   "id": "7edaff3f-4876-442e-b204-490d0ad7c537",
   "metadata": {},
   "outputs": [
    {
     "data": {
      "text/plain": [
       "0                             [아, 더, 빙, 진짜, 짜증, 나, 네요, 목소리]\n",
       "1         [흠, 포스터, 보고, 초딩, 영화, 줄, 오버, 연기, 조차, 가볍, 지, 않, 구나]\n",
       "2                                   [너무, 재, 밓었다그래서보는것을추천한다]\n",
       "3                  [교도소, 이야기, 구먼, 솔직히, 재미, 는, 없, 다, 평점, 조정]\n",
       "4         [사이몬페그, 의, 익살, 스런, 연기, 가, 돋보였, 던, 영화, 스파이더맨, 에...\n",
       "                                ...                        \n",
       "149995                         [인간, 이, 문제지, 소, 는, 뭔, 죄, 인가]\n",
       "149996                                   [평점, 이, 너무, 낮, 아서]\n",
       "149997      [이게, 뭐, 요, 한국인, 은, 거들먹거리, 고, 필리핀, 혼혈, 은, 착하, 다]\n",
       "149998      [청춘, 영화, 의, 최고봉, 방황, 과, 우울, 했, 던, 날, 들, 의, 자화상]\n",
       "149999             [한국, 영화, 최초, 로, 수간, 하, 는, 내용, 이, 담긴, 영화]\n",
       "Name: document, Length: 149995, dtype: object"
      ]
     },
     "execution_count": 32,
     "metadata": {},
     "output_type": "execute_result"
    }
   ],
   "source": [
    "words"
   ]
  },
  {
   "cell_type": "code",
   "execution_count": 35,
   "id": "d8890b34-143c-4a66-adbd-9d4084d544fb",
   "metadata": {},
   "outputs": [],
   "source": [
    "whole_words = []\n",
    "for i in words :\n",
    "    ss = ''.join(i)\n",
    "    for word in ss.split(',') :\n",
    "        whole_words.append(word)"
   ]
  },
  {
   "cell_type": "code",
   "execution_count": 36,
   "id": "1940890d-c66f-4555-8966-54cc1b26ce5a",
   "metadata": {
    "scrolled": true
   },
   "outputs": [
    {
     "data": {
      "text/plain": [
       "FreqDist({'': 617, '굿': 239, '최고': 162, '별로': 123, '쓰레기': 114, 'good': 110, '재미없다': 101, '재밌다': 97, '재밌어요': 81, '굳': 72, ...})"
      ]
     },
     "execution_count": 36,
     "metadata": {},
     "output_type": "execute_result"
    }
   ],
   "source": [
    "from nltk.probability import FreqDist\n",
    "# 빈도수 확인\n",
    "FreqDist(whole_words)"
   ]
  },
  {
   "cell_type": "code",
   "execution_count": 40,
   "id": "26dfbe6c-017c-4aff-8f2e-68100ec0ad22",
   "metadata": {
    "scrolled": true
   },
   "outputs": [
    {
     "data": {
      "text/plain": [
       "<Axes: xlabel='Samples', ylabel='Counts'>"
      ]
     },
     "execution_count": 40,
     "metadata": {},
     "output_type": "execute_result"
    },
    {
     "data": {
      "image/png": "[encoded data removed]",
      "text/plain": [
       "<Figure size 2000x1000 with 1 Axes>"
      ]
     },
     "metadata": {},
     "output_type": "display_data"
    }
   ],
   "source": [
    "# 빈도수 그래프 그리기(50개만)\n",
    "plt.figure(figsize = (20, 10))\n",
    "FreqDist(whole_words).plot(50)"
   ]
  },
  {
   "cell_type": "code",
   "execution_count": null,
   "id": "ccaaa27e-af14-42a4-93fc-3ee8cd1e7e0c",
   "metadata": {},
   "outputs": [],
   "source": []
  },
  {
   "cell_type": "code",
   "execution_count": 20,
   "id": "c9860577-777e-4372-a149-5af887ebd4f1",
   "metadata": {},
   "outputs": [],
   "source": [
    "from sklearn.feature_extraction.text import CountVectorizer"
   ]
  },
  {
   "cell_type": "code",
   "execution_count": 23,
   "id": "36c1deec-b6ca-4359-a36f-482eb6f0dedc",
   "metadata": {},
   "outputs": [
    {
     "name": "stderr",
     "output_type": "stream",
     "text": [
      "/home/user/miniforge3/envs/nlp/lib/python3.10/site-packages/sklearn/feature_extraction/text.py:521: UserWarning: The parameter 'token_pattern' will not be used since 'tokenizer' is not None'\n",
      "  warnings.warn(\n"
     ]
    }
   ],
   "source": [
    "cv = CountVectorizer(tokenizer = tokenizer, max_df = 0.8, min_df = 3, ngram_range = (1,2))\n",
    "train_X_cv = cv.fit_transform(train_X)\n",
    "test_X_cv = cv.transform(test_X)"
   ]
  },
  {
   "cell_type": "code",
   "execution_count": 24,
   "id": "44862d68-e5b6-4f7d-96da-268ff48ac0b9",
   "metadata": {},
   "outputs": [],
   "source": [
    "X_train, X_test, y_train, y_test = train_test_split(train_X_cv, train_y, test_size = 0.4, random_state = 7)"
   ]
  },
  {
   "cell_type": "code",
   "execution_count": 25,
   "id": "d38c5fb5-4ee6-471c-a86a-dfd67c4ef9ce",
   "metadata": {},
   "outputs": [
    {
     "name": "stdout",
     "output_type": "stream",
     "text": [
      "0.8581952731757725\n",
      "              precision    recall  f1-score   support\n",
      "\n",
      "           0       0.86      0.86      0.86     30158\n",
      "           1       0.86      0.85      0.86     29840\n",
      "\n",
      "    accuracy                           0.86     59998\n",
      "   macro avg       0.86      0.86      0.86     59998\n",
      "weighted avg       0.86      0.86      0.86     59998\n",
      "\n"
     ]
    }
   ],
   "source": [
    "mnb = MultinomialNB()\n",
    "mnb.fit(X_train, y_train)\n",
    "pred = mnb.predict(X_test)\n",
    "print(accuracy_score(y_test, pred))\n",
    "print(classification_report(y_test, pred))"
   ]
  },
  {
   "cell_type": "code",
   "execution_count": 26,
   "id": "d82c337b-d592-4886-8d0c-fdc2a7187268",
   "metadata": {},
   "outputs": [
    {
     "name": "stdout",
     "output_type": "stream",
     "text": [
      "0.856471388283297\n",
      "              precision    recall  f1-score   support\n",
      "\n",
      "           0       0.85      0.87      0.86     24826\n",
      "           1       0.86      0.85      0.86     25171\n",
      "\n",
      "    accuracy                           0.86     49997\n",
      "   macro avg       0.86      0.86      0.86     49997\n",
      "weighted avg       0.86      0.86      0.86     49997\n",
      "\n"
     ]
    }
   ],
   "source": [
    "test_pred = mnb.predict(test_X_cv)\n",
    "print(accuracy_score(test_y, test_pred))\n",
    "print(classification_report(test_y, test_pred))"
   ]
  },
  {
   "cell_type": "markdown",
   "id": "94756f47-f276-47fc-ae2e-0be0e84d93d9",
   "metadata": {},
   "source": [
    "## TfidfVectorizer : 단어의 중요도를 계산"
   ]
  },
  {
   "cell_type": "code",
   "execution_count": 41,
   "id": "6742be59-400b-445c-9f5b-2ff636105a43",
   "metadata": {},
   "outputs": [],
   "source": [
    "from sklearn.feature_extraction.text import CountVectorizer, TfidfVectorizer"
   ]
  },
  {
   "cell_type": "code",
   "execution_count": 42,
   "id": "96df6920-bc02-4eb5-a367-651bda81fef2",
   "metadata": {},
   "outputs": [
    {
     "name": "stdout",
     "output_type": "stream",
     "text": [
      "['고양이가' '나무' '아래에' '위에' '있다']\n",
      "[[1 1 0 1 1]\n",
      " [1 1 1 0 1]]\n"
     ]
    }
   ],
   "source": [
    "documents = ['고양이가 나무 위에 있다', '나무 아래에 고양이가 있다']\n",
    "c_vec = CountVectorizer()\n",
    "sample = c_vec.fit_transform(documents)\n",
    "print(c_vec.get_feature_names_out())\n",
    "print(sample.toarray())"
   ]
  },
  {
   "cell_type": "code",
   "execution_count": 43,
   "id": "307e346a-1eac-4999-a94e-12de559ece49",
   "metadata": {},
   "outputs": [
    {
     "name": "stdout",
     "output_type": "stream",
     "text": [
      "['고양이가' '나무' '아래에' '위에' '있다']\n",
      "[[0.44832087 0.44832087 0.         0.63009934 0.44832087]\n",
      " [0.44832087 0.44832087 0.63009934 0.         0.44832087]]\n"
     ]
    }
   ],
   "source": [
    "documents = ['고양이가 나무 위에 있다', '나무 아래에 고양이가 있다']\n",
    "t_vec = TfidfVectorizer()\n",
    "t_sample = t_vec.fit_transform(documents)\n",
    "print(t_vec.get_feature_names_out())\n",
    "print(t_sample.toarray())"
   ]
  },
  {
   "cell_type": "code",
   "execution_count": 44,
   "id": "acde24c7-16c5-4556-a2c2-23dda7877075",
   "metadata": {},
   "outputs": [
    {
     "name": "stderr",
     "output_type": "stream",
     "text": [
      "/home/user/miniforge3/envs/nlp/lib/python3.10/site-packages/sklearn/feature_extraction/text.py:521: UserWarning: The parameter 'token_pattern' will not be used since 'tokenizer' is not None'\n",
      "  warnings.warn(\n"
     ]
    }
   ],
   "source": [
    "tv = TfidfVectorizer(tokenizer = tokenizer, max_df = 0.8, min_df = 3, ngram_range = (1,2))\n",
    "train_X_tv = tv.fit_transform(train_X)\n",
    "test_X_tv = tv.transform(test_X)"
   ]
  },
  {
   "cell_type": "code",
   "execution_count": 45,
   "id": "6f1132ba-cb47-4dac-be40-7fbe5e48a0a7",
   "metadata": {},
   "outputs": [],
   "source": [
    "X_train, X_test, y_train, y_test = train_test_split(train_X_tv, train_y, test_size = 0.4, random_state = 7)"
   ]
  },
  {
   "cell_type": "code",
   "execution_count": 46,
   "id": "e9e30034-68a6-422e-a98d-41cea34702d2",
   "metadata": {},
   "outputs": [
    {
     "name": "stdout",
     "output_type": "stream",
     "text": [
      "0.8614787159571986\n",
      "              precision    recall  f1-score   support\n",
      "\n",
      "           0       0.86      0.87      0.86     30158\n",
      "           1       0.87      0.85      0.86     29840\n",
      "\n",
      "    accuracy                           0.86     59998\n",
      "   macro avg       0.86      0.86      0.86     59998\n",
      "weighted avg       0.86      0.86      0.86     59998\n",
      "\n"
     ]
    }
   ],
   "source": [
    "mnb = MultinomialNB()\n",
    "mnb.fit(X_train, y_train)\n",
    "pred = mnb.predict(X_test)\n",
    "print(accuracy_score(y_test, pred))\n",
    "print(classification_report(y_test, pred))"
   ]
  },
  {
   "cell_type": "code",
   "execution_count": 47,
   "id": "97802aea-4625-4c95-aa1d-bdd6cf9832ac",
   "metadata": {},
   "outputs": [
    {
     "name": "stdout",
     "output_type": "stream",
     "text": [
      "0.8552513150789047\n",
      "              precision    recall  f1-score   support\n",
      "\n",
      "           0       0.85      0.86      0.85     24826\n",
      "           1       0.86      0.85      0.86     25171\n",
      "\n",
      "    accuracy                           0.86     49997\n",
      "   macro avg       0.86      0.86      0.86     49997\n",
      "weighted avg       0.86      0.86      0.86     49997\n",
      "\n"
     ]
    }
   ],
   "source": [
    "test_pred = mnb.predict(test_X_cv)\n",
    "print(accuracy_score(test_y, test_pred))\n",
    "print(classification_report(test_y, test_pred))"
   ]
  },
  {
   "cell_type": "code",
   "execution_count": null,
   "id": "e84a049e-cdb4-44f0-a8f7-65e396fe9709",
   "metadata": {},
   "outputs": [],
   "source": []
  },
  {
   "cell_type": "code",
   "execution_count": null,
   "id": "930a3d35-600f-4a0f-b651-8ef2d4920a60",
   "metadata": {},
   "outputs": [],
   "source": []
  },
  {
   "cell_type": "code",
   "execution_count": null,
   "id": "8e8d13eb-cf71-44dc-9bf6-ff22b5f09d7f",
   "metadata": {},
   "outputs": [],
   "source": []
  },
  {
   "cell_type": "code",
   "execution_count": null,
   "id": "838e71d6-994a-49be-9140-5feda5d3e0c8",
   "metadata": {},
   "outputs": [],
   "source": []
  },
  {
   "cell_type": "code",
   "execution_count": null,
   "id": "92862746-08dc-48e1-aff0-2c81b7388ddb",
   "metadata": {},
   "outputs": [],
   "source": []
  },
  {
   "cell_type": "code",
   "execution_count": null,
   "id": "35f4c18b-f049-4fb9-905f-2420de7a4191",
   "metadata": {},
   "outputs": [],
   "source": []
  },
  {
   "cell_type": "code",
   "execution_count": null,
   "id": "14326d01-3bb8-4d21-8474-6ddc5fd92d60",
   "metadata": {},
   "outputs": [],
   "source": []
  },
  {
   "cell_type": "code",
   "execution_count": null,
   "id": "a9cf2f69-2c0d-47ad-a026-ad30d0f64e5b",
   "metadata": {},
   "outputs": [],
   "source": []
  },
  {
   "cell_type": "code",
   "execution_count": null,
   "id": "50e79d72-4281-4809-bf04-d5b901992425",
   "metadata": {},
   "outputs": [],
   "source": []
  },
  {
   "cell_type": "code",
   "execution_count": null,
   "id": "e0fb8dbf-3dea-4f73-92d7-0052889f93a5",
   "metadata": {},
   "outputs": [],
   "source": []
  },
  {
   "cell_type": "code",
   "execution_count": null,
   "id": "949751cc-542d-471f-8200-888d63220069",
   "metadata": {},
   "outputs": [],
   "source": []
  },
  {
   "cell_type": "code",
   "execution_count": null,
   "id": "91f3b5c4-5256-4606-a797-52fb7f686205",
   "metadata": {},
   "outputs": [],
   "source": []
  },
  {
   "cell_type": "code",
   "execution_count": null,
   "id": "db1b2cfb-872f-43db-9968-0af5739f5f05",
   "metadata": {},
   "outputs": [],
   "source": []
  },
  {
   "cell_type": "code",
   "execution_count": null,
   "id": "eab1b971-4c17-4847-b926-76e4c4f2c1e3",
   "metadata": {},
   "outputs": [],
   "source": []
  },
  {
   "cell_type": "code",
   "execution_count": null,
   "id": "6751ef8e-ac6b-4d93-a870-3622af45e44c",
   "metadata": {},
   "outputs": [],
   "source": []
  },
  {
   "cell_type": "code",
   "execution_count": null,
   "id": "74da59f8-4735-4fa9-a0d1-f70d8ff67776",
   "metadata": {},
   "outputs": [],
   "source": []
  },
  {
   "cell_type": "code",
   "execution_count": null,
   "id": "3754ae91-469f-44d5-a89d-9fd6a7e09990",
   "metadata": {},
   "outputs": [],
   "source": []
  },
  {
   "cell_type": "code",
   "execution_count": null,
   "id": "5a3925ec-9d95-45e7-b96a-333dfcf25ac1",
   "metadata": {},
   "outputs": [],
   "source": []
  },
  {
   "cell_type": "code",
   "execution_count": null,
   "id": "6d7713e0-9552-4562-ad9c-1dade22cde28",
   "metadata": {},
   "outputs": [],
   "source": []
  }
 ],
 "metadata": {
  "kernelspec": {
   "display_name": "Python 3 (ipykernel)",
   "language": "python",
   "name": "python3"
  },
  "language_info": {
   "codemirror_mode": {
    "name": "ipython",
    "version": 3
   },
   "file_extension": ".py",
   "mimetype": "text/x-python",
   "name": "python",
   "nbconvert_exporter": "python",
   "pygments_lexer": "ipython3",
   "version": "3.10.14"
  }
 },
 "nbformat": 4,
 "nbformat_minor": 5
}
